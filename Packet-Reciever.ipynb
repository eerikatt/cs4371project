{
 "cells": [
  {
   "cell_type": "code",
   "execution_count": null,
   "metadata": {},
   "outputs": [],
   "source": [
    "import socket\n",
    "import json\n",
    "\n",
    "# UDP packet receiver function\n",
    "def receive_udp_packets(listening_ip, listening_port, real_key):\n",
    "    # Create a UDP socket\n",
    "    sock = socket.socket(socket.AF_INET, socket.SOCK_DGRAM)\n",
    "    sock.bind((listening_ip, listening_port))\n",
    "    print(f\"Listening on {listening_ip}:{listening_port}\")\n",
    "\n",
    "    # Counter for packets\n",
    "    counter = 0\n",
    "    unsafe_ips = []  # List to store IPs from which packets are received\n",
    "\n",
    "    try:\n",
    "        while True:\n",
    "            # Receive packet\n",
    "            packet_data, addr = sock.recvfrom(1024)  # Buffer size is 1024 bytes\n",
    "            packet = json.loads(packet_data.decode())\n",
    "\n",
    "            # Check if the key is valid\n",
    "            if input_key != real_key:\n",
    "                print(f\"Invalid key! Packet from {addr} rejected.\")\n",
    "                continue\n",
    "\n",
    "            # Add IP to unsafe list\n",
    "            unsafe_ips.append(addr)\n",
    "\n",
    "            if counter > 200:\n",
    "                break\n",
    "            else:\n",
    "                print(f\"Packet detected from {addr}: {packet['data']}\")\n",
    "                counter += 1\n",
    "\n",
    "    finally:\n",
    "        sock.close()\n",
    "\n",
    "# Configuration\n",
    "listening_ip = \"127.0.0.1\"\n",
    "listening_port = 8080  # Match the sender's port\n",
    "\n",
    "# Define the real key (hardcoded)\n",
    "real_key = \"thisisthekey\"\n",
    "\n",
    "# Prompt the user for the input key\n",
    "input_key = input(\"Enter the secret key: \")\n",
    "\n",
    "# Start the receiver\n",
    "receive_udp_packets(listening_ip, listening_port, real_key)\n"
   ]
  }
 ],
 "metadata": {
  "kernelspec": {
   "display_name": "Python 3",
   "language": "python",
   "name": "python3"
  },
  "language_info": {
   "codemirror_mode": {
    "name": "ipython",
    "version": 3
   },
   "file_extension": ".py",
   "mimetype": "text/x-python",
   "name": "python",
   "nbconvert_exporter": "python",
   "pygments_lexer": "ipython3",
   "version": "3.12.6"
  }
 },
 "nbformat": 4,
 "nbformat_minor": 2
}
