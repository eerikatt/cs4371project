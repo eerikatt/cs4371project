{
 "cells": [
  {
   "cell_type": "markdown",
   "metadata": {},
   "source": [
    "# MTH-IDS: A Multi-Tiered Hybrid Intrusion Detection System for Internet of Vehicles\n",
    "This is the code for the paper entitled \"[**MTH-IDS: A Multi-Tiered Hybrid Intrusion Detection System for Internet of Vehicles**](https://arxiv.org/pdf/2105.13289.pdf)\" accepted in IEEE Internet of Things Journal.  \n",
    "Authors: Li Yang (liyanghart@gmail.com), Abdallah Moubayed, and Abdallah Shami  \n",
    "Organization: The Optimized Computing and Communications (OC2) Lab, ECE Department, Western University\n",
    "\n",
    "If you find this repository useful in your research, please cite:  \n",
    "L. Yang, A. Moubayed, and A. Shami, “MTH-IDS: A Multi-Tiered Hybrid Intrusion Detection System for Internet of Vehicles,” IEEE Internet of Things Journal, vol. 9, no. 1, pp. 616-632, Jan.1, 2022."
   ]
  },
  {
   "cell_type": "markdown",
   "metadata": {},
   "source": [
    "## Import libraries"
   ]
  },
  {
   "cell_type": "code",
   "execution_count": 1,
   "metadata": {},
   "outputs": [],
   "source": [
    "import warnings\n",
    "warnings.filterwarnings(\"ignore\")"
   ]
  },
  {
   "cell_type": "code",
   "execution_count": 2,
   "metadata": {},
   "outputs": [],
   "source": [
    "import numpy as np\n",
    "import pandas as pd\n",
    "import seaborn as sns\n",
    "import matplotlib.pyplot as plt\n",
    "from sklearn.preprocessing import LabelEncoder\n",
    "from sklearn.model_selection import train_test_split\n",
    "from sklearn.metrics import classification_report,confusion_matrix,accuracy_score,precision_recall_fscore_support\n",
    "from sklearn.metrics import f1_score,roc_auc_score\n",
    "from sklearn.ensemble import RandomForestClassifier,ExtraTreesClassifier\n",
    "from sklearn.tree import DecisionTreeClassifier\n",
    "import xgboost as xgb\n",
    "from xgboost import plot_importance"
   ]
  },
  {
   "cell_type": "markdown",
   "metadata": {},
   "source": [
    "## Read the sampled CICIDS2017 dataset\n",
    "The CICIDS2017 dataset is publicly available at: https://www.unb.ca/cic/datasets/ids-2017.html  \n",
    "Due to the large size of this dataset, the sampled subsets of CICIDS2017 is used. The subsets are in the \"data\" folder.  \n",
    "If you want to use this code on other datasets (e.g., CAN-intrusion dataset), just change the dataset name and follow the same steps. The models in this code are generic models that can be used in any intrusion detection/network traffic datasets."
   ]
  },
  {
   "cell_type": "code",
   "execution_count": 3,
   "metadata": {},
   "outputs": [],
   "source": [
    "#Read dataset\n",
    "df = pd.read_csv('./data/CICIDS2017_sample.csv') \n",
    "# The results in this code is based on the original CICIDS2017 dataset. Please go to cell [21] if you work on the sampled dataset. "
   ]
  },
  {
   "cell_type": "code",
   "execution_count": 4,
   "metadata": {},
   "outputs": [
    {
     "data": {
      "text/html": [
       "<div>\n",
       "<style scoped>\n",
       "    .dataframe tbody tr th:only-of-type {\n",
       "        vertical-align: middle;\n",
       "    }\n",
       "\n",
       "    .dataframe tbody tr th {\n",
       "        vertical-align: top;\n",
       "    }\n",
       "\n",
       "    .dataframe thead th {\n",
       "        text-align: right;\n",
       "    }\n",
       "</style>\n",
       "<table border=\"1\" class=\"dataframe\">\n",
       "  <thead>\n",
       "    <tr style=\"text-align: right;\">\n",
       "      <th></th>\n",
       "      <th>Flow Duration</th>\n",
       "      <th>Total Fwd Packets</th>\n",
       "      <th>Total Backward Packets</th>\n",
       "      <th>Total Length of Fwd Packets</th>\n",
       "      <th>Total Length of Bwd Packets</th>\n",
       "      <th>Fwd Packet Length Max</th>\n",
       "      <th>Fwd Packet Length Min</th>\n",
       "      <th>Fwd Packet Length Mean</th>\n",
       "      <th>Fwd Packet Length Std</th>\n",
       "      <th>Bwd Packet Length Max</th>\n",
       "      <th>...</th>\n",
       "      <th>min_seg_size_forward</th>\n",
       "      <th>Active Mean</th>\n",
       "      <th>Active Std</th>\n",
       "      <th>Active Max</th>\n",
       "      <th>Active Min</th>\n",
       "      <th>Idle Mean</th>\n",
       "      <th>Idle Std</th>\n",
       "      <th>Idle Max</th>\n",
       "      <th>Idle Min</th>\n",
       "      <th>Label</th>\n",
       "    </tr>\n",
       "  </thead>\n",
       "  <tbody>\n",
       "    <tr>\n",
       "      <th>0</th>\n",
       "      <td>4</td>\n",
       "      <td>2</td>\n",
       "      <td>0</td>\n",
       "      <td>37</td>\n",
       "      <td>0</td>\n",
       "      <td>31</td>\n",
       "      <td>6</td>\n",
       "      <td>18.500000</td>\n",
       "      <td>17.677670</td>\n",
       "      <td>0</td>\n",
       "      <td>...</td>\n",
       "      <td>20</td>\n",
       "      <td>0.0</td>\n",
       "      <td>0.0</td>\n",
       "      <td>0</td>\n",
       "      <td>0</td>\n",
       "      <td>0.0</td>\n",
       "      <td>0.0</td>\n",
       "      <td>0</td>\n",
       "      <td>0</td>\n",
       "      <td>BENIGN</td>\n",
       "    </tr>\n",
       "    <tr>\n",
       "      <th>1</th>\n",
       "      <td>142377</td>\n",
       "      <td>46</td>\n",
       "      <td>62</td>\n",
       "      <td>1325</td>\n",
       "      <td>105855</td>\n",
       "      <td>570</td>\n",
       "      <td>0</td>\n",
       "      <td>28.804348</td>\n",
       "      <td>111.407285</td>\n",
       "      <td>4344</td>\n",
       "      <td>...</td>\n",
       "      <td>20</td>\n",
       "      <td>0.0</td>\n",
       "      <td>0.0</td>\n",
       "      <td>0</td>\n",
       "      <td>0</td>\n",
       "      <td>0.0</td>\n",
       "      <td>0.0</td>\n",
       "      <td>0</td>\n",
       "      <td>0</td>\n",
       "      <td>BENIGN</td>\n",
       "    </tr>\n",
       "    <tr>\n",
       "      <th>2</th>\n",
       "      <td>118873</td>\n",
       "      <td>23</td>\n",
       "      <td>28</td>\n",
       "      <td>1169</td>\n",
       "      <td>45025</td>\n",
       "      <td>570</td>\n",
       "      <td>0</td>\n",
       "      <td>50.826087</td>\n",
       "      <td>156.137367</td>\n",
       "      <td>2896</td>\n",
       "      <td>...</td>\n",
       "      <td>32</td>\n",
       "      <td>0.0</td>\n",
       "      <td>0.0</td>\n",
       "      <td>0</td>\n",
       "      <td>0</td>\n",
       "      <td>0.0</td>\n",
       "      <td>0.0</td>\n",
       "      <td>0</td>\n",
       "      <td>0</td>\n",
       "      <td>BENIGN</td>\n",
       "    </tr>\n",
       "    <tr>\n",
       "      <th>3</th>\n",
       "      <td>143577</td>\n",
       "      <td>43</td>\n",
       "      <td>55</td>\n",
       "      <td>1301</td>\n",
       "      <td>107289</td>\n",
       "      <td>570</td>\n",
       "      <td>0</td>\n",
       "      <td>30.255814</td>\n",
       "      <td>115.178969</td>\n",
       "      <td>4344</td>\n",
       "      <td>...</td>\n",
       "      <td>20</td>\n",
       "      <td>0.0</td>\n",
       "      <td>0.0</td>\n",
       "      <td>0</td>\n",
       "      <td>0</td>\n",
       "      <td>0.0</td>\n",
       "      <td>0.0</td>\n",
       "      <td>0</td>\n",
       "      <td>0</td>\n",
       "      <td>BENIGN</td>\n",
       "    </tr>\n",
       "    <tr>\n",
       "      <th>4</th>\n",
       "      <td>143745</td>\n",
       "      <td>49</td>\n",
       "      <td>59</td>\n",
       "      <td>1331</td>\n",
       "      <td>110185</td>\n",
       "      <td>570</td>\n",
       "      <td>0</td>\n",
       "      <td>27.163265</td>\n",
       "      <td>108.067176</td>\n",
       "      <td>4344</td>\n",
       "      <td>...</td>\n",
       "      <td>20</td>\n",
       "      <td>0.0</td>\n",
       "      <td>0.0</td>\n",
       "      <td>0</td>\n",
       "      <td>0</td>\n",
       "      <td>0.0</td>\n",
       "      <td>0.0</td>\n",
       "      <td>0</td>\n",
       "      <td>0</td>\n",
       "      <td>BENIGN</td>\n",
       "    </tr>\n",
       "    <tr>\n",
       "      <th>...</th>\n",
       "      <td>...</td>\n",
       "      <td>...</td>\n",
       "      <td>...</td>\n",
       "      <td>...</td>\n",
       "      <td>...</td>\n",
       "      <td>...</td>\n",
       "      <td>...</td>\n",
       "      <td>...</td>\n",
       "      <td>...</td>\n",
       "      <td>...</td>\n",
       "      <td>...</td>\n",
       "      <td>...</td>\n",
       "      <td>...</td>\n",
       "      <td>...</td>\n",
       "      <td>...</td>\n",
       "      <td>...</td>\n",
       "      <td>...</td>\n",
       "      <td>...</td>\n",
       "      <td>...</td>\n",
       "      <td>...</td>\n",
       "      <td>...</td>\n",
       "    </tr>\n",
       "    <tr>\n",
       "      <th>56656</th>\n",
       "      <td>234</td>\n",
       "      <td>2</td>\n",
       "      <td>2</td>\n",
       "      <td>64</td>\n",
       "      <td>232</td>\n",
       "      <td>32</td>\n",
       "      <td>32</td>\n",
       "      <td>32.000000</td>\n",
       "      <td>0.000000</td>\n",
       "      <td>116</td>\n",
       "      <td>...</td>\n",
       "      <td>32</td>\n",
       "      <td>0.0</td>\n",
       "      <td>0.0</td>\n",
       "      <td>0</td>\n",
       "      <td>0</td>\n",
       "      <td>0.0</td>\n",
       "      <td>0.0</td>\n",
       "      <td>0</td>\n",
       "      <td>0</td>\n",
       "      <td>BENIGN</td>\n",
       "    </tr>\n",
       "    <tr>\n",
       "      <th>56657</th>\n",
       "      <td>133288</td>\n",
       "      <td>2</td>\n",
       "      <td>2</td>\n",
       "      <td>94</td>\n",
       "      <td>482</td>\n",
       "      <td>47</td>\n",
       "      <td>47</td>\n",
       "      <td>47.000000</td>\n",
       "      <td>0.000000</td>\n",
       "      <td>241</td>\n",
       "      <td>...</td>\n",
       "      <td>32</td>\n",
       "      <td>0.0</td>\n",
       "      <td>0.0</td>\n",
       "      <td>0</td>\n",
       "      <td>0</td>\n",
       "      <td>0.0</td>\n",
       "      <td>0.0</td>\n",
       "      <td>0</td>\n",
       "      <td>0</td>\n",
       "      <td>BENIGN</td>\n",
       "    </tr>\n",
       "    <tr>\n",
       "      <th>56658</th>\n",
       "      <td>11507694</td>\n",
       "      <td>5</td>\n",
       "      <td>4</td>\n",
       "      <td>450</td>\n",
       "      <td>3525</td>\n",
       "      <td>450</td>\n",
       "      <td>0</td>\n",
       "      <td>90.000000</td>\n",
       "      <td>201.246118</td>\n",
       "      <td>3525</td>\n",
       "      <td>...</td>\n",
       "      <td>32</td>\n",
       "      <td>893.0</td>\n",
       "      <td>0.0</td>\n",
       "      <td>893</td>\n",
       "      <td>893</td>\n",
       "      <td>6503640.0</td>\n",
       "      <td>0.0</td>\n",
       "      <td>6503640</td>\n",
       "      <td>6503640</td>\n",
       "      <td>DoS</td>\n",
       "    </tr>\n",
       "    <tr>\n",
       "      <th>56659</th>\n",
       "      <td>11507707</td>\n",
       "      <td>8</td>\n",
       "      <td>6</td>\n",
       "      <td>416</td>\n",
       "      <td>11632</td>\n",
       "      <td>416</td>\n",
       "      <td>0</td>\n",
       "      <td>52.000000</td>\n",
       "      <td>147.078211</td>\n",
       "      <td>5792</td>\n",
       "      <td>...</td>\n",
       "      <td>32</td>\n",
       "      <td>897.0</td>\n",
       "      <td>0.0</td>\n",
       "      <td>897</td>\n",
       "      <td>897</td>\n",
       "      <td>6503122.0</td>\n",
       "      <td>0.0</td>\n",
       "      <td>6503122</td>\n",
       "      <td>6503122</td>\n",
       "      <td>DoS</td>\n",
       "    </tr>\n",
       "    <tr>\n",
       "      <th>56660</th>\n",
       "      <td>11512204</td>\n",
       "      <td>8</td>\n",
       "      <td>5</td>\n",
       "      <td>326</td>\n",
       "      <td>11632</td>\n",
       "      <td>326</td>\n",
       "      <td>0</td>\n",
       "      <td>40.750000</td>\n",
       "      <td>115.258405</td>\n",
       "      <td>10184</td>\n",
       "      <td>...</td>\n",
       "      <td>32</td>\n",
       "      <td>892.0</td>\n",
       "      <td>0.0</td>\n",
       "      <td>892</td>\n",
       "      <td>892</td>\n",
       "      <td>6507197.0</td>\n",
       "      <td>0.0</td>\n",
       "      <td>6507197</td>\n",
       "      <td>6507197</td>\n",
       "      <td>DoS</td>\n",
       "    </tr>\n",
       "  </tbody>\n",
       "</table>\n",
       "<p>56661 rows × 78 columns</p>\n",
       "</div>"
      ],
      "text/plain": [
       "       Flow Duration  Total Fwd Packets  Total Backward Packets  \\\n",
       "0                  4                  2                       0   \n",
       "1             142377                 46                      62   \n",
       "2             118873                 23                      28   \n",
       "3             143577                 43                      55   \n",
       "4             143745                 49                      59   \n",
       "...              ...                ...                     ...   \n",
       "56656            234                  2                       2   \n",
       "56657         133288                  2                       2   \n",
       "56658       11507694                  5                       4   \n",
       "56659       11507707                  8                       6   \n",
       "56660       11512204                  8                       5   \n",
       "\n",
       "       Total Length of Fwd Packets  Total Length of Bwd Packets  \\\n",
       "0                               37                            0   \n",
       "1                             1325                       105855   \n",
       "2                             1169                        45025   \n",
       "3                             1301                       107289   \n",
       "4                             1331                       110185   \n",
       "...                            ...                          ...   \n",
       "56656                           64                          232   \n",
       "56657                           94                          482   \n",
       "56658                          450                         3525   \n",
       "56659                          416                        11632   \n",
       "56660                          326                        11632   \n",
       "\n",
       "       Fwd Packet Length Max  Fwd Packet Length Min  Fwd Packet Length Mean  \\\n",
       "0                         31                      6               18.500000   \n",
       "1                        570                      0               28.804348   \n",
       "2                        570                      0               50.826087   \n",
       "3                        570                      0               30.255814   \n",
       "4                        570                      0               27.163265   \n",
       "...                      ...                    ...                     ...   \n",
       "56656                     32                     32               32.000000   \n",
       "56657                     47                     47               47.000000   \n",
       "56658                    450                      0               90.000000   \n",
       "56659                    416                      0               52.000000   \n",
       "56660                    326                      0               40.750000   \n",
       "\n",
       "       Fwd Packet Length Std  Bwd Packet Length Max  ...  \\\n",
       "0                  17.677670                      0  ...   \n",
       "1                 111.407285                   4344  ...   \n",
       "2                 156.137367                   2896  ...   \n",
       "3                 115.178969                   4344  ...   \n",
       "4                 108.067176                   4344  ...   \n",
       "...                      ...                    ...  ...   \n",
       "56656               0.000000                    116  ...   \n",
       "56657               0.000000                    241  ...   \n",
       "56658             201.246118                   3525  ...   \n",
       "56659             147.078211                   5792  ...   \n",
       "56660             115.258405                  10184  ...   \n",
       "\n",
       "       min_seg_size_forward  Active Mean  Active Std  Active Max  Active Min  \\\n",
       "0                        20          0.0         0.0           0           0   \n",
       "1                        20          0.0         0.0           0           0   \n",
       "2                        32          0.0         0.0           0           0   \n",
       "3                        20          0.0         0.0           0           0   \n",
       "4                        20          0.0         0.0           0           0   \n",
       "...                     ...          ...         ...         ...         ...   \n",
       "56656                    32          0.0         0.0           0           0   \n",
       "56657                    32          0.0         0.0           0           0   \n",
       "56658                    32        893.0         0.0         893         893   \n",
       "56659                    32        897.0         0.0         897         897   \n",
       "56660                    32        892.0         0.0         892         892   \n",
       "\n",
       "       Idle Mean  Idle Std  Idle Max  Idle Min   Label  \n",
       "0            0.0       0.0         0         0  BENIGN  \n",
       "1            0.0       0.0         0         0  BENIGN  \n",
       "2            0.0       0.0         0         0  BENIGN  \n",
       "3            0.0       0.0         0         0  BENIGN  \n",
       "4            0.0       0.0         0         0  BENIGN  \n",
       "...          ...       ...       ...       ...     ...  \n",
       "56656        0.0       0.0         0         0  BENIGN  \n",
       "56657        0.0       0.0         0         0  BENIGN  \n",
       "56658  6503640.0       0.0   6503640   6503640     DoS  \n",
       "56659  6503122.0       0.0   6503122   6503122     DoS  \n",
       "56660  6507197.0       0.0   6507197   6507197     DoS  \n",
       "\n",
       "[56661 rows x 78 columns]"
      ]
     },
     "execution_count": 4,
     "metadata": {},
     "output_type": "execute_result"
    }
   ],
   "source": [
    "df"
   ]
  },
  {
   "cell_type": "code",
   "execution_count": 5,
   "metadata": {},
   "outputs": [
    {
     "data": {
      "text/plain": [
       "Label\n",
       "BENIGN          22731\n",
       "DoS             19035\n",
       "PortScan         7946\n",
       "BruteForce       2767\n",
       "WebAttack        2180\n",
       "Bot              1966\n",
       "Infiltration       36\n",
       "Name: count, dtype: int64"
      ]
     },
     "execution_count": 5,
     "metadata": {},
     "output_type": "execute_result"
    }
   ],
   "source": [
    "df.Label.value_counts()"
   ]
  },
  {
   "cell_type": "markdown",
   "metadata": {},
   "source": [
    "### Preprocessing (normalization and padding values)"
   ]
  },
  {
   "cell_type": "code",
   "execution_count": 6,
   "metadata": {},
   "outputs": [],
   "source": [
    "# Z-score normalization\n",
    "features = df.dtypes[df.dtypes != 'object'].index\n",
    "df[features] = df[features].apply(\n",
    "    lambda x: (x - x.mean()) / (x.std()))\n",
    "# Fill empty values by 0\n",
    "df = df.fillna(0)"
   ]
  },
  {
   "cell_type": "markdown",
   "metadata": {},
   "source": [
    "### Data sampling\n",
    "Due to the space limit of GitHub files and the large size of network traffic data, we sample a small-sized subset for model learning using **k-means cluster sampling**"
   ]
  },
  {
   "cell_type": "code",
   "execution_count": 7,
   "metadata": {},
   "outputs": [],
   "source": [
    "labelencoder = LabelEncoder()\n",
    "df.iloc[:, -1] = labelencoder.fit_transform(df.iloc[:, -1])"
   ]
  },
  {
   "cell_type": "code",
   "execution_count": 8,
   "metadata": {},
   "outputs": [
    {
     "data": {
      "text/plain": [
       "Label\n",
       "0    22731\n",
       "3    19035\n",
       "5     7946\n",
       "2     2767\n",
       "6     2180\n",
       "1     1966\n",
       "4       36\n",
       "Name: count, dtype: int64"
      ]
     },
     "execution_count": 8,
     "metadata": {},
     "output_type": "execute_result"
    }
   ],
   "source": [
    "df.Label.value_counts()"
   ]
  },
  {
   "cell_type": "code",
   "execution_count": 9,
   "metadata": {},
   "outputs": [],
   "source": [
    "# retain the minority class instances and sample the majority class instances\n",
    "df_minor = df[(df['Label']==6)|(df['Label']==1)|(df['Label']==4)]\n",
    "df_major = df.drop(df_minor.index)"
   ]
  },
  {
   "cell_type": "code",
   "execution_count": 10,
   "metadata": {},
   "outputs": [],
   "source": [
    "X = df_major.drop(['Label'],axis=1) \n",
    "y = df_major.iloc[:, -1].values.reshape(-1,1)\n",
    "y=np.ravel(y)"
   ]
  },
  {
   "cell_type": "code",
   "execution_count": 11,
   "metadata": {
    "scrolled": true
   },
   "outputs": [],
   "source": [
    "# use k-means to cluster the data samples and select a proportion of data from each cluster\n",
    "from sklearn.cluster import MiniBatchKMeans\n",
    "kmeans = MiniBatchKMeans(n_clusters=1000, random_state=0).fit(X)"
   ]
  },
  {
   "cell_type": "code",
   "execution_count": 12,
   "metadata": {},
   "outputs": [],
   "source": [
    "klabel=kmeans.labels_\n",
    "df_major['klabel']=klabel"
   ]
  },
  {
   "cell_type": "code",
   "execution_count": 13,
   "metadata": {
    "scrolled": true
   },
   "outputs": [
    {
     "data": {
      "text/plain": [
       "klabel\n",
       "809    503\n",
       "20     482\n",
       "264    348\n",
       "324    337\n",
       "739    334\n",
       "      ... \n",
       "964      1\n",
       "877      1\n",
       "915      1\n",
       "586      1\n",
       "71       1\n",
       "Name: count, Length: 979, dtype: int64"
      ]
     },
     "execution_count": 13,
     "metadata": {},
     "output_type": "execute_result"
    }
   ],
   "source": [
    "df_major['klabel'].value_counts()"
   ]
  },
  {
   "cell_type": "code",
   "execution_count": 14,
   "metadata": {},
   "outputs": [],
   "source": [
    "cols = list(df_major)\n",
    "cols.insert(78, cols.pop(cols.index('Label')))\n",
    "df_major = df_major.loc[:, cols]"
   ]
  },
  {
   "cell_type": "code",
   "execution_count": 15,
   "metadata": {
    "scrolled": true
   },
   "outputs": [
    {
     "data": {
      "text/html": [
       "<div>\n",
       "<style scoped>\n",
       "    .dataframe tbody tr th:only-of-type {\n",
       "        vertical-align: middle;\n",
       "    }\n",
       "\n",
       "    .dataframe tbody tr th {\n",
       "        vertical-align: top;\n",
       "    }\n",
       "\n",
       "    .dataframe thead th {\n",
       "        text-align: right;\n",
       "    }\n",
       "</style>\n",
       "<table border=\"1\" class=\"dataframe\">\n",
       "  <thead>\n",
       "    <tr style=\"text-align: right;\">\n",
       "      <th></th>\n",
       "      <th>Flow Duration</th>\n",
       "      <th>Total Fwd Packets</th>\n",
       "      <th>Total Backward Packets</th>\n",
       "      <th>Total Length of Fwd Packets</th>\n",
       "      <th>Total Length of Bwd Packets</th>\n",
       "      <th>Fwd Packet Length Max</th>\n",
       "      <th>Fwd Packet Length Min</th>\n",
       "      <th>Fwd Packet Length Mean</th>\n",
       "      <th>Fwd Packet Length Std</th>\n",
       "      <th>Bwd Packet Length Max</th>\n",
       "      <th>...</th>\n",
       "      <th>Active Mean</th>\n",
       "      <th>Active Std</th>\n",
       "      <th>Active Max</th>\n",
       "      <th>Active Min</th>\n",
       "      <th>Idle Mean</th>\n",
       "      <th>Idle Std</th>\n",
       "      <th>Idle Max</th>\n",
       "      <th>Idle Min</th>\n",
       "      <th>klabel</th>\n",
       "      <th>Label</th>\n",
       "    </tr>\n",
       "  </thead>\n",
       "  <tbody>\n",
       "    <tr>\n",
       "      <th>0</th>\n",
       "      <td>-0.528470</td>\n",
       "      <td>-0.068426</td>\n",
       "      <td>-0.081806</td>\n",
       "      <td>-0.032573</td>\n",
       "      <td>-0.048343</td>\n",
       "      <td>-0.202326</td>\n",
       "      <td>-0.085798</td>\n",
       "      <td>-0.141625</td>\n",
       "      <td>-0.176448</td>\n",
       "      <td>-0.559719</td>\n",
       "      <td>...</td>\n",
       "      <td>-0.109889</td>\n",
       "      <td>-0.081786</td>\n",
       "      <td>-0.128620</td>\n",
       "      <td>-0.094860</td>\n",
       "      <td>-0.458729</td>\n",
       "      <td>-0.137651</td>\n",
       "      <td>-0.466440</td>\n",
       "      <td>-0.442057</td>\n",
       "      <td>398</td>\n",
       "      <td>0</td>\n",
       "    </tr>\n",
       "    <tr>\n",
       "      <th>1</th>\n",
       "      <td>-0.524593</td>\n",
       "      <td>0.704878</td>\n",
       "      <td>0.850340</td>\n",
       "      <td>0.027749</td>\n",
       "      <td>0.920410</td>\n",
       "      <td>0.603275</td>\n",
       "      <td>-0.211174</td>\n",
       "      <td>-0.082434</td>\n",
       "      <td>0.240596</td>\n",
       "      <td>1.006302</td>\n",
       "      <td>...</td>\n",
       "      <td>-0.109889</td>\n",
       "      <td>-0.081786</td>\n",
       "      <td>-0.128620</td>\n",
       "      <td>-0.094860</td>\n",
       "      <td>-0.458729</td>\n",
       "      <td>-0.137651</td>\n",
       "      <td>-0.466440</td>\n",
       "      <td>-0.442057</td>\n",
       "      <td>359</td>\n",
       "      <td>0</td>\n",
       "    </tr>\n",
       "    <tr>\n",
       "      <th>2</th>\n",
       "      <td>-0.525233</td>\n",
       "      <td>0.300651</td>\n",
       "      <td>0.339163</td>\n",
       "      <td>0.020443</td>\n",
       "      <td>0.363712</td>\n",
       "      <td>0.603275</td>\n",
       "      <td>-0.211174</td>\n",
       "      <td>0.044064</td>\n",
       "      <td>0.439619</td>\n",
       "      <td>0.484295</td>\n",
       "      <td>...</td>\n",
       "      <td>-0.109889</td>\n",
       "      <td>-0.081786</td>\n",
       "      <td>-0.128620</td>\n",
       "      <td>-0.094860</td>\n",
       "      <td>-0.458729</td>\n",
       "      <td>-0.137651</td>\n",
       "      <td>-0.466440</td>\n",
       "      <td>-0.442057</td>\n",
       "      <td>191</td>\n",
       "      <td>0</td>\n",
       "    </tr>\n",
       "    <tr>\n",
       "      <th>3</th>\n",
       "      <td>-0.524560</td>\n",
       "      <td>0.652153</td>\n",
       "      <td>0.745098</td>\n",
       "      <td>0.026625</td>\n",
       "      <td>0.933533</td>\n",
       "      <td>0.603275</td>\n",
       "      <td>-0.211174</td>\n",
       "      <td>-0.074097</td>\n",
       "      <td>0.257378</td>\n",
       "      <td>1.006302</td>\n",
       "      <td>...</td>\n",
       "      <td>-0.109889</td>\n",
       "      <td>-0.081786</td>\n",
       "      <td>-0.128620</td>\n",
       "      <td>-0.094860</td>\n",
       "      <td>-0.458729</td>\n",
       "      <td>-0.137651</td>\n",
       "      <td>-0.466440</td>\n",
       "      <td>-0.442057</td>\n",
       "      <td>359</td>\n",
       "      <td>0</td>\n",
       "    </tr>\n",
       "    <tr>\n",
       "      <th>4</th>\n",
       "      <td>-0.524555</td>\n",
       "      <td>0.757604</td>\n",
       "      <td>0.805237</td>\n",
       "      <td>0.028030</td>\n",
       "      <td>0.960037</td>\n",
       "      <td>0.603275</td>\n",
       "      <td>-0.211174</td>\n",
       "      <td>-0.091861</td>\n",
       "      <td>0.225734</td>\n",
       "      <td>1.006302</td>\n",
       "      <td>...</td>\n",
       "      <td>-0.109889</td>\n",
       "      <td>-0.081786</td>\n",
       "      <td>-0.128620</td>\n",
       "      <td>-0.094860</td>\n",
       "      <td>-0.458729</td>\n",
       "      <td>-0.137651</td>\n",
       "      <td>-0.466440</td>\n",
       "      <td>-0.442057</td>\n",
       "      <td>359</td>\n",
       "      <td>0</td>\n",
       "    </tr>\n",
       "    <tr>\n",
       "      <th>...</th>\n",
       "      <td>...</td>\n",
       "      <td>...</td>\n",
       "      <td>...</td>\n",
       "      <td>...</td>\n",
       "      <td>...</td>\n",
       "      <td>...</td>\n",
       "      <td>...</td>\n",
       "      <td>...</td>\n",
       "      <td>...</td>\n",
       "      <td>...</td>\n",
       "      <td>...</td>\n",
       "      <td>...</td>\n",
       "      <td>...</td>\n",
       "      <td>...</td>\n",
       "      <td>...</td>\n",
       "      <td>...</td>\n",
       "      <td>...</td>\n",
       "      <td>...</td>\n",
       "      <td>...</td>\n",
       "      <td>...</td>\n",
       "      <td>...</td>\n",
       "    </tr>\n",
       "    <tr>\n",
       "      <th>56656</th>\n",
       "      <td>-0.528463</td>\n",
       "      <td>-0.068426</td>\n",
       "      <td>-0.051737</td>\n",
       "      <td>-0.031309</td>\n",
       "      <td>-0.046220</td>\n",
       "      <td>-0.200831</td>\n",
       "      <td>0.457498</td>\n",
       "      <td>-0.064078</td>\n",
       "      <td>-0.255104</td>\n",
       "      <td>-0.517901</td>\n",
       "      <td>...</td>\n",
       "      <td>-0.109889</td>\n",
       "      <td>-0.081786</td>\n",
       "      <td>-0.128620</td>\n",
       "      <td>-0.094860</td>\n",
       "      <td>-0.458729</td>\n",
       "      <td>-0.137651</td>\n",
       "      <td>-0.466440</td>\n",
       "      <td>-0.442057</td>\n",
       "      <td>237</td>\n",
       "      <td>0</td>\n",
       "    </tr>\n",
       "    <tr>\n",
       "      <th>56657</th>\n",
       "      <td>-0.524840</td>\n",
       "      <td>-0.068426</td>\n",
       "      <td>-0.051737</td>\n",
       "      <td>-0.029904</td>\n",
       "      <td>-0.043932</td>\n",
       "      <td>-0.178412</td>\n",
       "      <td>0.770939</td>\n",
       "      <td>0.022086</td>\n",
       "      <td>-0.255104</td>\n",
       "      <td>-0.472838</td>\n",
       "      <td>...</td>\n",
       "      <td>-0.109889</td>\n",
       "      <td>-0.081786</td>\n",
       "      <td>-0.128620</td>\n",
       "      <td>-0.094860</td>\n",
       "      <td>-0.458729</td>\n",
       "      <td>-0.137651</td>\n",
       "      <td>-0.466440</td>\n",
       "      <td>-0.442057</td>\n",
       "      <td>690</td>\n",
       "      <td>0</td>\n",
       "    </tr>\n",
       "    <tr>\n",
       "      <th>56658</th>\n",
       "      <td>-0.215111</td>\n",
       "      <td>-0.015701</td>\n",
       "      <td>-0.021667</td>\n",
       "      <td>-0.013231</td>\n",
       "      <td>-0.016083</td>\n",
       "      <td>0.423920</td>\n",
       "      <td>-0.211174</td>\n",
       "      <td>0.269089</td>\n",
       "      <td>0.640328</td>\n",
       "      <td>0.711051</td>\n",
       "      <td>...</td>\n",
       "      <td>-0.108682</td>\n",
       "      <td>-0.081786</td>\n",
       "      <td>-0.127669</td>\n",
       "      <td>-0.093554</td>\n",
       "      <td>-0.256386</td>\n",
       "      <td>-0.137651</td>\n",
       "      <td>-0.269448</td>\n",
       "      <td>-0.238252</td>\n",
       "      <td>560</td>\n",
       "      <td>3</td>\n",
       "    </tr>\n",
       "    <tr>\n",
       "      <th>56659</th>\n",
       "      <td>-0.215111</td>\n",
       "      <td>0.037025</td>\n",
       "      <td>0.008402</td>\n",
       "      <td>-0.014823</td>\n",
       "      <td>0.058109</td>\n",
       "      <td>0.373103</td>\n",
       "      <td>-0.211174</td>\n",
       "      <td>0.050807</td>\n",
       "      <td>0.399311</td>\n",
       "      <td>1.528310</td>\n",
       "      <td>...</td>\n",
       "      <td>-0.108677</td>\n",
       "      <td>-0.081786</td>\n",
       "      <td>-0.127664</td>\n",
       "      <td>-0.093548</td>\n",
       "      <td>-0.256402</td>\n",
       "      <td>-0.137651</td>\n",
       "      <td>-0.269464</td>\n",
       "      <td>-0.238268</td>\n",
       "      <td>710</td>\n",
       "      <td>3</td>\n",
       "    </tr>\n",
       "    <tr>\n",
       "      <th>56660</th>\n",
       "      <td>-0.214989</td>\n",
       "      <td>0.037025</td>\n",
       "      <td>-0.006633</td>\n",
       "      <td>-0.019038</td>\n",
       "      <td>0.058109</td>\n",
       "      <td>0.238587</td>\n",
       "      <td>-0.211174</td>\n",
       "      <td>-0.013815</td>\n",
       "      <td>0.257731</td>\n",
       "      <td>3.111635</td>\n",
       "      <td>...</td>\n",
       "      <td>-0.108683</td>\n",
       "      <td>-0.081786</td>\n",
       "      <td>-0.127670</td>\n",
       "      <td>-0.093555</td>\n",
       "      <td>-0.256275</td>\n",
       "      <td>-0.137651</td>\n",
       "      <td>-0.269340</td>\n",
       "      <td>-0.238140</td>\n",
       "      <td>253</td>\n",
       "      <td>3</td>\n",
       "    </tr>\n",
       "  </tbody>\n",
       "</table>\n",
       "<p>52479 rows × 79 columns</p>\n",
       "</div>"
      ],
      "text/plain": [
       "       Flow Duration  Total Fwd Packets  Total Backward Packets  \\\n",
       "0          -0.528470          -0.068426               -0.081806   \n",
       "1          -0.524593           0.704878                0.850340   \n",
       "2          -0.525233           0.300651                0.339163   \n",
       "3          -0.524560           0.652153                0.745098   \n",
       "4          -0.524555           0.757604                0.805237   \n",
       "...              ...                ...                     ...   \n",
       "56656      -0.528463          -0.068426               -0.051737   \n",
       "56657      -0.524840          -0.068426               -0.051737   \n",
       "56658      -0.215111          -0.015701               -0.021667   \n",
       "56659      -0.215111           0.037025                0.008402   \n",
       "56660      -0.214989           0.037025               -0.006633   \n",
       "\n",
       "       Total Length of Fwd Packets  Total Length of Bwd Packets  \\\n",
       "0                        -0.032573                    -0.048343   \n",
       "1                         0.027749                     0.920410   \n",
       "2                         0.020443                     0.363712   \n",
       "3                         0.026625                     0.933533   \n",
       "4                         0.028030                     0.960037   \n",
       "...                            ...                          ...   \n",
       "56656                    -0.031309                    -0.046220   \n",
       "56657                    -0.029904                    -0.043932   \n",
       "56658                    -0.013231                    -0.016083   \n",
       "56659                    -0.014823                     0.058109   \n",
       "56660                    -0.019038                     0.058109   \n",
       "\n",
       "       Fwd Packet Length Max  Fwd Packet Length Min  Fwd Packet Length Mean  \\\n",
       "0                  -0.202326              -0.085798               -0.141625   \n",
       "1                   0.603275              -0.211174               -0.082434   \n",
       "2                   0.603275              -0.211174                0.044064   \n",
       "3                   0.603275              -0.211174               -0.074097   \n",
       "4                   0.603275              -0.211174               -0.091861   \n",
       "...                      ...                    ...                     ...   \n",
       "56656              -0.200831               0.457498               -0.064078   \n",
       "56657              -0.178412               0.770939                0.022086   \n",
       "56658               0.423920              -0.211174                0.269089   \n",
       "56659               0.373103              -0.211174                0.050807   \n",
       "56660               0.238587              -0.211174               -0.013815   \n",
       "\n",
       "       Fwd Packet Length Std  Bwd Packet Length Max  ...  Active Mean  \\\n",
       "0                  -0.176448              -0.559719  ...    -0.109889   \n",
       "1                   0.240596               1.006302  ...    -0.109889   \n",
       "2                   0.439619               0.484295  ...    -0.109889   \n",
       "3                   0.257378               1.006302  ...    -0.109889   \n",
       "4                   0.225734               1.006302  ...    -0.109889   \n",
       "...                      ...                    ...  ...          ...   \n",
       "56656              -0.255104              -0.517901  ...    -0.109889   \n",
       "56657              -0.255104              -0.472838  ...    -0.109889   \n",
       "56658               0.640328               0.711051  ...    -0.108682   \n",
       "56659               0.399311               1.528310  ...    -0.108677   \n",
       "56660               0.257731               3.111635  ...    -0.108683   \n",
       "\n",
       "       Active Std  Active Max  Active Min  Idle Mean  Idle Std  Idle Max  \\\n",
       "0       -0.081786   -0.128620   -0.094860  -0.458729 -0.137651 -0.466440   \n",
       "1       -0.081786   -0.128620   -0.094860  -0.458729 -0.137651 -0.466440   \n",
       "2       -0.081786   -0.128620   -0.094860  -0.458729 -0.137651 -0.466440   \n",
       "3       -0.081786   -0.128620   -0.094860  -0.458729 -0.137651 -0.466440   \n",
       "4       -0.081786   -0.128620   -0.094860  -0.458729 -0.137651 -0.466440   \n",
       "...           ...         ...         ...        ...       ...       ...   \n",
       "56656   -0.081786   -0.128620   -0.094860  -0.458729 -0.137651 -0.466440   \n",
       "56657   -0.081786   -0.128620   -0.094860  -0.458729 -0.137651 -0.466440   \n",
       "56658   -0.081786   -0.127669   -0.093554  -0.256386 -0.137651 -0.269448   \n",
       "56659   -0.081786   -0.127664   -0.093548  -0.256402 -0.137651 -0.269464   \n",
       "56660   -0.081786   -0.127670   -0.093555  -0.256275 -0.137651 -0.269340   \n",
       "\n",
       "       Idle Min  klabel  Label  \n",
       "0     -0.442057     398      0  \n",
       "1     -0.442057     359      0  \n",
       "2     -0.442057     191      0  \n",
       "3     -0.442057     359      0  \n",
       "4     -0.442057     359      0  \n",
       "...         ...     ...    ...  \n",
       "56656 -0.442057     237      0  \n",
       "56657 -0.442057     690      0  \n",
       "56658 -0.238252     560      3  \n",
       "56659 -0.238268     710      3  \n",
       "56660 -0.238140     253      3  \n",
       "\n",
       "[52479 rows x 79 columns]"
      ]
     },
     "execution_count": 15,
     "metadata": {},
     "output_type": "execute_result"
    }
   ],
   "source": [
    "df_major"
   ]
  },
  {
   "cell_type": "code",
   "execution_count": 16,
   "metadata": {},
   "outputs": [],
   "source": [
    "def typicalSampling(group):\n",
    "    name = group.name\n",
    "    frac = 0.008\n",
    "    return group.sample(frac=frac)\n",
    "\n",
    "result = df_major.groupby(\n",
    "    'klabel', group_keys=False\n",
    ").apply(typicalSampling)"
   ]
  },
  {
   "cell_type": "code",
   "execution_count": 17,
   "metadata": {},
   "outputs": [
    {
     "data": {
      "text/plain": [
       "Label\n",
       "0    122\n",
       "3    120\n",
       "5     59\n",
       "2     20\n",
       "Name: count, dtype: int64"
      ]
     },
     "execution_count": 17,
     "metadata": {},
     "output_type": "execute_result"
    }
   ],
   "source": [
    "result['Label'].value_counts()"
   ]
  },
  {
   "cell_type": "code",
   "execution_count": 18,
   "metadata": {
    "scrolled": true
   },
   "outputs": [
    {
     "data": {
      "text/html": [
       "<div>\n",
       "<style scoped>\n",
       "    .dataframe tbody tr th:only-of-type {\n",
       "        vertical-align: middle;\n",
       "    }\n",
       "\n",
       "    .dataframe tbody tr th {\n",
       "        vertical-align: top;\n",
       "    }\n",
       "\n",
       "    .dataframe thead th {\n",
       "        text-align: right;\n",
       "    }\n",
       "</style>\n",
       "<table border=\"1\" class=\"dataframe\">\n",
       "  <thead>\n",
       "    <tr style=\"text-align: right;\">\n",
       "      <th></th>\n",
       "      <th>Flow Duration</th>\n",
       "      <th>Total Fwd Packets</th>\n",
       "      <th>Total Backward Packets</th>\n",
       "      <th>Total Length of Fwd Packets</th>\n",
       "      <th>Total Length of Bwd Packets</th>\n",
       "      <th>Fwd Packet Length Max</th>\n",
       "      <th>Fwd Packet Length Min</th>\n",
       "      <th>Fwd Packet Length Mean</th>\n",
       "      <th>Fwd Packet Length Std</th>\n",
       "      <th>Bwd Packet Length Max</th>\n",
       "      <th>...</th>\n",
       "      <th>Active Mean</th>\n",
       "      <th>Active Std</th>\n",
       "      <th>Active Max</th>\n",
       "      <th>Active Min</th>\n",
       "      <th>Idle Mean</th>\n",
       "      <th>Idle Std</th>\n",
       "      <th>Idle Max</th>\n",
       "      <th>Idle Min</th>\n",
       "      <th>klabel</th>\n",
       "      <th>Label</th>\n",
       "    </tr>\n",
       "  </thead>\n",
       "  <tbody>\n",
       "    <tr>\n",
       "      <th>47365</th>\n",
       "      <td>1.775221</td>\n",
       "      <td>0.037025</td>\n",
       "      <td>0.008402</td>\n",
       "      <td>-0.017914</td>\n",
       "      <td>0.057771</td>\n",
       "      <td>0.265490</td>\n",
       "      <td>-0.211174</td>\n",
       "      <td>0.003417</td>\n",
       "      <td>0.284779</td>\n",
       "      <td>1.528310</td>\n",
       "      <td>...</td>\n",
       "      <td>-0.108548</td>\n",
       "      <td>-0.081786</td>\n",
       "      <td>-0.127563</td>\n",
       "      <td>-0.093409</td>\n",
       "      <td>2.170254</td>\n",
       "      <td>-0.137651</td>\n",
       "      <td>2.093023</td>\n",
       "      <td>2.205931</td>\n",
       "      <td>2</td>\n",
       "      <td>3</td>\n",
       "    </tr>\n",
       "    <tr>\n",
       "      <th>26307</th>\n",
       "      <td>-0.528462</td>\n",
       "      <td>-0.068426</td>\n",
       "      <td>-0.051737</td>\n",
       "      <td>-0.030840</td>\n",
       "      <td>-0.046531</td>\n",
       "      <td>-0.193358</td>\n",
       "      <td>0.561979</td>\n",
       "      <td>-0.035356</td>\n",
       "      <td>-0.255104</td>\n",
       "      <td>-0.524030</td>\n",
       "      <td>...</td>\n",
       "      <td>-0.109889</td>\n",
       "      <td>-0.081786</td>\n",
       "      <td>-0.128620</td>\n",
       "      <td>-0.094860</td>\n",
       "      <td>-0.458729</td>\n",
       "      <td>-0.137651</td>\n",
       "      <td>-0.466440</td>\n",
       "      <td>-0.442057</td>\n",
       "      <td>8</td>\n",
       "      <td>0</td>\n",
       "    </tr>\n",
       "    <tr>\n",
       "      <th>5239</th>\n",
       "      <td>-0.483254</td>\n",
       "      <td>-0.050851</td>\n",
       "      <td>-0.021667</td>\n",
       "      <td>-0.033088</td>\n",
       "      <td>0.057881</td>\n",
       "      <td>-0.218767</td>\n",
       "      <td>-0.211174</td>\n",
       "      <td>-0.198110</td>\n",
       "      <td>-0.209439</td>\n",
       "      <td>3.620304</td>\n",
       "      <td>...</td>\n",
       "      <td>-0.109889</td>\n",
       "      <td>-0.081786</td>\n",
       "      <td>-0.128620</td>\n",
       "      <td>-0.094860</td>\n",
       "      <td>-0.458729</td>\n",
       "      <td>-0.137651</td>\n",
       "      <td>-0.466440</td>\n",
       "      <td>-0.442057</td>\n",
       "      <td>10</td>\n",
       "      <td>3</td>\n",
       "    </tr>\n",
       "    <tr>\n",
       "      <th>2710</th>\n",
       "      <td>-0.366345</td>\n",
       "      <td>-0.015701</td>\n",
       "      <td>-0.081806</td>\n",
       "      <td>-0.032901</td>\n",
       "      <td>-0.048343</td>\n",
       "      <td>-0.239691</td>\n",
       "      <td>-0.085798</td>\n",
       "      <td>-0.213428</td>\n",
       "      <td>-0.255104</td>\n",
       "      <td>-0.559719</td>\n",
       "      <td>...</td>\n",
       "      <td>-0.107183</td>\n",
       "      <td>-0.081786</td>\n",
       "      <td>-0.126487</td>\n",
       "      <td>-0.091931</td>\n",
       "      <td>-0.273554</td>\n",
       "      <td>-0.137651</td>\n",
       "      <td>-0.286162</td>\n",
       "      <td>-0.255544</td>\n",
       "      <td>11</td>\n",
       "      <td>3</td>\n",
       "    </tr>\n",
       "    <tr>\n",
       "      <th>207</th>\n",
       "      <td>-0.499758</td>\n",
       "      <td>-0.033276</td>\n",
       "      <td>-0.081806</td>\n",
       "      <td>-0.033182</td>\n",
       "      <td>-0.048343</td>\n",
       "      <td>-0.239691</td>\n",
       "      <td>-0.085798</td>\n",
       "      <td>-0.213428</td>\n",
       "      <td>-0.255104</td>\n",
       "      <td>-0.559719</td>\n",
       "      <td>...</td>\n",
       "      <td>-0.109889</td>\n",
       "      <td>-0.081786</td>\n",
       "      <td>-0.128620</td>\n",
       "      <td>-0.094860</td>\n",
       "      <td>-0.458729</td>\n",
       "      <td>-0.137651</td>\n",
       "      <td>-0.466440</td>\n",
       "      <td>-0.442057</td>\n",
       "      <td>12</td>\n",
       "      <td>3</td>\n",
       "    </tr>\n",
       "    <tr>\n",
       "      <th>...</th>\n",
       "      <td>...</td>\n",
       "      <td>...</td>\n",
       "      <td>...</td>\n",
       "      <td>...</td>\n",
       "      <td>...</td>\n",
       "      <td>...</td>\n",
       "      <td>...</td>\n",
       "      <td>...</td>\n",
       "      <td>...</td>\n",
       "      <td>...</td>\n",
       "      <td>...</td>\n",
       "      <td>...</td>\n",
       "      <td>...</td>\n",
       "      <td>...</td>\n",
       "      <td>...</td>\n",
       "      <td>...</td>\n",
       "      <td>...</td>\n",
       "      <td>...</td>\n",
       "      <td>...</td>\n",
       "      <td>...</td>\n",
       "      <td>...</td>\n",
       "    </tr>\n",
       "    <tr>\n",
       "      <th>50878</th>\n",
       "      <td>2.195125</td>\n",
       "      <td>0.037025</td>\n",
       "      <td>0.008402</td>\n",
       "      <td>-0.019038</td>\n",
       "      <td>0.057771</td>\n",
       "      <td>0.238587</td>\n",
       "      <td>-0.211174</td>\n",
       "      <td>-0.013815</td>\n",
       "      <td>0.257731</td>\n",
       "      <td>1.528310</td>\n",
       "      <td>...</td>\n",
       "      <td>-0.107176</td>\n",
       "      <td>-0.081786</td>\n",
       "      <td>-0.126482</td>\n",
       "      <td>-0.091924</td>\n",
       "      <td>2.652493</td>\n",
       "      <td>-0.137651</td>\n",
       "      <td>2.562511</td>\n",
       "      <td>2.691657</td>\n",
       "      <td>983</td>\n",
       "      <td>3</td>\n",
       "    </tr>\n",
       "    <tr>\n",
       "      <th>52644</th>\n",
       "      <td>-0.528422</td>\n",
       "      <td>-0.015701</td>\n",
       "      <td>-0.081806</td>\n",
       "      <td>-0.034306</td>\n",
       "      <td>-0.048343</td>\n",
       "      <td>-0.248659</td>\n",
       "      <td>-0.211174</td>\n",
       "      <td>-0.247894</td>\n",
       "      <td>-0.255104</td>\n",
       "      <td>-0.559719</td>\n",
       "      <td>...</td>\n",
       "      <td>-0.109889</td>\n",
       "      <td>-0.081786</td>\n",
       "      <td>-0.128620</td>\n",
       "      <td>-0.094860</td>\n",
       "      <td>-0.458729</td>\n",
       "      <td>-0.137651</td>\n",
       "      <td>-0.466440</td>\n",
       "      <td>-0.442057</td>\n",
       "      <td>987</td>\n",
       "      <td>3</td>\n",
       "    </tr>\n",
       "    <tr>\n",
       "      <th>37188</th>\n",
       "      <td>-0.486442</td>\n",
       "      <td>0.037025</td>\n",
       "      <td>-0.021667</td>\n",
       "      <td>0.004051</td>\n",
       "      <td>-0.045689</td>\n",
       "      <td>0.512103</td>\n",
       "      <td>-0.211174</td>\n",
       "      <td>0.340174</td>\n",
       "      <td>0.552795</td>\n",
       "      <td>-0.507446</td>\n",
       "      <td>...</td>\n",
       "      <td>-0.109889</td>\n",
       "      <td>-0.081786</td>\n",
       "      <td>-0.128620</td>\n",
       "      <td>-0.094860</td>\n",
       "      <td>-0.458729</td>\n",
       "      <td>-0.137651</td>\n",
       "      <td>-0.466440</td>\n",
       "      <td>-0.442057</td>\n",
       "      <td>994</td>\n",
       "      <td>0</td>\n",
       "    </tr>\n",
       "    <tr>\n",
       "      <th>32602</th>\n",
       "      <td>-0.527632</td>\n",
       "      <td>-0.086001</td>\n",
       "      <td>-0.066771</td>\n",
       "      <td>-0.032199</td>\n",
       "      <td>-0.047181</td>\n",
       "      <td>-0.181401</td>\n",
       "      <td>0.729147</td>\n",
       "      <td>0.010598</td>\n",
       "      <td>-0.255104</td>\n",
       "      <td>-0.513936</td>\n",
       "      <td>...</td>\n",
       "      <td>-0.109889</td>\n",
       "      <td>-0.081786</td>\n",
       "      <td>-0.128620</td>\n",
       "      <td>-0.094860</td>\n",
       "      <td>-0.458729</td>\n",
       "      <td>-0.137651</td>\n",
       "      <td>-0.466440</td>\n",
       "      <td>-0.442057</td>\n",
       "      <td>996</td>\n",
       "      <td>0</td>\n",
       "    </tr>\n",
       "    <tr>\n",
       "      <th>56167</th>\n",
       "      <td>-0.528465</td>\n",
       "      <td>-0.068426</td>\n",
       "      <td>-0.051737</td>\n",
       "      <td>-0.030372</td>\n",
       "      <td>-0.046861</td>\n",
       "      <td>-0.185885</td>\n",
       "      <td>0.666459</td>\n",
       "      <td>-0.006635</td>\n",
       "      <td>-0.255104</td>\n",
       "      <td>-0.530519</td>\n",
       "      <td>...</td>\n",
       "      <td>-0.109889</td>\n",
       "      <td>-0.081786</td>\n",
       "      <td>-0.128620</td>\n",
       "      <td>-0.094860</td>\n",
       "      <td>-0.458729</td>\n",
       "      <td>-0.137651</td>\n",
       "      <td>-0.466440</td>\n",
       "      <td>-0.442057</td>\n",
       "      <td>999</td>\n",
       "      <td>0</td>\n",
       "    </tr>\n",
       "  </tbody>\n",
       "</table>\n",
       "<p>321 rows × 79 columns</p>\n",
       "</div>"
      ],
      "text/plain": [
       "       Flow Duration  Total Fwd Packets  Total Backward Packets  \\\n",
       "47365       1.775221           0.037025                0.008402   \n",
       "26307      -0.528462          -0.068426               -0.051737   \n",
       "5239       -0.483254          -0.050851               -0.021667   \n",
       "2710       -0.366345          -0.015701               -0.081806   \n",
       "207        -0.499758          -0.033276               -0.081806   \n",
       "...              ...                ...                     ...   \n",
       "50878       2.195125           0.037025                0.008402   \n",
       "52644      -0.528422          -0.015701               -0.081806   \n",
       "37188      -0.486442           0.037025               -0.021667   \n",
       "32602      -0.527632          -0.086001               -0.066771   \n",
       "56167      -0.528465          -0.068426               -0.051737   \n",
       "\n",
       "       Total Length of Fwd Packets  Total Length of Bwd Packets  \\\n",
       "47365                    -0.017914                     0.057771   \n",
       "26307                    -0.030840                    -0.046531   \n",
       "5239                     -0.033088                     0.057881   \n",
       "2710                     -0.032901                    -0.048343   \n",
       "207                      -0.033182                    -0.048343   \n",
       "...                            ...                          ...   \n",
       "50878                    -0.019038                     0.057771   \n",
       "52644                    -0.034306                    -0.048343   \n",
       "37188                     0.004051                    -0.045689   \n",
       "32602                    -0.032199                    -0.047181   \n",
       "56167                    -0.030372                    -0.046861   \n",
       "\n",
       "       Fwd Packet Length Max  Fwd Packet Length Min  Fwd Packet Length Mean  \\\n",
       "47365               0.265490              -0.211174                0.003417   \n",
       "26307              -0.193358               0.561979               -0.035356   \n",
       "5239               -0.218767              -0.211174               -0.198110   \n",
       "2710               -0.239691              -0.085798               -0.213428   \n",
       "207                -0.239691              -0.085798               -0.213428   \n",
       "...                      ...                    ...                     ...   \n",
       "50878               0.238587              -0.211174               -0.013815   \n",
       "52644              -0.248659              -0.211174               -0.247894   \n",
       "37188               0.512103              -0.211174                0.340174   \n",
       "32602              -0.181401               0.729147                0.010598   \n",
       "56167              -0.185885               0.666459               -0.006635   \n",
       "\n",
       "       Fwd Packet Length Std  Bwd Packet Length Max  ...  Active Mean  \\\n",
       "47365               0.284779               1.528310  ...    -0.108548   \n",
       "26307              -0.255104              -0.524030  ...    -0.109889   \n",
       "5239               -0.209439               3.620304  ...    -0.109889   \n",
       "2710               -0.255104              -0.559719  ...    -0.107183   \n",
       "207                -0.255104              -0.559719  ...    -0.109889   \n",
       "...                      ...                    ...  ...          ...   \n",
       "50878               0.257731               1.528310  ...    -0.107176   \n",
       "52644              -0.255104              -0.559719  ...    -0.109889   \n",
       "37188               0.552795              -0.507446  ...    -0.109889   \n",
       "32602              -0.255104              -0.513936  ...    -0.109889   \n",
       "56167              -0.255104              -0.530519  ...    -0.109889   \n",
       "\n",
       "       Active Std  Active Max  Active Min  Idle Mean  Idle Std  Idle Max  \\\n",
       "47365   -0.081786   -0.127563   -0.093409   2.170254 -0.137651  2.093023   \n",
       "26307   -0.081786   -0.128620   -0.094860  -0.458729 -0.137651 -0.466440   \n",
       "5239    -0.081786   -0.128620   -0.094860  -0.458729 -0.137651 -0.466440   \n",
       "2710    -0.081786   -0.126487   -0.091931  -0.273554 -0.137651 -0.286162   \n",
       "207     -0.081786   -0.128620   -0.094860  -0.458729 -0.137651 -0.466440   \n",
       "...           ...         ...         ...        ...       ...       ...   \n",
       "50878   -0.081786   -0.126482   -0.091924   2.652493 -0.137651  2.562511   \n",
       "52644   -0.081786   -0.128620   -0.094860  -0.458729 -0.137651 -0.466440   \n",
       "37188   -0.081786   -0.128620   -0.094860  -0.458729 -0.137651 -0.466440   \n",
       "32602   -0.081786   -0.128620   -0.094860  -0.458729 -0.137651 -0.466440   \n",
       "56167   -0.081786   -0.128620   -0.094860  -0.458729 -0.137651 -0.466440   \n",
       "\n",
       "       Idle Min  klabel  Label  \n",
       "47365  2.205931       2      3  \n",
       "26307 -0.442057       8      0  \n",
       "5239  -0.442057      10      3  \n",
       "2710  -0.255544      11      3  \n",
       "207   -0.442057      12      3  \n",
       "...         ...     ...    ...  \n",
       "50878  2.691657     983      3  \n",
       "52644 -0.442057     987      3  \n",
       "37188 -0.442057     994      0  \n",
       "32602 -0.442057     996      0  \n",
       "56167 -0.442057     999      0  \n",
       "\n",
       "[321 rows x 79 columns]"
      ]
     },
     "execution_count": 18,
     "metadata": {},
     "output_type": "execute_result"
    }
   ],
   "source": [
    "result"
   ]
  },
  {
   "cell_type": "code",
   "execution_count": 19,
   "metadata": {},
   "outputs": [],
   "source": [
    "result = result.drop(['klabel'],axis=1)\n",
    "# result = result.append(df_minor)\n",
    "result = pd.concat([result, pd.DataFrame(df_minor)])"
   ]
  },
  {
   "cell_type": "code",
   "execution_count": 20,
   "metadata": {},
   "outputs": [],
   "source": [
    "result.to_csv('./data/CICIDS2017_sample_km.csv',index=0)"
   ]
  },
  {
   "cell_type": "markdown",
   "metadata": {},
   "source": [
    "### split train set and test set"
   ]
  },
  {
   "cell_type": "code",
   "execution_count": 21,
   "metadata": {},
   "outputs": [],
   "source": [
    "# Read the sampled dataset\n",
    "df=pd.read_csv('./data/CICIDS2017_sample_km.csv')"
   ]
  },
  {
   "cell_type": "code",
   "execution_count": 22,
   "metadata": {},
   "outputs": [],
   "source": [
    "X = df.drop(['Label'],axis=1).values\n",
    "y = df.iloc[:, -1].values.reshape(-1,1)\n",
    "y=np.ravel(y)"
   ]
  },
  {
   "cell_type": "code",
   "execution_count": 23,
   "metadata": {
    "collapsed": true
   },
   "outputs": [],
   "source": [
    "X_train, X_test, y_train, y_test = train_test_split(X,y, train_size = 0.8, test_size = 0.2, random_state = 0,stratify = y)"
   ]
  },
  {
   "cell_type": "markdown",
   "metadata": {},
   "source": [
    "## Feature engineering"
   ]
  },
  {
   "cell_type": "markdown",
   "metadata": {},
   "source": [
    "### Feature selection by information gain"
   ]
  },
  {
   "cell_type": "code",
   "execution_count": 24,
   "metadata": {
    "collapsed": true
   },
   "outputs": [],
   "source": [
    "from sklearn.feature_selection import mutual_info_classif\n",
    "importances = mutual_info_classif(X_train, y_train)"
   ]
  },
  {
   "cell_type": "code",
   "execution_count": 25,
   "metadata": {},
   "outputs": [],
   "source": [
    "# calculate the sum of importance scores\n",
    "f_list = sorted(zip(map(lambda x: round(x, 4), importances), features), reverse=True)\n",
    "Sum = 0\n",
    "fs = []\n",
    "for i in range(0, len(f_list)):\n",
    "    Sum = Sum + f_list[i][0]\n",
    "    fs.append(f_list[i][1])"
   ]
  },
  {
   "cell_type": "code",
   "execution_count": 26,
   "metadata": {},
   "outputs": [],
   "source": [
    "# select the important features from top to bottom until the accumulated importance reaches 90%\n",
    "f_list2 = sorted(zip(map(lambda x: round(x, 4), importances/Sum), features), reverse=True)\n",
    "Sum2 = 0\n",
    "fs = []\n",
    "for i in range(0, len(f_list2)):\n",
    "    Sum2 = Sum2 + f_list2[i][0]\n",
    "    fs.append(f_list2[i][1])\n",
    "    if Sum2>=0.9:\n",
    "        break        "
   ]
  },
  {
   "cell_type": "code",
   "execution_count": 27,
   "metadata": {
    "collapsed": true
   },
   "outputs": [],
   "source": [
    "X_fs = df[fs].values"
   ]
  },
  {
   "cell_type": "code",
   "execution_count": 28,
   "metadata": {},
   "outputs": [
    {
     "data": {
      "text/plain": [
       "(4503, 42)"
      ]
     },
     "execution_count": 28,
     "metadata": {},
     "output_type": "execute_result"
    }
   ],
   "source": [
    "X_fs.shape"
   ]
  },
  {
   "cell_type": "markdown",
   "metadata": {},
   "source": [
    "### Feature selection by Fast Correlation Based Filter (FCBF)\n",
    "\n",
    "The module is imported from the GitHub repo: https://github.com/SantiagoEG/FCBF_module"
   ]
  },
  {
   "cell_type": "code",
   "execution_count": 29,
   "metadata": {
    "collapsed": true
   },
   "outputs": [],
   "source": [
    "from FCBF_module import FCBF, FCBFK, FCBFiP, get_i\n",
    "fcbf = FCBFK(k = 20)\n",
    "#fcbf.fit(X_fs, y)"
   ]
  },
  {
   "cell_type": "code",
   "execution_count": 30,
   "metadata": {},
   "outputs": [],
   "source": [
    "X_fss = fcbf.fit_transform(X_fs,y)"
   ]
  },
  {
   "cell_type": "code",
   "execution_count": 31,
   "metadata": {},
   "outputs": [
    {
     "data": {
      "text/plain": [
       "(4503, 20)"
      ]
     },
     "execution_count": 31,
     "metadata": {},
     "output_type": "execute_result"
    }
   ],
   "source": [
    "X_fss.shape"
   ]
  },
  {
   "cell_type": "markdown",
   "metadata": {},
   "source": [
    "### Re-split train & test sets after feature selection"
   ]
  },
  {
   "cell_type": "code",
   "execution_count": 32,
   "metadata": {
    "collapsed": true
   },
   "outputs": [],
   "source": [
    "X_train, X_test, y_train, y_test = train_test_split(X_fss,y, train_size = 0.8, test_size = 0.2, random_state = 0,stratify = y)"
   ]
  },
  {
   "cell_type": "code",
   "execution_count": 33,
   "metadata": {},
   "outputs": [
    {
     "data": {
      "text/plain": [
       "(3602, 20)"
      ]
     },
     "execution_count": 33,
     "metadata": {},
     "output_type": "execute_result"
    }
   ],
   "source": [
    "X_train.shape"
   ]
  },
  {
   "cell_type": "code",
   "execution_count": 34,
   "metadata": {},
   "outputs": [
    {
     "data": {
      "text/plain": [
       "6    1744\n",
       "1    1573\n",
       "0      97\n",
       "3      96\n",
       "5      47\n",
       "4      29\n",
       "2      16\n",
       "Name: count, dtype: int64"
      ]
     },
     "execution_count": 34,
     "metadata": {},
     "output_type": "execute_result"
    }
   ],
   "source": [
    "pd.Series(y_train).value_counts()"
   ]
  },
  {
   "cell_type": "markdown",
   "metadata": {},
   "source": [
    "### SMOTE to solve class-imbalance"
   ]
  },
  {
   "cell_type": "code",
   "execution_count": 35,
   "metadata": {},
   "outputs": [],
   "source": [
    "from imblearn.over_sampling import SMOTE\n",
    "smote=SMOTE(n_jobs=-1,sampling_strategy={2:1000,4:1000})"
   ]
  },
  {
   "cell_type": "code",
   "execution_count": 36,
   "metadata": {
    "collapsed": true
   },
   "outputs": [],
   "source": [
    "X_train, y_train = smote.fit_resample(X_train, y_train)"
   ]
  },
  {
   "cell_type": "code",
   "execution_count": 37,
   "metadata": {},
   "outputs": [
    {
     "data": {
      "text/plain": [
       "6    1744\n",
       "1    1573\n",
       "2    1000\n",
       "4    1000\n",
       "0      97\n",
       "3      96\n",
       "5      47\n",
       "Name: count, dtype: int64"
      ]
     },
     "execution_count": 37,
     "metadata": {},
     "output_type": "execute_result"
    }
   ],
   "source": [
    "pd.Series(y_train).value_counts()"
   ]
  },
  {
   "cell_type": "markdown",
   "metadata": {},
   "source": [
    "## Machine learning model training"
   ]
  },
  {
   "cell_type": "markdown",
   "metadata": {},
   "source": [
    "### Training four base learners: decision tree, random forest, extra trees, XGBoost"
   ]
  },
  {
   "cell_type": "markdown",
   "metadata": {},
   "source": [
    "#### Apply XGBoost"
   ]
  },
  {
   "cell_type": "code",
   "execution_count": 38,
   "metadata": {},
   "outputs": [
    {
     "name": "stdout",
     "output_type": "stream",
     "text": [
      "Accuracy of XGBoost: 0.9900110987791343\n",
      "Precision of XGBoost: 0.9917712826515388\n",
      "Recall of XGBoost: 0.9900110987791343\n",
      "F1-score of XGBoost: 0.9894358794726855\n",
      "              precision    recall  f1-score   support\n",
      "\n",
      "           0       1.00      0.64      0.78        25\n",
      "           1       0.99      1.00      1.00       393\n",
      "           2       0.67      1.00      0.80         4\n",
      "           3       1.00      1.00      1.00        24\n",
      "           4       0.70      1.00      0.82         7\n",
      "           5       1.00      1.00      1.00        12\n",
      "           6       1.00      1.00      1.00       436\n",
      "\n",
      "    accuracy                           0.99       901\n",
      "   macro avg       0.91      0.95      0.91       901\n",
      "weighted avg       0.99      0.99      0.99       901\n",
      "\n"
     ]
    },
    {
     "data": {
      "image/png": "[encoded data removed]",
      "text/plain": [
       "<Figure size 500x500 with 2 Axes>"
      ]
     },
     "metadata": {},
     "output_type": "display_data"
    }
   ],
   "source": [
    "xg = xgb.XGBClassifier(n_estimators = 10)\n",
    "xg.fit(X_train,y_train)\n",
    "xg_score=xg.score(X_test,y_test)\n",
    "y_predict=xg.predict(X_test)\n",
    "y_true=y_test\n",
    "print('Accuracy of XGBoost: '+ str(xg_score))\n",
    "precision,recall,fscore,none= precision_recall_fscore_support(y_true, y_predict, average='weighted') \n",
    "print('Precision of XGBoost: '+(str(precision)))\n",
    "print('Recall of XGBoost: '+(str(recall)))\n",
    "print('F1-score of XGBoost: '+(str(fscore)))\n",
    "print(classification_report(y_true,y_predict))\n",
    "cm=confusion_matrix(y_true,y_predict)\n",
    "f,ax=plt.subplots(figsize=(5,5))\n",
    "sns.heatmap(cm,annot=True,linewidth=0.5,linecolor=\"red\",fmt=\".0f\",ax=ax)\n",
    "plt.xlabel(\"y_pred\")\n",
    "plt.ylabel(\"y_true\")\n",
    "plt.show()"
   ]
  },
  {
   "cell_type": "markdown",
   "metadata": {},
   "source": [
    "#### Hyperparameter optimization (HPO) of XGBoost using Bayesian optimization with tree-based Parzen estimator (BO-TPE)\n",
    "Based on the GitHub repo for HPO: https://github.com/LiYangHart/Hyperparameter-Optimization-of-Machine-Learning-Algorithms"
   ]
  },
  {
   "cell_type": "code",
   "execution_count": 39,
   "metadata": {},
   "outputs": [
    {
     "name": "stdout",
     "output_type": "stream",
     "text": [
      "100%|██████████| 20/20 [00:08<00:00,  2.46trial/s, best loss: -0.9966703662597114] \n",
      "XGBoost: Hyperopt estimated optimum {'learning_rate': np.float64(0.27412486581830586), 'max_depth': np.float64(21.0), 'n_estimators': np.float64(80.0)}\n"
     ]
    }
   ],
   "source": [
    "from hyperopt import hp, fmin, tpe, STATUS_OK, Trials\n",
    "from sklearn.model_selection import cross_val_score, StratifiedKFold\n",
    "def objective(params):\n",
    "    params = {\n",
    "        'n_estimators': int(params['n_estimators']), \n",
    "        'max_depth': int(params['max_depth']),\n",
    "        'learning_rate':  abs(float(params['learning_rate'])),\n",
    "\n",
    "    }\n",
    "    clf = xgb.XGBClassifier( **params)\n",
    "    clf.fit(X_train, y_train)\n",
    "    y_pred = clf.predict(X_test)\n",
    "    score = accuracy_score(y_test, y_pred)\n",
    "\n",
    "    return {'loss':-score, 'status': STATUS_OK }\n",
    "\n",
    "space = {\n",
    "    'n_estimators': hp.quniform('n_estimators', 10, 100, 5),\n",
    "    'max_depth': hp.quniform('max_depth', 4, 100, 1),\n",
    "    'learning_rate': hp.normal('learning_rate', 0.01, 0.9),\n",
    "}\n",
    "\n",
    "best = fmin(fn=objective,\n",
    "            space=space,\n",
    "            algo=tpe.suggest,\n",
    "            max_evals=20)\n",
    "print(\"XGBoost: Hyperopt estimated optimum {}\".format(best))"
   ]
  },
  {
   "cell_type": "code",
   "execution_count": 40,
   "metadata": {},
   "outputs": [
    {
     "name": "stdout",
     "output_type": "stream",
     "text": [
      "Accuracy of XGBoost: 0.9966703662597114\n",
      "Precision of XGBoost: 0.9968192368702457\n",
      "Recall of XGBoost: 0.9966703662597114\n",
      "F1-score of XGBoost: 0.9966036370499465\n",
      "              precision    recall  f1-score   support\n",
      "\n",
      "           0       1.00      0.88      0.94        25\n",
      "           1       1.00      1.00      1.00       393\n",
      "           2       1.00      1.00      1.00         4\n",
      "           3       1.00      1.00      1.00        24\n",
      "           4       0.88      1.00      0.93         7\n",
      "           5       1.00      1.00      1.00        12\n",
      "           6       1.00      1.00      1.00       436\n",
      "\n",
      "    accuracy                           1.00       901\n",
      "   macro avg       0.98      0.98      0.98       901\n",
      "weighted avg       1.00      1.00      1.00       901\n",
      "\n"
     ]
    },
    {
     "data": {
      "image/png": "[encoded data removed]",
      "text/plain": [
       "<Figure size 500x500 with 2 Axes>"
      ]
     },
     "metadata": {},
     "output_type": "display_data"
    }
   ],
   "source": [
    "xg = xgb.XGBClassifier(learning_rate= 0.7340229699980686, n_estimators = 70, max_depth = 14)\n",
    "xg.fit(X_train,y_train)\n",
    "xg_score=xg.score(X_test,y_test)\n",
    "y_predict=xg.predict(X_test)\n",
    "y_true=y_test\n",
    "print('Accuracy of XGBoost: '+ str(xg_score))\n",
    "precision,recall,fscore,none= precision_recall_fscore_support(y_true, y_predict, average='weighted') \n",
    "print('Precision of XGBoost: '+(str(precision)))\n",
    "print('Recall of XGBoost: '+(str(recall)))\n",
    "print('F1-score of XGBoost: '+(str(fscore)))\n",
    "print(classification_report(y_true,y_predict))\n",
    "cm=confusion_matrix(y_true,y_predict)\n",
    "f,ax=plt.subplots(figsize=(5,5))\n",
    "sns.heatmap(cm,annot=True,linewidth=0.5,linecolor=\"red\",fmt=\".0f\",ax=ax)\n",
    "plt.xlabel(\"y_pred\")\n",
    "plt.ylabel(\"y_true\")\n",
    "plt.show()"
   ]
  },
  {
   "cell_type": "code",
   "execution_count": 41,
   "metadata": {},
   "outputs": [],
   "source": [
    "xg_train=xg.predict(X_train)\n",
    "xg_test=xg.predict(X_test)"
   ]
  },
  {
   "cell_type": "markdown",
   "metadata": {},
   "source": [
    "#### Apply RF"
   ]
  },
  {
   "cell_type": "code",
   "execution_count": 42,
   "metadata": {},
   "outputs": [
    {
     "name": "stdout",
     "output_type": "stream",
     "text": [
      "Accuracy of RF: 0.9911209766925638\n",
      "Precision of RF: 0.9921800317005809\n",
      "Recall of RF: 0.9911209766925638\n",
      "F1-score of RF: 0.9907983760529305\n",
      "              precision    recall  f1-score   support\n",
      "\n",
      "           0       1.00      0.72      0.84        25\n",
      "           1       0.99      1.00      1.00       393\n",
      "           2       1.00      1.00      1.00         4\n",
      "           3       0.96      1.00      0.98        24\n",
      "           4       0.70      1.00      0.82         7\n",
      "           5       1.00      1.00      1.00        12\n",
      "           6       1.00      1.00      1.00       436\n",
      "\n",
      "    accuracy                           0.99       901\n",
      "   macro avg       0.95      0.96      0.95       901\n",
      "weighted avg       0.99      0.99      0.99       901\n",
      "\n"
     ]
    },
    {
     "data": {
      "image/png": "[encoded data removed]",
      "text/plain": [
       "<Figure size 500x500 with 2 Axes>"
      ]
     },
     "metadata": {},
     "output_type": "display_data"
    }
   ],
   "source": [
    "rf = RandomForestClassifier(random_state = 0)\n",
    "rf.fit(X_train,y_train) \n",
    "rf_score=rf.score(X_test,y_test)\n",
    "y_predict=rf.predict(X_test)\n",
    "y_true=y_test\n",
    "print('Accuracy of RF: '+ str(rf_score))\n",
    "precision,recall,fscore,none= precision_recall_fscore_support(y_true, y_predict, average='weighted') \n",
    "print('Precision of RF: '+(str(precision)))\n",
    "print('Recall of RF: '+(str(recall)))\n",
    "print('F1-score of RF: '+(str(fscore)))\n",
    "print(classification_report(y_true,y_predict))\n",
    "cm=confusion_matrix(y_true,y_predict)\n",
    "f,ax=plt.subplots(figsize=(5,5))\n",
    "sns.heatmap(cm,annot=True,linewidth=0.5,linecolor=\"red\",fmt=\".0f\",ax=ax)\n",
    "plt.xlabel(\"y_pred\")\n",
    "plt.ylabel(\"y_true\")\n",
    "plt.show()"
   ]
  },
  {
   "cell_type": "markdown",
   "metadata": {},
   "source": [
    "#### Hyperparameter optimization (HPO) of random forest using Bayesian optimization with tree-based Parzen estimator (BO-TPE)\n",
    "Based on the GitHub repo for HPO: https://github.com/LiYangHart/Hyperparameter-Optimization-of-Machine-Learning-Algorithms"
   ]
  },
  {
   "cell_type": "code",
   "execution_count": 43,
   "metadata": {},
   "outputs": [
    {
     "name": "stdout",
     "output_type": "stream",
     "text": [
      "100%|██████████| 20/20 [00:12<00:00,  1.56trial/s, best loss: -0.9866814650388457]\n",
      "Random Forest: Hyperopt estimated optimum {'criterion': np.int64(0), 'max_depth': np.float64(27.0), 'max_features': np.float64(9.0), 'min_samples_leaf': np.float64(3.0), 'min_samples_split': np.float64(10.0), 'n_estimators': np.float64(109.0)}\n"
     ]
    }
   ],
   "source": [
    "# Hyperparameter optimization of random forest\n",
    "from hyperopt import hp, fmin, tpe, STATUS_OK, Trials\n",
    "from sklearn.model_selection import cross_val_score, StratifiedKFold\n",
    "# Define the objective function\n",
    "def objective(params):\n",
    "    params = {\n",
    "        'n_estimators': int(params['n_estimators']), \n",
    "        'max_depth': int(params['max_depth']),\n",
    "        'max_features': int(params['max_features']),\n",
    "        \"min_samples_split\":int(params['min_samples_split']),\n",
    "        \"min_samples_leaf\":int(params['min_samples_leaf']),\n",
    "        \"criterion\":str(params['criterion'])\n",
    "    }\n",
    "    clf = RandomForestClassifier( **params)\n",
    "    clf.fit(X_train,y_train)\n",
    "    score=clf.score(X_test,y_test)\n",
    "\n",
    "    return {'loss':-score, 'status': STATUS_OK }\n",
    "# Define the hyperparameter configuration space\n",
    "space = {\n",
    "    'n_estimators': hp.quniform('n_estimators', 10, 200, 1),\n",
    "    'max_depth': hp.quniform('max_depth', 5, 50, 1),\n",
    "    \"max_features\":hp.quniform('max_features', 1, 20, 1),\n",
    "    \"min_samples_split\":hp.quniform('min_samples_split',2,11,1),\n",
    "    \"min_samples_leaf\":hp.quniform('min_samples_leaf',1,11,1),\n",
    "    \"criterion\":hp.choice('criterion',['gini','entropy'])\n",
    "}\n",
    "\n",
    "best = fmin(fn=objective,\n",
    "            space=space,\n",
    "            algo=tpe.suggest,\n",
    "            max_evals=20)\n",
    "print(\"Random Forest: Hyperopt estimated optimum {}\".format(best))"
   ]
  },
  {
   "cell_type": "code",
   "execution_count": 44,
   "metadata": {},
   "outputs": [
    {
     "name": "stdout",
     "output_type": "stream",
     "text": [
      "Accuracy of RF: 0.9866814650388457\n",
      "Precision of RF: 0.9868574759806724\n",
      "Recall of RF: 0.9866814650388457\n",
      "F1-score of RF: 0.9859916642233462\n",
      "              precision    recall  f1-score   support\n",
      "\n",
      "           0       0.89      0.64      0.74        25\n",
      "           1       0.99      0.99      0.99       393\n",
      "           2       1.00      1.00      1.00         4\n",
      "           3       0.96      0.96      0.96        24\n",
      "           4       0.70      1.00      0.82         7\n",
      "           5       1.00      1.00      1.00        12\n",
      "           6       0.99      1.00      1.00       436\n",
      "\n",
      "    accuracy                           0.99       901\n",
      "   macro avg       0.93      0.94      0.93       901\n",
      "weighted avg       0.99      0.99      0.99       901\n",
      "\n"
     ]
    },
    {
     "data": {
      "image/png": "[encoded data removed]",
      "text/plain": [
       "<Figure size 500x500 with 2 Axes>"
      ]
     },
     "metadata": {},
     "output_type": "display_data"
    }
   ],
   "source": [
    "rf_hpo = RandomForestClassifier(n_estimators = 71, min_samples_leaf = 1, max_depth = 46, min_samples_split = 9, max_features = 20, criterion = 'entropy')\n",
    "rf_hpo.fit(X_train,y_train)\n",
    "rf_score=rf_hpo.score(X_test,y_test)\n",
    "y_predict=rf_hpo.predict(X_test)\n",
    "y_true=y_test\n",
    "print('Accuracy of RF: '+ str(rf_score))\n",
    "precision,recall,fscore,none= precision_recall_fscore_support(y_true, y_predict, average='weighted') \n",
    "print('Precision of RF: '+(str(precision)))\n",
    "print('Recall of RF: '+(str(recall)))\n",
    "print('F1-score of RF: '+(str(fscore)))\n",
    "print(classification_report(y_true,y_predict))\n",
    "cm=confusion_matrix(y_true,y_predict)\n",
    "f,ax=plt.subplots(figsize=(5,5))\n",
    "sns.heatmap(cm,annot=True,linewidth=0.5,linecolor=\"red\",fmt=\".0f\",ax=ax)\n",
    "plt.xlabel(\"y_pred\")\n",
    "plt.ylabel(\"y_true\")\n",
    "plt.show()"
   ]
  },
  {
   "cell_type": "code",
   "execution_count": 45,
   "metadata": {
    "collapsed": true
   },
   "outputs": [],
   "source": [
    "rf_train=rf_hpo.predict(X_train)\n",
    "rf_test=rf_hpo.predict(X_test)"
   ]
  },
  {
   "cell_type": "markdown",
   "metadata": {},
   "source": [
    "#### Apply DT"
   ]
  },
  {
   "cell_type": "code",
   "execution_count": 46,
   "metadata": {},
   "outputs": [
    {
     "name": "stdout",
     "output_type": "stream",
     "text": [
      "Accuracy of DT: 0.9877913429522752\n",
      "Precision of DT: 0.9874673767426885\n",
      "Recall of DT: 0.9877913429522752\n",
      "F1-score of DT: 0.9869486010598532\n",
      "              precision    recall  f1-score   support\n",
      "\n",
      "           0       0.89      0.64      0.74        25\n",
      "           1       0.99      1.00      1.00       393\n",
      "           2       1.00      1.00      1.00         4\n",
      "           3       0.96      0.96      0.96        24\n",
      "           4       0.78      1.00      0.88         7\n",
      "           5       1.00      1.00      1.00        12\n",
      "           6       0.99      1.00      1.00       436\n",
      "\n",
      "    accuracy                           0.99       901\n",
      "   macro avg       0.94      0.94      0.94       901\n",
      "weighted avg       0.99      0.99      0.99       901\n",
      "\n"
     ]
    },
    {
     "data": {
      "image/png": "[encoded data removed]",
      "text/plain": [
       "<Figure size 500x500 with 2 Axes>"
      ]
     },
     "metadata": {},
     "output_type": "display_data"
    }
   ],
   "source": [
    "dt = DecisionTreeClassifier(random_state = 0)\n",
    "dt.fit(X_train,y_train) \n",
    "dt_score=dt.score(X_test,y_test)\n",
    "y_predict=dt.predict(X_test)\n",
    "y_true=y_test\n",
    "print('Accuracy of DT: '+ str(dt_score))\n",
    "precision,recall,fscore,none= precision_recall_fscore_support(y_true, y_predict, average='weighted') \n",
    "print('Precision of DT: '+(str(precision)))\n",
    "print('Recall of DT: '+(str(recall)))\n",
    "print('F1-score of DT: '+(str(fscore)))\n",
    "print(classification_report(y_true,y_predict))\n",
    "cm=confusion_matrix(y_true,y_predict)\n",
    "f,ax=plt.subplots(figsize=(5,5))\n",
    "sns.heatmap(cm,annot=True,linewidth=0.5,linecolor=\"red\",fmt=\".0f\",ax=ax)\n",
    "plt.xlabel(\"y_pred\")\n",
    "plt.ylabel(\"y_true\")\n",
    "plt.show()"
   ]
  },
  {
   "cell_type": "markdown",
   "metadata": {},
   "source": [
    "#### Hyperparameter optimization (HPO) of decision tree using Bayesian optimization with tree-based Parzen estimator (BO-TPE)\n",
    "Based on the GitHub repo for HPO: https://github.com/LiYangHart/Hyperparameter-Optimization-of-Machine-Learning-Algorithms"
   ]
  },
  {
   "cell_type": "code",
   "execution_count": 47,
   "metadata": {},
   "outputs": [
    {
     "name": "stdout",
     "output_type": "stream",
     "text": [
      "100%|██████████| 50/50 [00:00<00:00, 67.57trial/s, best loss: -0.9922308546059934]\n",
      "Decision tree: Hyperopt estimated optimum {'criterion': np.int64(0), 'max_depth': np.float64(9.0), 'max_features': np.float64(17.0), 'min_samples_leaf': np.float64(4.0), 'min_samples_split': np.float64(3.0)}\n"
     ]
    }
   ],
   "source": [
    "# Hyperparameter optimization of decision tree\n",
    "from hyperopt import hp, fmin, tpe, STATUS_OK, Trials\n",
    "from sklearn.model_selection import cross_val_score, StratifiedKFold\n",
    "# Define the objective function\n",
    "def objective(params):\n",
    "    params = {\n",
    "        'max_depth': int(params['max_depth']),\n",
    "        'max_features': int(params['max_features']),\n",
    "        \"min_samples_split\":int(params['min_samples_split']),\n",
    "        \"min_samples_leaf\":int(params['min_samples_leaf']),\n",
    "        \"criterion\":str(params['criterion'])\n",
    "    }\n",
    "    clf = DecisionTreeClassifier( **params)\n",
    "    clf.fit(X_train,y_train)\n",
    "    score=clf.score(X_test,y_test)\n",
    "\n",
    "    return {'loss':-score, 'status': STATUS_OK }\n",
    "# Define the hyperparameter configuration space\n",
    "space = {\n",
    "    'max_depth': hp.quniform('max_depth', 5, 50, 1),\n",
    "    \"max_features\":hp.quniform('max_features', 1, 20, 1),\n",
    "    \"min_samples_split\":hp.quniform('min_samples_split',2,11,1),\n",
    "    \"min_samples_leaf\":hp.quniform('min_samples_leaf',1,11,1),\n",
    "    \"criterion\":hp.choice('criterion',['gini','entropy'])\n",
    "}\n",
    "\n",
    "best = fmin(fn=objective,\n",
    "            space=space,\n",
    "            algo=tpe.suggest,\n",
    "            max_evals=50)\n",
    "print(\"Decision tree: Hyperopt estimated optimum {}\".format(best))"
   ]
  },
  {
   "cell_type": "code",
   "execution_count": 48,
   "metadata": {},
   "outputs": [
    {
     "name": "stdout",
     "output_type": "stream",
     "text": [
      "Accuracy of DT: 0.9866814650388457\n",
      "Precision of DT: 0.9860250275067145\n",
      "Recall of DT: 0.9866814650388457\n",
      "F1-score of DT: 0.98614279082704\n",
      "              precision    recall  f1-score   support\n",
      "\n",
      "           0       0.81      0.68      0.74        25\n",
      "           1       0.99      0.99      0.99       393\n",
      "           2       1.00      1.00      1.00         4\n",
      "           3       1.00      0.96      0.98        24\n",
      "           4       0.88      1.00      0.93         7\n",
      "           5       1.00      1.00      1.00        12\n",
      "           6       0.99      1.00      0.99       436\n",
      "\n",
      "    accuracy                           0.99       901\n",
      "   macro avg       0.95      0.95      0.95       901\n",
      "weighted avg       0.99      0.99      0.99       901\n",
      "\n"
     ]
    },
    {
     "data": {
      "image/png": "[encoded data removed]",
      "text/plain": [
       "<Figure size 500x500 with 2 Axes>"
      ]
     },
     "metadata": {},
     "output_type": "display_data"
    }
   ],
   "source": [
    "dt_hpo = DecisionTreeClassifier(min_samples_leaf = 2, max_depth = 47, min_samples_split = 3, max_features = 19, criterion = 'gini')\n",
    "dt_hpo.fit(X_train,y_train)\n",
    "dt_score=dt_hpo.score(X_test,y_test)\n",
    "y_predict=dt_hpo.predict(X_test)\n",
    "y_true=y_test\n",
    "print('Accuracy of DT: '+ str(dt_score))\n",
    "precision,recall,fscore,none= precision_recall_fscore_support(y_true, y_predict, average='weighted') \n",
    "print('Precision of DT: '+(str(precision)))\n",
    "print('Recall of DT: '+(str(recall)))\n",
    "print('F1-score of DT: '+(str(fscore)))\n",
    "print(classification_report(y_true,y_predict))\n",
    "cm=confusion_matrix(y_true,y_predict)\n",
    "f,ax=plt.subplots(figsize=(5,5))\n",
    "sns.heatmap(cm,annot=True,linewidth=0.5,linecolor=\"red\",fmt=\".0f\",ax=ax)\n",
    "plt.xlabel(\"y_pred\")\n",
    "plt.ylabel(\"y_true\")\n",
    "plt.show()"
   ]
  },
  {
   "cell_type": "code",
   "execution_count": 49,
   "metadata": {
    "collapsed": true
   },
   "outputs": [],
   "source": [
    "dt_train=dt_hpo.predict(X_train)\n",
    "dt_test=dt_hpo.predict(X_test)"
   ]
  },
  {
   "cell_type": "markdown",
   "metadata": {},
   "source": [
    "#### Apply ET"
   ]
  },
  {
   "cell_type": "code",
   "execution_count": 50,
   "metadata": {},
   "outputs": [
    {
     "name": "stdout",
     "output_type": "stream",
     "text": [
      "Accuracy of ET: 0.9922308546059934\n",
      "Precision of ET: 0.9927899039365308\n",
      "Recall of ET: 0.9922308546059934\n",
      "F1-score of ET: 0.9917538990459019\n",
      "              precision    recall  f1-score   support\n",
      "\n",
      "           0       1.00      0.72      0.84        25\n",
      "           1       0.99      1.00      1.00       393\n",
      "           2       1.00      1.00      1.00         4\n",
      "           3       0.96      1.00      0.98        24\n",
      "           4       0.78      1.00      0.88         7\n",
      "           5       1.00      1.00      1.00        12\n",
      "           6       1.00      1.00      1.00       436\n",
      "\n",
      "    accuracy                           0.99       901\n",
      "   macro avg       0.96      0.96      0.96       901\n",
      "weighted avg       0.99      0.99      0.99       901\n",
      "\n"
     ]
    },
    {
     "data": {
      "image/png": "[encoded data removed]",
      "text/plain": [
       "<Figure size 500x500 with 2 Axes>"
      ]
     },
     "metadata": {},
     "output_type": "display_data"
    }
   ],
   "source": [
    "et = ExtraTreesClassifier(random_state = 0)\n",
    "et.fit(X_train,y_train) \n",
    "et_score=et.score(X_test,y_test)\n",
    "y_predict=et.predict(X_test)\n",
    "y_true=y_test\n",
    "print('Accuracy of ET: '+ str(et_score))\n",
    "precision,recall,fscore,none= precision_recall_fscore_support(y_true, y_predict, average='weighted') \n",
    "print('Precision of ET: '+(str(precision)))\n",
    "print('Recall of ET: '+(str(recall)))\n",
    "print('F1-score of ET: '+(str(fscore)))\n",
    "print(classification_report(y_true,y_predict))\n",
    "cm=confusion_matrix(y_true,y_predict)\n",
    "f,ax=plt.subplots(figsize=(5,5))\n",
    "sns.heatmap(cm,annot=True,linewidth=0.5,linecolor=\"red\",fmt=\".0f\",ax=ax)\n",
    "plt.xlabel(\"y_pred\")\n",
    "plt.ylabel(\"y_true\")\n",
    "plt.show()"
   ]
  },
  {
   "cell_type": "markdown",
   "metadata": {},
   "source": [
    "#### Hyperparameter optimization (HPO) of extra trees using Bayesian optimization with tree-based Parzen estimator (BO-TPE)\n",
    "Based on the GitHub repo for HPO: https://github.com/LiYangHart/Hyperparameter-Optimization-of-Machine-Learning-Algorithms"
   ]
  },
  {
   "cell_type": "code",
   "execution_count": 51,
   "metadata": {},
   "outputs": [
    {
     "name": "stdout",
     "output_type": "stream",
     "text": [
      "100%|██████████| 20/20 [00:03<00:00,  6.46trial/s, best loss: -0.9866814650388457]\n",
      "Random Forest: Hyperopt estimated optimum {'criterion': np.int64(0), 'max_depth': np.float64(41.0), 'max_features': np.float64(19.0), 'min_samples_leaf': np.float64(4.0), 'min_samples_split': np.float64(8.0), 'n_estimators': np.float64(112.0)}\n"
     ]
    }
   ],
   "source": [
    "# Hyperparameter optimization of extra trees\n",
    "from hyperopt import hp, fmin, tpe, STATUS_OK, Trials\n",
    "from sklearn.model_selection import cross_val_score, StratifiedKFold\n",
    "# Define the objective function\n",
    "def objective(params):\n",
    "    params = {\n",
    "        'n_estimators': int(params['n_estimators']), \n",
    "        'max_depth': int(params['max_depth']),\n",
    "        'max_features': int(params['max_features']),\n",
    "        \"min_samples_split\":int(params['min_samples_split']),\n",
    "        \"min_samples_leaf\":int(params['min_samples_leaf']),\n",
    "        \"criterion\":str(params['criterion'])\n",
    "    }\n",
    "    clf = ExtraTreesClassifier( **params)\n",
    "    clf.fit(X_train,y_train)\n",
    "    score=clf.score(X_test,y_test)\n",
    "\n",
    "    return {'loss':-score, 'status': STATUS_OK }\n",
    "# Define the hyperparameter configuration space\n",
    "space = {\n",
    "    'n_estimators': hp.quniform('n_estimators', 10, 200, 1),\n",
    "    'max_depth': hp.quniform('max_depth', 5, 50, 1),\n",
    "    \"max_features\":hp.quniform('max_features', 1, 20, 1),\n",
    "    \"min_samples_split\":hp.quniform('min_samples_split',2,11,1),\n",
    "    \"min_samples_leaf\":hp.quniform('min_samples_leaf',1,11,1),\n",
    "    \"criterion\":hp.choice('criterion',['gini','entropy'])\n",
    "}\n",
    "\n",
    "best = fmin(fn=objective,\n",
    "            space=space,\n",
    "            algo=tpe.suggest,\n",
    "            max_evals=20)\n",
    "print(\"Random Forest: Hyperopt estimated optimum {}\".format(best))"
   ]
  },
  {
   "cell_type": "code",
   "execution_count": 52,
   "metadata": {},
   "outputs": [
    {
     "name": "stdout",
     "output_type": "stream",
     "text": [
      "Accuracy of ET: 0.9911209766925638\n",
      "Precision of ET: 0.9916940112511243\n",
      "Recall of ET: 0.9911209766925638\n",
      "F1-score of ET: 0.9904342853177587\n",
      "              precision    recall  f1-score   support\n",
      "\n",
      "           0       1.00      0.68      0.81        25\n",
      "           1       0.99      1.00      1.00       393\n",
      "           2       1.00      1.00      1.00         4\n",
      "           3       0.96      1.00      0.98        24\n",
      "           4       0.78      1.00      0.88         7\n",
      "           5       1.00      1.00      1.00        12\n",
      "           6       1.00      1.00      1.00       436\n",
      "\n",
      "    accuracy                           0.99       901\n",
      "   macro avg       0.96      0.95      0.95       901\n",
      "weighted avg       0.99      0.99      0.99       901\n",
      "\n"
     ]
    },
    {
     "data": {
      "image/png": "[encoded data removed]",
      "text/plain": [
       "<Figure size 500x500 with 2 Axes>"
      ]
     },
     "metadata": {},
     "output_type": "display_data"
    }
   ],
   "source": [
    "et_hpo = ExtraTreesClassifier(n_estimators = 53, min_samples_leaf = 1, max_depth = 31, min_samples_split = 5, max_features = 20, criterion = 'entropy')\n",
    "et_hpo.fit(X_train,y_train) \n",
    "et_score=et_hpo.score(X_test,y_test)\n",
    "y_predict=et_hpo.predict(X_test)\n",
    "y_true=y_test\n",
    "print('Accuracy of ET: '+ str(et_score))\n",
    "precision,recall,fscore,none= precision_recall_fscore_support(y_true, y_predict, average='weighted') \n",
    "print('Precision of ET: '+(str(precision)))\n",
    "print('Recall of ET: '+(str(recall)))\n",
    "print('F1-score of ET: '+(str(fscore)))\n",
    "print(classification_report(y_true,y_predict))\n",
    "cm=confusion_matrix(y_true,y_predict)\n",
    "f,ax=plt.subplots(figsize=(5,5))\n",
    "sns.heatmap(cm,annot=True,linewidth=0.5,linecolor=\"red\",fmt=\".0f\",ax=ax)\n",
    "plt.xlabel(\"y_pred\")\n",
    "plt.ylabel(\"y_true\")\n",
    "plt.show()"
   ]
  },
  {
   "cell_type": "code",
   "execution_count": 53,
   "metadata": {
    "collapsed": true
   },
   "outputs": [],
   "source": [
    "et_train=et_hpo.predict(X_train)\n",
    "et_test=et_hpo.predict(X_test)"
   ]
  },
  {
   "cell_type": "markdown",
   "metadata": {},
   "source": [
    "### Apply Stacking\n",
    "The ensemble model that combines the four ML models (DT, RF, ET, XGBoost)"
   ]
  },
  {
   "cell_type": "code",
   "execution_count": 54,
   "metadata": {},
   "outputs": [
    {
     "data": {
      "text/html": [
       "<div>\n",
       "<style scoped>\n",
       "    .dataframe tbody tr th:only-of-type {\n",
       "        vertical-align: middle;\n",
       "    }\n",
       "\n",
       "    .dataframe tbody tr th {\n",
       "        vertical-align: top;\n",
       "    }\n",
       "\n",
       "    .dataframe thead th {\n",
       "        text-align: right;\n",
       "    }\n",
       "</style>\n",
       "<table border=\"1\" class=\"dataframe\">\n",
       "  <thead>\n",
       "    <tr style=\"text-align: right;\">\n",
       "      <th></th>\n",
       "      <th>DecisionTree</th>\n",
       "      <th>RandomForest</th>\n",
       "      <th>ExtraTrees</th>\n",
       "      <th>XgBoost</th>\n",
       "    </tr>\n",
       "  </thead>\n",
       "  <tbody>\n",
       "    <tr>\n",
       "      <th>0</th>\n",
       "      <td>1</td>\n",
       "      <td>1</td>\n",
       "      <td>1</td>\n",
       "      <td>1</td>\n",
       "    </tr>\n",
       "    <tr>\n",
       "      <th>1</th>\n",
       "      <td>1</td>\n",
       "      <td>1</td>\n",
       "      <td>1</td>\n",
       "      <td>1</td>\n",
       "    </tr>\n",
       "    <tr>\n",
       "      <th>2</th>\n",
       "      <td>1</td>\n",
       "      <td>1</td>\n",
       "      <td>1</td>\n",
       "      <td>1</td>\n",
       "    </tr>\n",
       "    <tr>\n",
       "      <th>3</th>\n",
       "      <td>6</td>\n",
       "      <td>6</td>\n",
       "      <td>6</td>\n",
       "      <td>6</td>\n",
       "    </tr>\n",
       "    <tr>\n",
       "      <th>4</th>\n",
       "      <td>3</td>\n",
       "      <td>3</td>\n",
       "      <td>3</td>\n",
       "      <td>3</td>\n",
       "    </tr>\n",
       "  </tbody>\n",
       "</table>\n",
       "</div>"
      ],
      "text/plain": [
       "   DecisionTree  RandomForest  ExtraTrees  XgBoost\n",
       "0             1             1           1        1\n",
       "1             1             1           1        1\n",
       "2             1             1           1        1\n",
       "3             6             6           6        6\n",
       "4             3             3           3        3"
      ]
     },
     "execution_count": 54,
     "metadata": {},
     "output_type": "execute_result"
    }
   ],
   "source": [
    "base_predictions_train = pd.DataFrame( {\n",
    "    'DecisionTree': dt_train.ravel(),\n",
    "        'RandomForest': rf_train.ravel(),\n",
    "     'ExtraTrees': et_train.ravel(),\n",
    "     'XgBoost': xg_train.ravel(),\n",
    "    })\n",
    "base_predictions_train.head(5)"
   ]
  },
  {
   "cell_type": "code",
   "execution_count": 55,
   "metadata": {},
   "outputs": [],
   "source": [
    "dt_train=dt_train.reshape(-1, 1)\n",
    "et_train=et_train.reshape(-1, 1)\n",
    "rf_train=rf_train.reshape(-1, 1)\n",
    "xg_train=xg_train.reshape(-1, 1)\n",
    "dt_test=dt_test.reshape(-1, 1)\n",
    "et_test=et_test.reshape(-1, 1)\n",
    "rf_test=rf_test.reshape(-1, 1)\n",
    "xg_test=xg_test.reshape(-1, 1)"
   ]
  },
  {
   "cell_type": "code",
   "execution_count": 56,
   "metadata": {},
   "outputs": [
    {
     "data": {
      "text/plain": [
       "(5557, 1)"
      ]
     },
     "execution_count": 56,
     "metadata": {},
     "output_type": "execute_result"
    }
   ],
   "source": [
    "dt_train.shape"
   ]
  },
  {
   "cell_type": "code",
   "execution_count": 57,
   "metadata": {},
   "outputs": [],
   "source": [
    "x_train = np.concatenate(( dt_train, et_train, rf_train, xg_train), axis=1)\n",
    "x_test = np.concatenate(( dt_test, et_test, rf_test, xg_test), axis=1)"
   ]
  },
  {
   "cell_type": "code",
   "execution_count": 58,
   "metadata": {},
   "outputs": [
    {
     "name": "stdout",
     "output_type": "stream",
     "text": [
      "Accuracy of Stacking: 0.9900110987791343\n",
      "Precision of Stacking: 0.989959134338667\n",
      "Recall of Stacking: 0.9900110987791343\n",
      "F1-score of Stacking: 0.9897262498684261\n",
      "              precision    recall  f1-score   support\n",
      "\n",
      "           0       0.90      0.76      0.83        25\n",
      "           1       0.99      0.99      0.99       393\n",
      "           2       0.80      1.00      0.89         4\n",
      "           3       0.96      0.96      0.96        24\n",
      "           4       0.88      1.00      0.93         7\n",
      "           5       1.00      1.00      1.00        12\n",
      "           6       1.00      1.00      1.00       436\n",
      "\n",
      "    accuracy                           0.99       901\n",
      "   macro avg       0.93      0.96      0.94       901\n",
      "weighted avg       0.99      0.99      0.99       901\n",
      "\n"
     ]
    },
    {
     "data": {
      "image/png": "[encoded data removed]",
      "text/plain": [
       "<Figure size 500x500 with 2 Axes>"
      ]
     },
     "metadata": {},
     "output_type": "display_data"
    }
   ],
   "source": [
    "stk = xgb.XGBClassifier().fit(x_train, y_train)\n",
    "y_predict=stk.predict(x_test)\n",
    "y_true=y_test\n",
    "stk_score=accuracy_score(y_true,y_predict)\n",
    "print('Accuracy of Stacking: '+ str(stk_score))\n",
    "precision,recall,fscore,none= precision_recall_fscore_support(y_true, y_predict, average='weighted') \n",
    "print('Precision of Stacking: '+(str(precision)))\n",
    "print('Recall of Stacking: '+(str(recall)))\n",
    "print('F1-score of Stacking: '+(str(fscore)))\n",
    "print(classification_report(y_true,y_predict))\n",
    "cm=confusion_matrix(y_true,y_predict)\n",
    "f,ax=plt.subplots(figsize=(5,5))\n",
    "sns.heatmap(cm,annot=True,linewidth=0.5,linecolor=\"red\",fmt=\".0f\",ax=ax)\n",
    "plt.xlabel(\"y_pred\")\n",
    "plt.ylabel(\"y_true\")\n",
    "plt.show()"
   ]
  },
  {
   "cell_type": "markdown",
   "metadata": {},
   "source": [
    "#### Hyperparameter optimization (HPO) of the stacking ensemble model (XGBoost) using Bayesian optimization with tree-based Parzen estimator (BO-TPE)\n",
    "Based on the GitHub repo for HPO: https://github.com/LiYangHart/Hyperparameter-Optimization-of-Machine-Learning-Algorithms"
   ]
  },
  {
   "cell_type": "code",
   "execution_count": 59,
   "metadata": {},
   "outputs": [
    {
     "name": "stdout",
     "output_type": "stream",
     "text": [
      "100%|██████████| 20/20 [00:04<00:00,  4.53trial/s, best loss: -0.9933407325194229]\n",
      "XGBoost: Hyperopt estimated optimum {'learning_rate': np.float64(-0.24445983040715394), 'max_depth': np.float64(87.0), 'n_estimators': np.float64(15.0)}\n"
     ]
    }
   ],
   "source": [
    "from hyperopt import hp, fmin, tpe, STATUS_OK, Trials\n",
    "from sklearn.model_selection import cross_val_score, StratifiedKFold\n",
    "def objective(params):\n",
    "    params = {\n",
    "        'n_estimators': int(params['n_estimators']), \n",
    "        'max_depth': int(params['max_depth']),\n",
    "        'learning_rate':  abs(float(params['learning_rate'])),\n",
    "\n",
    "    }\n",
    "    clf = xgb.XGBClassifier( **params)\n",
    "    clf.fit(x_train, y_train)\n",
    "    y_pred = clf.predict(x_test)\n",
    "    score = accuracy_score(y_test, y_pred)\n",
    "\n",
    "    return {'loss':-score, 'status': STATUS_OK }\n",
    "\n",
    "space = {\n",
    "    'n_estimators': hp.quniform('n_estimators', 10, 100, 5),\n",
    "    'max_depth': hp.quniform('max_depth', 4, 100, 1),\n",
    "    'learning_rate': hp.normal('learning_rate', 0.01, 0.9),\n",
    "}\n",
    "\n",
    "best = fmin(fn=objective,\n",
    "            space=space,\n",
    "            algo=tpe.suggest,\n",
    "            max_evals=20)\n",
    "print(\"XGBoost: Hyperopt estimated optimum {}\".format(best))"
   ]
  },
  {
   "cell_type": "code",
   "execution_count": 60,
   "metadata": {},
   "outputs": [
    {
     "name": "stdout",
     "output_type": "stream",
     "text": [
      "Accuracy of XGBoost: 0.9911209766925638\n",
      "Precision of XGBoost: 0.9908914317859476\n",
      "Recall of XGBoost: 0.9911209766925638\n",
      "F1-score of XGBoost: 0.9907857931826071\n",
      "              precision    recall  f1-score   support\n",
      "\n",
      "           0       0.90      0.76      0.83        25\n",
      "           1       0.99      0.99      0.99       393\n",
      "           2       1.00      1.00      1.00         4\n",
      "           3       0.96      1.00      0.98        24\n",
      "           4       0.88      1.00      0.93         7\n",
      "           5       1.00      1.00      1.00        12\n",
      "           6       1.00      1.00      1.00       436\n",
      "\n",
      "    accuracy                           0.99       901\n",
      "   macro avg       0.96      0.96      0.96       901\n",
      "weighted avg       0.99      0.99      0.99       901\n",
      "\n"
     ]
    },
    {
     "data": {
      "image/png": "[encoded data removed]",
      "text/plain": [
       "<Figure size 500x500 with 2 Axes>"
      ]
     },
     "metadata": {},
     "output_type": "display_data"
    }
   ],
   "source": [
    "xg = xgb.XGBClassifier(learning_rate= 0.19229249758051492, n_estimators = 30, max_depth = 36)\n",
    "xg.fit(x_train,y_train)\n",
    "xg_score=xg.score(x_test,y_test)\n",
    "y_predict=xg.predict(x_test)\n",
    "y_true=y_test\n",
    "print('Accuracy of XGBoost: '+ str(xg_score))\n",
    "precision,recall,fscore,none= precision_recall_fscore_support(y_true, y_predict, average='weighted') \n",
    "print('Precision of XGBoost: '+(str(precision)))\n",
    "print('Recall of XGBoost: '+(str(recall)))\n",
    "print('F1-score of XGBoost: '+(str(fscore)))\n",
    "print(classification_report(y_true,y_predict))\n",
    "cm=confusion_matrix(y_true,y_predict)\n",
    "f,ax=plt.subplots(figsize=(5,5))\n",
    "sns.heatmap(cm,annot=True,linewidth=0.5,linecolor=\"red\",fmt=\".0f\",ax=ax)\n",
    "plt.xlabel(\"y_pred\")\n",
    "plt.ylabel(\"y_true\")\n",
    "plt.show()"
   ]
  },
  {
   "cell_type": "markdown",
   "metadata": {
    "collapsed": true
   },
   "source": [
    "## Anomaly-based IDS"
   ]
  },
  {
   "cell_type": "markdown",
   "metadata": {},
   "source": [
    "### Generate the port-scan datasets for unknown attack detection"
   ]
  },
  {
   "cell_type": "code",
   "execution_count": 61,
   "metadata": {
    "collapsed": true
   },
   "outputs": [],
   "source": [
    "df=pd.read_csv('./data/CICIDS2017_sample_km.csv')"
   ]
  },
  {
   "cell_type": "code",
   "execution_count": 62,
   "metadata": {},
   "outputs": [
    {
     "data": {
      "text/plain": [
       "Label\n",
       "6    2180\n",
       "1    1966\n",
       "0     122\n",
       "3     120\n",
       "5      59\n",
       "4      36\n",
       "2      20\n",
       "Name: count, dtype: int64"
      ]
     },
     "execution_count": 62,
     "metadata": {},
     "output_type": "execute_result"
    }
   ],
   "source": [
    "df.Label.value_counts()"
   ]
  },
  {
   "cell_type": "code",
   "execution_count": 63,
   "metadata": {
    "collapsed": true
   },
   "outputs": [],
   "source": [
    "df1 = df[df['Label'] != 5]\n",
    "df1['Label'][df1['Label'] > 0] = 1\n",
    "df1.to_csv('./data/CICIDS2017_sample_km_without_portscan.csv',index=0)"
   ]
  },
  {
   "cell_type": "code",
   "execution_count": 64,
   "metadata": {
    "collapsed": true
   },
   "outputs": [],
   "source": [
    "df2 = df[df['Label'] == 5]\n",
    "df2['Label'][df2['Label'] == 5] = 1\n",
    "df2.to_csv('./data/CICIDS2017_sample_km_portscan.csv',index=0)"
   ]
  },
  {
   "cell_type": "markdown",
   "metadata": {},
   "source": [
    "### Read the generated datasets for unknown attack detection"
   ]
  },
  {
   "cell_type": "code",
   "execution_count": 65,
   "metadata": {
    "collapsed": true
   },
   "outputs": [],
   "source": [
    "df1 = pd.read_csv('./data/CICIDS2017_sample_km_without_portscan.csv')\n",
    "df2 = pd.read_csv('./data/CICIDS2017_sample_km_portscan.csv')"
   ]
  },
  {
   "cell_type": "code",
   "execution_count": 66,
   "metadata": {},
   "outputs": [],
   "source": [
    "features = df1.drop(['Label'],axis=1).dtypes[df1.dtypes != 'object'].index\n",
    "df1[features] = df1[features].apply(\n",
    "    lambda x: (x - x.mean()) / (x.std()))\n",
    "df2[features] = df2[features].apply(\n",
    "    lambda x: (x - x.mean()) / (x.std()))\n",
    "df1 = df1.fillna(0)\n",
    "df2 = df2.fillna(0)"
   ]
  },
  {
   "cell_type": "code",
   "execution_count": 67,
   "metadata": {},
   "outputs": [
    {
     "data": {
      "text/plain": [
       "Label\n",
       "1    4322\n",
       "0     122\n",
       "Name: count, dtype: int64"
      ]
     },
     "execution_count": 67,
     "metadata": {},
     "output_type": "execute_result"
    }
   ],
   "source": [
    "df1.Label.value_counts()"
   ]
  },
  {
   "cell_type": "code",
   "execution_count": 68,
   "metadata": {
    "scrolled": true
   },
   "outputs": [
    {
     "data": {
      "text/plain": [
       "Label\n",
       "1    59\n",
       "Name: count, dtype: int64"
      ]
     },
     "execution_count": 68,
     "metadata": {},
     "output_type": "execute_result"
    }
   ],
   "source": [
    "df2.Label.value_counts()"
   ]
  },
  {
   "cell_type": "code",
   "execution_count": 69,
   "metadata": {},
   "outputs": [],
   "source": [
    "df2p=df1[df1['Label']==0]\n",
    "df2pp=df2p.sample(n=None, frac=1255/18225, replace=False, weights=None, random_state=None, axis=0)\n",
    "df2=pd.concat([df2, df2pp])"
   ]
  },
  {
   "cell_type": "code",
   "execution_count": 70,
   "metadata": {},
   "outputs": [
    {
     "data": {
      "text/plain": [
       "Label\n",
       "1    59\n",
       "0     8\n",
       "Name: count, dtype: int64"
      ]
     },
     "execution_count": 70,
     "metadata": {},
     "output_type": "execute_result"
    }
   ],
   "source": [
    "df2.Label.value_counts()"
   ]
  },
  {
   "cell_type": "code",
   "execution_count": 71,
   "metadata": {
    "collapsed": true
   },
   "outputs": [],
   "source": [
    "#df = df1.append(df2)\n",
    "df = pd.concat([df1, df2], ignore_index=True)"
   ]
  },
  {
   "cell_type": "code",
   "execution_count": 72,
   "metadata": {},
   "outputs": [
    {
     "data": {
      "text/plain": [
       "1    4381\n",
       "0     130\n",
       "Name: count, dtype: int64"
      ]
     },
     "execution_count": 72,
     "metadata": {},
     "output_type": "execute_result"
    }
   ],
   "source": [
    "X = df.drop(['Label'],axis=1) .values\n",
    "y = df.iloc[:, -1].values.reshape(-1,1)\n",
    "y=np.ravel(y)\n",
    "pd.Series(y).value_counts()"
   ]
  },
  {
   "cell_type": "markdown",
   "metadata": {},
   "source": [
    "### Feature engineering (IG, FCBF, and KPCA)"
   ]
  },
  {
   "cell_type": "markdown",
   "metadata": {},
   "source": [
    "#### Feature selection by information gain (IG)"
   ]
  },
  {
   "cell_type": "code",
   "execution_count": 73,
   "metadata": {},
   "outputs": [],
   "source": [
    "from sklearn.feature_selection import mutual_info_classif\n",
    "importances = mutual_info_classif(X, y)"
   ]
  },
  {
   "cell_type": "code",
   "execution_count": 74,
   "metadata": {},
   "outputs": [],
   "source": [
    "# calculate the sum of importance scores\n",
    "f_list = sorted(zip(map(lambda x: round(x, 4), importances), features), reverse=True)\n",
    "Sum = 0\n",
    "fs = []\n",
    "for i in range(0, len(f_list)):\n",
    "    Sum = Sum + f_list[i][0]\n",
    "    fs.append(f_list[i][1])"
   ]
  },
  {
   "cell_type": "code",
   "execution_count": 75,
   "metadata": {},
   "outputs": [],
   "source": [
    "# select the important features from top to bottom until the accumulated importance reaches 90%\n",
    "f_list2 = sorted(zip(map(lambda x: round(x, 4), importances/Sum), features), reverse=True)\n",
    "Sum2 = 0\n",
    "fs = []\n",
    "for i in range(0, len(f_list2)):\n",
    "    Sum2 = Sum2 + f_list2[i][0]\n",
    "    fs.append(f_list2[i][1])\n",
    "    if Sum2>=0.9:\n",
    "        break        "
   ]
  },
  {
   "cell_type": "code",
   "execution_count": 76,
   "metadata": {},
   "outputs": [],
   "source": [
    "X_fs = df[fs].values"
   ]
  },
  {
   "cell_type": "code",
   "execution_count": 77,
   "metadata": {},
   "outputs": [
    {
     "data": {
      "text/plain": [
       "(4511, 41)"
      ]
     },
     "execution_count": 77,
     "metadata": {},
     "output_type": "execute_result"
    }
   ],
   "source": [
    "X_fs.shape"
   ]
  },
  {
   "cell_type": "code",
   "execution_count": 78,
   "metadata": {},
   "outputs": [
    {
     "data": {
      "text/plain": [
       "array([[-1.23173956, -0.06319079, -0.06319079, ..., -0.21544492,\n",
       "        -0.04062652,  4.69307149],\n",
       "       [-1.25337689, -0.06684058, -0.06684058, ..., -0.08010518,\n",
       "        -0.04067126, -0.75998859],\n",
       "       [-0.60874187, -0.06747533, -0.06747533, ..., -0.21539983,\n",
       "        -0.04049229, -0.5281689 ],\n",
       "       ...,\n",
       "       [-1.25337689, -0.0672373 , -0.0672373 , ..., -0.2148105 ,\n",
       "         1.31654461, -0.73464979],\n",
       "       [-1.2436991 , -0.06781915, -0.06781915, ..., -0.02063712,\n",
       "        -0.03624176, -0.75998523],\n",
       "       [-1.25337689, -0.06678769, -0.06678769, ..., -0.02910709,\n",
       "        -0.04053703, -0.76001037]])"
      ]
     },
     "execution_count": 78,
     "metadata": {},
     "output_type": "execute_result"
    }
   ],
   "source": [
    "X_fs"
   ]
  },
  {
   "cell_type": "markdown",
   "metadata": {},
   "source": [
    "#### Feature selection by Fast Correlation Based Filter (FCBF)\n",
    "\n",
    "The module is imported from the GitHub repo: https://github.com/SantiagoEG/FCBF_module"
   ]
  },
  {
   "cell_type": "code",
   "execution_count": 79,
   "metadata": {
    "collapsed": true
   },
   "outputs": [],
   "source": [
    "from FCBF_module import FCBF, FCBFK, FCBFiP, get_i\n",
    "fcbf = FCBFK(k = 20)\n",
    "#fcbf.fit(X_fs, y)"
   ]
  },
  {
   "cell_type": "code",
   "execution_count": 80,
   "metadata": {},
   "outputs": [],
   "source": [
    "X_fss = fcbf.fit_transform(X_fs,y)"
   ]
  },
  {
   "cell_type": "code",
   "execution_count": 81,
   "metadata": {},
   "outputs": [
    {
     "data": {
      "text/plain": [
       "(4511, 20)"
      ]
     },
     "execution_count": 81,
     "metadata": {},
     "output_type": "execute_result"
    }
   ],
   "source": [
    "X_fss.shape"
   ]
  },
  {
   "cell_type": "code",
   "execution_count": 82,
   "metadata": {},
   "outputs": [
    {
     "data": {
      "text/plain": [
       "array([[-0.32075246, -0.31975867, -0.2268941 , ...,  3.05338326,\n",
       "        -0.03135585, -0.03135585],\n",
       "       [ 7.1782786 ,  7.18163654,  7.03827468, ..., -0.14460493,\n",
       "        -0.09060296, -0.09060296],\n",
       "       [-0.32075246, -0.31975867, -0.2268941 , ...,  6.3131629 ,\n",
       "        -0.0880818 , -0.0880818 ],\n",
       "       ...,\n",
       "       [ 8.5970142 ,  8.60081942,  4.1762385 , ..., -0.1665128 ,\n",
       "        -0.1044693 , -0.1044693 ],\n",
       "       [-0.32075246, -0.31975867, -0.2268941 , ..., -0.20021723,\n",
       "        -0.10068757, -0.10068757],\n",
       "       [ 7.58363163,  7.58711736,  8.50598555, ..., -0.13337012,\n",
       "        -0.09060296, -0.09060296]])"
      ]
     },
     "execution_count": 82,
     "metadata": {},
     "output_type": "execute_result"
    }
   ],
   "source": [
    "X_fss"
   ]
  },
  {
   "cell_type": "markdown",
   "metadata": {},
   "source": [
    "####  kernel principal component analysis (KPCA)"
   ]
  },
  {
   "cell_type": "code",
   "execution_count": 83,
   "metadata": {},
   "outputs": [],
   "source": [
    "from sklearn.decomposition import KernelPCA\n",
    "kpca = KernelPCA(n_components = 10, kernel = 'rbf')\n",
    "kpca.fit(X_fss, y)\n",
    "X_kpca = kpca.transform(X_fss)\n",
    "\n",
    "# from sklearn.decomposition import PCA\n",
    "# kpca = PCA(n_components = 10)\n",
    "# kpca.fit(X_fss, y)\n",
    "# X_kpca = kpca.transform(X_fss)"
   ]
  },
  {
   "cell_type": "markdown",
   "metadata": {},
   "source": [
    "### Train-test split after feature selection"
   ]
  },
  {
   "cell_type": "code",
   "execution_count": 84,
   "metadata": {
    "collapsed": true
   },
   "outputs": [],
   "source": [
    "X_train = X_kpca[:len(df1)]\n",
    "y_train = y[:len(df1)]\n",
    "X_test = X_kpca[len(df1):]\n",
    "y_test = y[len(df1):]"
   ]
  },
  {
   "cell_type": "markdown",
   "metadata": {},
   "source": [
    "### Solve class-imbalance by SMOTE"
   ]
  },
  {
   "cell_type": "code",
   "execution_count": 85,
   "metadata": {},
   "outputs": [
    {
     "data": {
      "text/plain": [
       "1    4322\n",
       "0     122\n",
       "Name: count, dtype: int64"
      ]
     },
     "execution_count": 85,
     "metadata": {},
     "output_type": "execute_result"
    }
   ],
   "source": [
    "pd.Series(y_train).value_counts()"
   ]
  },
  {
   "cell_type": "code",
   "execution_count": 86,
   "metadata": {},
   "outputs": [],
   "source": [
    "from imblearn.over_sampling import SMOTE\n",
    "smote=SMOTE(n_jobs=-1,sampling_strategy={1:18225})\n",
    "X_train, y_train = smote.fit_resample(X_train, y_train)"
   ]
  },
  {
   "cell_type": "code",
   "execution_count": 87,
   "metadata": {},
   "outputs": [
    {
     "data": {
      "text/plain": [
       "1    18225\n",
       "0      122\n",
       "Name: count, dtype: int64"
      ]
     },
     "execution_count": 87,
     "metadata": {},
     "output_type": "execute_result"
    }
   ],
   "source": [
    "pd.Series(y_train).value_counts()"
   ]
  },
  {
   "cell_type": "code",
   "execution_count": 88,
   "metadata": {},
   "outputs": [
    {
     "data": {
      "text/plain": [
       "1    59\n",
       "0     8\n",
       "Name: count, dtype: int64"
      ]
     },
     "execution_count": 88,
     "metadata": {},
     "output_type": "execute_result"
    }
   ],
   "source": [
    "pd.Series(y_test).value_counts()"
   ]
  },
  {
   "cell_type": "markdown",
   "metadata": {},
   "source": [
    "### Apply the cluster labeling (CL) k-means method"
   ]
  },
  {
   "cell_type": "code",
   "execution_count": 89,
   "metadata": {
    "collapsed": true
   },
   "outputs": [],
   "source": [
    "from sklearn.cluster import KMeans\n",
    "from sklearn.cluster import DBSCAN,MeanShift\n",
    "from sklearn.cluster import SpectralClustering,AgglomerativeClustering,AffinityPropagation,Birch,MiniBatchKMeans,MeanShift \n",
    "from sklearn.mixture import GaussianMixture, BayesianGaussianMixture\n",
    "from sklearn.metrics import classification_report\n",
    "from sklearn import metrics"
   ]
  },
  {
   "cell_type": "code",
   "execution_count": 90,
   "metadata": {
    "collapsed": true
   },
   "outputs": [],
   "source": [
    "def CL_kmeans(X_train, X_test, y_train, y_test,n,b=100):\n",
    "    km_cluster = MiniBatchKMeans(n_clusters=n,batch_size=b)\n",
    "    result = km_cluster.fit_predict(X_train)\n",
    "    result2 = km_cluster.predict(X_test)\n",
    "\n",
    "    count=0\n",
    "    a=np.zeros(n)\n",
    "    b=np.zeros(n)\n",
    "    for v in range(0,n):\n",
    "        for i in range(0,len(y_train)):\n",
    "            if result[i]==v:\n",
    "                if y_train[i]==1:\n",
    "                    a[v]=a[v]+1\n",
    "                else:\n",
    "                    b[v]=b[v]+1\n",
    "    list1=[]\n",
    "    list2=[]\n",
    "    for v in range(0,n):\n",
    "        if a[v]<=b[v]:\n",
    "            list1.append(v)\n",
    "        else: \n",
    "            list2.append(v)\n",
    "    for v in range(0,len(y_test)):\n",
    "        if result2[v] in list1:\n",
    "            result2[v]=0\n",
    "        elif result2[v] in list2:\n",
    "            result2[v]=1\n",
    "        else:\n",
    "            print(\"-1\")\n",
    "    print(classification_report(y_test, result2))\n",
    "    cm=confusion_matrix(y_test,result2)\n",
    "    acc=metrics.accuracy_score(y_test,result2)\n",
    "    print(str(acc))\n",
    "    print(cm)"
   ]
  },
  {
   "cell_type": "code",
   "execution_count": 91,
   "metadata": {},
   "outputs": [
    {
     "name": "stdout",
     "output_type": "stream",
     "text": [
      "              precision    recall  f1-score   support\n",
      "\n",
      "           0       0.00      0.00      0.00         8\n",
      "           1       0.88      1.00      0.94        59\n",
      "\n",
      "    accuracy                           0.88        67\n",
      "   macro avg       0.44      0.50      0.47        67\n",
      "weighted avg       0.78      0.88      0.82        67\n",
      "\n",
      "0.8805970149253731\n",
      "[[ 0  8]\n",
      " [ 0 59]]\n"
     ]
    }
   ],
   "source": [
    "CL_kmeans(X_train, X_test, y_train, y_test, 8)"
   ]
  },
  {
   "cell_type": "markdown",
   "metadata": {},
   "source": [
    "### Hyperparameter optimization of CL-k-means\n",
    "Tune \"k\""
   ]
  },
  {
   "cell_type": "code",
   "execution_count": 92,
   "metadata": {
    "scrolled": true
   },
   "outputs": [
    {
     "name": "stdout",
     "output_type": "stream",
     "text": [
      "30 0.4925373134328358\n",
      "43 0.4925373134328358\n",
      "43 0.4925373134328358\n",
      "43 0.4925373134328358\n",
      "32 0.4925373134328358\n",
      "20 0.4925373134328358\n",
      "16 0.4925373134328358\n",
      "5 0.8805970149253731\n",
      "15 0.4925373134328358\n",
      "25 0.4925373134328358\n",
      "4 0.8805970149253731\n",
      "2 0.8805970149253731\n",
      "50 0.4925373134328358\n",
      "7 0.4925373134328358\n",
      "3 0.8805970149253731\n",
      "37 0.4925373134328358\n",
      "46 0.4925373134328358\n",
      "11 0.8805970149253731\n",
      "12 0.9253731343283582\n",
      "8 0.4925373134328358\n",
      "2.4293899536132812\n",
      "Best score=0.9254\n",
      "Best parameters: n_clusters=12\n"
     ]
    }
   ],
   "source": [
    "#Hyperparameter optimization by BO-GP\n",
    "from skopt.space import Real, Integer\n",
    "from skopt.utils import use_named_args\n",
    "from sklearn import metrics\n",
    "\n",
    "space  = [Integer(2, 50, name='n_clusters')]\n",
    "@use_named_args(space)\n",
    "def objective(**params):\n",
    "    km_cluster = MiniBatchKMeans(batch_size=100, **params)\n",
    "    n=params['n_clusters']\n",
    "    \n",
    "    result = km_cluster.fit_predict(X_train)\n",
    "    result2 = km_cluster.predict(X_test)\n",
    "\n",
    "    count=0\n",
    "    a=np.zeros(n)\n",
    "    b=np.zeros(n)\n",
    "    for v in range(0,n):\n",
    "        for i in range(0,len(y_train)):\n",
    "            if result[i]==v:\n",
    "                if y_train[i]==1:\n",
    "                    a[v]=a[v]+1\n",
    "                else:\n",
    "                    b[v]=b[v]+1\n",
    "    list1=[]\n",
    "    list2=[]\n",
    "    for v in range(0,n):\n",
    "        if a[v]<=b[v]:\n",
    "            list1.append(v)\n",
    "        else: \n",
    "            list2.append(v)\n",
    "    for v in range(0,len(y_test)):\n",
    "        if result2[v] in list1:\n",
    "            result2[v]=0\n",
    "        elif result2[v] in list2:\n",
    "            result2[v]=1\n",
    "        else:\n",
    "            print(\"-1\")\n",
    "    cm=metrics.accuracy_score(y_test,result2)\n",
    "    print(str(n)+\" \"+str(cm))\n",
    "    return (1-cm)\n",
    "from skopt import gp_minimize\n",
    "import time\n",
    "t1=time.time()\n",
    "res_gp = gp_minimize(objective, space, n_calls=20, random_state=0)\n",
    "t2=time.time()\n",
    "print(t2-t1)\n",
    "print(\"Best score=%.4f\" % (1-res_gp.fun))\n",
    "print(\"\"\"Best parameters: n_clusters=%d\"\"\" % (res_gp.x[0]))"
   ]
  },
  {
   "cell_type": "code",
   "execution_count": 93,
   "metadata": {},
   "outputs": [
    {
     "name": "stdout",
     "output_type": "stream",
     "text": [
      "3 0.8805970149253731                                  \n",
      "9 0.8805970149253731                                  \n",
      "43 0.9402985074626866                                                            \n",
      "8 0.8805970149253731                                                             \n",
      "4 0.8805970149253731                                                             \n",
      "25 0.4925373134328358                                                            \n",
      "31 0.5373134328358209                                                            \n",
      "36 0.8805970149253731                                                            \n",
      "41 0.5373134328358209                                                            \n",
      "8 0.8805970149253731                                                             \n",
      "45 0.8955223880597015                                                             \n",
      "37 0.4925373134328358                                                             \n",
      "3 0.8805970149253731                                                              \n",
      "3 0.8805970149253731                                                              \n",
      "48 0.5373134328358209                                                             \n",
      "14 0.4925373134328358                                                             \n",
      "22 0.4925373134328358                                                             \n",
      "10 0.8805970149253731                                                             \n",
      "28 0.4925373134328358                                                             \n",
      "19 0.4925373134328358                                                             \n",
      "100%|██████████| 20/20 [00:01<00:00, 15.15trial/s, best loss: 0.05970149253731338]\n",
      "Random Forest: Hyperopt estimated optimum {'n_clusters': np.float64(43.0)}\n"
     ]
    }
   ],
   "source": [
    "#Hyperparameter optimization by BO-TPE\n",
    "from hyperopt import hp, fmin, tpe, STATUS_OK, Trials\n",
    "from sklearn.model_selection import cross_val_score, StratifiedKFold\n",
    "from sklearn.cluster import MiniBatchKMeans\n",
    "from sklearn import metrics\n",
    "\n",
    "def objective(params):\n",
    "    params = {\n",
    "        'n_clusters': int(params['n_clusters']), \n",
    "    }\n",
    "    km_cluster = MiniBatchKMeans(batch_size=100, **params)\n",
    "    n=params['n_clusters']\n",
    "    \n",
    "    result = km_cluster.fit_predict(X_train)\n",
    "    result2 = km_cluster.predict(X_test)\n",
    "\n",
    "    count=0\n",
    "    a=np.zeros(n)\n",
    "    b=np.zeros(n)\n",
    "    for v in range(0,n):\n",
    "        for i in range(0,len(y_train)):\n",
    "            if result[i]==v:\n",
    "                if y_train[i]==1:\n",
    "                    a[v]=a[v]+1\n",
    "                else:\n",
    "                    b[v]=b[v]+1\n",
    "    list1=[]\n",
    "    list2=[]\n",
    "    for v in range(0,n):\n",
    "        if a[v]<=b[v]:\n",
    "            list1.append(v)\n",
    "        else: \n",
    "            list2.append(v)\n",
    "    for v in range(0,len(y_test)):\n",
    "        if result2[v] in list1:\n",
    "            result2[v]=0\n",
    "        elif result2[v] in list2:\n",
    "            result2[v]=1\n",
    "        else:\n",
    "            print(\"-1\")\n",
    "    score=metrics.accuracy_score(y_test,result2)\n",
    "    print(str(params['n_clusters'])+\" \"+str(score))\n",
    "    return {'loss':1-score, 'status': STATUS_OK }\n",
    "space = {\n",
    "    'n_clusters': hp.quniform('n_clusters', 2, 50, 1),\n",
    "}\n",
    "\n",
    "best = fmin(fn=objective,\n",
    "            space=space,\n",
    "            algo=tpe.suggest,\n",
    "            max_evals=20)\n",
    "print(\"Random Forest: Hyperopt estimated optimum {}\".format(best))"
   ]
  },
  {
   "cell_type": "code",
   "execution_count": 94,
   "metadata": {},
   "outputs": [
    {
     "name": "stdout",
     "output_type": "stream",
     "text": [
      "              precision    recall  f1-score   support\n",
      "\n",
      "           0       0.04      0.12      0.06         8\n",
      "           1       0.82      0.54      0.65        59\n",
      "\n",
      "    accuracy                           0.49        67\n",
      "   macro avg       0.43      0.33      0.35        67\n",
      "weighted avg       0.73      0.49      0.58        67\n",
      "\n",
      "0.4925373134328358\n",
      "[[ 1  7]\n",
      " [27 32]]\n"
     ]
    }
   ],
   "source": [
    "CL_kmeans(X_train, X_test, y_train, y_test, 16)"
   ]
  },
  {
   "cell_type": "markdown",
   "metadata": {},
   "source": [
    "### Apply the CL-k-means model with biased classifiers"
   ]
  },
  {
   "cell_type": "code",
   "execution_count": 95,
   "metadata": {
    "collapsed": true
   },
   "outputs": [],
   "source": [
    "# Only a sample code to show the logic. It needs to work on the entire dataset to generate sufficient training samples for biased classifiers\n",
    "def Anomaly_IDS(X_train, X_test, y_train, y_test,n,b=100):\n",
    "    # CL-kmeans\n",
    "    km_cluster = MiniBatchKMeans(n_clusters=n,batch_size=b)\n",
    "    result = km_cluster.fit_predict(X_train)\n",
    "    result2 = km_cluster.predict(X_test)\n",
    "\n",
    "    count=0\n",
    "    a=np.zeros(n)\n",
    "    b=np.zeros(n)\n",
    "    for v in range(0,n):\n",
    "        for i in range(0,len(y_train)):\n",
    "            if result[i]==v:\n",
    "                if y_train[i]==1:\n",
    "                    a[v]=a[v]+1\n",
    "                else:\n",
    "                    b[v]=b[v]+1\n",
    "    list1=[]\n",
    "    list2=[]\n",
    "    for v in range(0,n):\n",
    "        if a[v]<=b[v]:\n",
    "            list1.append(v)\n",
    "        else: \n",
    "            list2.append(v)\n",
    "    for v in range(0,len(y_test)):\n",
    "        if result2[v] in list1:\n",
    "            result2[v]=0\n",
    "        elif result2[v] in list2:\n",
    "            result2[v]=1\n",
    "        else:\n",
    "            print(\"-1\")\n",
    "    print(classification_report(y_test, result2))\n",
    "    cm=confusion_matrix(y_test,result2)\n",
    "    acc=metrics.accuracy_score(y2,result2)\n",
    "    print(str(acc))\n",
    "    print(cm)\n",
    "    \n",
    "    #Biased classifier construction\n",
    "    count=0\n",
    "    print(len(y))\n",
    "    a=np.zeros(n)\n",
    "    b=np.zeros(n)\n",
    "    FNL=[]\n",
    "    FPL=[]\n",
    "    for v in range(0,n):\n",
    "        al=[]\n",
    "        bl=[]\n",
    "        for i in range(0,len(y)):   \n",
    "            if result[i]==v:        \n",
    "                if y[i]==1:        #label 1\n",
    "                    a[v]=a[v]+1\n",
    "                    al.append(i)\n",
    "                else:             #label 0\n",
    "                    b[v]=b[v]+1\n",
    "                    bl.append(i)\n",
    "        if a[v]<=b[v]:\n",
    "            FNL.extend(al)\n",
    "        else:\n",
    "            FPL.extend(bl)\n",
    "        #print(str(v)+\"=\"+str(a[v]/(a[v]+b[v])))\n",
    "        \n",
    "    dffp=df.iloc[FPL, :]\n",
    "    dffn=df.iloc[FNL, :]\n",
    "    dfva0=df[df['Label']==0]\n",
    "    dfva1=df[df['Label']==1]\n",
    "    \n",
    "    dffpp=dfva1.sample(n=None, frac=len(FPL)/dfva1.shape[0], replace=False, weights=None, random_state=None, axis=0)\n",
    "    dffnp=dfva0.sample(n=None, frac=len(FNL)/dfva0.shape[0], replace=False, weights=None, random_state=None, axis=0)\n",
    "    \n",
    "    dffp_f=pd.concat([dffp, dffpp])\n",
    "    dffn_f=pd.concat([dffn, dffnp])\n",
    "    \n",
    "    Xp = dffp_f.drop(['Label'],axis=1)  \n",
    "    yp = dffp_f.iloc[:, -1].values.reshape(-1,1)\n",
    "    yp=np.ravel(yp)\n",
    "\n",
    "    Xn = dffn_f.drop(['Label'],axis=1)  \n",
    "    yn = dffn_f.iloc[:, -1].values.reshape(-1,1)\n",
    "    yn=np.ravel(yn)\n",
    "    \n",
    "    rfp = RandomForestClassifier(random_state = 0)\n",
    "    rfp.fit(Xp,yp)\n",
    "    rfn = RandomForestClassifier(random_state = 0)\n",
    "    rfn.fit(Xn,yn)\n",
    "\n",
    "    dffnn_f=pd.concat([dffn, dffnp])\n",
    "    \n",
    "    Xnn = dffn_f.drop(['Label'],axis=1)  \n",
    "    ynn = dffn_f.iloc[:, -1].values.reshape(-1,1)\n",
    "    ynn=np.ravel(ynn)\n",
    "\n",
    "    rfnn = RandomForestClassifier(random_state = 0)\n",
    "    rfnn.fit(Xnn,ynn)\n",
    "\n",
    "    X2p = df2.drop(['Label'],axis=1) \n",
    "    y2p = df2.iloc[:, -1].values.reshape(-1,1)\n",
    "    y2p=np.ravel(y2p)\n",
    "\n",
    "    result2 = km_cluster.predict(X2p)\n",
    "\n",
    "    count=0\n",
    "    a=np.zeros(n)\n",
    "    b=np.zeros(n)\n",
    "    for v in range(0,n):\n",
    "        for i in range(0,len(y)):\n",
    "            if result[i]==v:\n",
    "                if y[i]==1:\n",
    "                    a[v]=a[v]+1\n",
    "                else:\n",
    "                    b[v]=b[v]+1\n",
    "    list1=[]\n",
    "    list2=[]\n",
    "    l1=[]\n",
    "    l0=[]\n",
    "    for v in range(0,n):\n",
    "        if a[v]<=b[v]:\n",
    "            list1.append(v)\n",
    "        else: \n",
    "            list2.append(v)\n",
    "    for v in range(0,len(y2p)):\n",
    "        if result2[v] in list1:\n",
    "            result2[v]=0\n",
    "            l0.append(v)\n",
    "        elif result2[v] in list2:\n",
    "            result2[v]=1\n",
    "            l1.append(v)\n",
    "        else:\n",
    "            print(\"-1\")\n",
    "    print(classification_report(y2p, result2))\n",
    "    cm=confusion_matrix(y2p,result2)\n",
    "    print(cm)"
   ]
  },
  {
   "cell_type": "markdown",
   "metadata": {},
   "source": [
    "HMAC implementation may begin."
   ]
  },
  {
   "cell_type": "code",
   "execution_count": 96,
   "metadata": {},
   "outputs": [],
   "source": [
    "import pandas as pd  # type: ignore\n",
    "import hmac\n",
    "import hashlib\n",
    "\n",
    "# Path to the CSV file\n",
    "file_path = './data/CICIDS2017_sample.csv'\n",
    "\n",
    "# Read the CSV file into a DataFrame\n",
    "df = pd.read_csv(file_path)\n"
   ]
  },
  {
   "cell_type": "code",
   "execution_count": 97,
   "metadata": {},
   "outputs": [],
   "source": [
    "benign_count = 0\n",
    "attack_count = 0\n",
    "\n",
    "for status in df['Label']:\n",
    "    if status == 'BENIGN':\n",
    "        benign_count += 1\n",
    "    else:  \n",
    "        attack_count += 1"
   ]
  },
  {
   "cell_type": "code",
   "execution_count": 98,
   "metadata": {},
   "outputs": [
    {
     "name": "stdout",
     "output_type": "stream",
     "text": [
      "Safe: 22731 \n",
      "Attack detected: 33930\n"
     ]
    },
    {
     "data": {
      "image/png": "[encoded data removed]",
      "text/plain": [
       "<Figure size 640x480 with 1 Axes>"
      ]
     },
     "metadata": {},
     "output_type": "display_data"
    }
   ],
   "source": [
    "import matplotlib.pyplot as plt  # type: ignore\n",
    "\n",
    "print(f'Safe: {benign_count} ')\n",
    "print(f'Attack detected: {attack_count}')\n",
    "\n",
    "packet_counts = {'Benign': benign_count, 'Attack': attack_count}\n",
    "\n",
    "plt.bar(packet_counts.keys(), packet_counts.values(), color=['blue', 'red'])\n",
    "plt.title(\"Packet Validity\")\n",
    "plt.xlabel(\"Packet Type\")\n",
    "plt.ylabel(\"Number of Packets\")\n",
    "plt.show()"
   ]
  },
  {
   "cell_type": "markdown",
   "metadata": {},
   "source": [
    "All of the data in each row is encrypted into a key. This results in a secure hash-based message authentication code for every valid packet."
   ]
  },
  {
   "cell_type": "code",
   "execution_count": 99,
   "metadata": {},
   "outputs": [],
   "source": [
    "def applyhmac(row):\n",
    "    #Active Min,Idle Mean,Idle Std,Idle Max,Idle Min,Label\n",
    "    # data = f\"{row['Active Min']}, {row['Idle Mean']}, {row['Idle Std']}, {row['Idle Max']}, {row['Idle Min']}, {row['Label']}\".encode()\n",
    "    data = ', '.join(map(str, row.values)).encode()\n",
    "    secret_key= b'thisisthekey'\n",
    "    hmac_result = hmac.new(secret_key, data, hashlib.sha256)\n",
    "\n",
    "    return hmac_result.hexdigest()"
   ]
  },
  {
   "cell_type": "markdown",
   "metadata": {},
   "source": [
    "If a packet is benign, the HMAC function will be applied."
   ]
  },
  {
   "cell_type": "code",
   "execution_count": 100,
   "metadata": {},
   "outputs": [],
   "source": [
    "df['HMAC'] = df.apply(lambda row: applyhmac(row) if row['Label'] == 'BENIGN' else \"notvalid\", axis=1)"
   ]
  },
  {
   "cell_type": "code",
   "execution_count": 101,
   "metadata": {},
   "outputs": [],
   "source": [
    "df.to_csv('benign_with_hmac.csv', index=False)"
   ]
  },
  {
   "cell_type": "code",
   "execution_count": 102,
   "metadata": {},
   "outputs": [
    {
     "data": {
      "text/plain": [
       "0        9bb18b548b6971c329a013ad8d2c9c76769e126c7e3b8c...\n",
       "1        0b0c4a42e5f4a0f56b58b48ff796e05c377d697ccdddf6...\n",
       "2        4954bbe87c8c7dfab285cb9b5f0cd18ed79eb4cc1c27b6...\n",
       "3        b98cd48fbeb6f8cd734d425eba9dc848c884b17d7e9a47...\n",
       "4        5c7b2d34fe1f12eb4818e35413c6b73e0b23898d96f41e...\n",
       "                               ...                        \n",
       "56656    ed85044a6ee7e9db52903373f9c7d8075f7a6f2844ba43...\n",
       "56657    945dd7a3ab757d494d3c7edbbddfddc7b321e95648fe3e...\n",
       "56658                                             notvalid\n",
       "56659                                             notvalid\n",
       "56660                                             notvalid\n",
       "Name: HMAC, Length: 56661, dtype: object"
      ]
     },
     "execution_count": 102,
     "metadata": {},
     "output_type": "execute_result"
    }
   ],
   "source": [
    "df = pd.read_csv('benign_with_hmac.csv')\n",
    "(df['HMAC'])"
   ]
  },
  {
   "cell_type": "code",
   "execution_count": 103,
   "metadata": {},
   "outputs": [],
   "source": [
    "hashed_count = 0\n",
    "blocked = 0\n",
    "\n",
    "for status in df['Label']:\n",
    "    if status == 'BENIGN':\n",
    "        hashed_count += 1\n",
    "    else:  \n",
    "        blocked += 1"
   ]
  },
  {
   "cell_type": "code",
   "execution_count": 104,
   "metadata": {},
   "outputs": [
    {
     "name": "stdout",
     "output_type": "stream",
     "text": [
      "Accepted Packets: 22731 \n",
      "Blocked Packets: 33930\n"
     ]
    },
    {
     "data": {
      "image/png": "[encoded data removed]",
      "text/plain": [
       "<Figure size 640x480 with 1 Axes>"
      ]
     },
     "metadata": {},
     "output_type": "display_data"
    }
   ],
   "source": [
    "import matplotlib.pyplot as plt  # type: ignore\n",
    "\n",
    "print(f'Accepted Packets: {hashed_count} ')\n",
    "print(f'Blocked Packets: {blocked}')\n",
    "\n",
    "packet_counts = {'Accepted': hashed_count, 'Blocked': blocked}\n",
    "\n",
    "plt.bar(packet_counts.keys(), packet_counts.values(), color=['blue', 'red'])\n",
    "plt.title(\"Packet Validity\")\n",
    "plt.xlabel(\"Packet Type\")\n",
    "plt.ylabel(\"Number of Packets\")\n",
    "plt.show()"
   ]
  },
  {
   "cell_type": "code",
   "execution_count": 105,
   "metadata": {},
   "outputs": [],
   "source": [
    "# HMAC verification function\n",
    "def verify_hmac(row, secret_key):\n",
    "    \n",
    "    data = ', '.join(map(str, row.drop(labels=['HMAC']).values)).encode()  \n",
    "    # use the shared secret key\n",
    "    computed_hmac = hmac.new(secret_key, data, hashlib.sha256).hexdigest()\n",
    "    \n",
    "    return computed_hmac == row['HMAC']\n",
    "\n",
    "file_path = 'benign_with_hmac.csv'\n"
   ]
  },
  {
   "cell_type": "code",
   "execution_count": 106,
   "metadata": {},
   "outputs": [],
   "source": [
    "\n",
    "# Read the file into a DataFrame\n",
    "df = pd.read_csv(file_path)\n",
    "\n",
    "# shared secret key\n",
    "shared_key = b'thisisthekey'\n",
    "\n",
    "# Apply the verification function \n",
    "df['Valid'] = df.apply(lambda row: verify_hmac(row, shared_key), axis=1)\n",
    "\n",
    "# Save the verification results\n",
    "output_file = 'verified_packets.csv'\n",
    "df.to_csv(output_file, index=False)\n",
    "\n",
    "# RESULTS \n",
    "valid_count = df['Valid'].sum()\n",
    "invalid_count = len(df) - valid_count\n"
   ]
  },
  {
   "cell_type": "code",
   "execution_count": 107,
   "metadata": {},
   "outputs": [
    {
     "name": "stdout",
     "output_type": "stream",
     "text": [
      "Valid Packets: 22731\n",
      "Invalid Packets: 33930\n",
      "Verification results saved to: verified_packets.csv\n"
     ]
    }
   ],
   "source": [
    "\n",
    "print(f\"Valid Packets: {valid_count}\")\n",
    "print(f\"Invalid Packets: {invalid_count}\")\n",
    "print(f\"Verification results saved to: {output_file}\")\n"
   ]
  },
  {
   "cell_type": "markdown",
   "metadata": {},
   "source": [
    "Simulation of all packets being sent and received"
   ]
  },
  {
   "cell_type": "code",
   "execution_count": 108,
   "metadata": {},
   "outputs": [],
   "source": [
    "# creating array for unsafe addresses\n",
    "unsafe_ips = []"
   ]
  },
  {
   "cell_type": "code",
   "execution_count": 109,
   "metadata": {},
   "outputs": [],
   "source": [
    "import pandas as pd\n",
    "import socket\n",
    "import json\n",
    "\n",
    "# UDP packet sender function\n",
    "def send_all_packets(df, destination_ip, destination_port):\n",
    "    # Create a UDP socket\n",
    "    sock = socket.socket(socket.AF_INET, socket.SOCK_DGRAM)\n",
    "    \n",
    "    # Counters for tracking sent packets\n",
    "    valid_sent = 0\n",
    "    invalid_blocked = 0\n",
    "\n",
    "    for index, row in df.iterrows():\n",
    "        packet = {\n",
    "            \"data\": ', '.join(map(str, row.drop(labels=['HMAC']).values)),\n",
    "            \"Label\": row['Label']\n",
    "        }\n",
    "\n",
    "        # Serialize packet to JSON\n",
    "        packet_json = json.dumps(packet).encode()\n",
    "\n",
    "        # Send packet\n",
    "        sock.sendto(packet_json, (destination_ip, destination_port))\n",
    "\n",
    "        # Update counters\n",
    "        if row['Label'] == \"BENIGN\":\n",
    "            valid_sent += 1\n",
    "        else:\n",
    "            invalid_blocked += 1\n",
    "\n",
    "        # Report every 1000 packets\n",
    "        if valid_sent % 1000 == 0 and row['Label'] == \"BENIGN\":\n",
    "            print(f\"{valid_sent} valid packets sent...\")\n",
    "        if invalid_blocked % 1000 == 0 and  row['Label'] != \"BENIGN\":\n",
    "            print(f\"{invalid_blocked} invalid packets sent...\")   \n",
    "    # Close socket\n",
    "    sock.close()\n",
    "    print(\"All packets sent.\")\n",
    "    print(f\"Total valid packets sent: {valid_sent}\")\n",
    "    print(f\"Total invalid packets sent: {invalid_blocked}\")\n",
    "\n",
    "# Configuration\n",
    "file_path = '/Users/erikatorres/cs 4371 hmac/benign_with_hmac.csv'\n",
    "shared_key = b'thisisthekey'\n",
    "destination_ip = '127.0.0.1'\n",
    "destination_port = 8080      \n",
    "\n",
    "# Read and process the CSV file\n",
    "df = pd.read_csv(file_path)"
   ]
  },
  {
   "cell_type": "code",
   "execution_count": 110,
   "metadata": {},
   "outputs": [
    {
     "name": "stdout",
     "output_type": "stream",
     "text": [
      "Listening on 127.0.0.1:8080\n",
      "1000 invalid packets sent...\n",
      "2000 invalid packets sent...\n",
      "3000 invalid packets sent...\n",
      "4000 invalid packets sent...\n",
      "5000 invalid packets sent...\n",
      "6000 invalid packets sent...\n",
      "1000 valid packets sent...\n",
      "7000 invalid packets sent...\n",
      "8000 invalid packets sent...\n",
      "9000 invalid packets sent...\n",
      "10000 invalid packets sent...\n",
      "11000 invalid packets sent...\n",
      "12000 invalid packets sent...\n",
      "13000 invalid packets sent...\n",
      "2000 valid packets sent...\n",
      "14000 invalid packets sent...\n",
      "3000 valid packets sent...\n",
      "15000 invalid packets sent...\n",
      "16000 invalid packets sent...\n",
      "4000 valid packets sent...\n",
      "5000 valid packets sent...\n",
      "6000 valid packets sent...\n",
      "7000 valid packets sent...\n",
      "8000 valid packets sent...\n",
      "9000 valid packets sent...\n",
      "10000 valid packets sent...\n",
      "11000 valid packets sent...\n",
      "12000 valid packets sent...\n",
      "17000 invalid packets sent...\n",
      "18000 invalid packets sent...\n",
      "13000 valid packets sent...\n",
      "14000 valid packets sent...\n",
      "19000 invalid packets sent...\n",
      "20000 invalid packets sent...\n",
      "15000 valid packets sent...\n",
      "16000 valid packets sent...\n",
      "17000 valid packets sent...\n",
      "21000 invalid packets sent...\n",
      "18000 valid packets sent...\n",
      "19000 valid packets sent...\n",
      "22000 invalid packets sent...\n",
      "23000 invalid packets sent...\n",
      "24000 invalid packets sent...\n",
      "25000 invalid packets sent...\n",
      "26000 invalid packets sent...\n",
      "27000 invalid packets sent...\n",
      "28000 invalid packets sent...\n",
      "29000 invalid packets sent...\n",
      "30000 invalid packets sent...\n",
      "31000 invalid packets sent...\n",
      "32000 invalid packets sent...\n",
      "33000 invalid packets sent...\n",
      "20000 valid packets sent...\n",
      "21000 valid packets sent...\n",
      "22000 valid packets sent...\n",
      "All packets sent.\n",
      "Total valid packets sent: 22731\n",
      "Total invalid packets sent: 33930\n",
      "Packet detected from ('127.0.0.1', 51914): 4, 2, 0, 37, 0, 31, 6, 18.5, 17.67766953, 0, 0, 0.0, 0.0, 9250000.0, 500000.0, 4.0, 0.0, 4, 4, 4, 4.0, 0.0, 4, 4, 0, 0.0, 0.0, 0, 0, 1, 0, 0, 0, 40, 0, 500000.0, 0.0, 6, 31, 22.66666667, 14.43375673, 208.3333333, 0, 1, 0, 0, 1, 0, 0, 0, 0, 34.0, 18.5, 0.0, 40, 0, 0, 0, 0, 0, 0, 2, 37, 0, 0, 60, -1, 1, 20, 0.0, 0.0, 0, 0, 0.0, 0.0, 0, 0, BENIGN\n",
      "Packet detected from ('127.0.0.1', 51914): 142377, 46, 62, 1325, 105855, 570, 0, 28.80434783, 111.4072847, 4344, 0, 1707.3387100000002, 846.1726550000003, 752790.1276, 758.5494848, 1330.626168, 5048.9826969999995, 23198, 0, 142377, 3163.933333, 7552.916858, 23792, 0, 119204, 1954.163934, 6058.842404, 23865, 4, 0, 0, 0, 0, 1168, 1992, 323.0858917, 435.4635931, 0, 4344, 983.3027523, 1052.39205, 1107529.028, 0, 0, 0, 1, 0, 0, 0, 0, 1, 992.4074074, 28.80434783, 1707.3387100000002, 1168, 0, 0, 0, 0, 0, 0, 46, 1325, 62, 105855, 29200, 61, 30, 20, 0.0, 0.0, 0, 0, 0.0, 0.0, 0, 0, BENIGN\n",
      "Packet detected from ('127.0.0.1', 51914): 118873, 23, 28, 1169, 45025, 570, 0, 50.82608696, 156.13736730000005, 2896, 0, 1608.035714, 902.027366, 388599.5979, 429.0293002, 2377.46, 6838.4207129999995, 23435, 3, 118873, 5403.318182, 9768.511157, 24311, 49, 95541, 3538.555556000001, 8193.060024, 24168, 3, 0, 0, 0, 0, 744, 904, 193.483802, 235.5454981, 0, 2896, 888.3461537999997, 1028.323762, 1057449.76, 0, 0, 0, 1, 0, 0, 0, 0, 1, 905.7647059, 50.82608696, 1608.035714, 744, 0, 0, 0, 0, 0, 0, 23, 1169, 28, 45025, 29200, 61, 4, 32, 0.0, 0.0, 0, 0, 0.0, 0.0, 0, 0, BENIGN\n",
      "Packet detected from ('127.0.0.1', 51914): 143577, 43, 55, 1301, 107289, 570, 0, 30.25581395, 115.178969, 4344, 0, 1950.709091, 928.2303887, 756318.9090000001, 682.5605772999999, 1480.175258, 5316.455522, 23220, 2, 143530, 3417.3809520000004, 7846.824009, 23823, 2, 120357, 2228.833333, 6441.5928619999995, 23889, 2, 0, 0, 0, 0, 1120, 1768, 299.4908655, 383.0697117, 0, 4344, 1096.868687, 1183.665309, 1401063.564, 0, 0, 0, 1, 0, 0, 0, 0, 1, 1108.061224, 30.25581395, 1950.709091, 1120, 0, 0, 0, 0, 0, 0, 43, 1301, 55, 107289, 29200, 61, 26, 20, 0.0, 0.0, 0, 0, 0.0, 0.0, 0, 0, BENIGN\n",
      "Packet detected from ('127.0.0.1', 51914): 143745, 49, 59, 1331, 110185, 570, 0, 27.16326531, 108.0671757, 4344, 0, 1867.542373, 928.8619348, 775790.4623, 751.3304811, 1343.411215, 5112.820617, 24181, 2, 143726, 2994.291667, 7449.818687000001, 24248, 2, 120164, 2071.793103, 6233.858327, 24616, 2, 0, 0, 0, 0, 1252, 1896, 340.8814220000001, 410.4490591, 0, 4344, 1023.082569, 1147.95835, 1317808.373, 0, 0, 0, 1, 0, 0, 0, 0, 1, 1032.555556, 27.16326531, 1867.542373, 1252, 0, 0, 0, 0, 0, 0, 49, 1331, 59, 110185, 29200, 61, 31, 20, 0.0, 0.0, 0, 0, 0.0, 0.0, 0, 0, BENIGN\n",
      "Packet detected from ('127.0.0.1', 51914): 120792, 1, 1, 48, 100, 48, 48, 48.0, 0.0, 100, 100, 100.0, 0.0, 1225.246705, 16.55738791, 120792.0, 0.0, 120792, 120792, 0, 0.0, 0.0, 0, 0, 0, 0.0, 0.0, 0, 0, 0, 0, 0, 0, 32, 32, 8.278693953, 8.278693953, 48, 100, 65.33333333, 30.022214, 901.3333332999996, 0, 0, 0, 0, 0, 0, 0, 0, 1, 98.0, 48.0, 100.0, 32, 0, 0, 0, 0, 0, 0, 1, 48, 1, 100, -1, -1, 0, 32, 0.0, 0.0, 0, 0, 0.0, 0.0, 0, 0, BENIGN\n",
      "Packet detected from ('127.0.0.1', 51914): 50906, 1, 1, 55, 83, 55, 55, 55.0, 0.0, 83, 83, 83.0, 0.0, 2710.878875, 39.28809963, 50906.0, 0.0, 50906, 50906, 0, 0.0, 0.0, 0, 0, 0, 0.0, 0.0, 0, 0, 0, 0, 0, 0, 20, 32, 19.64404982, 19.64404982, 55, 83, 64.33333333, 16.16580754, 261.3333333, 0, 0, 0, 0, 0, 0, 0, 0, 1, 96.5, 55.0, 83.0, 20, 0, 0, 0, 0, 0, 0, 1, 55, 1, 83, -1, -1, 0, 20, 0.0, 0.0, 0, 0, 0.0, 0.0, 0, 0, BENIGN\n",
      "Packet detected from ('127.0.0.1', 51914): 23595, 1, 1, 77, 159, 77, 77, 77.0, 0.0, 159, 159, 159.0, 0.0, 10002.11909, 84.76372113, 23595.0, 0.0, 23595, 23595, 0, 0.0, 0.0, 0, 0, 0, 0.0, 0.0, 0, 0, 0, 0, 0, 0, 20, 20, 42.38186056, 42.38186056, 77, 159, 104.3333333, 47.34272207, 2241.333333, 0, 0, 0, 0, 0, 0, 0, 0, 1, 156.5, 77.0, 159.0, 20, 0, 0, 0, 0, 0, 0, 1, 77, 1, 159, -1, -1, 0, 20, 0.0, 0.0, 0, 0, 0.0, 0.0, 0, 0, BENIGN\n",
      "Packet detected from ('127.0.0.1', 51914): 61017, 4, 2, 172, 198, 43, 43, 43.0, 0.0, 99, 99, 99.0, 0.0, 6063.883836, 98.33325139, 12203.4, 21224.94332, 49048, 4, 49099, 16366.33333, 28303.161739999996, 49048, 4, 48, 48.0, 0.0, 48, 48, 0, 0, 0, 0, 104, 40, 65.55550093, 32.77775046, 43, 99, 59.0, 27.32520204, 746.6666667000003, 0, 0, 0, 0, 0, 0, 0, 0, 0, 68.83333333, 43.0, 99.0, 104, 0, 0, 0, 0, 0, 0, 4, 172, 2, 198, -1, -1, 3, 20, 0.0, 0.0, 0, 0, 0.0, 0.0, 0, 0, BENIGN\n",
      "Packet detected from ('127.0.0.1', 51914): 196, 2, 2, 76, 140, 38, 38, 38.0, 0.0, 70, 70, 70.0, 0.0, 1102040.816, 20408.163269999997, 65.33333333, 72.56950691, 145, 3, 3, 3.0, 0.0, 3, 3, 48, 48.0, 0.0, 48, 48, 0, 0, 0, 0, 64, 64, 10204.08163, 10204.08163, 38, 70, 50.8, 17.52712184, 307.2, 0, 0, 0, 0, 0, 0, 0, 0, 1, 63.5, 38.0, 70.0, 64, 0, 0, 0, 0, 0, 0, 2, 76, 2, 140, -1, -1, 1, 32, 0.0, 0.0, 0, 0, 0.0, 0.0, 0, 0, BENIGN\n",
      "Packet detected from ('127.0.0.1', 51914): 209, 2, 2, 64, 198, 32, 32, 32.0, 0.0, 99, 99, 99.0, 0.0, 1253588.517, 19138.75598, 69.66666667, 37.5277675, 113, 48, 48, 48.0, 0.0, 48, 48, 48, 48.0, 0.0, 48, 48, 0, 0, 0, 0, 40, 40, 9569.37799, 9569.37799, 32, 99, 58.8, 36.69741135, 1346.7, 0, 0, 0, 0, 0, 0, 0, 0, 1, 73.5, 32.0, 99.0, 40, 0, 0, 0, 0, 0, 0, 2, 64, 2, 198, -1, -1, 1, 20, 0.0, 0.0, 0, 0, 0.0, 0.0, 0, 0, BENIGN\n",
      "Packet detected from ('127.0.0.1', 51914): 196, 2, 2, 82, 146, 41, 41, 41.0, 0.0, 73, 73, 73.0, 0.0, 1163265.306, 20408.163269999997, 65.33333333, 72.56950691, 145, 3, 3, 3.0, 0.0, 3, 3, 48, 48.0, 0.0, 48, 48, 0, 0, 0, 0, 40, 40, 10204.08163, 10204.08163, 41, 73, 53.8, 17.52712184, 307.2, 0, 0, 0, 0, 0, 0, 0, 0, 1, 67.25, 41.0, 73.0, 40, 0, 0, 0, 0, 0, 0, 2, 82, 2, 146, -1, -1, 1, 20, 0.0, 0.0, 0, 0, 0.0, 0.0, 0, 0, BENIGN\n",
      "Packet detected from ('127.0.0.1', 51914): 96811, 4, 2, 132, 150, 33, 33, 33.0, 0.0, 75, 75, 75.0, 0.0, 2912.89213, 61.976428299999995, 19362.2, 30951.51573000001, 70998, 3, 25809, 8603.0, 14894.77093, 25802, 3, 4, 4.0, 0.0, 4, 4, 0, 0, 0, 0, 120, 64, 41.31761887, 20.65880943, 33, 75, 45.0, 20.49390153, 420.0, 0, 0, 0, 0, 0, 0, 0, 0, 0, 52.5, 33.0, 75.0, 120, 0, 0, 0, 0, 0, 0, 4, 132, 2, 150, -1, -1, 3, 20, 0.0, 0.0, 0, 0, 0.0, 0.0, 0, 0, BENIGN\n",
      "Packet detected from ('127.0.0.1', 51914): 5900543, 8, 5, 372, 3631, 191, 0, 46.5, 71.87687886, 1891, 0, 726.2, 886.8146367999999, 678.4121393999999, 2.203187063, 491711.9167, 1550443.785, 5412143, 3, 5900543, 842934.7143, 2016469.958, 5412143, 3, 261707, 65426.75, 73698.78989, 132168, 217, 0, 0, 0, 0, 172, 112, 1.355807423, 0.847379639, 0, 1891, 285.9285713999999, 600.7356342, 360883.3022, 0, 0, 0, 1, 0, 0, 0, 0, 0, 307.9230769, 46.5, 726.2, 172, 0, 0, 0, 0, 0, 0, 8, 372, 5, 3631, 8192, 237, 7, 20, 488397.0, 0.0, 488397, 488397, 5412143.0, 0.0, 5412143, 5412143, BENIGN\n",
      "Packet detected from ('127.0.0.1', 51914): 4356, 3, 0, 18, 0, 6, 6, 6.0, 0.0, 0, 0, 0.0, 0.0, 4132.2314049999995, 688.7052342000001, 2178.0, 3075.914498, 4353, 3, 4356, 2178.0, 3075.914498, 4353, 3, 0, 0.0, 0.0, 0, 0, 0, 0, 0, 0, 60, 0, 688.7052342000003, 0.0, 6, 6, 6.0, 0.0, 0.0, 0, 0, 0, 0, 1, 0, 0, 0, 0, 8.0, 6.0, 0.0, 60, 0, 0, 0, 0, 0, 0, 3, 18, 0, 0, 127, -1, 2, 20, 0.0, 0.0, 0, 0, 0.0, 0.0, 0, 0, BENIGN\n",
      "Packet detected from ('127.0.0.1', 51914): 3, 2, 0, 12, 0, 6, 6, 6.0, 0.0, 0, 0, 0.0, 0.0, 4000000.0, 666666.6667, 3.0, 0.0, 3, 3, 3, 3.0, 0.0, 3, 3, 0, 0.0, 0.0, 0, 0, 0, 0, 0, 0, 40, 0, 666666.6667, 0.0, 6, 6, 6.0, 0.0, 0.0, 0, 0, 0, 0, 1, 0, 0, 0, 0, 9.0, 6.0, 0.0, 40, 0, 0, 0, 0, 0, 0, 2, 12, 0, 0, 4969, -1, 1, 20, 0.0, 0.0, 0, 0, 0.0, 0.0, 0, 0, BENIGN\n",
      "Packet detected from ('127.0.0.1', 51914): 12816, 3, 0, 18, 0, 6, 6, 6.0, 0.0, 0, 0, 0.0, 0.0, 1404.494382, 234.082397, 6408.0, 9058.037867, 12813, 3, 12816, 6408.0, 9058.037867, 12813, 3, 0, 0.0, 0.0, 0, 0, 0, 0, 0, 0, 60, 0, 234.082397, 0.0, 6, 6, 6.0, 0.0, 0.0, 0, 0, 0, 0, 1, 0, 0, 0, 0, 8.0, 6.0, 0.0, 60, 0, 0, 0, 0, 0, 0, 3, 18, 0, 0, 32, -1, 2, 20, 0.0, 0.0, 0, 0, 0.0, 0.0, 0, 0, BENIGN\n",
      "Packet detected from ('127.0.0.1', 51914): 93, 1, 1, 0, 0, 0, 0, 0.0, 0.0, 0, 0, 0.0, 0.0, 0.0, 21505.37634, 93.0, 0.0, 93, 93, 0, 0.0, 0.0, 0, 0, 0, 0.0, 0.0, 0, 0, 0, 0, 0, 0, 32, 32, 10752.68817, 10752.68817, 0, 0, 0.0, 0.0, 0.0, 0, 0, 0, 0, 1, 1, 0, 0, 1, 0.0, 0.0, 0.0, 32, 0, 0, 0, 0, 0, 0, 1, 0, 1, 0, 57, 229, 0, 32, 0.0, 0.0, 0, 0, 0.0, 0.0, 0, 0, BENIGN\n",
      "Packet detected from ('127.0.0.1', 51914): 22, 1, 1, 0, 0, 0, 0, 0.0, 0.0, 0, 0, 0.0, 0.0, 0.0, 90909.09091, 22.0, 0.0, 22, 22, 0, 0.0, 0.0, 0, 0, 0, 0.0, 0.0, 0, 0, 0, 0, 0, 0, 32, 32, 45454.54545, 45454.54545, 0, 0, 0.0, 0.0, 0.0, 0, 0, 0, 0, 1, 1, 0, 0, 1, 0.0, 0.0, 0.0, 32, 0, 0, 0, 0, 0, 0, 1, 0, 1, 0, 130, 348, 0, 32, 0.0, 0.0, 0, 0, 0.0, 0.0, 0, 0, BENIGN\n",
      "Packet detected from ('127.0.0.1', 51914): 118361735, 26, 34, 941, 36109, 206, 0, 36.19230769, 60.79540722, 2860, 0, 1062.029412, 695.0806574, 313.0234615, 0.506920585, 2006131.102, 10800000.0, 59000000, 0, 118000000, 4734469.4, 16300000.0, 59000000, 16, 118000000, 3583882.727, 14300000.0, 59000000, 1, 0, 0, 0, 0, 532, 692, 0.219665587, 0.287254998, 0, 2860, 607.3770492000001, 729.331707, 531924.7388, 0, 0, 0, 1, 0, 0, 0, 0, 1, 617.5, 36.19230769, 1062.029412, 532, 0, 0, 0, 0, 0, 0, 26, 941, 34, 36109, 8192, 360, 25, 20, 201183.0, 161827.0437, 315612, 86754, 58900000.0, 36576.51247, 59000000, 58900000, BENIGN\n",
      "Packet detected from ('127.0.0.1', 51914): 48229, 4, 2, 148, 236, 37, 37, 37.0, 0.0, 118, 118, 118.0, 0.0, 7962.014556, 124.4064774, 9645.8, 14013.67856, 30809, 3, 30816, 10272.0, 17785.56372, 30809, 3, 48, 48.0, 0.0, 48, 48, 0, 0, 0, 0, 128, 40, 82.93765162, 41.46882581, 37, 118, 60.14285714, 39.52395295, 1562.142857, 0, 0, 0, 0, 0, 0, 0, 0, 0, 70.16666667, 37.0, 118.0, 128, 0, 0, 0, 0, 0, 0, 4, 148, 2, 236, -1, -1, 3, 32, 0.0, 0.0, 0, 0, 0.0, 0.0, 0, 0, BENIGN\n",
      "Packet detected from ('127.0.0.1', 51914): 149, 2, 2, 90, 122, 45, 45, 45.0, 0.0, 61, 61, 61.0, 0.0, 1422818.792, 26845.63758, 49.66666667, 79.96457549, 142, 3, 4, 4.0, 0.0, 4, 4, 3, 3.0, 0.0, 3, 3, 0, 0, 0, 0, 40, 40, 13422.81879, 13422.81879, 45, 61, 51.4, 8.76356092, 76.8, 0, 0, 0, 0, 0, 0, 0, 0, 1, 64.25, 45.0, 61.0, 40, 0, 0, 0, 0, 0, 0, 2, 90, 2, 122, -1, -1, 1, 20, 0.0, 0.0, 0, 0, 0.0, 0.0, 0, 0, BENIGN\n",
      "Packet detected from ('127.0.0.1', 51914): 50680, 2, 2, 90, 172, 45, 45, 45.0, 0.0, 86, 86, 86.0, 0.0, 5169.692186, 78.92659826, 16893.33333, 29215.95301, 50629, 3, 48, 48.0, 0.0, 48, 48, 3, 3.0, 0.0, 3, 3, 0, 0, 0, 0, 64, 64, 39.46329913, 39.46329913, 45, 86, 61.4, 22.45662486, 504.3, 0, 0, 0, 0, 0, 0, 0, 0, 1, 76.75, 45.0, 86.0, 64, 0, 0, 0, 0, 0, 0, 2, 90, 2, 172, -1, -1, 1, 32, 0.0, 0.0, 0, 0, 0.0, 0.0, 0, 0, BENIGN\n",
      "Packet detected from ('127.0.0.1', 51914): 58286, 2, 2, 94, 206, 47, 47, 47.0, 0.0, 103, 103, 103.0, 0.0, 5147.033593, 68.62711457, 19428.66667, 33606.41167, 58234, 4, 48, 48.0, 0.0, 48, 48, 4, 4.0, 0.0, 4, 4, 0, 0, 0, 0, 64, 64, 34.31355729, 34.31355729, 47, 103, 69.4, 30.67246322, 940.8, 0, 0, 0, 0, 0, 0, 0, 0, 1, 86.75, 47.0, 103.0, 64, 0, 0, 0, 0, 0, 0, 2, 94, 2, 206, -1, -1, 1, 32, 0.0, 0.0, 0, 0, 0.0, 0.0, 0, 0, BENIGN\n",
      "Packet detected from ('127.0.0.1', 51914): 48725, 2, 2, 66, 198, 33, 33, 33.0, 0.0, 99, 99, 99.0, 0.0, 5418.1631609999995, 82.09338122, 16241.66667, 28127.92778, 48721, 1, 1, 1.0, 0.0, 1, 1, 3, 3.0, 0.0, 3, 3, 0, 0, 0, 0, 64, 64, 41.04669061, 41.04669061, 33, 99, 59.4, 36.1496888, 1306.8, 0, 0, 0, 0, 0, 0, 0, 0, 1, 74.25, 33.0, 99.0, 64, 0, 0, 0, 0, 0, 0, 2, 66, 2, 198, -1, -1, 1, 32, 0.0, 0.0, 0, 0, 0.0, 0.0, 0, 0, BENIGN\n",
      "Packet detected from ('127.0.0.1', 51914): 48226, 2, 2, 76, 108, 38, 38, 38.0, 0.0, 54, 54, 54.0, 0.0, 3815.369303, 82.94281093, 16075.33333, 27837.23191, 48219, 3, 4, 4.0, 0.0, 4, 4, 3, 3.0, 0.0, 3, 3, 0, 0, 0, 0, 64, 64, 41.47140547, 41.47140547, 38, 54, 44.4, 8.76356092, 76.8, 0, 0, 0, 0, 0, 0, 0, 0, 1, 55.5, 38.0, 54.0, 64, 0, 0, 0, 0, 0, 0, 2, 76, 2, 108, -1, -1, 1, 32, 0.0, 0.0, 0, 0, 0.0, 0.0, 0, 0, BENIGN\n",
      "Packet detected from ('127.0.0.1', 51914): 8218, 2, 0, 0, 0, 0, 0, 0.0, 0.0, 0, 0, 0.0, 0.0, 0.0, 243.3682161, 8218.0, 0.0, 8218, 8218, 8218, 8218.0, 0.0, 8218, 8218, 0, 0.0, 0.0, 0, 0, 0, 0, 0, 0, 64, 0, 243.3682161, 0.0, 0, 0, 0.0, 0.0, 0.0, 0, 0, 0, 0, 1, 0, 0, 0, 0, 0.0, 0.0, 0.0, 64, 0, 0, 0, 0, 0, 0, 2, 0, 0, 0, 317, -1, 0, 32, 0.0, 0.0, 0, 0, 0.0, 0.0, 0, 0, BENIGN\n",
      "Packet detected from ('127.0.0.1', 51914): 30124, 1, 1, 6, 6, 6, 6, 6.0, 0.0, 6, 6, 6.0, 0.0, 398.3534723, 66.39224539, 30124.0, 0.0, 30124, 30124, 0, 0.0, 0.0, 0, 0, 0, 0.0, 0.0, 0, 0, 0, 0, 0, 0, 20, 20, 33.19612269, 33.19612269, 6, 6, 6.0, 0.0, 0.0, 0, 0, 0, 0, 1, 1, 0, 0, 1, 9.0, 6.0, 6.0, 20, 0, 0, 0, 0, 0, 0, 1, 6, 1, 6, 237, 123, 0, 20, 0.0, 0.0, 0, 0, 0.0, 0.0, 0, 0, BENIGN\n",
      "Packet detected from ('127.0.0.1', 51914): 60096731, 16, 16, 1174, 15759, 517, 0, 73.375, 160.5722579, 3798, 0, 984.9375, 1378.981531, 281.76241400000004, 0.532474886, 1938604.226, 4004737.023, 10000000, 3, 50300000, 3352436.267, 4892791.32, 10000000, 197, 60100000, 4004883.533, 5066677.646000002, 10000000, 3, 0, 0, 0, 0, 340, 332, 0.266237443, 0.266237443, 0, 3798, 513.1212121, 1058.1483460000004, 1119677.922, 0, 0, 0, 1, 0, 0, 0, 0, 1, 529.15625, 73.375, 984.9375, 340, 0, 0, 0, 0, 0, 0, 16, 1174, 16, 15759, 29200, 127, 15, 20, 36211.0, 31443.2587, 100394, 23263, 9979910.333, 95104.93545, 10000000, 9786921, BENIGN\n",
      "Packet detected from ('127.0.0.1', 51914): 178, 2, 2, 74, 106, 37, 37, 37.0, 0.0, 53, 53, 53.0, 0.0, 1011235.955, 22471.91011, 59.33333333, 96.70746266, 171, 3, 4, 4.0, 0.0, 4, 4, 3, 3.0, 0.0, 3, 3, 0, 0, 0, 0, 64, 64, 11235.95506, 11235.95506, 37, 53, 43.4, 8.76356092, 76.8, 0, 0, 0, 0, 0, 0, 0, 0, 1, 54.25, 37.0, 53.0, 64, 0, 0, 0, 0, 0, 0, 2, 74, 2, 106, -1, -1, 1, 32, 0.0, 0.0, 0, 0, 0.0, 0.0, 0, 0, BENIGN\n",
      "Packet detected from ('127.0.0.1', 51914): 226, 2, 2, 64, 96, 32, 32, 32.0, 0.0, 48, 48, 48.0, 0.0, 707964.6018, 17699.11504, 75.33333333, 101.0758791, 191, 4, 191, 191.0, 0.0, 191, 191, 4, 4.0, 0.0, 4, 4, 0, 0, 0, 0, 40, 40, 8849.557522, 8849.557522, 32, 48, 38.4, 8.76356092, 76.8, 0, 0, 0, 0, 0, 0, 0, 0, 1, 48.0, 32.0, 48.0, 40, 0, 0, 0, 0, 0, 0, 2, 64, 2, 96, -1, -1, 1, 20, 0.0, 0.0, 0, 0, 0.0, 0.0, 0, 0, BENIGN\n",
      "Packet detected from ('127.0.0.1', 51914): 1702890, 2, 2, 97, 259, 54, 43, 48.5, 7.778174592999999, 149, 110, 129.5, 27.57716447, 209.0563689, 2.348947965, 567630.0, 910400.284, 1617740, 380, 1618120, 1618120.0, 0.0, 1618120, 1618120, 1702510, 1702510.0, 0.0, 1702510, 1702510, 0, 0, 0, 0, 60, 72, 1.174473982, 1.174473982, 43, 149, 82.0, 45.72198596, 2090.5, 0, 0, 0, 0, 0, 0, 0, 0, 1, 102.5, 48.5, 129.5, 60, 0, 0, 0, 0, 0, 0, 2, 97, 2, 259, -1, -1, 1, 20, 0.0, 0.0, 0, 0, 0.0, 0.0, 0, 0, BENIGN\n",
      "Packet detected from ('127.0.0.1', 51914): 23418, 1, 1, 56, 72, 56, 56, 56.0, 0.0, 72, 72, 72.0, 0.0, 5465.880946, 85.40438979, 23418.0, 0.0, 23418, 23418, 0, 0.0, 0.0, 0, 0, 0, 0.0, 0.0, 0, 0, 0, 0, 0, 0, 32, 32, 42.70219489, 42.70219489, 56, 72, 61.33333333, 9.237604307, 85.33333333, 0, 0, 0, 0, 0, 0, 0, 0, 1, 92.0, 56.0, 72.0, 32, 0, 0, 0, 0, 0, 0, 1, 56, 1, 72, -1, -1, 0, 32, 0.0, 0.0, 0, 0, 0.0, 0.0, 0, 0, BENIGN\n",
      "Packet detected from ('127.0.0.1', 51914): 1005977, 3, 3, 0, 18, 0, 0, 0.0, 0.0, 6, 6, 6.0, 0.0, 17.89305322, 5.964351074, 201195.4, 274636.0289, 505513, 510, 1005467, 502733.5, 4958.939856, 506240, 499227, 1005250, 502625.0, 5040.257136, 506189, 499061, 0, 0, 0, 0, 92, 60, 2.982175537, 2.982175537, 0, 6, 2.571428571, 3.207134903, 10.28571429, 0, 0, 0, 1, 0, 0, 0, 0, 1, 3.0, 0.0, 6.0, 92, 0, 0, 0, 0, 0, 0, 3, 0, 3, 18, 8192, 0, 0, 28, 0.0, 0.0, 0, 0, 0.0, 0.0, 0, 0, BENIGN\n",
      "Packet detected from ('127.0.0.1', 51914): 4714705, 5, 1, 135, 46, 46, 6, 27.0, 20.1246118, 46, 46, 46.0, 0.0, 38.39052496, 1.272614087, 942941.0, 1944057.41, 4415037, 4, 4714705, 1178676.25, 2162032.394, 4415037, 4, 0, 0.0, 0.0, 0, 0, 1, 0, 0, 0, 100, 20, 1.060511739, 0.212102348, 6, 46, 32.42857143, 18.86670032, 355.952381, 0, 1, 0, 0, 1, 0, 0, 0, 0, 37.83333333, 27.0, 46.0, 100, 0, 0, 0, 0, 0, 0, 5, 135, 1, 46, 254, 16384, 4, 20, 0.0, 0.0, 0, 0, 0.0, 0.0, 0, 0, BENIGN\n",
      "Packet detected from ('127.0.0.1', 51914): 67, 2, 1, 31, 6, 31, 0, 15.5, 21.92031022, 6, 6, 6.0, 0.0, 552238.806, 44776.1194, 33.5, 43.13351365, 64, 3, 3, 3.0, 0.0, 3, 3, 0, 0.0, 0.0, 0, 0, 1, 0, 0, 0, 64, 20, 29850.74627, 14925.373130000002, 0, 31, 17.0, 16.35033129, 267.3333333, 0, 1, 0, 0, 1, 0, 0, 0, 0, 22.66666667, 15.5, 6.0, 64, 0, 0, 0, 0, 0, 0, 2, 31, 1, 6, 1063, 0, 0, 32, 0.0, 0.0, 0, 0, 0.0, 0.0, 0, 0, BENIGN\n",
      "Packet detected from ('127.0.0.1', 51914): 22, 1, 1, 0, 0, 0, 0, 0.0, 0.0, 0, 0, 0.0, 0.0, 0.0, 90909.09091, 22.0, 0.0, 22, 22, 0, 0.0, 0.0, 0, 0, 0, 0.0, 0.0, 0, 0, 0, 0, 0, 0, 32, 32, 45454.54545, 45454.54545, 0, 0, 0.0, 0.0, 0.0, 0, 0, 0, 0, 1, 1, 0, 0, 1, 0.0, 0.0, 0.0, 32, 0, 0, 0, 0, 0, 0, 1, 0, 1, 0, 972, 284, 0, 32, 0.0, 0.0, 0, 0, 0.0, 0.0, 0, 0, BENIGN\n",
      "Packet detected from ('127.0.0.1', 51914): 57, 3, 1, 43, 6, 31, 6, 14.33333333, 14.43375673, 6, 6, 6.0, 0.0, 859649.1228, 70175.4386, 19.0, 29.46183973, 53, 1, 4, 2.0, 1.4142135619999998, 3, 1, 0, 0.0, 0.0, 0, 0, 0, 0, 0, 0, 60, 20, 52631.57895, 17543.85965, 6, 31, 11.0, 11.18033989, 125.0, 0, 0, 0, 0, 1, 0, 0, 0, 0, 13.75, 14.33333333, 6.0, 60, 0, 0, 0, 0, 0, 0, 3, 43, 1, 6, 1178, 0, 2, 20, 0.0, 0.0, 0, 0, 0.0, 0.0, 0, 0, BENIGN\n",
      "Packet detected from ('127.0.0.1', 51914): 3990011, 5, 1, 123, 46, 46, 0, 24.6, 23.27659769, 46, 46, 46.0, 0.0, 42.35577295, 1.503755253, 798002.2, 1756806.041, 3940560, 19, 3990011, 997502.75, 1962096.007, 3940560, 19, 0, 0.0, 0.0, 0, 0, 1, 0, 0, 0, 160, 32, 1.253129377, 0.250625875, 0, 46, 30.71428571, 21.68497395, 470.2380952, 0, 1, 0, 0, 1, 0, 0, 0, 0, 35.83333333, 24.6, 46.0, 160, 0, 0, 0, 0, 0, 0, 5, 123, 1, 46, 360, 357, 2, 32, 0.0, 0.0, 0, 0, 0.0, 0.0, 0, 0, BENIGN\n",
      "Packet detected from ('127.0.0.1', 51914): 282, 3, 0, 31, 0, 31, 0, 10.33333333, 17.89785834, 0, 0, 0.0, 0.0, 109929.078, 10638.29787, 141.0, 131.52186129999998, 234, 48, 282, 141.0, 131.52186129999998, 234, 48, 0, 0.0, 0.0, 0, 0, 0, 0, 0, 0, 96, 0, 10638.29787, 0.0, 0, 31, 7.75, 15.5, 240.25, 0, 0, 0, 0, 1, 0, 0, 0, 0, 10.33333333, 10.33333333, 0.0, 96, 0, 0, 0, 0, 0, 0, 3, 31, 0, 0, 61, -1, 1, 32, 0.0, 0.0, 0, 0, 0.0, 0.0, 0, 0, BENIGN\n",
      "Packet detected from ('127.0.0.1', 51914): 53, 1, 1, 0, 0, 0, 0, 0.0, 0.0, 0, 0, 0.0, 0.0, 0.0, 37735.84906, 53.0, 0.0, 53, 53, 0, 0.0, 0.0, 0, 0, 0, 0.0, 0.0, 0, 0, 0, 0, 0, 0, 32, 32, 18867.92453, 18867.92453, 0, 0, 0.0, 0.0, 0.0, 0, 0, 0, 0, 1, 1, 0, 0, 1, 0.0, 0.0, 0.0, 32, 0, 0, 0, 0, 0, 0, 1, 0, 1, 0, 365, 275, 0, 32, 0.0, 0.0, 0, 0, 0.0, 0.0, 0, 0, BENIGN\n",
      "Packet detected from ('127.0.0.1', 51914): 62465310, 4, 5, 104, 193, 46, 6, 26.0, 23.09401077, 64, 6, 38.6, 21.65178976, 4.754639015, 0.14407997, 7808163.75, 20700000.0, 58900000, 1, 59100000, 19700000.0, 34000000.0, 58900000, 77928, 62400000, 15600000.0, 29000000.0, 59000000, 1, 1, 0, 0, 0, 80, 100, 0.064035542, 0.080044428, 6, 64, 34.3, 21.02934458, 442.23333330000014, 0, 1, 0, 0, 1, 0, 0, 0, 1, 38.11111111, 26.0, 38.6, 80, 0, 0, 0, 0, 0, 0, 4, 104, 5, 193, 252, 363, 3, 20, 77939.0, 0.0, 77939, 77939, 58900000.0, 0.0, 58900000, 58900000, BENIGN\n",
      "Packet detected from ('127.0.0.1', 51914): 48318, 1, 1, 55, 105, 55, 55, 55.0, 0.0, 105, 105, 105.0, 0.0, 3311.395339, 41.39244174, 48318.0, 0.0, 48318, 48318, 0, 0.0, 0.0, 0, 0, 0, 0.0, 0.0, 0, 0, 0, 0, 0, 0, 32, 32, 20.69622087, 20.69622087, 55, 105, 71.66666667, 28.86751346, 833.3333332999997, 0, 0, 0, 0, 0, 0, 0, 0, 1, 107.5, 55.0, 105.0, 32, 0, 0, 0, 0, 0, 0, 1, 55, 1, 105, -1, -1, 0, 32, 0.0, 0.0, 0, 0, 0.0, 0.0, 0, 0, BENIGN\n",
      "Packet detected from ('127.0.0.1', 51914): 5817547, 2, 2, 87, 387, 44, 43, 43.5, 0.7071067809999999, 277, 110, 193.5, 118.0868325, 81.47763997, 0.6875750209999999, 1939182.333, 3252982.439, 5695373, 48106, 5769441, 5769441.0, 0.0, 5769441, 5769441, 5743479, 5743479.0, 0.0, 5743479, 5743479, 0, 0, 0, 0, 64, 52, 0.34378751, 0.34378751, 43, 277, 103.4, 101.2487037, 10251.3, 0, 0, 0, 0, 0, 0, 0, 0, 1, 129.25, 43.5, 193.5, 64, 0, 0, 0, 0, 0, 0, 2, 87, 2, 387, -1, -1, 1, 32, 74068.0, 0.0, 74068, 74068, 5695373.0, 0.0, 5695373, 5695373, BENIGN\n",
      "Packet detected from ('127.0.0.1', 51914): 47034, 2, 2, 68, 380, 34, 34, 34.0, 0.0, 190, 190, 190.0, 0.0, 9525.02445, 85.04486116, 15678.0, 27110.069, 46982, 3, 3, 3.0, 0.0, 3, 3, 49, 49.0, 0.0, 49, 49, 0, 0, 0, 0, 40, 40, 42.52243058, 42.52243058, 34, 190, 96.4, 85.44471897, 7300.8, 0, 0, 0, 0, 0, 0, 0, 0, 1, 120.5, 34.0, 190.0, 40, 0, 0, 0, 0, 0, 0, 2, 68, 2, 380, -1, -1, 1, 20, 0.0, 0.0, 0, 0, 0.0, 0.0, 0, 0, BENIGN\n",
      "Packet detected from ('127.0.0.1', 51914): 2015383, 3, 0, 18, 0, 6, 6, 6.0, 0.0, 0, 0, 0.0, 0.0, 8.931304869, 1.488550811, 1007691.5, 1424967.949, 2015296, 87, 2015383, 1007691.5, 1424967.949, 2015296, 87, 0, 0.0, 0.0, 0, 0, 0, 0, 0, 0, 60, 0, 1.488550811, 0.0, 6, 6, 6.0, 0.0, 0.0, 0, 0, 0, 0, 1, 0, 0, 0, 0, 8.0, 6.0, 0.0, 60, 0, 0, 0, 0, 0, 0, 3, 18, 0, 0, 254, -1, 2, 20, 0.0, 0.0, 0, 0, 0.0, 0.0, 0, 0, BENIGN\n",
      "Packet detected from ('127.0.0.1', 51914): 11079207, 12, 17, 4925, 11982, 2366, 0, 410.4166667, 877.0422876, 1689, 2, 704.8235294, 736.8449833, 1526.011744, 2.617515857, 395685.9643, 1833464.654, 9736697, 4, 1342506, 122046.0, 140083.3289, 449130, 19472, 11000000, 690431.625, 2416248.965, 9736827, 4, 0, 0, 0, 0, 252, 344, 1.08311001, 1.534405847, 0, 2366, 563.5666667, 789.7306255, 623674.4609, 0, 0, 0, 1, 0, 0, 0, 0, 1, 583.0, 410.4166667, 704.8235294, 252, 0, 0, 0, 0, 0, 0, 12, 4925, 17, 11982, 8192, 40880, 11, 20, 1342506.0, 0.0, 1342506, 1342506, 9736697.0, 0.0, 9736697, 9736697, BENIGN\n",
      "Packet detected from ('127.0.0.1', 51914): 5561328, 3, 4, 92, 123, 46, 0, 30.66666667, 26.55811238, 46, 0, 30.75, 21.68524844, 38.65983089, 1.258692168, 926888.0, 2235957.126, 5490881, 1, 5525637, 2762818.5, 3858062.987, 5490881, 34756, 5526661, 1842220.333, 3190815.752, 5526657, 1, 1, 0, 0, 0, 96, 128, 0.539439501, 0.719252668, 0, 46, 32.625, 20.79105233, 432.26785710000007, 0, 1, 0, 0, 1, 0, 0, 0, 1, 37.28571429, 30.66666667, 30.75, 96, 0, 0, 0, 0, 0, 0, 3, 92, 4, 123, 330, 122, 1, 32, 34756.0, 0.0, 34756, 34756, 5490881.0, 0.0, 5490881, 5490881, BENIGN\n",
      "Packet detected from ('127.0.0.1', 51914): 22001, 2, 2, 64, 176, 32, 32, 32.0, 0.0, 88, 88, 88.0, 0.0, 10908.59506, 181.8099177, 7333.666667, 12659.86984, 21952, 1, 48, 48.0, 0.0, 48, 48, 1, 1.0, 0.0, 1, 1, 0, 0, 0, 0, 40, 40, 90.90495887, 90.90495887, 32, 88, 54.4, 30.67246322, 940.8, 0, 0, 0, 0, 0, 0, 0, 0, 1, 68.0, 32.0, 88.0, 40, 0, 0, 0, 0, 0, 0, 2, 64, 2, 176, -1, -1, 1, 20, 0.0, 0.0, 0, 0, 0.0, 0.0, 0, 0, BENIGN\n",
      "Packet detected from ('127.0.0.1', 51914): 124225, 1, 1, 6, 6, 6, 6, 6.0, 0.0, 6, 6, 6.0, 0.0, 96.59891326, 16.09981888, 124225.0, 0.0, 124225, 124225, 0, 0.0, 0.0, 0, 0, 0, 0.0, 0.0, 0, 0, 0, 0, 0, 0, 20, 20, 8.049909439, 8.049909439, 6, 6, 6.0, 0.0, 0.0, 0, 0, 0, 0, 1, 1, 0, 0, 1, 9.0, 6.0, 6.0, 20, 0, 0, 0, 0, 0, 0, 1, 6, 1, 6, 1332, 42, 0, 20, 0.0, 0.0, 0, 0, 0.0, 0.0, 0, 0, BENIGN\n",
      "Packet detected from ('127.0.0.1', 51914): 124786, 1, 1, 6, 6, 6, 6, 6.0, 0.0, 6, 6, 6.0, 0.0, 96.16463385, 16.02743898, 124786.0, 0.0, 124786, 124786, 0, 0.0, 0.0, 0, 0, 0, 0.0, 0.0, 0, 0, 0, 0, 0, 0, 20, 20, 8.013719488, 8.013719488, 6, 6, 6.0, 0.0, 0.0, 0, 0, 0, 0, 1, 1, 0, 0, 1, 9.0, 6.0, 6.0, 20, 0, 0, 0, 0, 0, 0, 1, 6, 1, 6, 255, 31, 0, 20, 0.0, 0.0, 0, 0, 0.0, 0.0, 0, 0, BENIGN\n",
      "Packet detected from ('127.0.0.1', 51914): 48053, 1, 1, 63, 155, 63, 63, 63.0, 0.0, 155, 155, 155.0, 0.0, 4536.657440999999, 41.62071047, 48053.0, 0.0, 48053, 48053, 0, 0.0, 0.0, 0, 0, 0, 0.0, 0.0, 0, 0, 0, 0, 0, 0, 32, 20, 20.81035523, 20.81035523, 63, 155, 93.66666667, 53.11622477, 2821.333333, 0, 0, 0, 0, 0, 0, 0, 0, 1, 140.5, 63.0, 155.0, 32, 0, 0, 0, 0, 0, 0, 1, 63, 1, 155, -1, -1, 0, 32, 0.0, 0.0, 0, 0, 0.0, 0.0, 0, 0, BENIGN\n",
      "Packet detected from ('127.0.0.1', 51914): 145843, 1, 1, 63, 125, 63, 63, 63.0, 0.0, 125, 125, 125.0, 0.0, 1289.057411, 13.71337671, 145843.0, 0.0, 145843, 145843, 0, 0.0, 0.0, 0, 0, 0, 0.0, 0.0, 0, 0, 0, 0, 0, 0, 32, 32, 6.856688357, 6.856688357, 63, 125, 83.66666667, 35.79571669, 1281.333333, 0, 0, 0, 0, 0, 0, 0, 0, 1, 125.5, 63.0, 125.0, 32, 0, 0, 0, 0, 0, 0, 1, 63, 1, 125, -1, -1, 0, 32, 0.0, 0.0, 0, 0, 0.0, 0.0, 0, 0, BENIGN\n",
      "Packet detected from ('127.0.0.1', 51914): 5050936, 6, 3, 611, 166, 517, 0, 101.8333333, 204.3050823, 160, 0, 55.33333333, 90.69362344, 153.8328737, 1.7818479580000002, 631367.0, 1740968.9230000004, 4939753, 3, 5050936, 1010187.2, 2231395.943, 5001809, 3, 96067, 48033.5, 20351.24027, 62424, 33643, 0, 0, 0, 0, 132, 72, 1.187898639, 0.593949319, 0, 517, 77.7, 161.99660490000005, 26242.9, 0, 0, 0, 1, 0, 0, 0, 0, 0, 86.33333333, 101.8333333, 55.33333333, 132, 0, 0, 0, 0, 0, 0, 6, 611, 3, 166, 8192, 60, 5, 20, 0.0, 0.0, 0, 0, 0.0, 0.0, 0, 0, BENIGN\n",
      "Packet detected from ('127.0.0.1', 51914): 244, 1, 2, 0, 0, 0, 0, 0.0, 0.0, 0, 0, 0.0, 0.0, 0.0, 12295.08197, 122.0, 103.2375901, 195, 49, 0, 0.0, 0.0, 0, 0, 49, 49.0, 0.0, 49, 49, 0, 0, 0, 0, 32, 64, 4098.360656, 8196.721311, 0, 0, 0.0, 0.0, 0.0, 0, 0, 0, 0, 1, 1, 0, 0, 2, 0.0, 0.0, 0.0, 32, 0, 0, 0, 0, 0, 0, 1, 0, 2, 0, 269, 65535, 0, 32, 0.0, 0.0, 0, 0, 0.0, 0.0, 0, 0, BENIGN\n",
      "Packet detected from ('127.0.0.1', 51914): 75, 1, 1, 0, 0, 0, 0, 0.0, 0.0, 0, 0, 0.0, 0.0, 0.0, 26666.66667, 75.0, 0.0, 75, 75, 0, 0.0, 0.0, 0, 0, 0, 0.0, 0.0, 0, 0, 0, 0, 0, 0, 32, 32, 13333.33333, 13333.33333, 0, 0, 0.0, 0.0, 0.0, 0, 0, 0, 0, 1, 1, 0, 0, 1, 0.0, 0.0, 0.0, 32, 0, 0, 0, 0, 0, 0, 1, 0, 1, 0, 123, 531, 0, 32, 0.0, 0.0, 0, 0, 0.0, 0.0, 0, 0, BENIGN\n",
      "Packet detected from ('127.0.0.1', 51914): 73, 3, 1, 31, 6, 31, 0, 10.33333333, 17.89785834, 6, 6, 6.0, 0.0, 506849.3151, 54794.52055, 24.33333333, 38.69539163, 69, 1, 4, 2.0, 1.4142135619999998, 3, 1, 0, 0.0, 0.0, 0, 0, 0, 0, 0, 0, 96, 20, 41095.89041, 13698.63014, 0, 31, 7.4, 13.44618905, 180.8, 0, 0, 0, 0, 1, 0, 0, 0, 0, 9.25, 10.33333333, 6.0, 96, 0, 0, 0, 0, 0, 0, 3, 31, 1, 6, 31, 0, 1, 32, 0.0, 0.0, 0, 0, 0.0, 0.0, 0, 0, BENIGN\n",
      "Packet detected from ('127.0.0.1', 51914): 312, 2, 0, 0, 0, 0, 0, 0.0, 0.0, 0, 0, 0.0, 0.0, 0.0, 6410.25641, 312.0, 0.0, 312, 312, 312, 312.0, 0.0, 312, 312, 0, 0.0, 0.0, 0, 0, 0, 0, 0, 0, 64, 0, 6410.25641, 0.0, 0, 0, 0.0, 0.0, 0.0, 0, 0, 0, 0, 1, 0, 0, 0, 0, 0.0, 0.0, 0.0, 64, 0, 0, 0, 0, 0, 0, 2, 0, 0, 0, 118, -1, 0, 32, 0.0, 0.0, 0, 0, 0.0, 0.0, 0, 0, BENIGN\n",
      "Packet detected from ('127.0.0.1', 51914): 385, 2, 2, 74, 622, 37, 37, 37.0, 0.0, 311, 311, 311.0, 0.0, 1807792.208, 10389.61039, 128.3333333, 217.0837012, 379, 3, 3, 3.0, 0.0, 3, 3, 3, 3.0, 0.0, 3, 3, 0, 0, 0, 0, 64, 64, 5194.805195, 5194.805195, 37, 311, 146.6, 150.07598080000002, 22522.8, 0, 0, 0, 0, 0, 0, 0, 0, 1, 183.25, 37.0, 311.0, 64, 0, 0, 0, 0, 0, 0, 2, 74, 2, 622, -1, -1, 1, 32, 0.0, 0.0, 0, 0, 0.0, 0.0, 0, 0, BENIGN\n",
      "Packet detected from ('127.0.0.1', 51914): 83858, 1, 1, 42, 234, 42, 42, 42.0, 0.0, 234, 234, 234.0, 0.0, 3291.278113, 23.8498414, 83858.0, 0.0, 83858, 83858, 0, 0.0, 0.0, 0, 0, 0, 0.0, 0.0, 0, 0, 0, 0, 0, 0, 20, 20, 11.9249207, 11.9249207, 42, 234, 106.0, 110.8512517, 12288.0, 0, 0, 0, 0, 0, 0, 0, 0, 1, 159.0, 42.0, 234.0, 20, 0, 0, 0, 0, 0, 0, 1, 42, 1, 234, -1, -1, 0, 20, 0.0, 0.0, 0, 0, 0.0, 0.0, 0, 0, BENIGN\n",
      "Packet detected from ('127.0.0.1', 51914): 80191, 1, 1, 50, 66, 50, 50, 50.0, 0.0, 66, 66, 66.0, 0.0, 1446.546371, 24.94045466, 80191.0, 0.0, 80191, 80191, 0, 0.0, 0.0, 0, 0, 0, 0.0, 0.0, 0, 0, 0, 0, 0, 0, 20, 20, 12.47022733, 12.47022733, 50, 66, 55.33333333, 9.237604307, 85.33333333, 0, 0, 0, 0, 0, 0, 0, 0, 1, 83.0, 50.0, 66.0, 20, 0, 0, 0, 0, 0, 0, 1, 50, 1, 66, -1, -1, 0, 20, 0.0, 0.0, 0, 0, 0.0, 0.0, 0, 0, BENIGN\n",
      "Packet detected from ('127.0.0.1', 51914): 50184, 1, 1, 54, 108, 54, 54, 54.0, 0.0, 108, 108, 108.0, 0.0, 3228.120516, 39.85333971, 50184.0, 0.0, 50184, 50184, 0, 0.0, 0.0, 0, 0, 0, 0.0, 0.0, 0, 0, 0, 0, 0, 0, 20, 20, 19.92666985, 19.92666985, 54, 108, 72.0, 31.17691454, 972.0, 0, 0, 0, 0, 0, 0, 0, 0, 1, 108.0, 54.0, 108.0, 20, 0, 0, 0, 0, 0, 0, 1, 54, 1, 108, -1, -1, 0, 20, 0.0, 0.0, 0, 0, 0.0, 0.0, 0, 0, BENIGN\n",
      "Packet detected from ('127.0.0.1', 51914): 31114523, 13, 17, 3639, 8032, 2114, 0, 279.9230769, 630.8764355000002, 1844, 0, 472.4705882, 667.5224825, 375.0981495, 0.964179975, 1072914.586, 3078934.436, 10000000, 3, 21200000, 1764230.0, 3861994.237, 10000000, 188, 31100000, 1942406.313, 3999485.414, 10000000, 3, 0, 0, 0, 0, 272, 376, 0.417811322, 0.5463686520000001, 0, 2114, 376.483871, 640.9633828, 410834.0581, 0, 0, 0, 1, 0, 0, 0, 0, 1, 389.0333333, 279.9230769, 472.4705882, 272, 0, 0, 0, 0, 0, 0, 13, 3639, 17, 8032, 8192, 75, 12, 20, 395223.3333, 622637.3402, 1114183, 35668, 9976283.0, 59191.00264, 10000000, 9907940, BENIGN\n",
      "Packet detected from ('127.0.0.1', 51914): 48503, 4, 2, 144, 104, 36, 36, 36.0, 0.0, 52, 52, 52.0, 0.0, 5113.085789, 123.7036884, 9700.6, 13365.72902, 26397, 1, 26402, 8800.666667, 15238.87175, 26397, 1, 4, 4.0, 0.0, 4, 4, 0, 0, 0, 0, 80, 40, 82.46912562, 41.23456281, 36, 52, 40.57142857, 7.8072005839999985, 60.95238095, 0, 0, 0, 0, 0, 0, 0, 0, 0, 47.33333333, 36.0, 52.0, 80, 0, 0, 0, 0, 0, 0, 4, 144, 2, 104, -1, -1, 3, 20, 0.0, 0.0, 0, 0, 0.0, 0.0, 0, 0, BENIGN\n",
      "Packet detected from ('127.0.0.1', 51914): 10108928, 7, 9, 1413, 6269, 1075, 0, 201.8571429, 392.4327665, 1810, 0, 696.5555555999997, 771.6088890999997, 759.9223182, 1.582759319, 673928.5333, 2580143.347, 10000000, 1, 108414, 18069.0, 15450.57853, 34633, 234, 10100000, 1260059.75, 3531736.412, 10000000, 1, 0, 0, 0, 0, 152, 192, 0.692457202, 0.8903021170000001, 0, 1810, 451.8823529, 655.1542645, 429227.1103, 0, 0, 0, 1, 0, 0, 0, 0, 1, 480.125, 201.8571429, 696.5555555999997, 152, 0, 0, 0, 0, 0, 0, 7, 1413, 9, 6269, 8192, 21, 6, 20, 108414.0, 0.0, 108414, 108414, 10000000.0, 0.0, 10000000, 10000000, BENIGN\n",
      "Packet detected from ('127.0.0.1', 51914): 4, 2, 0, 124, 0, 62, 62, 62.0, 0.0, 0, 0, 0.0, 0.0, 31000000.0, 500000.0, 4.0, 0.0, 4, 4, 4, 4.0, 0.0, 4, 4, 0, 0.0, 0.0, 0, 0, 0, 0, 0, 0, 64, 0, 500000.0, 0.0, 62, 62, 62.0, 0.0, 0.0, 0, 0, 0, 0, 0, 0, 0, 0, 0, 93.0, 62.0, 0.0, 64, 0, 0, 0, 0, 0, 0, 2, 124, 0, 0, -1, -1, 1, 32, 0.0, 0.0, 0, 0, 0.0, 0.0, 0, 0, BENIGN\n",
      "Packet detected from ('127.0.0.1', 51914): 3, 2, 0, 0, 0, 0, 0, 0.0, 0.0, 0, 0, 0.0, 0.0, 0.0, 666666.6667, 3.0, 0.0, 3, 3, 3, 3.0, 0.0, 3, 3, 0, 0.0, 0.0, 0, 0, 0, 0, 0, 0, 64, 0, 666666.6667, 0.0, 0, 0, 0.0, 0.0, 0.0, 0, 0, 0, 0, 1, 0, 0, 0, 0, 0.0, 0.0, 0.0, 64, 0, 0, 0, 0, 0, 0, 2, 0, 0, 0, 16477, -1, 0, 32, 0.0, 0.0, 0, 0, 0.0, 0.0, 0, 0, BENIGN\n",
      "Packet detected from ('127.0.0.1', 51914): 4, 2, 0, 37, 0, 31, 6, 18.5, 17.67766953, 0, 0, 0.0, 0.0, 9250000.0, 500000.0, 4.0, 0.0, 4, 4, 4, 4.0, 0.0, 4, 4, 0, 0.0, 0.0, 0, 0, 1, 0, 0, 0, 40, 0, 500000.0, 0.0, 6, 31, 22.66666667, 14.43375673, 208.3333333, 0, 1, 0, 0, 1, 0, 0, 0, 0, 34.0, 18.5, 0.0, 40, 0, 0, 0, 0, 0, 0, 2, 37, 0, 0, 110, -1, 1, 20, 0.0, 0.0, 0, 0, 0.0, 0.0, 0, 0, BENIGN\n",
      "Packet detected from ('127.0.0.1', 51914): 48938, 1, 1, 52, 113, 52, 52, 52.0, 0.0, 113, 113, 113.0, 0.0, 3371.613061, 40.86803711, 48938.0, 0.0, 48938, 48938, 0, 0.0, 0.0, 0, 0, 0, 0.0, 0.0, 0, 0, 0, 0, 0, 0, 32, 32, 20.43401855, 20.43401855, 52, 113, 72.33333333, 35.21836642, 1240.333333, 0, 0, 0, 0, 0, 0, 0, 0, 1, 108.5, 52.0, 113.0, 32, 0, 0, 0, 0, 0, 0, 1, 52, 1, 113, -1, -1, 0, 32, 0.0, 0.0, 0, 0, 0.0, 0.0, 0, 0, BENIGN\n",
      "Packet detected from ('127.0.0.1', 51914): 47230, 1, 1, 81, 163, 81, 81, 81.0, 0.0, 163, 163, 163.0, 0.0, 5166.2079189999995, 42.34596655, 47230.0, 0.0, 47230, 47230, 0, 0.0, 0.0, 0, 0, 0, 0.0, 0.0, 0, 0, 0, 0, 0, 0, 20, 20, 21.17298327, 21.17298327, 81, 163, 108.3333333, 47.34272207, 2241.333333, 0, 0, 0, 0, 0, 0, 0, 0, 1, 162.5, 81.0, 163.0, 20, 0, 0, 0, 0, 0, 0, 1, 81, 1, 163, -1, -1, 0, 20, 0.0, 0.0, 0, 0, 0.0, 0.0, 0, 0, BENIGN\n",
      "Packet detected from ('127.0.0.1', 51914): 364, 2, 2, 74, 622, 37, 37, 37.0, 0.0, 311, 311, 311.0, 0.0, 1912087.912, 10989.01099, 121.3333333, 127.0170592, 268, 48, 48, 48.0, 0.0, 48, 48, 48, 48.0, 0.0, 48, 48, 0, 0, 0, 0, 64, 64, 5494.505495, 5494.505495, 37, 311, 146.6, 150.07598080000002, 22522.8, 0, 0, 0, 0, 0, 0, 0, 0, 1, 183.25, 37.0, 311.0, 64, 0, 0, 0, 0, 0, 0, 2, 74, 2, 622, -1, -1, 1, 32, 0.0, 0.0, 0, 0, 0.0, 0.0, 0, 0, BENIGN\n",
      "Packet detected from ('127.0.0.1', 51914): 47856, 2, 2, 78, 266, 39, 39, 39.0, 0.0, 133, 133, 133.0, 0.0, 7188.231361, 83.58408559, 15952.0, 27545.67002, 47759, 48, 49, 49.0, 0.0, 49, 49, 48, 48.0, 0.0, 48, 48, 0, 0, 0, 0, 40, 64, 41.7920428, 41.7920428, 39, 133, 76.6, 51.48592041, 2650.8, 0, 0, 0, 0, 0, 0, 0, 0, 1, 95.75, 39.0, 133.0, 40, 0, 0, 0, 0, 0, 0, 2, 78, 2, 266, -1, -1, 1, 20, 0.0, 0.0, 0, 0, 0.0, 0.0, 0, 0, BENIGN\n",
      "Packet detected from ('127.0.0.1', 51914): 213, 2, 2, 72, 200, 36, 36, 36.0, 0.0, 100, 100, 100.0, 0.0, 1276995.305, 18779.34272, 71.0, 39.83716857, 117, 48, 48, 48.0, 0.0, 48, 48, 48, 48.0, 0.0, 48, 48, 0, 0, 0, 0, 64, 64, 9389.671362, 9389.671362, 36, 100, 61.6, 35.05424368, 1228.8, 0, 0, 0, 0, 0, 0, 0, 0, 1, 77.0, 36.0, 100.0, 64, 0, 0, 0, 0, 0, 0, 2, 72, 2, 200, -1, -1, 1, 32, 0.0, 0.0, 0, 0, 0.0, 0.0, 0, 0, BENIGN\n",
      "Packet detected from ('127.0.0.1', 51914): 102324, 3, 5, 433, 2279, 427, 0, 144.33333330000005, 244.8148961, 1460, 0, 455.8, 660.3318863, 26504.04597, 78.18302646, 14617.71429, 17897.38105, 35958, 2, 68604, 34302.0, 2341.937659, 35958, 32646, 69760, 17440.0, 34140.63846, 68646, 2, 0, 0, 0, 0, 72, 112, 29.31863492, 48.86439154, 0, 1460, 301.3333333, 518.1782994, 268508.75, 0, 0, 0, 1, 0, 0, 0, 0, 1, 339.0, 144.33333330000005, 455.8, 72, 0, 0, 0, 0, 0, 0, 3, 433, 5, 2279, 8192, 237, 2, 20, 0.0, 0.0, 0, 0, 0.0, 0.0, 0, 0, BENIGN\n",
      "Packet detected from ('127.0.0.1', 51914): 60087781, 18, 20, 1186, 23827, 517, 0, 65.88888889, 152.3968847, 4380, 0, 1191.35, 1400.713513, 416.2743171, 0.63240811, 1623994.081, 3722379.507, 10000000, 3, 50300000, 2958672.118, 4704260.552, 10000000, 202, 60100000, 3161275.421, 4770517.772, 10000000, 3, 0, 0, 0, 0, 380, 412, 0.299561736, 0.332846374, 0, 4380, 641.3589744, 1148.166948, 1318287.341, 0, 0, 0, 1, 0, 0, 0, 0, 1, 658.2368421, 65.88888889, 1191.35, 380, 0, 0, 0, 0, 0, 0, 18, 1186, 20, 23827, 29200, 127, 17, 20, 45151.66667, 53038.89696000001, 153416, 23214, 9969478.0, 102321.2423, 10000000, 9767042, BENIGN\n",
      "Packet detected from ('127.0.0.1', 51914): 47472, 1, 1, 51, 67, 51, 51, 51.0, 0.0, 67, 67, 67.0, 0.0, 2485.675767, 42.13009774, 47472.0, 0.0, 47472, 47472, 0, 0.0, 0.0, 0, 0, 0, 0.0, 0.0, 0, 0, 0, 0, 0, 0, 20, 20, 21.06504887, 21.06504887, 51, 67, 56.33333333, 9.237604307, 85.33333333, 0, 0, 0, 0, 0, 0, 0, 0, 1, 84.5, 51.0, 67.0, 20, 0, 0, 0, 0, 0, 0, 1, 51, 1, 67, -1, -1, 0, 20, 0.0, 0.0, 0, 0, 0.0, 0.0, 0, 0, BENIGN\n",
      "Packet detected from ('127.0.0.1', 51914): 47596, 1, 1, 46, 110, 46, 46, 46.0, 0.0, 110, 110, 110.0, 0.0, 3277.586352, 42.02033784, 47596.0, 0.0, 47596, 47596, 0, 0.0, 0.0, 0, 0, 0, 0.0, 0.0, 0, 0, 0, 0, 0, 0, 40, 20, 21.01016892, 21.01016892, 46, 110, 67.33333333, 36.95041723, 1365.333333, 0, 0, 0, 0, 0, 0, 0, 0, 1, 101.0, 46.0, 110.0, 40, 0, 0, 0, 0, 0, 0, 1, 46, 1, 110, -1, -1, 0, 40, 0.0, 0.0, 0, 0, 0.0, 0.0, 0, 0, BENIGN\n",
      "Packet detected from ('127.0.0.1', 51914): 76267, 4, 2, 188, 350, 47, 47, 47.0, 0.0, 175, 175, 175.0, 0.0, 7054.164973000001, 78.67098483, 15253.4, 23127.54121, 52345, 3, 52539, 17513.0, 30165.543319999997, 52345, 3, 4, 4.0, 0.0, 4, 4, 0, 0, 0, 0, 80, 40, 52.44732322, 26.22366161, 47, 175, 83.57142857, 62.45760467, 3900.952381, 0, 0, 0, 0, 0, 0, 0, 0, 0, 97.5, 47.0, 175.0, 80, 0, 0, 0, 0, 0, 0, 4, 188, 2, 350, -1, -1, 3, 20, 0.0, 0.0, 0, 0, 0.0, 0.0, 0, 0, BENIGN\n",
      "Packet detected from ('127.0.0.1', 51914): 6144517, 9, 6, 384, 3118, 197, 0, 42.66666667, 70.21573898, 1460, 0, 519.6666667, 730.122912, 569.9390204, 2.44120083, 438894.0714, 1433256.493, 5411814, 4, 6144517, 768064.625, 1878170.16, 5411814, 4, 585108, 117021.6, 165020.2747, 353812, 216, 0, 0, 0, 0, 192, 132, 1.464720498, 0.976480332, 0, 1460, 218.875, 488.1969377, 238336.25, 0, 0, 0, 1, 0, 0, 0, 0, 0, 233.4666667, 42.66666667, 519.6666667, 192, 0, 0, 0, 0, 0, 0, 9, 384, 6, 3118, 8192, 110, 8, 20, 732699.0, 0.0, 732699, 732699, 5411814.0, 0.0, 5411814, 5411814, BENIGN\n",
      "Packet detected from ('127.0.0.1', 51914): 49, 2, 0, 124, 0, 62, 62, 62.0, 0.0, 0, 0, 0.0, 0.0, 2530612.245, 40816.32653, 49.0, 0.0, 49, 49, 49, 49.0, 0.0, 49, 49, 0, 0.0, 0.0, 0, 0, 0, 0, 0, 0, 40, 0, 40816.32653, 0.0, 62, 62, 62.0, 0.0, 0.0, 0, 0, 0, 0, 0, 0, 0, 0, 0, 93.0, 62.0, 0.0, 40, 0, 0, 0, 0, 0, 0, 2, 124, 0, 0, -1, -1, 1, 20, 0.0, 0.0, 0, 0, 0.0, 0.0, 0, 0, BENIGN\n",
      "Packet detected from ('127.0.0.1', 51914): 175648, 10, 7, 557, 4513, 200, 0, 55.7, 72.58259663, 1430, 0, 644.7142857000001, 693.433658, 28864.547280000003, 96.78447805, 10978.0, 15091.293630000002, 37175, 3, 175648, 19516.44444, 19232.54125, 50518, 3, 110897, 18482.83333, 24868.57342, 59446, 3, 0, 0, 0, 0, 212, 152, 56.93204591, 39.85243214, 0, 1430, 281.6666667, 511.346895, 261475.6471, 0, 0, 0, 1, 0, 0, 0, 0, 0, 298.2352941000001, 55.7, 644.7142857000001, 212, 0, 0, 0, 0, 0, 0, 10, 557, 7, 4513, 8192, 343, 9, 20, 0.0, 0.0, 0, 0, 0.0, 0.0, 0, 0, BENIGN\n",
      "Packet detected from ('127.0.0.1', 51914): 23894, 2, 2, 70, 102, 35, 35, 35.0, 0.0, 51, 51, 51.0, 0.0, 7198.459864, 167.40604340000002, 7964.666667, 13790.01118, 23888, 3, 3, 3.0, 0.0, 3, 3, 3, 3.0, 0.0, 3, 3, 0, 0, 0, 0, 40, 40, 83.70302168, 83.70302168, 35, 51, 41.4, 8.76356092, 76.8, 0, 0, 0, 0, 0, 0, 0, 0, 1, 51.75, 35.0, 51.0, 40, 0, 0, 0, 0, 0, 0, 2, 70, 2, 102, -1, -1, 1, 20, 0.0, 0.0, 0, 0, 0.0, 0.0, 0, 0, BENIGN\n",
      "Packet detected from ('127.0.0.1', 51914): 85571, 6, 7, 1788, 3368, 1133, 0, 298.0, 454.77510930000005, 1460, 0, 481.14285710000007, 622.9752344999997, 60254.05802999999, 151.9206273, 7130.916667, 10424.21979, 24300, 107, 56761, 11352.2, 12727.90188, 25850, 316, 61435, 10239.16667, 13663.34083, 30633, 197, 0, 0, 0, 0, 132, 152, 70.11721261, 81.80341471, 0, 1460, 368.2857143, 527.4848053000002, 278240.2198, 0, 0, 0, 1, 0, 0, 0, 0, 1, 396.6153846, 298.0, 481.14285710000007, 132, 0, 0, 0, 0, 0, 0, 6, 1788, 7, 3368, 8192, 64, 5, 20, 0.0, 0.0, 0, 0, 0.0, 0.0, 0, 0, BENIGN\n",
      "Packet detected from ('127.0.0.1', 51914): 1823, 2, 0, 12, 0, 6, 6, 6.0, 0.0, 0, 0, 0.0, 0.0, 6582.556226, 1097.092704, 1823.0, 0.0, 1823, 1823, 1823, 1823.0, 0.0, 1823, 1823, 0, 0.0, 0.0, 0, 0, 0, 0, 0, 0, 40, 0, 1097.092704, 0.0, 6, 6, 6.0, 0.0, 0.0, 0, 0, 0, 0, 1, 0, 0, 0, 0, 9.0, 6.0, 0.0, 40, 0, 0, 0, 0, 0, 0, 2, 12, 0, 0, 254, -1, 1, 20, 0.0, 0.0, 0, 0, 0.0, 0.0, 0, 0, BENIGN\n",
      "Packet detected from ('127.0.0.1', 51914): 62, 2, 0, 12, 0, 6, 6, 6.0, 0.0, 0, 0, 0.0, 0.0, 193548.3871, 32258.06452, 62.0, 0.0, 62, 62, 62, 62.0, 0.0, 62, 62, 0, 0.0, 0.0, 0, 0, 0, 0, 0, 0, 40, 0, 32258.06452, 0.0, 6, 6, 6.0, 0.0, 0.0, 0, 0, 0, 0, 1, 0, 0, 0, 0, 9.0, 6.0, 0.0, 40, 0, 0, 0, 0, 0, 0, 2, 12, 0, 0, 630, -1, 1, 20, 0.0, 0.0, 0, 0, 0.0, 0.0, 0, 0, BENIGN\n",
      "Packet detected from ('127.0.0.1', 51914): 23692, 2, 2, 68, 234, 34, 34, 34.0, 0.0, 117, 117, 117.0, 0.0, 12746.91879, 168.8333615, 7897.333333, 13673.38643, 23686, 3, 3, 3.0, 0.0, 3, 3, 3, 3.0, 0.0, 3, 3, 0, 0, 0, 0, 64, 40, 84.41668074, 84.41668074, 34, 117, 67.2, 45.46097227, 2066.7, 0, 0, 0, 0, 0, 0, 0, 0, 1, 84.0, 34.0, 117.0, 64, 0, 0, 0, 0, 0, 0, 2, 68, 2, 234, -1, -1, 1, 32, 0.0, 0.0, 0, 0, 0.0, 0.0, 0, 0, BENIGN\n",
      "Packet detected from ('127.0.0.1', 51914): 306, 2, 2, 84, 340, 42, 42, 42.0, 0.0, 170, 170, 170.0, 0.0, 1385620.915, 13071.89542, 102.0, 169.7409791, 298, 4, 4, 4.0, 0.0, 4, 4, 4, 4.0, 0.0, 4, 4, 0, 0, 0, 0, 40, 40, 6535.947712, 6535.947712, 42, 170, 93.2, 70.10848736, 4915.2, 0, 0, 0, 0, 0, 0, 0, 0, 1, 116.5, 42.0, 170.0, 40, 0, 0, 0, 0, 0, 0, 2, 84, 2, 340, -1, -1, 1, 20, 0.0, 0.0, 0, 0, 0.0, 0.0, 0, 0, BENIGN\n",
      "Packet detected from ('127.0.0.1', 51914): 60504, 4, 2, 180, 146, 45, 45, 45.0, 0.0, 73, 73, 73.0, 0.0, 5388.0735159999995, 99.16699722, 12100.8, 16761.49233, 33861, 3, 26640, 8880.0, 15375.41502, 26634, 3, 3, 3.0, 0.0, 3, 3, 0, 0, 0, 0, 80, 40, 66.11133148, 33.05566574, 45, 73, 53.0, 13.66260102, 186.6666667, 0, 0, 0, 0, 0, 0, 0, 0, 0, 61.83333333, 45.0, 73.0, 80, 0, 0, 0, 0, 0, 0, 4, 180, 2, 146, -1, -1, 3, 20, 0.0, 0.0, 0, 0, 0.0, 0.0, 0, 0, BENIGN\n",
      "Packet detected from ('127.0.0.1', 51914): 5058328, 9, 6, 380, 4875, 193, 0, 42.22222222, 69.12086837, 1689, 2, 812.5, 802.6939017999997, 1038.880832, 2.965406751, 361309.1429, 1297471.723, 4868770, 3, 5058328, 632291.0, 1712057.1730000004, 4868770, 3, 99280, 19856.0, 27127.89751000001, 60916, 76, 0, 0, 0, 0, 192, 124, 1.779244051, 1.1861627, 0, 1689, 328.4375, 606.1271558999998, 367390.1292, 0, 0, 0, 1, 0, 0, 0, 0, 0, 350.3333333, 42.22222222, 812.5, 192, 0, 0, 0, 0, 0, 0, 9, 380, 6, 4875, 8192, 30016, 8, 20, 0.0, 0.0, 0, 0, 0.0, 0.0, 0, 0, BENIGN\n",
      "Packet detected from ('127.0.0.1', 51914): 39, 1, 1, 6, 6, 6, 6, 6.0, 0.0, 6, 6, 6.0, 0.0, 307692.3077, 51282.05128, 39.0, 0.0, 39, 39, 0, 0.0, 0.0, 0, 0, 0, 0.0, 0.0, 0, 0, 0, 0, 0, 0, 20, 20, 25641.02564, 25641.02564, 6, 6, 6.0, 0.0, 0.0, 0, 0, 0, 0, 1, 1, 0, 0, 1, 9.0, 6.0, 6.0, 20, 0, 0, 0, 0, 0, 0, 1, 6, 1, 6, 343, 258, 0, 20, 0.0, 0.0, 0, 0, 0.0, 0.0, 0, 0, BENIGN\n",
      "Packet detected from ('127.0.0.1', 51914): 51185, 1, 1, 0, 0, 0, 0, 0.0, 0.0, 0, 0, 0.0, 0.0, 0.0, 39.07394745, 51185.0, 0.0, 51185, 51185, 0, 0.0, 0.0, 0, 0, 0, 0.0, 0.0, 0, 0, 0, 0, 0, 0, 32, 32, 19.53697372, 19.53697372, 0, 0, 0.0, 0.0, 0.0, 0, 0, 0, 0, 1, 1, 0, 0, 1, 0.0, 0.0, 0.0, 32, 0, 0, 0, 0, 0, 0, 1, 0, 1, 0, 237, 110, 0, 32, 0.0, 0.0, 0, 0, 0.0, 0.0, 0, 0, BENIGN\n",
      "Packet detected from ('127.0.0.1', 51914): 16406958, 8, 8, 1219, 1187, 615, 0, 152.375, 258.3845072, 1006, 0, 148.375, 350.3826225, 146.64510019999997, 0.975196011, 1093797.2, 2878369.1010000007, 9960016, 3, 10400000, 1485954.7140000004, 3737351.489, 9960016, 1394, 16300000, 2327226.143, 4064138.045, 10100000, 3, 0, 0, 0, 0, 264, 264, 0.487598006, 0.487598006, 0, 1006, 141.5294118, 290.2649904999999, 84253.76471, 0, 0, 0, 1, 0, 0, 0, 0, 1, 150.375, 152.375, 148.375, 264, 0, 0, 0, 0, 0, 0, 8, 1219, 8, 1187, 29200, 124, 3, 32, 279097.5, 229907.9917, 441667, 116528, 7924380.0, 2878824.039, 9960016, 5888744, BENIGN\n",
      "Packet detected from ('127.0.0.1', 51914): 59533, 1, 1, 52, 116, 52, 52, 52.0, 0.0, 116, 116, 116.0, 0.0, 2821.964289, 33.59481296, 59533.0, 0.0, 59533, 59533, 0, 0.0, 0.0, 0, 0, 0, 0.0, 0.0, 0, 0, 0, 0, 0, 0, 20, 32, 16.79740648, 16.79740648, 52, 116, 73.33333333, 36.95041723, 1365.333333, 0, 0, 0, 0, 0, 0, 0, 0, 1, 110.0, 52.0, 116.0, 20, 0, 0, 0, 0, 0, 0, 1, 52, 1, 116, -1, -1, 0, 20, 0.0, 0.0, 0, 0, 0.0, 0.0, 0, 0, BENIGN\n",
      "Packet detected from ('127.0.0.1', 51914): 276, 2, 2, 62, 264, 31, 31, 31.0, 0.0, 132, 132, 132.0, 0.0, 1181159.42, 14492.75362, 92.0, 153.2873119, 269, 3, 4, 4.0, 0.0, 4, 4, 3, 3.0, 0.0, 3, 3, 0, 0, 0, 0, 40, 40, 7246.376812, 7246.376812, 31, 132, 71.4, 55.31997831, 3060.3, 0, 0, 0, 0, 0, 0, 0, 0, 1, 89.25, 31.0, 132.0, 40, 0, 0, 0, 0, 0, 0, 2, 62, 2, 264, -1, -1, 1, 20, 0.0, 0.0, 0, 0, 0.0, 0.0, 0, 0, BENIGN\n",
      "Packet detected from ('127.0.0.1', 51914): 153, 1, 1, 6, 6, 6, 6, 6.0, 0.0, 6, 6, 6.0, 0.0, 78431.37255, 13071.89542, 153.0, 0.0, 153, 153, 0, 0.0, 0.0, 0, 0, 0, 0.0, 0.0, 0, 0, 0, 0, 0, 0, 20, 20, 6535.947712, 6535.947712, 6, 6, 6.0, 0.0, 0.0, 0, 0, 0, 0, 1, 1, 0, 0, 1, 9.0, 6.0, 6.0, 20, 0, 0, 0, 0, 0, 0, 1, 6, 1, 6, 114, 254, 0, 20, 0.0, 0.0, 0, 0, 0.0, 0.0, 0, 0, BENIGN\n",
      "Packet detected from ('127.0.0.1', 51914): 259, 4, 1, 121, 6, 46, 6, 30.25, 17.28920665, 6, 6, 6.0, 0.0, 490347.4903, 19305.01931, 64.75, 59.60634754, 145, 2, 259, 86.33333333, 108.6937594, 209, 2, 0, 0.0, 0.0, 0, 0, 1, 0, 0, 0, 80, 20, 15444.01544, 3861.003861, 6, 46, 27.5, 17.31762108, 299.9, 0, 1, 0, 0, 1, 0, 0, 0, 0, 33.0, 30.25, 6.0, 80, 0, 0, 0, 0, 0, 0, 4, 121, 1, 6, 119, 0, 3, 20, 0.0, 0.0, 0, 0, 0.0, 0.0, 0, 0, BENIGN\n",
      "Packet detected from ('127.0.0.1', 51914): 20729286, 18, 21, 1344, 23946, 709, 0, 74.66666667, 199.7274614, 4344, 0, 1140.285714, 980.7201509, 1220.013077, 1.881396204, 545507.5263, 2262808.7, 10000000, 2, 20700000, 1219369.765, 3315170.338, 10000000, 4, 20100000, 1005949.4, 3085275.458, 10000000, 2, 0, 0, 0, 0, 584, 680, 0.86833671, 1.013059495, 0, 4344, 632.25, 896.2946445, 803344.0897, 0, 0, 0, 1, 0, 0, 0, 0, 1, 648.4615385, 74.66666667, 1140.285714, 584, 0, 0, 0, 0, 0, 0, 18, 1344, 21, 23946, 29200, 123, 4, 32, 49886.5, 46385.49774, 82686, 17087, 10000000.0, 18035.46556, 10000000, 9997406, BENIGN\n",
      "Packet detected from ('127.0.0.1', 51914): 23850, 1, 1, 46, 110, 46, 46, 46.0, 0.0, 110, 110, 110.0, 0.0, 6540.880503, 83.85744235, 23850.0, 0.0, 23850, 23850, 0, 0.0, 0.0, 0, 0, 0, 0.0, 0.0, 0, 0, 0, 0, 0, 0, 32, 40, 41.92872117, 41.92872117, 46, 110, 67.33333333, 36.95041723, 1365.333333, 0, 0, 0, 0, 0, 0, 0, 0, 1, 101.0, 46.0, 110.0, 32, 0, 0, 0, 0, 0, 0, 1, 46, 1, 110, -1, -1, 0, 32, 0.0, 0.0, 0, 0, 0.0, 0.0, 0, 0, BENIGN\n",
      "Packet detected from ('127.0.0.1', 51914): 103337397, 17, 19, 3027, 12321, 981, 6, 178.05882350000005, 383.1288084, 2661, 6, 648.4736842, 852.6547672, 148.5231915, 0.348373397, 2952497.057, 4525818.2080000015, 10200000, 3, 103000000, 6458587.312999999, 4748718.058, 10200000, 3, 100000000, 5581956.222, 5077818.217, 10200000, 48, 0, 0, 0, 0, 340, 380, 0.16450966, 0.183863737, 6, 2661, 414.972973, 699.0536256, 488675.9715, 0, 0, 0, 0, 1, 0, 0, 0, 1, 426.5, 178.05882350000005, 648.4736842, 340, 0, 0, 0, 0, 0, 0, 17, 3027, 19, 12321, 256, 5120, 16, 20, 81776.6, 86469.57254, 220633, 28298, 9965763.7, 159157.6721, 10200000, 9676565, BENIGN\n",
      "Packet detected from ('127.0.0.1', 51914): 51586483, 3, 2, 58, 52, 46, 6, 19.33333333, 23.09401077, 46, 6, 26.0, 28.28427125, 2.132341528, 0.096924615, 12900000.0, 25700000.0, 51500000, 1481, 51600000, 25800000.0, 36300000.0, 51500000, 92719, 1481, 1481.0, 0.0, 1481, 1481, 1, 0, 0, 0, 60, 40, 0.058154769, 0.038769846, 6, 46, 26.0, 21.9089023, 480.0, 0, 1, 0, 0, 1, 0, 0, 0, 0, 31.2, 19.33333333, 26.0, 60, 0, 0, 0, 0, 0, 0, 3, 58, 2, 52, 258, 390, 2, 20, 92719.0, 0.0, 92719, 92719, 51500000.0, 0.0, 51500000, 51500000, BENIGN\n",
      "Packet detected from ('127.0.0.1', 51914): 220, 2, 2, 86, 406, 43, 43, 43.0, 0.0, 203, 203, 203.0, 0.0, 2236363.636, 18181.81818, 73.33333333, 120.9559148, 213, 3, 4, 4.0, 0.0, 4, 4, 3, 3.0, 0.0, 3, 3, 0, 0, 0, 0, 40, 40, 9090.909091, 9090.909091, 43, 203, 107.0, 87.6356092, 7680.0, 0, 0, 0, 0, 0, 0, 0, 0, 1, 133.75, 43.0, 203.0, 40, 0, 0, 0, 0, 0, 0, 2, 86, 2, 406, -1, -1, 1, 20, 0.0, 0.0, 0, 0, 0.0, 0.0, 0, 0, BENIGN\n",
      "Packet detected from ('127.0.0.1', 51914): 55596875, 17, 21, 2430, 3006, 336, 6, 142.94117649999995, 164.0638102, 382, 6, 143.1428571, 171.9689756, 97.77527964, 0.6834916529999999, 1502618.243, 5444364.512, 27200000, 1, 55600000, 3474804.688, 7989318.635, 27200000, 200, 36300000, 1816695.9, 6148905.69, 27300000, 1, 1, 0, 0, 0, 340, 420, 0.305772582, 0.377719071, 6, 382, 140.56410259999998, 164.7418706, 27139.883939999996, 0, 1, 0, 0, 1, 0, 0, 0, 1, 144.2631579, 142.94117649999995, 143.1428571, 340, 0, 0, 0, 0, 0, 0, 17, 2430, 21, 3006, 256, 165, 16, 20, 1077348.0, 1755115.658, 3103961, 56245, 17500000.0, 10800000.0, 27200000, 5904912, BENIGN\n",
      "Packet detected from ('127.0.0.1', 51914): 171, 2, 2, 88, 188, 44, 44, 44.0, 0.0, 94, 94, 94.0, 0.0, 1614035.0880000002, 23391.81287, 57.0, 95.26804291, 167, 1, 3, 3.0, 0.0, 3, 3, 1, 1.0, 0.0, 1, 1, 0, 0, 0, 0, 40, 40, 11695.90643, 11695.90643, 44, 94, 64.0, 27.38612788, 750.0, 0, 0, 0, 0, 0, 0, 0, 0, 1, 80.0, 44.0, 94.0, 40, 0, 0, 0, 0, 0, 0, 2, 88, 2, 188, -1, -1, 1, 20, 0.0, 0.0, 0, 0, 0.0, 0.0, 0, 0, BENIGN\n",
      "Packet detected from ('127.0.0.1', 51914): 178, 2, 2, 72, 104, 36, 36, 36.0, 0.0, 52, 52, 52.0, 0.0, 988764.0449, 22471.91011, 59.33333333, 62.14767360000001, 126, 3, 49, 49.0, 0.0, 49, 49, 3, 3.0, 0.0, 3, 3, 0, 0, 0, 0, 40, 40, 11235.95506, 11235.95506, 36, 52, 42.4, 8.76356092, 76.8, 0, 0, 0, 0, 0, 0, 0, 0, 1, 53.0, 36.0, 52.0, 40, 0, 0, 0, 0, 0, 0, 2, 72, 2, 104, -1, -1, 1, 20, 0.0, 0.0, 0, 0, 0.0, 0.0, 0, 0, BENIGN\n",
      "Packet detected from ('127.0.0.1', 51914): 170, 2, 2, 78, 110, 39, 39, 39.0, 0.0, 55, 55, 55.0, 0.0, 1105882.353, 23529.41176, 56.66666667, 94.69072464, 166, 1, 1, 1.0, 0.0, 1, 1, 3, 3.0, 0.0, 3, 3, 0, 0, 0, 0, 40, 40, 11764.70588, 11764.70588, 39, 55, 45.4, 8.76356092, 76.8, 0, 0, 0, 0, 0, 0, 0, 0, 1, 56.75, 39.0, 55.0, 40, 0, 0, 0, 0, 0, 0, 2, 78, 2, 110, -1, -1, 1, 20, 0.0, 0.0, 0, 0, 0.0, 0.0, 0, 0, BENIGN\n",
      "Packet detected from ('127.0.0.1', 51914): 4, 2, 0, 31, 0, 31, 0, 15.5, 21.92031022, 0, 0, 0.0, 0.0, 7750000.0, 500000.0, 4.0, 0.0, 4, 4, 4, 4.0, 0.0, 4, 4, 0, 0.0, 0.0, 0, 0, 1, 0, 0, 0, 64, 0, 500000.0, 0.0, 0, 31, 20.66666667, 17.89785834, 320.3333333, 0, 1, 0, 0, 1, 0, 0, 0, 0, 31.0, 15.5, 0.0, 64, 0, 0, 0, 0, 0, 0, 2, 31, 0, 0, 88, -1, 0, 32, 0.0, 0.0, 0, 0, 0.0, 0.0, 0, 0, BENIGN\n",
      "Packet detected from ('127.0.0.1', 51914): 319, 2, 2, 90, 206, 45, 45, 45.0, 0.0, 103, 103, 103.0, 0.0, 927899.6865, 12539.18495, 106.3333333, 124.6849363, 244, 1, 1, 1.0, 0.0, 1, 1, 74, 74.0, 0.0, 74, 74, 0, 0, 0, 0, 40, 40, 6269.592476, 6269.592476, 45, 103, 68.2, 31.76790834, 1009.2, 0, 0, 0, 0, 0, 0, 0, 0, 1, 85.25, 45.0, 103.0, 40, 0, 0, 0, 0, 0, 0, 2, 90, 2, 206, -1, -1, 1, 20, 0.0, 0.0, 0, 0, 0.0, 0.0, 0, 0, BENIGN\n",
      "Packet detected from ('127.0.0.1', 51914): 204, 2, 2, 90, 122, 45, 45, 45.0, 0.0, 61, 61, 61.0, 0.0, 1039215.686, 19607.84314, 68.0, 111.718396, 197, 3, 3, 3.0, 0.0, 3, 3, 4, 4.0, 0.0, 4, 4, 0, 0, 0, 0, 64, 64, 9803.921569, 9803.921569, 45, 61, 51.4, 8.76356092, 76.8, 0, 0, 0, 0, 0, 0, 0, 0, 1, 64.25, 45.0, 61.0, 64, 0, 0, 0, 0, 0, 0, 2, 90, 2, 122, -1, -1, 1, 32, 0.0, 0.0, 0, 0, 0.0, 0.0, 0, 0, BENIGN\n",
      "Packet detected from ('127.0.0.1', 51914): 46879, 1, 1, 49, 146, 49, 49, 49.0, 0.0, 146, 146, 146.0, 0.0, 4159.645044, 42.66302609, 46879.0, 0.0, 46879, 46879, 0, 0.0, 0.0, 0, 0, 0, 0.0, 0.0, 0, 0, 0, 0, 0, 0, 20, 32, 21.33151304, 21.33151304, 49, 146, 81.33333333, 56.00297611, 3136.333333, 0, 0, 0, 0, 0, 0, 0, 0, 1, 122.0, 49.0, 146.0, 20, 0, 0, 0, 0, 0, 0, 1, 49, 1, 146, -1, -1, 0, 20, 0.0, 0.0, 0, 0, 0.0, 0.0, 0, 0, BENIGN\n",
      "Packet detected from ('127.0.0.1', 51914): 589700, 8, 6, 347, 4993, 191, 0, 43.375, 73.17871958, 1460, 0, 832.1666667000003, 697.4784346, 9055.451925, 23.740885199999997, 45361.53846, 89175.35072999998, 328478, 1, 589700, 84242.85714, 114471.2373, 328478, 473, 137504, 27500.8, 38009.48934, 78600, 49, 0, 0, 0, 0, 172, 132, 13.56622011, 10.17466508, 0, 1460, 356.0, 581.8005304, 338491.8571, 0, 0, 0, 1, 0, 0, 0, 0, 0, 381.4285713999999, 43.375, 832.1666667000003, 172, 0, 0, 0, 0, 0, 0, 8, 347, 6, 4993, 8192, 60, 7, 20, 0.0, 0.0, 0, 0, 0.0, 0.0, 0, 0, BENIGN\n",
      "Packet detected from ('127.0.0.1', 51914): 47245, 4, 2, 124, 246, 31, 31, 31.0, 0.0, 123, 123, 123.0, 0.0, 7831.516562999999, 126.9975659, 9449.0, 14957.9354, 34298, 3, 34350, 11450.0, 19786.96179, 34298, 3, 49, 49.0, 0.0, 49, 49, 0, 0, 0, 0, 104, 40, 84.66504392, 42.33252196, 31, 123, 57.28571429, 44.89140336, 2015.238095, 0, 0, 0, 0, 0, 0, 0, 0, 0, 66.83333333, 31.0, 123.0, 104, 0, 0, 0, 0, 0, 0, 4, 124, 2, 246, -1, -1, 3, 20, 0.0, 0.0, 0, 0, 0.0, 0.0, 0, 0, BENIGN\n",
      "Packet detected from ('127.0.0.1', 51914): 237, 2, 2, 84, 310, 42, 42, 42.0, 0.0, 155, 155, 155.0, 0.0, 1662447.257, 16877.637130000003, 79.0, 82.27393269, 167, 4, 4, 4.0, 0.0, 4, 4, 66, 66.0, 0.0, 66, 66, 0, 0, 0, 0, 40, 40, 8438.818565000001, 8438.818565000001, 42, 155, 87.2, 61.892649, 3830.7, 0, 0, 0, 0, 0, 0, 0, 0, 1, 109.0, 42.0, 155.0, 40, 0, 0, 0, 0, 0, 0, 2, 84, 2, 310, -1, -1, 1, 20, 0.0, 0.0, 0, 0, 0.0, 0.0, 0, 0, BENIGN\n",
      "Packet detected from ('127.0.0.1', 51914): 153, 2, 2, 106, 138, 53, 53, 53.0, 0.0, 69, 69, 69.0, 0.0, 1594771.242, 26143.79085, 51.0, 83.13843876, 147, 3, 3, 3.0, 0.0, 3, 3, 3, 3.0, 0.0, 3, 3, 0, 0, 0, 0, 64, 64, 13071.89542, 13071.89542, 53, 69, 59.4, 8.76356092, 76.8, 0, 0, 0, 0, 0, 0, 0, 0, 1, 74.25, 53.0, 69.0, 64, 0, 0, 0, 0, 0, 0, 2, 106, 2, 138, -1, -1, 1, 32, 0.0, 0.0, 0, 0, 0.0, 0.0, 0, 0, BENIGN\n",
      "Packet detected from ('127.0.0.1', 51914): 139, 2, 0, 12, 0, 6, 6, 6.0, 0.0, 0, 0, 0.0, 0.0, 86330.93525, 14388.48921, 139.0, 0.0, 139, 139, 139, 139.0, 0.0, 139, 139, 0, 0.0, 0.0, 0, 0, 0, 0, 0, 0, 40, 0, 14388.48921, 0.0, 6, 6, 6.0, 0.0, 0.0, 0, 0, 0, 0, 1, 0, 0, 0, 0, 9.0, 6.0, 0.0, 40, 0, 0, 0, 0, 0, 0, 2, 12, 0, 0, 253, -1, 1, 20, 0.0, 0.0, 0, 0, 0.0, 0.0, 0, 0, BENIGN\n",
      "Packet detected from ('127.0.0.1', 51914): 116040663, 23, 19, 3450, 5358, 1654, 0, 150.0, 445.5965358, 1448, 0, 282.0, 533.9489156000002, 75.90442671, 0.3619420889999999, 2830260.0730000013, 4545828.578, 10200000, 1, 116000000, 5274575.591, 5116482.864, 10200000, 1, 113000000, 6253396.222, 5124710.75, 10200000, 192, 0, 0, 0, 0, 744, 616, 0.198206382, 0.1637357069999999, 0, 1654, 204.8372093, 481.1769762, 231531.2824, 0, 0, 0, 1, 0, 0, 0, 0, 0, 209.7142857, 150.0, 282.0, 744, 0, 0, 0, 0, 0, 0, 23, 3450, 19, 5358, 29200, 71, 5, 32, 38862.0, 21963.81246, 105084, 32021, 10200000.0, 45730.2933, 10200000, 10100000, BENIGN\n",
      "Packet detected from ('127.0.0.1', 51914): 33878, 2, 1, 12, 6, 6, 6, 6.0, 0.0, 6, 6, 6.0, 0.0, 531.3182596, 88.55304327, 16939.0, 23953.94932, 33877, 1, 1, 1.0, 0.0, 1, 1, 0, 0.0, 0.0, 0, 0, 0, 0, 0, 0, 40, 20, 59.03536218, 29.51768109, 6, 6, 6.0, 0.0, 0.0, 1, 0, 0, 0, 0, 0, 0, 0, 0, 8.0, 6.0, 6.0, 40, 0, 0, 0, 0, 0, 0, 2, 12, 1, 6, 0, 0, 1, 20, 0.0, 0.0, 0, 0, 0.0, 0.0, 0, 0, BENIGN\n",
      "Packet detected from ('127.0.0.1', 51914): 133674, 2, 2, 68, 212, 34, 34, 34.0, 0.0, 106, 106, 106.0, 0.0, 2094.648174, 29.92354534, 44558.0, 77131.68999, 133622, 3, 49, 49.0, 0.0, 49, 49, 3, 3.0, 0.0, 3, 3, 0, 0, 0, 0, 80, 80, 14.96177267, 14.96177267, 34, 106, 62.8, 39.43602414, 1555.2, 0, 0, 0, 0, 0, 0, 0, 0, 1, 78.5, 34.0, 106.0, 80, 0, 0, 0, 0, 0, 0, 2, 68, 2, 212, -1, -1, 1, 40, 0.0, 0.0, 0, 0, 0.0, 0.0, 0, 0, BENIGN\n",
      "Packet detected from ('127.0.0.1', 51914): 548, 1, 1, 46, 98, 46, 46, 46.0, 0.0, 98, 98, 98.0, 0.0, 262773.7226, 3649.635036, 548.0, 0.0, 548, 548, 0, 0.0, 0.0, 0, 0, 0, 0.0, 0.0, 0, 0, 0, 0, 0, 0, 32, 32, 1824.817518, 1824.817518, 46, 98, 63.33333333, 30.022214, 901.3333332999996, 0, 0, 0, 0, 0, 0, 0, 0, 1, 95.0, 46.0, 98.0, 32, 0, 0, 0, 0, 0, 0, 1, 46, 1, 98, -1, -1, 0, 32, 0.0, 0.0, 0, 0, 0.0, 0.0, 0, 0, BENIGN\n",
      "Packet detected from ('127.0.0.1', 51914): 49006, 1, 1, 41, 57, 41, 41, 41.0, 0.0, 57, 57, 57.0, 0.0, 1999.755132, 40.81132922, 49006.0, 0.0, 49006, 49006, 0, 0.0, 0.0, 0, 0, 0, 0.0, 0.0, 0, 0, 0, 0, 0, 0, 32, 32, 20.40566461, 20.40566461, 41, 57, 46.33333333, 9.237604307, 85.33333333, 0, 0, 0, 0, 0, 0, 0, 0, 1, 69.5, 41.0, 57.0, 32, 0, 0, 0, 0, 0, 0, 1, 41, 1, 57, -1, -1, 0, 32, 0.0, 0.0, 0, 0, 0.0, 0.0, 0, 0, BENIGN\n",
      "Packet detected from ('127.0.0.1', 51914): 51, 1, 1, 0, 0, 0, 0, 0.0, 0.0, 0, 0, 0.0, 0.0, 0.0, 39215.68627, 51.0, 0.0, 51, 51, 0, 0.0, 0.0, 0, 0, 0, 0.0, 0.0, 0, 0, 0, 0, 0, 0, 32, 32, 19607.84314, 19607.84314, 0, 0, 0.0, 0.0, 0.0, 0, 0, 0, 0, 1, 1, 0, 0, 1, 0.0, 0.0, 0.0, 32, 0, 0, 0, 0, 0, 0, 1, 0, 1, 0, 275, 272, 0, 32, 0.0, 0.0, 0, 0, 0.0, 0.0, 0, 0, BENIGN\n",
      "Packet detected from ('127.0.0.1', 51914): 74, 1, 1, 6, 6, 6, 6, 6.0, 0.0, 6, 6, 6.0, 0.0, 162162.1622, 27027.02703, 74.0, 0.0, 74, 74, 0, 0.0, 0.0, 0, 0, 0, 0.0, 0.0, 0, 0, 0, 0, 0, 0, 20, 20, 13513.51351, 13513.51351, 6, 6, 6.0, 0.0, 0.0, 0, 0, 0, 0, 1, 1, 0, 0, 1, 9.0, 6.0, 6.0, 20, 0, 0, 0, 0, 0, 0, 1, 6, 1, 6, 980, 256, 0, 20, 0.0, 0.0, 0, 0, 0.0, 0.0, 0, 0, BENIGN\n",
      "Packet detected from ('127.0.0.1', 51914): 23736, 1, 1, 56, 72, 56, 56, 56.0, 0.0, 72, 72, 72.0, 0.0, 5392.652511, 84.26019548, 23736.0, 0.0, 23736, 23736, 0, 0.0, 0.0, 0, 0, 0, 0.0, 0.0, 0, 0, 0, 0, 0, 0, 32, 32, 42.13009774, 42.13009774, 56, 72, 61.33333333, 9.237604307, 85.33333333, 0, 0, 0, 0, 0, 0, 0, 0, 1, 92.0, 56.0, 72.0, 32, 0, 0, 0, 0, 0, 0, 1, 56, 1, 72, -1, -1, 0, 32, 0.0, 0.0, 0, 0, 0.0, 0.0, 0, 0, BENIGN\n",
      "Packet detected from ('127.0.0.1', 51914): 3, 2, 0, 0, 0, 0, 0, 0.0, 0.0, 0, 0, 0.0, 0.0, 0.0, 666666.6667, 3.0, 0.0, 3, 3, 3, 3.0, 0.0, 3, 3, 0, 0.0, 0.0, 0, 0, 0, 0, 0, 0, 64, 0, 666666.6667, 0.0, 0, 0, 0.0, 0.0, 0.0, 0, 0, 0, 0, 1, 0, 0, 0, 0, 0.0, 0.0, 0.0, 64, 0, 0, 0, 0, 0, 0, 2, 0, 0, 0, 349, -1, 0, 32, 0.0, 0.0, 0, 0, 0.0, 0.0, 0, 0, BENIGN\n",
      "Packet detected from ('127.0.0.1', 51914): 169, 2, 2, 66, 122, 33, 33, 33.0, 0.0, 61, 61, 61.0, 0.0, 1112426.0359999998, 23668.63905, 56.33333333, 90.64399226, 161, 4, 4, 4.0, 0.0, 4, 4, 4, 4.0, 0.0, 4, 4, 0, 0, 0, 0, 64, 64, 11834.31953, 11834.31953, 33, 61, 44.2, 15.33623161, 235.2, 0, 0, 0, 0, 0, 0, 0, 0, 1, 55.25, 33.0, 61.0, 64, 0, 0, 0, 0, 0, 0, 2, 66, 2, 122, -1, -1, 1, 32, 0.0, 0.0, 0, 0, 0.0, 0.0, 0, 0, BENIGN\n",
      "Packet detected from ('127.0.0.1', 51914): 997, 2, 2, 2944, 578, 1472, 1472, 1472.0, 0.0, 289, 289, 289.0, 0.0, 3532597.793, 4012.036108, 332.3333333, 569.5580158, 990, 2, 5, 5.0, 0.0, 5, 5, 2, 2.0, 0.0, 2, 2, 0, 0, 0, 0, 64, 64, 2006.018054, 2006.018054, 289, 1472, 998.8, 647.9557855, 419846.7, 0, 0, 0, 0, 0, 0, 0, 0, 1, 1248.5, 1472.0, 289.0, 64, 0, 0, 0, 0, 0, 0, 2, 2944, 2, 578, -1, -1, 1, 32, 0.0, 0.0, 0, 0, 0.0, 0.0, 0, 0, BENIGN\n",
      "Packet detected from ('127.0.0.1', 51914): 196, 2, 2, 94, 196, 47, 47, 47.0, 0.0, 98, 98, 98.0, 0.0, 1479591.8369999998, 20408.163269999997, 65.33333333, 107.09964209999998, 189, 3, 3, 3.0, 0.0, 3, 3, 4, 4.0, 0.0, 4, 4, 0, 0, 0, 0, 64, 64, 10204.08163, 10204.08163, 47, 98, 67.4, 27.93385043, 780.3, 0, 0, 0, 0, 0, 0, 0, 0, 1, 84.25, 47.0, 98.0, 64, 0, 0, 0, 0, 0, 0, 2, 94, 2, 196, -1, -1, 1, 32, 0.0, 0.0, 0, 0, 0.0, 0.0, 0, 0, BENIGN\n",
      "Packet detected from ('127.0.0.1', 51914): 237, 2, 0, 12, 0, 6, 6, 6.0, 0.0, 0, 0, 0.0, 0.0, 50632.91139, 8438.818565000001, 237.0, 0.0, 237, 237, 237, 237.0, 0.0, 237, 237, 0, 0.0, 0.0, 0, 0, 0, 0, 0, 0, 40, 0, 8438.818565000001, 0.0, 6, 6, 6.0, 0.0, 0.0, 0, 0, 0, 0, 1, 0, 0, 0, 0, 9.0, 6.0, 0.0, 40, 0, 0, 0, 0, 0, 0, 2, 12, 0, 0, 254, -1, 1, 20, 0.0, 0.0, 0, 0, 0.0, 0.0, 0, 0, BENIGN\n",
      "Packet detected from ('127.0.0.1', 51914): 1, 2, 0, 124, 0, 62, 62, 62.0, 0.0, 0, 0, 0.0, 0.0, 124000000.0, 2000000.0, 1.0, 0.0, 1, 1, 1, 1.0, 0.0, 1, 1, 0, 0.0, 0.0, 0, 0, 0, 0, 0, 0, 40, 0, 2000000.0, 0.0, 62, 62, 62.0, 0.0, 0.0, 0, 0, 0, 0, 0, 0, 0, 0, 0, 93.0, 62.0, 0.0, 40, 0, 0, 0, 0, 0, 0, 2, 124, 0, 0, -1, -1, 1, 20, 0.0, 0.0, 0, 0, 0.0, 0.0, 0, 0, BENIGN\n",
      "Packet detected from ('127.0.0.1', 51914): 191, 2, 2, 62, 190, 31, 31, 31.0, 0.0, 95, 95, 95.0, 0.0, 1319371.728, 20942.40838, 63.66666667, 69.17610377, 139, 3, 3, 3.0, 0.0, 3, 3, 49, 49.0, 0.0, 49, 49, 0, 0, 0, 0, 64, 64, 10471.20419, 10471.20419, 31, 95, 56.6, 35.05424368, 1228.8, 0, 0, 0, 0, 0, 0, 0, 0, 1, 70.75, 31.0, 95.0, 64, 0, 0, 0, 0, 0, 0, 2, 62, 2, 190, -1, -1, 1, 32, 0.0, 0.0, 0, 0, 0.0, 0.0, 0, 0, BENIGN\n",
      "Packet detected from ('127.0.0.1', 51914): 226, 2, 2, 68, 344, 34, 34, 34.0, 0.0, 172, 172, 172.0, 0.0, 1823008.85, 17699.11504, 75.33333333, 88.23453594, 174, 4, 4, 4.0, 0.0, 4, 4, 48, 48.0, 0.0, 48, 48, 0, 0, 0, 0, 40, 40, 8849.557522, 8849.557522, 34, 172, 89.2, 75.58571294, 5713.2, 0, 0, 0, 0, 0, 0, 0, 0, 1, 111.5, 34.0, 172.0, 40, 0, 0, 0, 0, 0, 0, 2, 68, 2, 344, -1, -1, 1, 20, 0.0, 0.0, 0, 0, 0.0, 0.0, 0, 0, BENIGN\n",
      "Packet detected from ('127.0.0.1', 51914): 246, 2, 2, 64, 204, 32, 32, 32.0, 0.0, 102, 102, 102.0, 0.0, 1089430.894, 16260.1626, 82.0, 130.7937307, 233, 4, 4, 4.0, 0.0, 4, 4, 9, 9.0, 0.0, 9, 9, 0, 0, 0, 0, 40, 40, 8130.081301, 8130.081301, 32, 102, 60.0, 38.34057903, 1470.0, 0, 0, 0, 0, 0, 0, 0, 0, 1, 75.0, 32.0, 102.0, 40, 0, 0, 0, 0, 0, 0, 2, 64, 2, 204, -1, -1, 1, 20, 0.0, 0.0, 0, 0, 0.0, 0.0, 0, 0, BENIGN\n",
      "Packet detected from ('127.0.0.1', 51914): 304, 3, 0, 31, 0, 31, 0, 10.33333333, 17.89785834, 0, 0, 0.0, 0.0, 101973.6842, 9868.421053, 152.0, 145.6639969, 255, 49, 304, 152.0, 145.6639969, 255, 49, 0, 0.0, 0.0, 0, 0, 0, 0, 0, 0, 96, 0, 9868.421053, 0.0, 0, 31, 7.75, 15.5, 240.25, 0, 0, 0, 0, 1, 0, 0, 0, 0, 10.33333333, 10.33333333, 0.0, 96, 0, 0, 0, 0, 0, 0, 3, 31, 0, 0, 59, -1, 1, 32, 0.0, 0.0, 0, 0, 0.0, 0.0, 0, 0, BENIGN\n",
      "Packet detected from ('127.0.0.1', 51914): 228, 2, 2, 76, 176, 38, 38, 38.0, 0.0, 88, 88, 88.0, 0.0, 1105263.158, 17543.85965, 76.0, 92.24424101, 179, 1, 1, 1.0, 0.0, 1, 1, 48, 48.0, 0.0, 48, 48, 0, 0, 0, 0, 40, 40, 8771.929825, 8771.929825, 38, 88, 58.0, 27.38612788, 750.0, 0, 0, 0, 0, 0, 0, 0, 0, 1, 72.5, 38.0, 88.0, 40, 0, 0, 0, 0, 0, 0, 2, 76, 2, 176, -1, -1, 1, 20, 0.0, 0.0, 0, 0, 0.0, 0.0, 0, 0, BENIGN\n",
      "Packet detected from ('127.0.0.1', 51914): 339, 2, 2, 64, 196, 32, 32, 32.0, 0.0, 98, 98, 98.0, 0.0, 766961.6519, 11799.41003, 113.0, 193.9896904, 337, 1, 1, 1.0, 0.0, 1, 1, 1, 1.0, 0.0, 1, 1, 0, 0, 0, 0, 64, 64, 5899.705015, 5899.705015, 32, 98, 58.4, 36.1496888, 1306.8, 0, 0, 0, 0, 0, 0, 0, 0, 1, 73.0, 32.0, 98.0, 64, 0, 0, 0, 0, 0, 0, 2, 64, 2, 196, -1, -1, 1, 32, 0.0, 0.0, 0, 0, 0.0, 0.0, 0, 0, BENIGN\n",
      "Packet detected from ('127.0.0.1', 51914): 215069, 13, 7, 1176, 4496, 693, 0, 90.46153846, 196.5895112, 2022, 0, 642.2857142999999, 837.5541205, 26372.931480000003, 92.99341142, 11319.42105, 21209.767669999997, 53920, 1, 215069, 17922.41667, 24783.67409, 54198, 1, 164661, 27443.5, 29961.435789999996, 58467, 49, 0, 0, 0, 0, 428, 232, 60.44571742, 32.547694, 0, 2022, 270.0952381, 553.8442836, 306743.4905, 0, 0, 0, 1, 0, 0, 0, 0, 0, 283.6, 90.46153846, 642.2857142999999, 428, 0, 0, 0, 0, 0, 0, 13, 1176, 7, 4496, 65535, 176, 6, 32, 0.0, 0.0, 0, 0, 0.0, 0.0, 0, 0, BENIGN\n",
      "Packet detected from ('127.0.0.1', 51914): 33863400, 13, 8, 834, 4849, 357, 0, 64.15384615, 116.3485039, 1448, 0, 606.125, 688.6133971, 167.8213056, 0.620138557, 1693170.0, 7539101.504, 33700000, 4, 33900000, 2821950.0, 9731386.642, 33700000, 4, 114338, 16334.0, 23162.41928, 61104, 49, 0, 0, 0, 0, 428, 264, 0.383895297, 0.23624326, 0, 1448, 258.3181818, 488.2595315, 238397.3701, 0, 0, 0, 1, 0, 0, 0, 0, 0, 270.61904760000004, 64.15384615, 606.125, 428, 0, 0, 0, 0, 0, 0, 13, 834, 8, 4849, 65535, 972, 6, 32, 140077.0, 0.0, 140077, 140077, 33700000.0, 0.0, 33700000, 33700000, BENIGN\n",
      "Packet detected from ('127.0.0.1', 51914): 211, 1, 1, 0, 0, 0, 0, 0.0, 0.0, 0, 0, 0.0, 0.0, 0.0, 9478.672986, 211.0, 0.0, 211, 211, 0, 0.0, 0.0, 0, 0, 0, 0.0, 0.0, 0, 0, 0, 0, 0, 0, 32, 32, 4739.336493, 4739.336493, 0, 0, 0.0, 0.0, 0.0, 0, 0, 0, 0, 1, 1, 0, 0, 1, 0.0, 0.0, 0.0, 32, 0, 0, 0, 0, 0, 0, 1, 0, 1, 0, 1977, 65535, 0, 32, 0.0, 0.0, 0, 0, 0.0, 0.0, 0, 0, BENIGN\n",
      "Packet detected from ('127.0.0.1', 51914): 49, 2, 0, 31, 0, 31, 0, 15.5, 21.92031022, 0, 0, 0.0, 0.0, 632653.0612, 40816.32653, 49.0, 0.0, 49, 49, 49, 49.0, 0.0, 49, 49, 0, 0.0, 0.0, 0, 0, 1, 0, 0, 0, 64, 0, 40816.32653, 0.0, 0, 31, 20.66666667, 17.89785834, 320.3333333, 0, 1, 0, 0, 1, 0, 0, 0, 0, 31.0, 15.5, 0.0, 64, 0, 0, 0, 0, 0, 0, 2, 31, 0, 0, 181, -1, 0, 32, 0.0, 0.0, 0, 0, 0.0, 0.0, 0, 0, BENIGN\n",
      "Packet detected from ('127.0.0.1', 51914): 167272, 2, 2, 70, 416, 35, 35, 35.0, 0.0, 208, 208, 208.0, 0.0, 2905.4474149999996, 23.91314745, 55757.333329999994, 96571.07013, 167268, 1, 1, 1.0, 0.0, 1, 1, 3, 3.0, 0.0, 3, 3, 0, 0, 0, 0, 64, 64, 11.95657372, 11.95657372, 35, 208, 104.2, 94.75600245, 8978.7, 0, 0, 0, 0, 0, 0, 0, 0, 1, 130.25, 35.0, 208.0, 64, 0, 0, 0, 0, 0, 0, 2, 70, 2, 416, -1, -1, 1, 32, 0.0, 0.0, 0, 0, 0.0, 0.0, 0, 0, BENIGN\n",
      "Packet detected from ('127.0.0.1', 51914): 1669847, 4, 5, 443, 872, 437, 0, 110.75, 217.51839, 860, 0, 174.4, 383.2737925, 787.4972977000001, 5.389715345, 208730.875, 509801.9, 1463339, 4, 1646026, 548675.3333, 795086.0995, 1463393, 23268, 1646649, 411662.25, 706410.7354, 1463409, 4, 0, 0, 0, 0, 104, 124, 2.395429042, 2.994286303, 0, 860, 131.5, 290.1636511000001, 84194.94443999999, 0, 0, 0, 1, 0, 0, 0, 0, 1, 146.11111110000004, 110.75, 174.4, 104, 0, 0, 0, 0, 0, 0, 4, 443, 5, 872, 8192, 31, 2, 20, 0.0, 0.0, 0, 0, 0.0, 0.0, 0, 0, BENIGN\n",
      "Packet detected from ('127.0.0.1', 51914): 5309842, 9, 7, 381, 6121, 194, 0, 42.33333333, 69.39380376, 2636, 0, 874.4285714, 1001.532801, 1224.518545, 3.013272335, 353989.4667, 1303498.638, 5064776, 4, 5309842, 663730.25, 1778791.525, 5064776, 4, 111527, 18587.83333, 21811.32966, 52234, 398, 0, 0, 0, 0, 192, 152, 1.694965688, 1.318306646, 0, 2636, 382.4705881999999, 747.4378835, 558663.3897, 0, 0, 0, 1, 0, 0, 0, 0, 0, 406.375, 42.33333333, 874.4285714, 192, 0, 0, 0, 0, 0, 0, 9, 381, 7, 6121, 8192, 946, 8, 20, 245062.0, 0.0, 245062, 245062, 5064776.0, 0.0, 5064776, 5064776, BENIGN\n",
      "Packet detected from ('127.0.0.1', 51914): 196, 2, 2, 88, 144, 44, 44, 44.0, 0.0, 72, 72, 72.0, 0.0, 1183673.469, 20408.163269999997, 65.33333333, 72.56950691, 145, 3, 3, 3.0, 0.0, 3, 3, 48, 48.0, 0.0, 48, 48, 0, 0, 0, 0, 64, 64, 10204.08163, 10204.08163, 44, 72, 55.2, 15.33623161, 235.2, 0, 0, 0, 0, 0, 0, 0, 0, 1, 69.0, 44.0, 72.0, 64, 0, 0, 0, 0, 0, 0, 2, 88, 2, 144, -1, -1, 1, 32, 0.0, 0.0, 0, 0, 0.0, 0.0, 0, 0, BENIGN\n",
      "Packet detected from ('127.0.0.1', 51914): 688, 2, 2, 78, 110, 39, 39, 39.0, 0.0, 55, 55, 55.0, 0.0, 273255.814, 5813.953488, 229.3333333, 391.1551269, 681, 3, 3, 3.0, 0.0, 3, 3, 4, 4.0, 0.0, 4, 4, 0, 0, 0, 0, 64, 64, 2906.976744, 2906.976744, 39, 55, 45.4, 8.76356092, 76.8, 0, 0, 0, 0, 0, 0, 0, 0, 1, 56.75, 39.0, 55.0, 64, 0, 0, 0, 0, 0, 0, 2, 78, 2, 110, -1, -1, 1, 32, 0.0, 0.0, 0, 0, 0.0, 0.0, 0, 0, BENIGN\n",
      "Packet detected from ('127.0.0.1', 51914): 222, 2, 2, 68, 388, 34, 34, 34.0, 0.0, 194, 194, 194.0, 0.0, 2054054.054, 18018.01802, 74.0, 86.9655104, 171, 3, 3, 3.0, 0.0, 3, 3, 48, 48.0, 0.0, 48, 48, 0, 0, 0, 0, 64, 64, 9009.009009, 9009.009009, 34, 194, 98.0, 87.6356092, 7680.0, 0, 0, 0, 0, 0, 0, 0, 0, 1, 122.5, 34.0, 194.0, 64, 0, 0, 0, 0, 0, 0, 2, 68, 2, 388, -1, -1, 1, 32, 0.0, 0.0, 0, 0, 0.0, 0.0, 0, 0, BENIGN\n",
      "Packet detected from ('127.0.0.1', 51914): 115930807, 20, 18, 1294, 5762, 842, 0, 64.7, 189.8259868, 2021, 0, 320.1111111, 636.1654325000002, 60.86389099, 0.327781726, 3133265.0539999995, 4619389.049, 10000000, 3, 116000000, 6101621.421, 4880468.084, 10000000, 3, 110000000, 6489264.0, 4931830.415, 10000000, 50, 0, 0, 0, 0, 412, 504, 0.172516698, 0.155265028, 0, 2021, 180.9230769, 464.9918723, 216217.4413, 0, 0, 0, 1, 0, 0, 0, 0, 0, 185.6842105, 64.7, 320.1111111, 412, 0, 0, 0, 0, 0, 0, 20, 1294, 18, 5762, 8192, 125, 19, 20, 27598.33333, 18931.3679, 87710, 21954, 9633302.0, 1272936.684, 10000000, 5591186, BENIGN\n",
      "Packet detected from ('127.0.0.1', 51914): 986, 1, 1, 53, 112, 53, 53, 53.0, 0.0, 112, 112, 112.0, 0.0, 167342.7992, 2028.397566, 986.0, 0.0, 986, 986, 0, 0.0, 0.0, 0, 0, 0, 0.0, 0.0, 0, 0, 0, 0, 0, 0, 40, 40, 1014.198783, 1014.198783, 53, 112, 72.66666667, 34.06366588, 1160.333333, 0, 0, 0, 0, 0, 0, 0, 0, 1, 109.0, 53.0, 112.0, 40, 0, 0, 0, 0, 0, 0, 1, 53, 1, 112, -1, -1, 0, 40, 0.0, 0.0, 0, 0, 0.0, 0.0, 0, 0, BENIGN\n",
      "Packet detected from ('127.0.0.1', 51914): 48434, 1, 1, 41, 143, 41, 41, 41.0, 0.0, 143, 143, 143.0, 0.0, 3798.984185, 41.29330636, 48434.0, 0.0, 48434, 48434, 0, 0.0, 0.0, 0, 0, 0, 0.0, 0.0, 0, 0, 0, 0, 0, 0, 20, 20, 20.64665318, 20.64665318, 41, 143, 75.0, 58.88972746, 3468.0, 0, 0, 0, 0, 0, 0, 0, 0, 1, 112.5, 41.0, 143.0, 20, 0, 0, 0, 0, 0, 0, 1, 41, 1, 143, -1, -1, 0, 20, 0.0, 0.0, 0, 0, 0.0, 0.0, 0, 0, BENIGN\n",
      "Packet detected from ('127.0.0.1', 51914): 214, 2, 0, 12, 0, 6, 6, 6.0, 0.0, 0, 0, 0.0, 0.0, 56074.76636, 9345.794393, 214.0, 0.0, 214, 214, 214, 214.0, 0.0, 214, 214, 0, 0.0, 0.0, 0, 0, 0, 0, 0, 0, 40, 0, 9345.794393, 0.0, 6, 6, 6.0, 0.0, 0.0, 0, 0, 0, 0, 1, 0, 0, 0, 0, 9.0, 6.0, 0.0, 40, 0, 0, 0, 0, 0, 0, 2, 12, 0, 0, 5210, -1, 1, 20, 0.0, 0.0, 0, 0, 0.0, 0.0, 0, 0, BENIGN\n",
      "Packet detected from ('127.0.0.1', 51914): 998738, 2, 0, 12, 0, 6, 6, 6.0, 0.0, 0, 0, 0.0, 0.0, 12.01516314, 2.0025271890000003, 998738.0, 0.0, 998738, 998738, 998738, 998738.0, 0.0, 998738, 998738, 0, 0.0, 0.0, 0, 0, 0, 0, 0, 0, 40, 0, 2.0025271890000003, 0.0, 6, 6, 6.0, 0.0, 0.0, 0, 0, 0, 0, 1, 0, 0, 0, 0, 9.0, 6.0, 0.0, 40, 0, 0, 0, 0, 0, 0, 2, 12, 0, 0, 11152, -1, 1, 20, 0.0, 0.0, 0, 0, 0.0, 0.0, 0, 0, BENIGN\n",
      "Packet detected from ('127.0.0.1', 51914): 48, 1, 1, 6, 6, 6, 6, 6.0, 0.0, 6, 6, 6.0, 0.0, 250000.0, 41666.66667, 48.0, 0.0, 48, 48, 0, 0.0, 0.0, 0, 0, 0, 0.0, 0.0, 0, 0, 0, 0, 0, 0, 20, 20, 20833.33333, 20833.33333, 6, 6, 6.0, 0.0, 0.0, 0, 0, 0, 0, 1, 1, 0, 0, 1, 9.0, 6.0, 6.0, 20, 0, 0, 0, 0, 0, 0, 1, 6, 1, 6, 913, 256, 0, 20, 0.0, 0.0, 0, 0, 0.0, 0.0, 0, 0, BENIGN\n",
      "Packet detected from ('127.0.0.1', 51914): 43, 1, 1, 6, 6, 6, 6, 6.0, 0.0, 6, 6, 6.0, 0.0, 279069.7674, 46511.62791, 43.0, 0.0, 43, 43, 0, 0.0, 0.0, 0, 0, 0, 0.0, 0.0, 0, 0, 0, 0, 0, 0, 20, 20, 23255.81395, 23255.81395, 6, 6, 6.0, 0.0, 0.0, 0, 0, 0, 0, 1, 1, 0, 0, 1, 9.0, 6.0, 6.0, 20, 0, 0, 0, 0, 0, 0, 1, 6, 1, 6, 286, 256, 0, 20, 0.0, 0.0, 0, 0, 0.0, 0.0, 0, 0, BENIGN\n",
      "Packet detected from ('127.0.0.1', 51914): 217, 2, 2, 64, 204, 32, 32, 32.0, 0.0, 102, 102, 102.0, 0.0, 1235023.041, 18433.17972, 72.33333333, 40.41451884, 119, 49, 49, 49.0, 0.0, 49, 49, 49, 49.0, 0.0, 49, 49, 0, 0, 0, 0, 80, 80, 9216.589862, 9216.589862, 32, 102, 60.0, 38.34057903, 1470.0, 0, 0, 0, 0, 0, 0, 0, 0, 1, 75.0, 32.0, 102.0, 80, 0, 0, 0, 0, 0, 0, 2, 64, 2, 204, -1, -1, 1, 40, 0.0, 0.0, 0, 0, 0.0, 0.0, 0, 0, BENIGN\n",
      "Packet detected from ('127.0.0.1', 51914): 446598, 3, 4, 664, 421, 664, 0, 221.3333333, 383.3605787, 421, 0, 105.25, 210.5, 2429.477965, 15.67405138, 74433.0, 114697.6163, 225206, 4, 220285, 110142.5, 155114.4791, 219825, 460, 226825, 75608.33333, 129999.946, 225718, 4, 0, 0, 0, 0, 104, 136, 6.717450593, 8.956600791, 0, 664, 135.625, 259.39046, 67283.41071, 0, 0, 0, 1, 0, 0, 0, 0, 1, 155.0, 221.3333333, 105.25, 104, 0, 0, 0, 0, 0, 0, 3, 664, 4, 421, 29200, 5044, 1, 32, 0.0, 0.0, 0, 0, 0.0, 0.0, 0, 0, BENIGN\n",
      "Packet detected from ('127.0.0.1', 51914): 240, 2, 0, 0, 0, 0, 0, 0.0, 0.0, 0, 0, 0.0, 0.0, 0.0, 8333.333333, 240.0, 0.0, 240, 240, 240, 240.0, 0.0, 240, 240, 0, 0.0, 0.0, 0, 0, 0, 0, 0, 0, 64, 0, 8333.333333, 0.0, 0, 0, 0.0, 0.0, 0.0, 0, 0, 0, 0, 1, 0, 0, 0, 0, 0.0, 0.0, 0.0, 64, 0, 0, 0, 0, 0, 0, 2, 0, 0, 0, 30016, -1, 0, 32, 0.0, 0.0, 0, 0, 0.0, 0.0, 0, 0, BENIGN\n",
      "Packet detected from ('127.0.0.1', 51914): 273, 4, 0, 64, 0, 46, 6, 16.0, 20.0, 0, 0, 0.0, 0.0, 234432.2344, 14652.01465, 91.0, 43.40506883, 119, 41, 273, 91.0, 43.40506883, 119, 41, 0, 0.0, 0.0, 0, 0, 0, 0, 0, 0, 80, 0, 14652.01465, 0.0, 6, 46, 14.0, 17.88854382, 320.0, 0, 0, 0, 0, 1, 0, 0, 0, 0, 17.5, 16.0, 0.0, 80, 0, 0, 0, 0, 0, 0, 4, 64, 0, 0, 256, -1, 3, 20, 0.0, 0.0, 0, 0, 0.0, 0.0, 0, 0, BENIGN\n",
      "Packet detected from ('127.0.0.1', 51914): 63154757, 7, 2, 187, 92, 46, 6, 26.71428571, 20.089087300000006, 46, 46, 46.0, 0.0, 4.417719476, 0.14250708, 7894344.625, 20500000.0, 58400000, 3, 63200000, 10500000.0, 23500000.0, 58400000, 3, 58800000, 58800000.0, 0.0, 58800000, 58800000, 1, 0, 0, 0, 140, 40, 0.11083884, 0.03166824, 6, 46, 32.5, 18.86354509, 355.8333333, 0, 1, 0, 0, 1, 0, 0, 0, 0, 36.11111111, 26.71428571, 46.0, 140, 0, 0, 0, 0, 0, 0, 7, 187, 2, 92, 258, 368, 6, 20, 86764.0, 0.0, 86764, 86764, 58400000.0, 0.0, 58400000, 58400000, BENIGN\n",
      "Packet detected from ('127.0.0.1', 51914): 85733, 1, 1, 51, 112, 51, 51, 51.0, 0.0, 112, 112, 112.0, 0.0, 1901.25156, 23.32824, 85733.0, 0.0, 85733, 85733, 0, 0.0, 0.0, 0, 0, 0, 0.0, 0.0, 0, 0, 0, 0, 0, 0, 20, 20, 11.66412, 11.66412, 51, 112, 71.33333333, 35.21836642, 1240.333333, 0, 0, 0, 0, 0, 0, 0, 0, 1, 107.0, 51.0, 112.0, 20, 0, 0, 0, 0, 0, 0, 1, 51, 1, 112, -1, -1, 0, 20, 0.0, 0.0, 0, 0, 0.0, 0.0, 0, 0, BENIGN\n",
      "Packet detected from ('127.0.0.1', 51914): 118043689, 34, 44, 2044, 46702, 449, 0, 60.11764706, 109.5961636, 2920, 0, 1061.409091, 810.9582709, 412.9488024, 0.6607723010000001, 1533034.9219999998, 9381449.495, 58800000, 1, 118000000, 3577081.485, 14200000.0, 58800000, 19, 118000000, 2740238.349, 12500000.0, 59000000, 1, 0, 0, 0, 0, 692, 892, 0.288028952, 0.372743349, 0, 2920, 617.0379747000002, 786.8318565000003, 619104.3703, 0, 0, 0, 1, 0, 0, 0, 0, 1, 624.9487178999998, 60.11764706, 1061.409091, 692, 0, 0, 0, 0, 0, 0, 34, 2044, 44, 46702, 8192, 33, 33, 20, 307970.0, 134582.2194, 403134, 212806, 58600000.0, 266747.5479, 58800000, 58400000, BENIGN\n",
      "Packet detected from ('127.0.0.1', 51914): 48953, 2, 2, 62, 94, 31, 31, 31.0, 0.0, 47, 47, 47.0, 0.0, 3186.730129, 81.71102895, 16317.66667, 28256.09952, 48945, 4, 4, 4.0, 0.0, 4, 4, 4, 4.0, 0.0, 4, 4, 0, 0, 0, 0, 64, 64, 40.85551447, 40.85551447, 31, 47, 37.4, 8.76356092, 76.8, 0, 0, 0, 0, 0, 0, 0, 0, 1, 46.75, 31.0, 47.0, 64, 0, 0, 0, 0, 0, 0, 2, 62, 2, 94, -1, -1, 1, 32, 0.0, 0.0, 0, 0, 0.0, 0.0, 0, 0, BENIGN\n",
      "Packet detected from ('127.0.0.1', 51914): 10765374, 13, 15, 1090, 11522, 360, 0, 83.84615385, 135.8374311, 2920, 0, 768.1333333, 831.7583668999997, 1171.533845, 2.600931468, 398717.5556, 1871049.065, 9750438, 17, 10800000, 897114.5, 2790560.143, 9750563, 1075, 10700000, 767542.2857, 2661987.704, 9999390, 87, 0, 0, 0, 0, 272, 312, 1.207575324, 1.393356144, 0, 2920, 434.8965517, 690.8545094, 477279.9532, 0, 0, 0, 1, 0, 0, 0, 0, 1, 450.4285713999999, 83.84615385, 768.1333333, 272, 0, 0, 0, 0, 0, 0, 13, 1090, 15, 11522, 8192, 31, 12, 20, 1014811.0, 0.0, 1014811, 1014811, 9750438.0, 0.0, 9750438, 9750438, BENIGN\n",
      "Packet detected from ('127.0.0.1', 51914): 4, 2, 0, 12, 0, 6, 6, 6.0, 0.0, 0, 0, 0.0, 0.0, 3000000.0, 500000.0, 4.0, 0.0, 4, 4, 4, 4.0, 0.0, 4, 4, 0, 0.0, 0.0, 0, 0, 0, 0, 0, 0, 40, 0, 500000.0, 0.0, 6, 6, 6.0, 0.0, 0.0, 0, 0, 0, 0, 1, 0, 0, 0, 0, 9.0, 6.0, 0.0, 40, 0, 0, 0, 0, 0, 0, 2, 12, 0, 0, 369, -1, 1, 20, 0.0, 0.0, 0, 0, 0.0, 0.0, 0, 0, BENIGN\n",
      "Packet detected from ('127.0.0.1', 51914): 133088, 2, 2, 84, 318, 42, 42, 42.0, 0.0, 159, 159, 159.0, 0.0, 3020.557826, 30.05530176, 44362.66667, 76828.00048, 133076, 1, 1, 1.0, 0.0, 1, 1, 11, 11.0, 0.0, 11, 11, 0, 0, 0, 0, 40, 40, 15.02765088, 15.02765088, 42, 159, 88.8, 64.08353923, 4106.7, 0, 0, 0, 0, 0, 0, 0, 0, 1, 111.0, 42.0, 159.0, 40, 0, 0, 0, 0, 0, 0, 2, 84, 2, 318, -1, -1, 1, 20, 0.0, 0.0, 0, 0, 0.0, 0.0, 0, 0, BENIGN\n",
      "Packet detected from ('127.0.0.1', 51914): 124, 1, 1, 6, 6, 6, 6, 6.0, 0.0, 6, 6, 6.0, 0.0, 96774.19355, 16129.03226, 124.0, 0.0, 124, 124, 0, 0.0, 0.0, 0, 0, 0, 0.0, 0.0, 0, 0, 0, 0, 0, 0, 20, 20, 8064.516129000002, 8064.516129000002, 6, 6, 6.0, 0.0, 0.0, 0, 0, 0, 0, 1, 1, 0, 0, 1, 9.0, 6.0, 6.0, 20, 0, 0, 0, 0, 0, 0, 1, 6, 1, 6, 286, 256, 0, 20, 0.0, 0.0, 0, 0, 0.0, 0.0, 0, 0, BENIGN\n",
      "Packet detected from ('127.0.0.1', 51914): 198, 2, 2, 64, 96, 32, 32, 32.0, 0.0, 48, 48, 48.0, 0.0, 808080.8081, 20202.0202, 66.0, 31.17691454, 102, 48, 48, 48.0, 0.0, 48, 48, 48, 48.0, 0.0, 48, 48, 0, 0, 0, 0, 40, 40, 10101.0101, 10101.0101, 32, 48, 38.4, 8.76356092, 76.8, 0, 0, 0, 0, 0, 0, 0, 0, 1, 48.0, 32.0, 48.0, 40, 0, 0, 0, 0, 0, 0, 2, 64, 2, 96, -1, -1, 1, 20, 0.0, 0.0, 0, 0, 0.0, 0.0, 0, 0, BENIGN\n",
      "Packet detected from ('127.0.0.1', 51914): 196, 2, 2, 66, 98, 33, 33, 33.0, 0.0, 49, 49, 49.0, 0.0, 836734.6939, 20408.163269999997, 65.33333333, 30.89228598, 101, 47, 47, 47.0, 0.0, 47, 47, 48, 48.0, 0.0, 48, 48, 0, 0, 0, 0, 40, 40, 10204.08163, 10204.08163, 33, 49, 39.4, 8.76356092, 76.8, 0, 0, 0, 0, 0, 0, 0, 0, 1, 49.25, 33.0, 49.0, 40, 0, 0, 0, 0, 0, 0, 2, 66, 2, 98, -1, -1, 1, 20, 0.0, 0.0, 0, 0, 0.0, 0.0, 0, 0, BENIGN\n",
      "Packet detected from ('127.0.0.1', 51914): 189, 2, 2, 66, 164, 33, 33, 33.0, 0.0, 82, 82, 82.0, 0.0, 1216931.217, 21164.02116, 63.0, 108.2543302, 188, 0, 1, 1.0, 0.0, 1, 1, 0, 0.0, 0.0, 0, 0, 0, 0, 0, 0, 40, 40, 10582.01058, 10582.01058, 33, 82, 52.6, 26.83840532, 720.3, 0, 0, 0, 0, 0, 0, 0, 0, 1, 65.75, 33.0, 82.0, 40, 0, 0, 0, 0, 0, 0, 2, 66, 2, 164, -1, -1, 1, 20, 0.0, 0.0, 0, 0, 0.0, 0.0, 0, 0, BENIGN\n",
      "Packet detected from ('127.0.0.1', 51914): 230242, 2, 2, 64, 152, 32, 32, 32.0, 0.0, 76, 76, 76.0, 0.0, 938.1433448, 17.373024899999997, 76747.33333, 132886.1153, 230191, 3, 48, 48.0, 0.0, 48, 48, 3, 3.0, 0.0, 3, 3, 0, 0, 0, 0, 40, 64, 8.686512452, 8.686512452, 32, 76, 49.6, 24.09979253, 580.8, 0, 0, 0, 0, 0, 0, 0, 0, 1, 62.0, 32.0, 76.0, 40, 0, 0, 0, 0, 0, 0, 2, 64, 2, 152, -1, -1, 1, 20, 0.0, 0.0, 0, 0, 0.0, 0.0, 0, 0, BENIGN\n",
      "Packet detected from ('127.0.0.1', 51914): 232, 2, 2, 78, 110, 39, 39, 39.0, 0.0, 55, 55, 55.0, 0.0, 810344.8276, 17241.37931, 77.33333333, 49.07477288, 134, 49, 49, 49.0, 0.0, 49, 49, 49, 49.0, 0.0, 49, 49, 0, 0, 0, 0, 40, 40, 8620.689655, 8620.689655, 39, 55, 45.4, 8.76356092, 76.8, 0, 0, 0, 0, 0, 0, 0, 0, 1, 56.75, 39.0, 55.0, 40, 0, 0, 0, 0, 0, 0, 2, 78, 2, 110, -1, -1, 1, 20, 0.0, 0.0, 0, 0, 0.0, 0.0, 0, 0, BENIGN\n",
      "Packet detected from ('127.0.0.1', 51914): 432336, 3, 5, 518, 2270, 518, 0, 172.66666669999995, 299.0674394, 1460, 0, 454.0, 662.7820154, 6448.688057, 18.50412642, 61762.28571, 104817.5698, 215296, 2, 215217, 107608.5, 152058.3635, 215130, 87, 217239, 54309.75, 107407.5708, 215416, 2, 0, 0, 0, 0, 104, 168, 6.9390474079999995, 11.56507901, 0, 1460, 309.77777779999997, 523.4934999, 274045.4444, 0, 0, 0, 1, 0, 0, 0, 0, 1, 348.5, 172.66666669999995, 454.0, 104, 0, 0, 0, 0, 0, 0, 3, 518, 5, 2270, 29200, 4898, 1, 32, 0.0, 0.0, 0, 0, 0.0, 0.0, 0, 0, BENIGN\n",
      "Packet detected from ('127.0.0.1', 51914): 429150, 3, 4, 581, 917, 581, 0, 193.6666667, 335.4405064, 917, 0, 229.25, 458.5, 3490.620995, 16.31131306, 71525.0, 110321.9375, 214019, 4, 214016, 107008.0, 151211.9567, 213931, 85, 215271, 71757.0, 123322.3936, 214156, 4, 0, 0, 0, 0, 104, 136, 6.99056274, 9.32075032, 0, 917, 187.25, 358.15988050000016, 128278.5, 0, 0, 0, 1, 0, 0, 0, 0, 1, 214.0, 193.6666667, 229.25, 104, 0, 0, 0, 0, 0, 0, 3, 581, 4, 917, 29200, 4961, 1, 32, 0.0, 0.0, 0, 0, 0.0, 0.0, 0, 0, BENIGN\n",
      "Packet detected from ('127.0.0.1', 51914): 180, 2, 2, 64, 96, 32, 32, 32.0, 0.0, 48, 48, 48.0, 0.0, 888888.8889, 22222.22222, 60.0, 98.72689603, 174, 3, 3, 3.0, 0.0, 3, 3, 3, 3.0, 0.0, 3, 3, 0, 0, 0, 0, 64, 64, 11111.11111, 11111.11111, 32, 48, 38.4, 8.76356092, 76.8, 0, 0, 0, 0, 0, 0, 0, 0, 1, 48.0, 32.0, 48.0, 64, 0, 0, 0, 0, 0, 0, 2, 64, 2, 96, -1, -1, 1, 32, 0.0, 0.0, 0, 0, 0.0, 0.0, 0, 0, BENIGN\n",
      "Packet detected from ('127.0.0.1', 51914): 8452090, 4, 0, 24, 0, 6, 6, 6.0, 0.0, 0, 0, 0.0, 0.0, 2.839534364, 0.473255727, 2817363.333, 4879135.741, 8451304, 353, 8452090, 2817363.333, 4879135.741, 8451304, 353, 0, 0.0, 0.0, 0, 0, 0, 0, 0, 0, 80, 0, 0.473255727, 0.0, 6, 6, 6.0, 0.0, 0.0, 0, 0, 0, 0, 1, 0, 0, 0, 0, 7.5, 6.0, 0.0, 80, 0, 0, 0, 0, 0, 0, 4, 24, 0, 0, 256, -1, 3, 20, 786.0, 0.0, 786, 786, 8451304.0, 0.0, 8451304, 8451304, DoS\n",
      "Packet detected from ('127.0.0.1', 51914): 6438204, 5, 0, 30, 0, 6, 6, 6.0, 0.0, 0, 0, 0.0, 0.0, 4.659684595, 0.7766140990000001, 1609551.0, 3218314.002, 6437022, 248, 6438204, 1609551.0, 3218314.002, 6437022, 248, 0, 0.0, 0.0, 0, 0, 0, 0, 0, 0, 100, 0, 0.7766140990000001, 0.0, 6, 6, 6.0, 0.0, 0.0, 0, 0, 0, 0, 1, 0, 0, 0, 0, 7.2, 6.0, 0.0, 100, 0, 0, 0, 0, 0, 0, 5, 30, 0, 0, 256, -1, 4, 20, 1182.0, 0.0, 1182, 1182, 6437022.0, 0.0, 6437022, 6437022, DoS\n",
      "Packet detected from ('127.0.0.1', 51914): 1658555, 3, 6, 26, 11607, 20, 0, 8.666666667000001, 10.26320288, 4380, 0, 1934.5, 2177.344966, 7013.936831, 5.426410338999999, 207319.375, 585957.8976, 1657491, 2, 927, 463.5, 649.8311319000002, 923, 4, 1658507, 331701.4, 741139.0262, 1657491, 2, 0, 0, 0, 0, 72, 132, 1.808803446, 3.617606893, 0, 4380, 1163.3, 1903.962654, 3625073.789, 0, 0, 0, 1, 0, 0, 0, 0, 2, 1292.555556, 8.666666667000001, 1934.5, 72, 0, 0, 0, 0, 0, 0, 3, 26, 6, 11607, 8192, 229, 2, 20, 0.0, 0.0, 0, 0, 0.0, 0.0, 0, 0, DoS\n",
      "Packet detected from ('127.0.0.1', 51914): 6996959, 4, 0, 24, 0, 6, 6, 6.0, 0.0, 0, 0, 0.0, 0.0, 3.430061545, 0.571676924, 2332319.667, 4038954.846, 6996103, 331, 6996959, 2332319.667, 4038954.846, 6996103, 331, 0, 0.0, 0.0, 0, 0, 0, 0, 0, 0, 80, 0, 0.571676924, 0.0, 6, 6, 6.0, 0.0, 0.0, 0, 0, 0, 0, 1, 0, 0, 0, 0, 7.5, 6.0, 0.0, 80, 0, 0, 0, 0, 0, 0, 4, 24, 0, 0, 256, -1, 3, 20, 856.0, 0.0, 856, 856, 6996103.0, 0.0, 6996103, 6996103, DoS\n",
      "Packet detected from ('127.0.0.1', 51914): 906939, 3, 5, 26, 11607, 20, 0, 8.666666667000001, 10.26320288, 10135, 0, 2321.4, 4413.201989, 12826.66199, 8.820879905, 129562.7143, 341796.1677, 904682, 3, 2004, 1002.0, 1363.301874, 1966, 38, 906879, 226719.75, 451975.7276, 904682, 3, 0, 0, 0, 0, 72, 112, 3.3078299639999997, 5.513049941, 0, 10135, 1292.555556, 3350.634907, 11200000.0, 0, 0, 0, 1, 0, 0, 0, 0, 1, 1454.125, 8.666666667000001, 2321.4, 72, 0, 0, 0, 0, 0, 0, 3, 26, 5, 11607, 8192, 229, 2, 20, 0.0, 0.0, 0, 0, 0.0, 0.0, 0, 0, DoS\n",
      "Packet detected from ('127.0.0.1', 51914): 6066574, 4, 0, 24, 0, 6, 6, 6.0, 0.0, 0, 0, 0.0, 0.0, 3.956104384, 0.659350731, 2022191.333, 3501531.817, 6065412, 373, 6066574, 2022191.333, 3501531.817, 6065412, 373, 0, 0.0, 0.0, 0, 0, 0, 0, 0, 0, 80, 0, 0.659350731, 0.0, 6, 6, 6.0, 0.0, 0.0, 0, 0, 0, 0, 1, 0, 0, 0, 0, 7.5, 6.0, 0.0, 80, 0, 0, 0, 0, 0, 0, 4, 24, 0, 0, 256, -1, 3, 20, 1162.0, 0.0, 1162, 1162, 6065412.0, 0.0, 6065412, 6065412, DoS\n",
      "Packet detected from ('127.0.0.1', 51914): 6110, 3, 6, 26, 11601, 20, 0, 8.666666667000001, 10.26320288, 5840, 0, 1933.5, 2189.7729329999997, 1902945.99, 1472.99509, 763.75, 1861.891953, 5370, 46, 5593, 2796.5, 3761.100969, 5456, 137, 6024, 1204.8, 2451.09194, 5588, 46, 0, 0, 0, 0, 72, 132, 490.9983633000001, 981.9967267, 0, 5840, 1162.7, 1911.59573, 3654198.233, 0, 0, 0, 1, 0, 0, 0, 0, 2, 1291.888889, 8.666666667000001, 1933.5, 72, 0, 0, 0, 0, 0, 0, 3, 26, 6, 11601, 8192, 229, 2, 20, 0.0, 0.0, 0, 0, 0.0, 0.0, 0, 0, DoS\n",
      "Packet detected from ('127.0.0.1', 51914): 5010694, 4, 0, 24, 0, 6, 6, 6.0, 0.0, 0, 0, 0.0, 0.0, 4.789755671, 0.798292612, 1670231.333, 2892319.315, 5009994, 227, 5010694, 1670231.333, 2892319.315, 5009994, 227, 0, 0.0, 0.0, 0, 0, 0, 0, 0, 0, 80, 0, 0.798292612, 0.0, 6, 6, 6.0, 0.0, 0.0, 0, 0, 0, 0, 1, 0, 0, 0, 0, 7.5, 6.0, 0.0, 80, 0, 0, 0, 0, 0, 0, 4, 24, 0, 0, 256, -1, 3, 20, 700.0, 0.0, 700, 700, 5009994.0, 0.0, 5009994, 5009994, DoS\n",
      "Packet detected from ('127.0.0.1', 51914): 4997053, 4, 0, 24, 0, 6, 6, 6.0, 0.0, 0, 0, 0.0, 0.0, 4.8028307880000005, 0.800471798, 1665684.333, 2884366.604, 4996264, 247, 4997053, 1665684.333, 2884366.604, 4996264, 247, 0, 0.0, 0.0, 0, 0, 0, 0, 0, 0, 80, 0, 0.800471798, 0.0, 6, 6, 6.0, 0.0, 0.0, 0, 0, 0, 0, 1, 0, 0, 0, 0, 7.5, 6.0, 0.0, 80, 0, 0, 0, 0, 0, 0, 4, 24, 0, 0, 256, -1, 3, 20, 0.0, 0.0, 0, 0, 0.0, 0.0, 0, 0, DoS\n",
      "Packet detected from ('127.0.0.1', 51914): 4037927, 5, 0, 30, 0, 6, 6, 6.0, 0.0, 0, 0, 0.0, 0.0, 7.429554819, 1.238259136, 1009481.75, 2017634.888, 4035934, 1, 4037927, 1009481.75, 2017634.888, 4035934, 1, 0, 0.0, 0.0, 0, 0, 0, 0, 0, 0, 100, 0, 1.238259136, 0.0, 6, 6, 6.0, 0.0, 0.0, 0, 0, 0, 0, 1, 0, 0, 0, 0, 7.2, 6.0, 0.0, 100, 0, 0, 0, 0, 0, 0, 5, 30, 0, 0, 256, -1, 4, 20, 0.0, 0.0, 0, 0, 0.0, 0.0, 0, 0, DoS\n",
      "Packet detected from ('127.0.0.1', 51914): 4036939, 4, 0, 24, 0, 6, 6, 6.0, 0.0, 0, 0, 0.0, 0.0, 5.9450985020000005, 0.99084975, 1345646.333, 2329857.507, 4035934, 49, 4036939, 1345646.333, 2329857.507, 4035934, 49, 0, 0.0, 0.0, 0, 0, 0, 0, 0, 0, 80, 0, 0.99084975, 0.0, 6, 6, 6.0, 0.0, 0.0, 0, 0, 0, 0, 1, 0, 0, 0, 0, 7.5, 6.0, 0.0, 80, 0, 0, 0, 0, 0, 0, 4, 24, 0, 0, 256, -1, 3, 20, 0.0, 0.0, 0, 0, 0.0, 0.0, 0, 0, DoS\n",
      "Packet detected from ('127.0.0.1', 51914): 844770, 3, 4, 26, 11607, 20, 0, 8.666666667000001, 10.26320288, 11595, 0, 2901.75, 5795.50069, 13770.612119999998, 8.286279106, 140795.0, 343590.4241, 842145, 4, 2438, 1219.0, 343.6538957, 1462, 976, 844758, 281586.0, 485459.6344, 842145, 183, 0, 0, 0, 0, 72, 92, 3.5512624739999996, 4.735016632, 0, 11595, 1454.125, 4097.537534, 16800000.0, 0, 0, 0, 1, 0, 0, 0, 0, 1, 1661.857143, 8.666666667000001, 2901.75, 72, 0, 0, 0, 0, 0, 0, 3, 26, 4, 11607, 8192, 229, 2, 20, 0.0, 0.0, 0, 0, 0.0, 0.0, 0, 0, DoS\n",
      "Packet detected from ('127.0.0.1', 51914): 895225, 3, 6, 26, 11607, 20, 0, 8.666666667000001, 10.26320288, 5840, 0, 1934.5, 2538.9192780000008, 12994.49859, 10.05333855, 111903.125, 316011.3723, 893991, 3, 944, 472.0, 661.8519472, 940, 4, 895190, 179038.0, 399671.0598, 893991, 3, 0, 0, 0, 0, 72, 132, 3.3511128489999997, 6.702225697, 0, 5840, 1163.3, 2138.329153, 4572451.567, 0, 0, 0, 1, 0, 0, 0, 0, 2, 1292.555556, 8.666666667000001, 1934.5, 72, 0, 0, 0, 0, 0, 0, 3, 26, 6, 11607, 8192, 229, 2, 20, 0.0, 0.0, 0, 0, 0.0, 0.0, 0, 0, DoS\n",
      "Packet detected from ('127.0.0.1', 51914): 2073910, 5, 0, 30, 0, 6, 6, 6.0, 0.0, 0, 0, 0.0, 0.0, 14.46543003, 2.410905006, 518477.5, 1035768.398, 2072130, 244, 2073910, 518477.5, 1035768.398, 2072130, 244, 0, 0.0, 0.0, 0, 0, 0, 0, 0, 0, 100, 0, 2.410905006, 0.0, 6, 6, 6.0, 0.0, 0.0, 0, 0, 0, 0, 1, 0, 0, 0, 0, 7.2, 6.0, 0.0, 100, 0, 0, 0, 0, 0, 0, 5, 30, 0, 0, 256, -1, 4, 20, 0.0, 0.0, 0, 0, 0.0, 0.0, 0, 0, DoS\n",
      "Packet detected from ('127.0.0.1', 51914): 2017972, 5, 0, 30, 0, 6, 6, 6.0, 0.0, 0, 0, 0.0, 0.0, 14.86641044, 2.4777350730000003, 504493.0, 1006976.997, 2014958, 4, 2017972, 504493.0, 1006976.997, 2014958, 4, 0, 0.0, 0.0, 0, 0, 0, 0, 0, 0, 100, 0, 2.4777350730000003, 0.0, 6, 6, 6.0, 0.0, 0.0, 0, 0, 0, 0, 1, 0, 0, 0, 0, 7.2, 6.0, 0.0, 100, 0, 0, 0, 0, 0, 0, 5, 30, 0, 0, 256, -1, 4, 20, 0.0, 0.0, 0, 0, 0.0, 0.0, 0, 0, DoS\n",
      "Packet detected from ('127.0.0.1', 51914): 876794, 3, 4, 26, 11601, 20, 0, 8.666666667000001, 10.26320288, 8760, 0, 2900.25, 4128.3193009999995, 13260.81155, 7.983631275, 146132.3333, 355028.41, 870817, 22, 5702, 2851.0, 4000.810168, 5680, 22, 876728, 292242.6667, 501067.7024, 870817, 190, 0, 0, 0, 0, 72, 92, 3.421556261, 4.5620750139999995, 0, 8760, 1453.375, 3113.952607, 9696700.839, 0, 0, 0, 1, 0, 0, 0, 0, 1, 1661.0, 8.666666667000001, 2900.25, 72, 0, 0, 0, 0, 0, 0, 3, 26, 4, 11601, 8192, 229, 2, 20, 0.0, 0.0, 0, 0, 0.0, 0.0, 0, 0, DoS\n",
      "Packet detected from ('127.0.0.1', 51914): 1138961, 4, 0, 24, 0, 6, 6, 6.0, 0.0, 0, 0, 0.0, 0.0, 21.07183652, 3.511972754, 379653.6667, 656760.3488, 1138015, 2, 1138961, 379653.6667, 656760.3488, 1138015, 2, 0, 0.0, 0.0, 0, 0, 0, 0, 0, 0, 80, 0, 3.511972754, 0.0, 6, 6, 6.0, 0.0, 0.0, 0, 0, 0, 0, 1, 0, 0, 0, 0, 7.5, 6.0, 0.0, 80, 0, 0, 0, 0, 0, 0, 4, 24, 0, 0, 256, -1, 3, 20, 0.0, 0.0, 0, 0, 0.0, 0.0, 0, 0, DoS\n",
      "Packet detected from ('127.0.0.1', 51914): 85700, 4, 0, 24, 0, 6, 6, 6.0, 0.0, 0, 0, 0.0, 0.0, 280.0466744, 46.67444574, 28566.66667, 49006.10252, 85154, 215, 85700, 28566.66667, 49006.10252, 85154, 215, 0, 0.0, 0.0, 0, 0, 0, 0, 0, 0, 80, 0, 46.67444574, 0.0, 6, 6, 6.0, 0.0, 0.0, 0, 0, 0, 0, 1, 0, 0, 0, 0, 7.5, 6.0, 0.0, 80, 0, 0, 0, 0, 0, 0, 4, 24, 0, 0, 256, -1, 3, 20, 0.0, 0.0, 0, 0, 0.0, 0.0, 0, 0, DoS\n",
      "Packet detected from ('127.0.0.1', 51914): 994335, 3, 4, 26, 11601, 20, 0, 8.666666667000001, 10.26320288, 5840, 0, 2900.25, 3345.636997, 11693.24222, 7.039880925, 165722.5, 403576.7577, 989513, 46, 4582, 2291.0, 2927.4220739999996, 4361, 221, 994289, 331429.6667, 569921.2551, 989513, 156, 0, 0, 0, 0, 72, 92, 3.017091825, 4.022789100000002, 0, 5840, 1453.375, 2681.356423, 7189672.267999997, 0, 0, 0, 1, 0, 0, 0, 0, 1, 1661.0, 8.666666667000001, 2900.25, 72, 0, 0, 0, 0, 0, 0, 3, 26, 4, 11601, 8192, 229, 2, 20, 0.0, 0.0, 0, 0, 0.0, 0.0, 0, 0, DoS\n",
      "Packet detected from ('127.0.0.1', 51914): 30713, 4, 0, 24, 0, 6, 6, 6.0, 0.0, 0, 0, 0.0, 0.0, 781.4280597999999, 130.23801, 10237.66667, 17138.34558, 30027, 245, 30713, 10237.66667, 17138.34558, 30027, 245, 0, 0.0, 0.0, 0, 0, 0, 0, 0, 0, 80, 0, 130.23801, 0.0, 6, 6, 6.0, 0.0, 0.0, 0, 0, 0, 0, 1, 0, 0, 0, 0, 7.5, 6.0, 0.0, 80, 0, 0, 0, 0, 0, 0, 4, 24, 0, 0, 256, -1, 3, 20, 0.0, 0.0, 0, 0, 0.0, 0.0, 0, 0, DoS\n",
      "Packet detected from ('127.0.0.1', 51914): 70206, 3, 6, 26, 11607, 20, 0, 8.666666667000001, 10.26320288, 5840, 0, 1934.5, 2538.9192780000008, 165698.0885, 128.19417140000002, 8775.75, 23947.78635, 68037, 46, 1251, 625.5, 549.421969, 1014, 237, 70159, 14031.8, 30194.266539999997, 68037, 46, 0, 0, 0, 0, 72, 132, 42.73139048, 85.46278096, 0, 5840, 1163.3, 2138.329153, 4572451.567, 0, 0, 0, 1, 0, 0, 0, 0, 2, 1292.555556, 8.666666667000001, 1934.5, 72, 0, 0, 0, 0, 0, 0, 3, 26, 6, 11607, 8192, 229, 2, 20, 0.0, 0.0, 0, 0, 0.0, 0.0, 0, 0, DoS\n",
      "Packet detected from ('127.0.0.1', 51914): 12039688, 5, 0, 30, 0, 6, 6, 6.0, 0.0, 0, 0, 0.0, 0.0, 2.491758923, 0.415293154, 3009922.0, 6019177.352000001, 12000000, 1, 12000000, 3009922.0, 6019177.352000001, 12000000, 1, 0, 0.0, 0.0, 0, 0, 0, 0, 0, 0, 100, 0, 0.415293154, 0.0, 6, 6, 6.0, 0.0, 0.0, 0, 0, 0, 0, 1, 0, 0, 0, 0, 7.2, 6.0, 0.0, 100, 0, 0, 0, 0, 0, 0, 5, 30, 0, 0, 256, -1, 4, 20, 1000.0, 0.0, 1000, 1000, 12000000.0, 0.0, 12000000, 12000000, DoS\n",
      "Packet detected from ('127.0.0.1', 51914): 12008696, 4, 0, 24, 0, 6, 6, 6.0, 0.0, 0, 0, 0.0, 0.0, 1.998551716, 0.333091953, 4002898.667, 6933220.404, 12000000, 1, 12000000, 4002898.667, 6933220.404, 12000000, 1, 0, 0.0, 0.0, 0, 0, 0, 0, 0, 0, 80, 0, 0.333091953, 0.0, 6, 6, 6.0, 0.0, 0.0, 0, 0, 0, 0, 1, 0, 0, 0, 0, 7.5, 6.0, 0.0, 80, 0, 0, 0, 0, 0, 0, 4, 24, 0, 0, 256, -1, 3, 20, 4.0, 0.0, 4, 4, 12000000.0, 0.0, 12000000, 12000000, DoS\n",
      "Packet detected from ('127.0.0.1', 51914): 11335601, 5, 0, 30, 0, 6, 6, 6.0, 0.0, 0, 0, 0.0, 0.0, 2.646529284, 0.441088214, 2833900.25, 5666423.855, 11300000, 0, 11300000, 2833900.25, 5666423.855, 11300000, 0, 0, 0.0, 0.0, 0, 0, 0, 0, 0, 0, 100, 0, 0.441088214, 0.0, 6, 6, 6.0, 0.0, 0.0, 0, 0, 0, 0, 1, 0, 0, 0, 0, 7.2, 6.0, 0.0, 100, 0, 0, 0, 0, 0, 0, 5, 30, 0, 0, 256, -1, 4, 20, 2065.0, 0.0, 2065, 2065, 11300000.0, 0.0, 11300000, 11300000, DoS\n",
      "Packet detected from ('127.0.0.1', 51914): 697617, 3, 4, 26, 11601, 20, 0, 8.666666667000001, 10.26320288, 8760, 0, 2900.25, 4128.3193009999995, 16666.73834, 10.03415914, 116269.5, 281322.1155, 690492, 45, 6894, 3447.0, 4459.015362, 6600, 294, 697568, 232522.6667, 396627.2414, 690492, 186, 0, 0, 0, 0, 72, 92, 4.300353919, 5.733805226, 0, 8760, 1453.375, 3113.952607, 9696700.839, 0, 0, 0, 1, 0, 0, 0, 0, 1, 1661.0, 8.666666667000001, 2900.25, 72, 0, 0, 0, 0, 0, 0, 3, 26, 4, 11601, 8192, 229, 2, 20, 0.0, 0.0, 0, 0, 0.0, 0.0, 0, 0, DoS\n",
      "Packet detected from ('127.0.0.1', 51914): 10052764, 4, 0, 24, 0, 6, 6, 6.0, 0.0, 0, 0, 0.0, 0.0, 2.387403106, 0.397900518, 3350921.333, 5803962.537000001, 10100000, 0, 10100000, 3350921.333, 5803962.537000001, 10100000, 0, 0, 0.0, 0.0, 0, 0, 0, 0, 0, 0, 80, 0, 0.397900518, 0.0, 6, 6, 6.0, 0.0, 0.0, 0, 0, 0, 0, 1, 0, 0, 0, 0, 7.5, 6.0, 0.0, 80, 0, 0, 0, 0, 0, 0, 4, 24, 0, 0, 256, -1, 3, 20, 4.0, 0.0, 4, 4, 10100000.0, 0.0, 10100000, 10100000, DoS\n",
      "Packet detected from ('127.0.0.1', 51914): 386530, 3, 4, 26, 11601, 20, 0, 8.666666667000001, 10.26320288, 10135, 0, 2900.25, 4871.82583, 30080.45947, 18.10984917, 64421.66667000001, 145372.3542, 360460, 17, 25773, 12886.5, 17429.47505, 25211, 562, 386513, 128837.6667, 201000.8757, 360460, 194, 0, 0, 0, 0, 72, 92, 7.76136393, 10.34848524, 0, 10135, 1453.375, 3544.652026, 12600000.0, 0, 0, 0, 1, 0, 0, 0, 0, 1, 1661.0, 8.666666667000001, 2900.25, 72, 0, 0, 0, 0, 0, 0, 3, 26, 4, 11601, 8192, 229, 2, 20, 0.0, 0.0, 0, 0, 0.0, 0.0, 0, 0, DoS\n",
      "Packet detected from ('127.0.0.1', 51914): 8900773, 4, 0, 24, 0, 6, 6, 6.0, 0.0, 0, 0, 0.0, 0.0, 2.6963950210000003, 0.44939917, 2966924.333, 5137965.645, 8899736, 2, 8900773, 2966924.333, 5137965.645, 8899736, 2, 0, 0.0, 0.0, 0, 0, 0, 0, 0, 0, 80, 0, 0.44939917, 0.0, 6, 6, 6.0, 0.0, 0.0, 0, 0, 0, 0, 1, 0, 0, 0, 0, 7.5, 6.0, 0.0, 80, 0, 0, 0, 0, 0, 0, 4, 24, 0, 0, 256, -1, 3, 20, 1037.0, 0.0, 1037, 1037, 8899736.0, 0.0, 8899736, 8899736, DoS\n",
      "Packet detected from ('127.0.0.1', 51914): 7934320, 4, 0, 24, 0, 6, 6, 6.0, 0.0, 0, 0, 0.0, 0.0, 3.024833886, 0.504138981, 2644773.333, 4580312.81, 7933663, 251, 7934320, 2644773.333, 4580312.81, 7933663, 251, 0, 0.0, 0.0, 0, 0, 0, 0, 0, 0, 80, 0, 0.504138981, 0.0, 6, 6, 6.0, 0.0, 0.0, 0, 0, 0, 0, 1, 0, 0, 0, 0, 7.5, 6.0, 0.0, 80, 0, 0, 0, 0, 0, 0, 4, 24, 0, 0, 256, -1, 3, 20, 657.0, 0.0, 657, 657, 7933663.0, 0.0, 7933663, 7933663, DoS\n",
      "Packet detected from ('127.0.0.1', 51914): 964521, 3, 4, 26, 11601, 20, 0, 8.666666667000001, 10.26320288, 10135, 0, 2900.25, 4871.82583, 12054.68829, 7.257488432000001, 160753.5, 389992.7024, 956803, 49, 7474, 3737.0, 4922.877411, 7218, 256, 964342, 321447.3333, 550245.7582, 956803, 195, 0, 0, 0, 0, 72, 92, 3.110352185, 4.147136247, 0, 10135, 1453.375, 3544.652026, 12600000.0, 0, 0, 0, 1, 0, 0, 0, 0, 1, 1661.0, 8.666666667000001, 2900.25, 72, 0, 0, 0, 0, 0, 0, 3, 26, 4, 11601, 8192, 229, 2, 20, 0.0, 0.0, 0, 0, 0.0, 0.0, 0, 0, DoS\n"
     ]
    }
   ],
   "source": [
    "import pandas as pd\n",
    "import socket\n",
    "import json\n",
    "\n",
    "\n",
    "# UDP packet receiver function\n",
    "def receive_udp_packets(listening_ip, listening_port, secret_key):\n",
    "    # Create a UDP socket\n",
    "    sock = socket.socket(socket.AF_INET, socket.SOCK_DGRAM)\n",
    "    sock.bind((listening_ip, listening_port))\n",
    "    print(f\"Listening on {listening_ip}:{listening_port}\")\n",
    "\n",
    "    send_all_packets(df, destination_ip, destination_port)\n",
    "\n",
    "    # Counter for packets\n",
    "    counter = 0\n",
    "    \n",
    "    try:\n",
    "        while True:\n",
    "            # Receive packet\n",
    "            packet_data, addr = sock.recvfrom(1024)  # Buffer size is 1024 bytes\n",
    "            packet = json.loads(packet_data.decode())\n",
    "\n",
    "            unsafe_ips.append(addr)\n",
    "\n",
    "            if counter > 200:\n",
    "                break\n",
    "            \n",
    "            else :\n",
    "                print(f\"Packet detected from {addr}: {packet['data']}\")\n",
    "                counter += 1\n",
    "\n",
    "    finally:\n",
    "        sock.close()\n",
    "\n",
    "# Configuration\n",
    "listening_ip = \"127.0.0.1\"\n",
    "listening_port = 8080  # Match the sender's port\n",
    "shared_key = b'thisisthekey'\n",
    "\n",
    "# Start the receiver\n",
    "receive_udp_packets(listening_ip, listening_port, shared_key)"
   ]
  },
  {
   "cell_type": "markdown",
   "metadata": {},
   "source": [
    "Simulation of packets being sent with HMAC."
   ]
  },
  {
   "cell_type": "code",
   "execution_count": 111,
   "metadata": {},
   "outputs": [],
   "source": [
    "# creating array for safe ip addresses\n",
    "safe_ips = []"
   ]
  },
  {
   "cell_type": "code",
   "execution_count": 112,
   "metadata": {},
   "outputs": [],
   "source": [
    "import pandas as pd\n",
    "import hmac\n",
    "import hashlib\n",
    "import socket\n",
    "import json\n",
    "\n",
    "# HMAC verification function\n",
    "def verify_hmac(row, secret_key):\n",
    "    data = ', '.join(map(str, row.drop(labels=['HMAC']).values)).encode()\n",
    "    computed_hmac = hmac.new(secret_key, data, hashlib.sha256).hexdigest()\n",
    "    return computed_hmac == row['HMAC']\n",
    "\n",
    "# UDP packet sender function\n",
    "def send_udp_packets(df, destination_ip, destination_port):\n",
    "    # Create a UDP socket\n",
    "    sock = socket.socket(socket.AF_INET, socket.SOCK_DGRAM)\n",
    "    \n",
    "    # Counters for tracking sent packets\n",
    "    valid_sent = 0\n",
    "    invalid_blocked = 0\n",
    "\n",
    "    for index, row in df.iterrows():\n",
    "        packet = {\n",
    "            \"data\": ', '.join(map(str, row.drop(labels=['Valid', 'HMAC']).values)),\n",
    "            \"HMAC\": row['HMAC'],\n",
    "            \"Valid\": row['Valid']\n",
    "        }\n",
    "\n",
    "        # Serialize packet to JSON\n",
    "        packet_json = json.dumps(packet).encode()\n",
    "\n",
    "        if row['Valid']:\n",
    "            # Send packet\n",
    "            sock.sendto(packet_json, (destination_ip, destination_port))\n",
    "\n",
    "        # Update counters\n",
    "        if row['Valid']:\n",
    "            valid_sent += 1\n",
    "            \n",
    "        else:\n",
    "            invalid_blocked += 1\n",
    "            \n",
    "\n",
    "\n",
    "        # Report every 1000 packets\n",
    "        if valid_sent % 1000 == 0 and row['Valid']:\n",
    "            print(f\"{valid_sent} valid packets sent...\")\n",
    "        if invalid_blocked % 1000 == 0 and not row['Valid']:\n",
    "            print(f\"{invalid_blocked} invalid packets blocked...\")   \n",
    "    # Close socket\n",
    "    sock.close()\n",
    "    print(\"All packets sent.\")\n",
    "    print(f\"Total valid packets sent: {valid_sent}\")\n",
    "    print(f\"Total invalid packets blocked: {invalid_blocked}\")\n",
    "\n",
    "# Configuration\n",
    "file_path = 'benign_with_hmac.csv'\n",
    "shared_key = b'thisisthekey'\n",
    "destination_ip = '127.0.0.1'\n",
    "destination_port = 8080      \n",
    "\n",
    "# Read and process the CSV file\n",
    "df = pd.read_csv(file_path)\n",
    "df['Valid'] = df.apply(lambda row: verify_hmac(row, shared_key), axis=1)\n"
   ]
  },
  {
   "cell_type": "code",
   "execution_count": 113,
   "metadata": {},
   "outputs": [
    {
     "name": "stdout",
     "output_type": "stream",
     "text": [
      "Listening on 127.0.0.1:8080\n",
      "1000 invalid packets blocked...\n",
      "2000 invalid packets blocked...\n",
      "3000 invalid packets blocked...\n",
      "4000 invalid packets blocked...\n",
      "5000 invalid packets blocked...\n",
      "6000 invalid packets blocked...\n",
      "1000 valid packets sent...\n",
      "7000 invalid packets blocked...\n",
      "8000 invalid packets blocked...\n",
      "9000 invalid packets blocked...\n",
      "10000 invalid packets blocked...\n",
      "11000 invalid packets blocked...\n",
      "12000 invalid packets blocked...\n",
      "13000 invalid packets blocked...\n",
      "2000 valid packets sent...\n",
      "14000 invalid packets blocked...\n",
      "3000 valid packets sent...\n",
      "15000 invalid packets blocked...\n",
      "16000 invalid packets blocked...\n",
      "4000 valid packets sent...\n",
      "5000 valid packets sent...\n",
      "6000 valid packets sent...\n",
      "7000 valid packets sent...\n",
      "8000 valid packets sent...\n",
      "9000 valid packets sent...\n",
      "10000 valid packets sent...\n",
      "11000 valid packets sent...\n",
      "12000 valid packets sent...\n",
      "17000 invalid packets blocked...\n",
      "18000 invalid packets blocked...\n",
      "13000 valid packets sent...\n",
      "14000 valid packets sent...\n",
      "19000 invalid packets blocked...\n",
      "20000 invalid packets blocked...\n",
      "15000 valid packets sent...\n",
      "16000 valid packets sent...\n",
      "17000 valid packets sent...\n",
      "21000 invalid packets blocked...\n",
      "18000 valid packets sent...\n",
      "19000 valid packets sent...\n",
      "22000 invalid packets blocked...\n",
      "23000 invalid packets blocked...\n",
      "24000 invalid packets blocked...\n",
      "25000 invalid packets blocked...\n",
      "26000 invalid packets blocked...\n",
      "27000 invalid packets blocked...\n",
      "28000 invalid packets blocked...\n",
      "29000 invalid packets blocked...\n",
      "30000 invalid packets blocked...\n",
      "31000 invalid packets blocked...\n",
      "32000 invalid packets blocked...\n",
      "33000 invalid packets blocked...\n",
      "20000 valid packets sent...\n",
      "21000 valid packets sent...\n",
      "22000 valid packets sent...\n",
      "All packets sent.\n",
      "Total valid packets sent: 22731\n",
      "Total invalid packets blocked: 33930\n",
      "Valid packet received from ('127.0.0.1', 64744): 4, 2, 0, 37, 0, 31, 6, 18.5, 17.67766953, 0, 0, 0.0, 0.0, 9250000.0, 500000.0, 4.0, 0.0, 4, 4, 4, 4.0, 0.0, 4, 4, 0, 0.0, 0.0, 0, 0, 1, 0, 0, 0, 40, 0, 500000.0, 0.0, 6, 31, 22.66666667, 14.43375673, 208.3333333, 0, 1, 0, 0, 1, 0, 0, 0, 0, 34.0, 18.5, 0.0, 40, 0, 0, 0, 0, 0, 0, 2, 37, 0, 0, 60, -1, 1, 20, 0.0, 0.0, 0, 0, 0.0, 0.0, 0, 0, BENIGN\n",
      "Valid packet received from ('127.0.0.1', 64744): 142377, 46, 62, 1325, 105855, 570, 0, 28.80434783, 111.4072847, 4344, 0, 1707.3387100000002, 846.1726550000003, 752790.1276, 758.5494848, 1330.626168, 5048.9826969999995, 23198, 0, 142377, 3163.933333, 7552.916858, 23792, 0, 119204, 1954.163934, 6058.842404, 23865, 4, 0, 0, 0, 0, 1168, 1992, 323.0858917, 435.4635931, 0, 4344, 983.3027523, 1052.39205, 1107529.028, 0, 0, 0, 1, 0, 0, 0, 0, 1, 992.4074074, 28.80434783, 1707.3387100000002, 1168, 0, 0, 0, 0, 0, 0, 46, 1325, 62, 105855, 29200, 61, 30, 20, 0.0, 0.0, 0, 0, 0.0, 0.0, 0, 0, BENIGN\n",
      "Valid packet received from ('127.0.0.1', 64744): 118873, 23, 28, 1169, 45025, 570, 0, 50.82608696, 156.13736730000005, 2896, 0, 1608.035714, 902.027366, 388599.5979, 429.0293002, 2377.46, 6838.4207129999995, 23435, 3, 118873, 5403.318182, 9768.511157, 24311, 49, 95541, 3538.555556000001, 8193.060024, 24168, 3, 0, 0, 0, 0, 744, 904, 193.483802, 235.5454981, 0, 2896, 888.3461537999997, 1028.323762, 1057449.76, 0, 0, 0, 1, 0, 0, 0, 0, 1, 905.7647059, 50.82608696, 1608.035714, 744, 0, 0, 0, 0, 0, 0, 23, 1169, 28, 45025, 29200, 61, 4, 32, 0.0, 0.0, 0, 0, 0.0, 0.0, 0, 0, BENIGN\n",
      "Valid packet received from ('127.0.0.1', 64744): 143577, 43, 55, 1301, 107289, 570, 0, 30.25581395, 115.178969, 4344, 0, 1950.709091, 928.2303887, 756318.9090000001, 682.5605772999999, 1480.175258, 5316.455522, 23220, 2, 143530, 3417.3809520000004, 7846.824009, 23823, 2, 120357, 2228.833333, 6441.5928619999995, 23889, 2, 0, 0, 0, 0, 1120, 1768, 299.4908655, 383.0697117, 0, 4344, 1096.868687, 1183.665309, 1401063.564, 0, 0, 0, 1, 0, 0, 0, 0, 1, 1108.061224, 30.25581395, 1950.709091, 1120, 0, 0, 0, 0, 0, 0, 43, 1301, 55, 107289, 29200, 61, 26, 20, 0.0, 0.0, 0, 0, 0.0, 0.0, 0, 0, BENIGN\n",
      "Valid packet received from ('127.0.0.1', 64744): 143745, 49, 59, 1331, 110185, 570, 0, 27.16326531, 108.0671757, 4344, 0, 1867.542373, 928.8619348, 775790.4623, 751.3304811, 1343.411215, 5112.820617, 24181, 2, 143726, 2994.291667, 7449.818687000001, 24248, 2, 120164, 2071.793103, 6233.858327, 24616, 2, 0, 0, 0, 0, 1252, 1896, 340.8814220000001, 410.4490591, 0, 4344, 1023.082569, 1147.95835, 1317808.373, 0, 0, 0, 1, 0, 0, 0, 0, 1, 1032.555556, 27.16326531, 1867.542373, 1252, 0, 0, 0, 0, 0, 0, 49, 1331, 59, 110185, 29200, 61, 31, 20, 0.0, 0.0, 0, 0, 0.0, 0.0, 0, 0, BENIGN\n",
      "Valid packet received from ('127.0.0.1', 64744): 120792, 1, 1, 48, 100, 48, 48, 48.0, 0.0, 100, 100, 100.0, 0.0, 1225.246705, 16.55738791, 120792.0, 0.0, 120792, 120792, 0, 0.0, 0.0, 0, 0, 0, 0.0, 0.0, 0, 0, 0, 0, 0, 0, 32, 32, 8.278693953, 8.278693953, 48, 100, 65.33333333, 30.022214, 901.3333332999996, 0, 0, 0, 0, 0, 0, 0, 0, 1, 98.0, 48.0, 100.0, 32, 0, 0, 0, 0, 0, 0, 1, 48, 1, 100, -1, -1, 0, 32, 0.0, 0.0, 0, 0, 0.0, 0.0, 0, 0, BENIGN\n",
      "Valid packet received from ('127.0.0.1', 64744): 50906, 1, 1, 55, 83, 55, 55, 55.0, 0.0, 83, 83, 83.0, 0.0, 2710.878875, 39.28809963, 50906.0, 0.0, 50906, 50906, 0, 0.0, 0.0, 0, 0, 0, 0.0, 0.0, 0, 0, 0, 0, 0, 0, 20, 32, 19.64404982, 19.64404982, 55, 83, 64.33333333, 16.16580754, 261.3333333, 0, 0, 0, 0, 0, 0, 0, 0, 1, 96.5, 55.0, 83.0, 20, 0, 0, 0, 0, 0, 0, 1, 55, 1, 83, -1, -1, 0, 20, 0.0, 0.0, 0, 0, 0.0, 0.0, 0, 0, BENIGN\n",
      "Valid packet received from ('127.0.0.1', 64744): 23595, 1, 1, 77, 159, 77, 77, 77.0, 0.0, 159, 159, 159.0, 0.0, 10002.11909, 84.76372113, 23595.0, 0.0, 23595, 23595, 0, 0.0, 0.0, 0, 0, 0, 0.0, 0.0, 0, 0, 0, 0, 0, 0, 20, 20, 42.38186056, 42.38186056, 77, 159, 104.3333333, 47.34272207, 2241.333333, 0, 0, 0, 0, 0, 0, 0, 0, 1, 156.5, 77.0, 159.0, 20, 0, 0, 0, 0, 0, 0, 1, 77, 1, 159, -1, -1, 0, 20, 0.0, 0.0, 0, 0, 0.0, 0.0, 0, 0, BENIGN\n",
      "Valid packet received from ('127.0.0.1', 64744): 61017, 4, 2, 172, 198, 43, 43, 43.0, 0.0, 99, 99, 99.0, 0.0, 6063.883836, 98.33325139, 12203.4, 21224.94332, 49048, 4, 49099, 16366.33333, 28303.161739999996, 49048, 4, 48, 48.0, 0.0, 48, 48, 0, 0, 0, 0, 104, 40, 65.55550093, 32.77775046, 43, 99, 59.0, 27.32520204, 746.6666667000003, 0, 0, 0, 0, 0, 0, 0, 0, 0, 68.83333333, 43.0, 99.0, 104, 0, 0, 0, 0, 0, 0, 4, 172, 2, 198, -1, -1, 3, 20, 0.0, 0.0, 0, 0, 0.0, 0.0, 0, 0, BENIGN\n",
      "Valid packet received from ('127.0.0.1', 64744): 196, 2, 2, 76, 140, 38, 38, 38.0, 0.0, 70, 70, 70.0, 0.0, 1102040.816, 20408.163269999997, 65.33333333, 72.56950691, 145, 3, 3, 3.0, 0.0, 3, 3, 48, 48.0, 0.0, 48, 48, 0, 0, 0, 0, 64, 64, 10204.08163, 10204.08163, 38, 70, 50.8, 17.52712184, 307.2, 0, 0, 0, 0, 0, 0, 0, 0, 1, 63.5, 38.0, 70.0, 64, 0, 0, 0, 0, 0, 0, 2, 76, 2, 140, -1, -1, 1, 32, 0.0, 0.0, 0, 0, 0.0, 0.0, 0, 0, BENIGN\n",
      "Valid packet received from ('127.0.0.1', 64744): 209, 2, 2, 64, 198, 32, 32, 32.0, 0.0, 99, 99, 99.0, 0.0, 1253588.517, 19138.75598, 69.66666667, 37.5277675, 113, 48, 48, 48.0, 0.0, 48, 48, 48, 48.0, 0.0, 48, 48, 0, 0, 0, 0, 40, 40, 9569.37799, 9569.37799, 32, 99, 58.8, 36.69741135, 1346.7, 0, 0, 0, 0, 0, 0, 0, 0, 1, 73.5, 32.0, 99.0, 40, 0, 0, 0, 0, 0, 0, 2, 64, 2, 198, -1, -1, 1, 20, 0.0, 0.0, 0, 0, 0.0, 0.0, 0, 0, BENIGN\n",
      "Valid packet received from ('127.0.0.1', 64744): 196, 2, 2, 82, 146, 41, 41, 41.0, 0.0, 73, 73, 73.0, 0.0, 1163265.306, 20408.163269999997, 65.33333333, 72.56950691, 145, 3, 3, 3.0, 0.0, 3, 3, 48, 48.0, 0.0, 48, 48, 0, 0, 0, 0, 40, 40, 10204.08163, 10204.08163, 41, 73, 53.8, 17.52712184, 307.2, 0, 0, 0, 0, 0, 0, 0, 0, 1, 67.25, 41.0, 73.0, 40, 0, 0, 0, 0, 0, 0, 2, 82, 2, 146, -1, -1, 1, 20, 0.0, 0.0, 0, 0, 0.0, 0.0, 0, 0, BENIGN\n",
      "Valid packet received from ('127.0.0.1', 64744): 96811, 4, 2, 132, 150, 33, 33, 33.0, 0.0, 75, 75, 75.0, 0.0, 2912.89213, 61.976428299999995, 19362.2, 30951.51573000001, 70998, 3, 25809, 8603.0, 14894.77093, 25802, 3, 4, 4.0, 0.0, 4, 4, 0, 0, 0, 0, 120, 64, 41.31761887, 20.65880943, 33, 75, 45.0, 20.49390153, 420.0, 0, 0, 0, 0, 0, 0, 0, 0, 0, 52.5, 33.0, 75.0, 120, 0, 0, 0, 0, 0, 0, 4, 132, 2, 150, -1, -1, 3, 20, 0.0, 0.0, 0, 0, 0.0, 0.0, 0, 0, BENIGN\n",
      "Valid packet received from ('127.0.0.1', 64744): 5900543, 8, 5, 372, 3631, 191, 0, 46.5, 71.87687886, 1891, 0, 726.2, 886.8146367999999, 678.4121393999999, 2.203187063, 491711.9167, 1550443.785, 5412143, 3, 5900543, 842934.7143, 2016469.958, 5412143, 3, 261707, 65426.75, 73698.78989, 132168, 217, 0, 0, 0, 0, 172, 112, 1.355807423, 0.847379639, 0, 1891, 285.9285713999999, 600.7356342, 360883.3022, 0, 0, 0, 1, 0, 0, 0, 0, 0, 307.9230769, 46.5, 726.2, 172, 0, 0, 0, 0, 0, 0, 8, 372, 5, 3631, 8192, 237, 7, 20, 488397.0, 0.0, 488397, 488397, 5412143.0, 0.0, 5412143, 5412143, BENIGN\n",
      "Valid packet received from ('127.0.0.1', 64744): 4356, 3, 0, 18, 0, 6, 6, 6.0, 0.0, 0, 0, 0.0, 0.0, 4132.2314049999995, 688.7052342000001, 2178.0, 3075.914498, 4353, 3, 4356, 2178.0, 3075.914498, 4353, 3, 0, 0.0, 0.0, 0, 0, 0, 0, 0, 0, 60, 0, 688.7052342000003, 0.0, 6, 6, 6.0, 0.0, 0.0, 0, 0, 0, 0, 1, 0, 0, 0, 0, 8.0, 6.0, 0.0, 60, 0, 0, 0, 0, 0, 0, 3, 18, 0, 0, 127, -1, 2, 20, 0.0, 0.0, 0, 0, 0.0, 0.0, 0, 0, BENIGN\n",
      "Valid packet received from ('127.0.0.1', 64744): 3, 2, 0, 12, 0, 6, 6, 6.0, 0.0, 0, 0, 0.0, 0.0, 4000000.0, 666666.6667, 3.0, 0.0, 3, 3, 3, 3.0, 0.0, 3, 3, 0, 0.0, 0.0, 0, 0, 0, 0, 0, 0, 40, 0, 666666.6667, 0.0, 6, 6, 6.0, 0.0, 0.0, 0, 0, 0, 0, 1, 0, 0, 0, 0, 9.0, 6.0, 0.0, 40, 0, 0, 0, 0, 0, 0, 2, 12, 0, 0, 4969, -1, 1, 20, 0.0, 0.0, 0, 0, 0.0, 0.0, 0, 0, BENIGN\n",
      "Valid packet received from ('127.0.0.1', 64744): 12816, 3, 0, 18, 0, 6, 6, 6.0, 0.0, 0, 0, 0.0, 0.0, 1404.494382, 234.082397, 6408.0, 9058.037867, 12813, 3, 12816, 6408.0, 9058.037867, 12813, 3, 0, 0.0, 0.0, 0, 0, 0, 0, 0, 0, 60, 0, 234.082397, 0.0, 6, 6, 6.0, 0.0, 0.0, 0, 0, 0, 0, 1, 0, 0, 0, 0, 8.0, 6.0, 0.0, 60, 0, 0, 0, 0, 0, 0, 3, 18, 0, 0, 32, -1, 2, 20, 0.0, 0.0, 0, 0, 0.0, 0.0, 0, 0, BENIGN\n",
      "Valid packet received from ('127.0.0.1', 64744): 93, 1, 1, 0, 0, 0, 0, 0.0, 0.0, 0, 0, 0.0, 0.0, 0.0, 21505.37634, 93.0, 0.0, 93, 93, 0, 0.0, 0.0, 0, 0, 0, 0.0, 0.0, 0, 0, 0, 0, 0, 0, 32, 32, 10752.68817, 10752.68817, 0, 0, 0.0, 0.0, 0.0, 0, 0, 0, 0, 1, 1, 0, 0, 1, 0.0, 0.0, 0.0, 32, 0, 0, 0, 0, 0, 0, 1, 0, 1, 0, 57, 229, 0, 32, 0.0, 0.0, 0, 0, 0.0, 0.0, 0, 0, BENIGN\n",
      "Valid packet received from ('127.0.0.1', 64744): 22, 1, 1, 0, 0, 0, 0, 0.0, 0.0, 0, 0, 0.0, 0.0, 0.0, 90909.09091, 22.0, 0.0, 22, 22, 0, 0.0, 0.0, 0, 0, 0, 0.0, 0.0, 0, 0, 0, 0, 0, 0, 32, 32, 45454.54545, 45454.54545, 0, 0, 0.0, 0.0, 0.0, 0, 0, 0, 0, 1, 1, 0, 0, 1, 0.0, 0.0, 0.0, 32, 0, 0, 0, 0, 0, 0, 1, 0, 1, 0, 130, 348, 0, 32, 0.0, 0.0, 0, 0, 0.0, 0.0, 0, 0, BENIGN\n",
      "Valid packet received from ('127.0.0.1', 64744): 118361735, 26, 34, 941, 36109, 206, 0, 36.19230769, 60.79540722, 2860, 0, 1062.029412, 695.0806574, 313.0234615, 0.506920585, 2006131.102, 10800000.0, 59000000, 0, 118000000, 4734469.4, 16300000.0, 59000000, 16, 118000000, 3583882.727, 14300000.0, 59000000, 1, 0, 0, 0, 0, 532, 692, 0.219665587, 0.287254998, 0, 2860, 607.3770492000001, 729.331707, 531924.7388, 0, 0, 0, 1, 0, 0, 0, 0, 1, 617.5, 36.19230769, 1062.029412, 532, 0, 0, 0, 0, 0, 0, 26, 941, 34, 36109, 8192, 360, 25, 20, 201183.0, 161827.0437, 315612, 86754, 58900000.0, 36576.51247, 59000000, 58900000, BENIGN\n",
      "Valid packet received from ('127.0.0.1', 64744): 48229, 4, 2, 148, 236, 37, 37, 37.0, 0.0, 118, 118, 118.0, 0.0, 7962.014556, 124.4064774, 9645.8, 14013.67856, 30809, 3, 30816, 10272.0, 17785.56372, 30809, 3, 48, 48.0, 0.0, 48, 48, 0, 0, 0, 0, 128, 40, 82.93765162, 41.46882581, 37, 118, 60.14285714, 39.52395295, 1562.142857, 0, 0, 0, 0, 0, 0, 0, 0, 0, 70.16666667, 37.0, 118.0, 128, 0, 0, 0, 0, 0, 0, 4, 148, 2, 236, -1, -1, 3, 32, 0.0, 0.0, 0, 0, 0.0, 0.0, 0, 0, BENIGN\n",
      "Valid packet received from ('127.0.0.1', 64744): 149, 2, 2, 90, 122, 45, 45, 45.0, 0.0, 61, 61, 61.0, 0.0, 1422818.792, 26845.63758, 49.66666667, 79.96457549, 142, 3, 4, 4.0, 0.0, 4, 4, 3, 3.0, 0.0, 3, 3, 0, 0, 0, 0, 40, 40, 13422.81879, 13422.81879, 45, 61, 51.4, 8.76356092, 76.8, 0, 0, 0, 0, 0, 0, 0, 0, 1, 64.25, 45.0, 61.0, 40, 0, 0, 0, 0, 0, 0, 2, 90, 2, 122, -1, -1, 1, 20, 0.0, 0.0, 0, 0, 0.0, 0.0, 0, 0, BENIGN\n",
      "Valid packet received from ('127.0.0.1', 64744): 50680, 2, 2, 90, 172, 45, 45, 45.0, 0.0, 86, 86, 86.0, 0.0, 5169.692186, 78.92659826, 16893.33333, 29215.95301, 50629, 3, 48, 48.0, 0.0, 48, 48, 3, 3.0, 0.0, 3, 3, 0, 0, 0, 0, 64, 64, 39.46329913, 39.46329913, 45, 86, 61.4, 22.45662486, 504.3, 0, 0, 0, 0, 0, 0, 0, 0, 1, 76.75, 45.0, 86.0, 64, 0, 0, 0, 0, 0, 0, 2, 90, 2, 172, -1, -1, 1, 32, 0.0, 0.0, 0, 0, 0.0, 0.0, 0, 0, BENIGN\n",
      "Valid packet received from ('127.0.0.1', 64744): 58286, 2, 2, 94, 206, 47, 47, 47.0, 0.0, 103, 103, 103.0, 0.0, 5147.033593, 68.62711457, 19428.66667, 33606.41167, 58234, 4, 48, 48.0, 0.0, 48, 48, 4, 4.0, 0.0, 4, 4, 0, 0, 0, 0, 64, 64, 34.31355729, 34.31355729, 47, 103, 69.4, 30.67246322, 940.8, 0, 0, 0, 0, 0, 0, 0, 0, 1, 86.75, 47.0, 103.0, 64, 0, 0, 0, 0, 0, 0, 2, 94, 2, 206, -1, -1, 1, 32, 0.0, 0.0, 0, 0, 0.0, 0.0, 0, 0, BENIGN\n",
      "Valid packet received from ('127.0.0.1', 64744): 48725, 2, 2, 66, 198, 33, 33, 33.0, 0.0, 99, 99, 99.0, 0.0, 5418.1631609999995, 82.09338122, 16241.66667, 28127.92778, 48721, 1, 1, 1.0, 0.0, 1, 1, 3, 3.0, 0.0, 3, 3, 0, 0, 0, 0, 64, 64, 41.04669061, 41.04669061, 33, 99, 59.4, 36.1496888, 1306.8, 0, 0, 0, 0, 0, 0, 0, 0, 1, 74.25, 33.0, 99.0, 64, 0, 0, 0, 0, 0, 0, 2, 66, 2, 198, -1, -1, 1, 32, 0.0, 0.0, 0, 0, 0.0, 0.0, 0, 0, BENIGN\n",
      "Valid packet received from ('127.0.0.1', 64744): 48226, 2, 2, 76, 108, 38, 38, 38.0, 0.0, 54, 54, 54.0, 0.0, 3815.369303, 82.94281093, 16075.33333, 27837.23191, 48219, 3, 4, 4.0, 0.0, 4, 4, 3, 3.0, 0.0, 3, 3, 0, 0, 0, 0, 64, 64, 41.47140547, 41.47140547, 38, 54, 44.4, 8.76356092, 76.8, 0, 0, 0, 0, 0, 0, 0, 0, 1, 55.5, 38.0, 54.0, 64, 0, 0, 0, 0, 0, 0, 2, 76, 2, 108, -1, -1, 1, 32, 0.0, 0.0, 0, 0, 0.0, 0.0, 0, 0, BENIGN\n",
      "Valid packet received from ('127.0.0.1', 64744): 8218, 2, 0, 0, 0, 0, 0, 0.0, 0.0, 0, 0, 0.0, 0.0, 0.0, 243.3682161, 8218.0, 0.0, 8218, 8218, 8218, 8218.0, 0.0, 8218, 8218, 0, 0.0, 0.0, 0, 0, 0, 0, 0, 0, 64, 0, 243.3682161, 0.0, 0, 0, 0.0, 0.0, 0.0, 0, 0, 0, 0, 1, 0, 0, 0, 0, 0.0, 0.0, 0.0, 64, 0, 0, 0, 0, 0, 0, 2, 0, 0, 0, 317, -1, 0, 32, 0.0, 0.0, 0, 0, 0.0, 0.0, 0, 0, BENIGN\n",
      "Valid packet received from ('127.0.0.1', 64744): 30124, 1, 1, 6, 6, 6, 6, 6.0, 0.0, 6, 6, 6.0, 0.0, 398.3534723, 66.39224539, 30124.0, 0.0, 30124, 30124, 0, 0.0, 0.0, 0, 0, 0, 0.0, 0.0, 0, 0, 0, 0, 0, 0, 20, 20, 33.19612269, 33.19612269, 6, 6, 6.0, 0.0, 0.0, 0, 0, 0, 0, 1, 1, 0, 0, 1, 9.0, 6.0, 6.0, 20, 0, 0, 0, 0, 0, 0, 1, 6, 1, 6, 237, 123, 0, 20, 0.0, 0.0, 0, 0, 0.0, 0.0, 0, 0, BENIGN\n",
      "Valid packet received from ('127.0.0.1', 64744): 60096731, 16, 16, 1174, 15759, 517, 0, 73.375, 160.5722579, 3798, 0, 984.9375, 1378.981531, 281.76241400000004, 0.532474886, 1938604.226, 4004737.023, 10000000, 3, 50300000, 3352436.267, 4892791.32, 10000000, 197, 60100000, 4004883.533, 5066677.646000002, 10000000, 3, 0, 0, 0, 0, 340, 332, 0.266237443, 0.266237443, 0, 3798, 513.1212121, 1058.1483460000004, 1119677.922, 0, 0, 0, 1, 0, 0, 0, 0, 1, 529.15625, 73.375, 984.9375, 340, 0, 0, 0, 0, 0, 0, 16, 1174, 16, 15759, 29200, 127, 15, 20, 36211.0, 31443.2587, 100394, 23263, 9979910.333, 95104.93545, 10000000, 9786921, BENIGN\n",
      "Valid packet received from ('127.0.0.1', 64744): 178, 2, 2, 74, 106, 37, 37, 37.0, 0.0, 53, 53, 53.0, 0.0, 1011235.955, 22471.91011, 59.33333333, 96.70746266, 171, 3, 4, 4.0, 0.0, 4, 4, 3, 3.0, 0.0, 3, 3, 0, 0, 0, 0, 64, 64, 11235.95506, 11235.95506, 37, 53, 43.4, 8.76356092, 76.8, 0, 0, 0, 0, 0, 0, 0, 0, 1, 54.25, 37.0, 53.0, 64, 0, 0, 0, 0, 0, 0, 2, 74, 2, 106, -1, -1, 1, 32, 0.0, 0.0, 0, 0, 0.0, 0.0, 0, 0, BENIGN\n",
      "Valid packet received from ('127.0.0.1', 64744): 226, 2, 2, 64, 96, 32, 32, 32.0, 0.0, 48, 48, 48.0, 0.0, 707964.6018, 17699.11504, 75.33333333, 101.0758791, 191, 4, 191, 191.0, 0.0, 191, 191, 4, 4.0, 0.0, 4, 4, 0, 0, 0, 0, 40, 40, 8849.557522, 8849.557522, 32, 48, 38.4, 8.76356092, 76.8, 0, 0, 0, 0, 0, 0, 0, 0, 1, 48.0, 32.0, 48.0, 40, 0, 0, 0, 0, 0, 0, 2, 64, 2, 96, -1, -1, 1, 20, 0.0, 0.0, 0, 0, 0.0, 0.0, 0, 0, BENIGN\n",
      "Valid packet received from ('127.0.0.1', 64744): 1702890, 2, 2, 97, 259, 54, 43, 48.5, 7.778174592999999, 149, 110, 129.5, 27.57716447, 209.0563689, 2.348947965, 567630.0, 910400.284, 1617740, 380, 1618120, 1618120.0, 0.0, 1618120, 1618120, 1702510, 1702510.0, 0.0, 1702510, 1702510, 0, 0, 0, 0, 60, 72, 1.174473982, 1.174473982, 43, 149, 82.0, 45.72198596, 2090.5, 0, 0, 0, 0, 0, 0, 0, 0, 1, 102.5, 48.5, 129.5, 60, 0, 0, 0, 0, 0, 0, 2, 97, 2, 259, -1, -1, 1, 20, 0.0, 0.0, 0, 0, 0.0, 0.0, 0, 0, BENIGN\n",
      "Valid packet received from ('127.0.0.1', 64744): 23418, 1, 1, 56, 72, 56, 56, 56.0, 0.0, 72, 72, 72.0, 0.0, 5465.880946, 85.40438979, 23418.0, 0.0, 23418, 23418, 0, 0.0, 0.0, 0, 0, 0, 0.0, 0.0, 0, 0, 0, 0, 0, 0, 32, 32, 42.70219489, 42.70219489, 56, 72, 61.33333333, 9.237604307, 85.33333333, 0, 0, 0, 0, 0, 0, 0, 0, 1, 92.0, 56.0, 72.0, 32, 0, 0, 0, 0, 0, 0, 1, 56, 1, 72, -1, -1, 0, 32, 0.0, 0.0, 0, 0, 0.0, 0.0, 0, 0, BENIGN\n",
      "Valid packet received from ('127.0.0.1', 64744): 1005977, 3, 3, 0, 18, 0, 0, 0.0, 0.0, 6, 6, 6.0, 0.0, 17.89305322, 5.964351074, 201195.4, 274636.0289, 505513, 510, 1005467, 502733.5, 4958.939856, 506240, 499227, 1005250, 502625.0, 5040.257136, 506189, 499061, 0, 0, 0, 0, 92, 60, 2.982175537, 2.982175537, 0, 6, 2.571428571, 3.207134903, 10.28571429, 0, 0, 0, 1, 0, 0, 0, 0, 1, 3.0, 0.0, 6.0, 92, 0, 0, 0, 0, 0, 0, 3, 0, 3, 18, 8192, 0, 0, 28, 0.0, 0.0, 0, 0, 0.0, 0.0, 0, 0, BENIGN\n",
      "Valid packet received from ('127.0.0.1', 64744): 4714705, 5, 1, 135, 46, 46, 6, 27.0, 20.1246118, 46, 46, 46.0, 0.0, 38.39052496, 1.272614087, 942941.0, 1944057.41, 4415037, 4, 4714705, 1178676.25, 2162032.394, 4415037, 4, 0, 0.0, 0.0, 0, 0, 1, 0, 0, 0, 100, 20, 1.060511739, 0.212102348, 6, 46, 32.42857143, 18.86670032, 355.952381, 0, 1, 0, 0, 1, 0, 0, 0, 0, 37.83333333, 27.0, 46.0, 100, 0, 0, 0, 0, 0, 0, 5, 135, 1, 46, 254, 16384, 4, 20, 0.0, 0.0, 0, 0, 0.0, 0.0, 0, 0, BENIGN\n",
      "Valid packet received from ('127.0.0.1', 64744): 67, 2, 1, 31, 6, 31, 0, 15.5, 21.92031022, 6, 6, 6.0, 0.0, 552238.806, 44776.1194, 33.5, 43.13351365, 64, 3, 3, 3.0, 0.0, 3, 3, 0, 0.0, 0.0, 0, 0, 1, 0, 0, 0, 64, 20, 29850.74627, 14925.373130000002, 0, 31, 17.0, 16.35033129, 267.3333333, 0, 1, 0, 0, 1, 0, 0, 0, 0, 22.66666667, 15.5, 6.0, 64, 0, 0, 0, 0, 0, 0, 2, 31, 1, 6, 1063, 0, 0, 32, 0.0, 0.0, 0, 0, 0.0, 0.0, 0, 0, BENIGN\n",
      "Valid packet received from ('127.0.0.1', 64744): 22, 1, 1, 0, 0, 0, 0, 0.0, 0.0, 0, 0, 0.0, 0.0, 0.0, 90909.09091, 22.0, 0.0, 22, 22, 0, 0.0, 0.0, 0, 0, 0, 0.0, 0.0, 0, 0, 0, 0, 0, 0, 32, 32, 45454.54545, 45454.54545, 0, 0, 0.0, 0.0, 0.0, 0, 0, 0, 0, 1, 1, 0, 0, 1, 0.0, 0.0, 0.0, 32, 0, 0, 0, 0, 0, 0, 1, 0, 1, 0, 972, 284, 0, 32, 0.0, 0.0, 0, 0, 0.0, 0.0, 0, 0, BENIGN\n",
      "Valid packet received from ('127.0.0.1', 64744): 57, 3, 1, 43, 6, 31, 6, 14.33333333, 14.43375673, 6, 6, 6.0, 0.0, 859649.1228, 70175.4386, 19.0, 29.46183973, 53, 1, 4, 2.0, 1.4142135619999998, 3, 1, 0, 0.0, 0.0, 0, 0, 0, 0, 0, 0, 60, 20, 52631.57895, 17543.85965, 6, 31, 11.0, 11.18033989, 125.0, 0, 0, 0, 0, 1, 0, 0, 0, 0, 13.75, 14.33333333, 6.0, 60, 0, 0, 0, 0, 0, 0, 3, 43, 1, 6, 1178, 0, 2, 20, 0.0, 0.0, 0, 0, 0.0, 0.0, 0, 0, BENIGN\n",
      "Valid packet received from ('127.0.0.1', 64744): 3990011, 5, 1, 123, 46, 46, 0, 24.6, 23.27659769, 46, 46, 46.0, 0.0, 42.35577295, 1.503755253, 798002.2, 1756806.041, 3940560, 19, 3990011, 997502.75, 1962096.007, 3940560, 19, 0, 0.0, 0.0, 0, 0, 1, 0, 0, 0, 160, 32, 1.253129377, 0.250625875, 0, 46, 30.71428571, 21.68497395, 470.2380952, 0, 1, 0, 0, 1, 0, 0, 0, 0, 35.83333333, 24.6, 46.0, 160, 0, 0, 0, 0, 0, 0, 5, 123, 1, 46, 360, 357, 2, 32, 0.0, 0.0, 0, 0, 0.0, 0.0, 0, 0, BENIGN\n",
      "Valid packet received from ('127.0.0.1', 64744): 282, 3, 0, 31, 0, 31, 0, 10.33333333, 17.89785834, 0, 0, 0.0, 0.0, 109929.078, 10638.29787, 141.0, 131.52186129999998, 234, 48, 282, 141.0, 131.52186129999998, 234, 48, 0, 0.0, 0.0, 0, 0, 0, 0, 0, 0, 96, 0, 10638.29787, 0.0, 0, 31, 7.75, 15.5, 240.25, 0, 0, 0, 0, 1, 0, 0, 0, 0, 10.33333333, 10.33333333, 0.0, 96, 0, 0, 0, 0, 0, 0, 3, 31, 0, 0, 61, -1, 1, 32, 0.0, 0.0, 0, 0, 0.0, 0.0, 0, 0, BENIGN\n",
      "Valid packet received from ('127.0.0.1', 64744): 53, 1, 1, 0, 0, 0, 0, 0.0, 0.0, 0, 0, 0.0, 0.0, 0.0, 37735.84906, 53.0, 0.0, 53, 53, 0, 0.0, 0.0, 0, 0, 0, 0.0, 0.0, 0, 0, 0, 0, 0, 0, 32, 32, 18867.92453, 18867.92453, 0, 0, 0.0, 0.0, 0.0, 0, 0, 0, 0, 1, 1, 0, 0, 1, 0.0, 0.0, 0.0, 32, 0, 0, 0, 0, 0, 0, 1, 0, 1, 0, 365, 275, 0, 32, 0.0, 0.0, 0, 0, 0.0, 0.0, 0, 0, BENIGN\n",
      "Valid packet received from ('127.0.0.1', 64744): 62465310, 4, 5, 104, 193, 46, 6, 26.0, 23.09401077, 64, 6, 38.6, 21.65178976, 4.754639015, 0.14407997, 7808163.75, 20700000.0, 58900000, 1, 59100000, 19700000.0, 34000000.0, 58900000, 77928, 62400000, 15600000.0, 29000000.0, 59000000, 1, 1, 0, 0, 0, 80, 100, 0.064035542, 0.080044428, 6, 64, 34.3, 21.02934458, 442.23333330000014, 0, 1, 0, 0, 1, 0, 0, 0, 1, 38.11111111, 26.0, 38.6, 80, 0, 0, 0, 0, 0, 0, 4, 104, 5, 193, 252, 363, 3, 20, 77939.0, 0.0, 77939, 77939, 58900000.0, 0.0, 58900000, 58900000, BENIGN\n",
      "Valid packet received from ('127.0.0.1', 64744): 48318, 1, 1, 55, 105, 55, 55, 55.0, 0.0, 105, 105, 105.0, 0.0, 3311.395339, 41.39244174, 48318.0, 0.0, 48318, 48318, 0, 0.0, 0.0, 0, 0, 0, 0.0, 0.0, 0, 0, 0, 0, 0, 0, 32, 32, 20.69622087, 20.69622087, 55, 105, 71.66666667, 28.86751346, 833.3333332999997, 0, 0, 0, 0, 0, 0, 0, 0, 1, 107.5, 55.0, 105.0, 32, 0, 0, 0, 0, 0, 0, 1, 55, 1, 105, -1, -1, 0, 32, 0.0, 0.0, 0, 0, 0.0, 0.0, 0, 0, BENIGN\n",
      "Valid packet received from ('127.0.0.1', 64744): 5817547, 2, 2, 87, 387, 44, 43, 43.5, 0.7071067809999999, 277, 110, 193.5, 118.0868325, 81.47763997, 0.6875750209999999, 1939182.333, 3252982.439, 5695373, 48106, 5769441, 5769441.0, 0.0, 5769441, 5769441, 5743479, 5743479.0, 0.0, 5743479, 5743479, 0, 0, 0, 0, 64, 52, 0.34378751, 0.34378751, 43, 277, 103.4, 101.2487037, 10251.3, 0, 0, 0, 0, 0, 0, 0, 0, 1, 129.25, 43.5, 193.5, 64, 0, 0, 0, 0, 0, 0, 2, 87, 2, 387, -1, -1, 1, 32, 74068.0, 0.0, 74068, 74068, 5695373.0, 0.0, 5695373, 5695373, BENIGN\n",
      "Valid packet received from ('127.0.0.1', 64744): 47034, 2, 2, 68, 380, 34, 34, 34.0, 0.0, 190, 190, 190.0, 0.0, 9525.02445, 85.04486116, 15678.0, 27110.069, 46982, 3, 3, 3.0, 0.0, 3, 3, 49, 49.0, 0.0, 49, 49, 0, 0, 0, 0, 40, 40, 42.52243058, 42.52243058, 34, 190, 96.4, 85.44471897, 7300.8, 0, 0, 0, 0, 0, 0, 0, 0, 1, 120.5, 34.0, 190.0, 40, 0, 0, 0, 0, 0, 0, 2, 68, 2, 380, -1, -1, 1, 20, 0.0, 0.0, 0, 0, 0.0, 0.0, 0, 0, BENIGN\n",
      "Valid packet received from ('127.0.0.1', 64744): 2015383, 3, 0, 18, 0, 6, 6, 6.0, 0.0, 0, 0, 0.0, 0.0, 8.931304869, 1.488550811, 1007691.5, 1424967.949, 2015296, 87, 2015383, 1007691.5, 1424967.949, 2015296, 87, 0, 0.0, 0.0, 0, 0, 0, 0, 0, 0, 60, 0, 1.488550811, 0.0, 6, 6, 6.0, 0.0, 0.0, 0, 0, 0, 0, 1, 0, 0, 0, 0, 8.0, 6.0, 0.0, 60, 0, 0, 0, 0, 0, 0, 3, 18, 0, 0, 254, -1, 2, 20, 0.0, 0.0, 0, 0, 0.0, 0.0, 0, 0, BENIGN\n",
      "Valid packet received from ('127.0.0.1', 64744): 11079207, 12, 17, 4925, 11982, 2366, 0, 410.4166667, 877.0422876, 1689, 2, 704.8235294, 736.8449833, 1526.011744, 2.617515857, 395685.9643, 1833464.654, 9736697, 4, 1342506, 122046.0, 140083.3289, 449130, 19472, 11000000, 690431.625, 2416248.965, 9736827, 4, 0, 0, 0, 0, 252, 344, 1.08311001, 1.534405847, 0, 2366, 563.5666667, 789.7306255, 623674.4609, 0, 0, 0, 1, 0, 0, 0, 0, 1, 583.0, 410.4166667, 704.8235294, 252, 0, 0, 0, 0, 0, 0, 12, 4925, 17, 11982, 8192, 40880, 11, 20, 1342506.0, 0.0, 1342506, 1342506, 9736697.0, 0.0, 9736697, 9736697, BENIGN\n",
      "Valid packet received from ('127.0.0.1', 64744): 5561328, 3, 4, 92, 123, 46, 0, 30.66666667, 26.55811238, 46, 0, 30.75, 21.68524844, 38.65983089, 1.258692168, 926888.0, 2235957.126, 5490881, 1, 5525637, 2762818.5, 3858062.987, 5490881, 34756, 5526661, 1842220.333, 3190815.752, 5526657, 1, 1, 0, 0, 0, 96, 128, 0.539439501, 0.719252668, 0, 46, 32.625, 20.79105233, 432.26785710000007, 0, 1, 0, 0, 1, 0, 0, 0, 1, 37.28571429, 30.66666667, 30.75, 96, 0, 0, 0, 0, 0, 0, 3, 92, 4, 123, 330, 122, 1, 32, 34756.0, 0.0, 34756, 34756, 5490881.0, 0.0, 5490881, 5490881, BENIGN\n",
      "Valid packet received from ('127.0.0.1', 64744): 22001, 2, 2, 64, 176, 32, 32, 32.0, 0.0, 88, 88, 88.0, 0.0, 10908.59506, 181.8099177, 7333.666667, 12659.86984, 21952, 1, 48, 48.0, 0.0, 48, 48, 1, 1.0, 0.0, 1, 1, 0, 0, 0, 0, 40, 40, 90.90495887, 90.90495887, 32, 88, 54.4, 30.67246322, 940.8, 0, 0, 0, 0, 0, 0, 0, 0, 1, 68.0, 32.0, 88.0, 40, 0, 0, 0, 0, 0, 0, 2, 64, 2, 176, -1, -1, 1, 20, 0.0, 0.0, 0, 0, 0.0, 0.0, 0, 0, BENIGN\n",
      "Valid packet received from ('127.0.0.1', 64744): 124225, 1, 1, 6, 6, 6, 6, 6.0, 0.0, 6, 6, 6.0, 0.0, 96.59891326, 16.09981888, 124225.0, 0.0, 124225, 124225, 0, 0.0, 0.0, 0, 0, 0, 0.0, 0.0, 0, 0, 0, 0, 0, 0, 20, 20, 8.049909439, 8.049909439, 6, 6, 6.0, 0.0, 0.0, 0, 0, 0, 0, 1, 1, 0, 0, 1, 9.0, 6.0, 6.0, 20, 0, 0, 0, 0, 0, 0, 1, 6, 1, 6, 1332, 42, 0, 20, 0.0, 0.0, 0, 0, 0.0, 0.0, 0, 0, BENIGN\n",
      "Valid packet received from ('127.0.0.1', 64744): 124786, 1, 1, 6, 6, 6, 6, 6.0, 0.0, 6, 6, 6.0, 0.0, 96.16463385, 16.02743898, 124786.0, 0.0, 124786, 124786, 0, 0.0, 0.0, 0, 0, 0, 0.0, 0.0, 0, 0, 0, 0, 0, 0, 20, 20, 8.013719488, 8.013719488, 6, 6, 6.0, 0.0, 0.0, 0, 0, 0, 0, 1, 1, 0, 0, 1, 9.0, 6.0, 6.0, 20, 0, 0, 0, 0, 0, 0, 1, 6, 1, 6, 255, 31, 0, 20, 0.0, 0.0, 0, 0, 0.0, 0.0, 0, 0, BENIGN\n",
      "Valid packet received from ('127.0.0.1', 64744): 48053, 1, 1, 63, 155, 63, 63, 63.0, 0.0, 155, 155, 155.0, 0.0, 4536.657440999999, 41.62071047, 48053.0, 0.0, 48053, 48053, 0, 0.0, 0.0, 0, 0, 0, 0.0, 0.0, 0, 0, 0, 0, 0, 0, 32, 20, 20.81035523, 20.81035523, 63, 155, 93.66666667, 53.11622477, 2821.333333, 0, 0, 0, 0, 0, 0, 0, 0, 1, 140.5, 63.0, 155.0, 32, 0, 0, 0, 0, 0, 0, 1, 63, 1, 155, -1, -1, 0, 32, 0.0, 0.0, 0, 0, 0.0, 0.0, 0, 0, BENIGN\n",
      "Valid packet received from ('127.0.0.1', 64744): 145843, 1, 1, 63, 125, 63, 63, 63.0, 0.0, 125, 125, 125.0, 0.0, 1289.057411, 13.71337671, 145843.0, 0.0, 145843, 145843, 0, 0.0, 0.0, 0, 0, 0, 0.0, 0.0, 0, 0, 0, 0, 0, 0, 32, 32, 6.856688357, 6.856688357, 63, 125, 83.66666667, 35.79571669, 1281.333333, 0, 0, 0, 0, 0, 0, 0, 0, 1, 125.5, 63.0, 125.0, 32, 0, 0, 0, 0, 0, 0, 1, 63, 1, 125, -1, -1, 0, 32, 0.0, 0.0, 0, 0, 0.0, 0.0, 0, 0, BENIGN\n",
      "Valid packet received from ('127.0.0.1', 64744): 5050936, 6, 3, 611, 166, 517, 0, 101.8333333, 204.3050823, 160, 0, 55.33333333, 90.69362344, 153.8328737, 1.7818479580000002, 631367.0, 1740968.9230000004, 4939753, 3, 5050936, 1010187.2, 2231395.943, 5001809, 3, 96067, 48033.5, 20351.24027, 62424, 33643, 0, 0, 0, 0, 132, 72, 1.187898639, 0.593949319, 0, 517, 77.7, 161.99660490000005, 26242.9, 0, 0, 0, 1, 0, 0, 0, 0, 0, 86.33333333, 101.8333333, 55.33333333, 132, 0, 0, 0, 0, 0, 0, 6, 611, 3, 166, 8192, 60, 5, 20, 0.0, 0.0, 0, 0, 0.0, 0.0, 0, 0, BENIGN\n",
      "Valid packet received from ('127.0.0.1', 64744): 244, 1, 2, 0, 0, 0, 0, 0.0, 0.0, 0, 0, 0.0, 0.0, 0.0, 12295.08197, 122.0, 103.2375901, 195, 49, 0, 0.0, 0.0, 0, 0, 49, 49.0, 0.0, 49, 49, 0, 0, 0, 0, 32, 64, 4098.360656, 8196.721311, 0, 0, 0.0, 0.0, 0.0, 0, 0, 0, 0, 1, 1, 0, 0, 2, 0.0, 0.0, 0.0, 32, 0, 0, 0, 0, 0, 0, 1, 0, 2, 0, 269, 65535, 0, 32, 0.0, 0.0, 0, 0, 0.0, 0.0, 0, 0, BENIGN\n",
      "Valid packet received from ('127.0.0.1', 64744): 75, 1, 1, 0, 0, 0, 0, 0.0, 0.0, 0, 0, 0.0, 0.0, 0.0, 26666.66667, 75.0, 0.0, 75, 75, 0, 0.0, 0.0, 0, 0, 0, 0.0, 0.0, 0, 0, 0, 0, 0, 0, 32, 32, 13333.33333, 13333.33333, 0, 0, 0.0, 0.0, 0.0, 0, 0, 0, 0, 1, 1, 0, 0, 1, 0.0, 0.0, 0.0, 32, 0, 0, 0, 0, 0, 0, 1, 0, 1, 0, 123, 531, 0, 32, 0.0, 0.0, 0, 0, 0.0, 0.0, 0, 0, BENIGN\n",
      "Valid packet received from ('127.0.0.1', 64744): 73, 3, 1, 31, 6, 31, 0, 10.33333333, 17.89785834, 6, 6, 6.0, 0.0, 506849.3151, 54794.52055, 24.33333333, 38.69539163, 69, 1, 4, 2.0, 1.4142135619999998, 3, 1, 0, 0.0, 0.0, 0, 0, 0, 0, 0, 0, 96, 20, 41095.89041, 13698.63014, 0, 31, 7.4, 13.44618905, 180.8, 0, 0, 0, 0, 1, 0, 0, 0, 0, 9.25, 10.33333333, 6.0, 96, 0, 0, 0, 0, 0, 0, 3, 31, 1, 6, 31, 0, 1, 32, 0.0, 0.0, 0, 0, 0.0, 0.0, 0, 0, BENIGN\n",
      "Valid packet received from ('127.0.0.1', 64744): 312, 2, 0, 0, 0, 0, 0, 0.0, 0.0, 0, 0, 0.0, 0.0, 0.0, 6410.25641, 312.0, 0.0, 312, 312, 312, 312.0, 0.0, 312, 312, 0, 0.0, 0.0, 0, 0, 0, 0, 0, 0, 64, 0, 6410.25641, 0.0, 0, 0, 0.0, 0.0, 0.0, 0, 0, 0, 0, 1, 0, 0, 0, 0, 0.0, 0.0, 0.0, 64, 0, 0, 0, 0, 0, 0, 2, 0, 0, 0, 118, -1, 0, 32, 0.0, 0.0, 0, 0, 0.0, 0.0, 0, 0, BENIGN\n",
      "Valid packet received from ('127.0.0.1', 64744): 385, 2, 2, 74, 622, 37, 37, 37.0, 0.0, 311, 311, 311.0, 0.0, 1807792.208, 10389.61039, 128.3333333, 217.0837012, 379, 3, 3, 3.0, 0.0, 3, 3, 3, 3.0, 0.0, 3, 3, 0, 0, 0, 0, 64, 64, 5194.805195, 5194.805195, 37, 311, 146.6, 150.07598080000002, 22522.8, 0, 0, 0, 0, 0, 0, 0, 0, 1, 183.25, 37.0, 311.0, 64, 0, 0, 0, 0, 0, 0, 2, 74, 2, 622, -1, -1, 1, 32, 0.0, 0.0, 0, 0, 0.0, 0.0, 0, 0, BENIGN\n",
      "Valid packet received from ('127.0.0.1', 64744): 83858, 1, 1, 42, 234, 42, 42, 42.0, 0.0, 234, 234, 234.0, 0.0, 3291.278113, 23.8498414, 83858.0, 0.0, 83858, 83858, 0, 0.0, 0.0, 0, 0, 0, 0.0, 0.0, 0, 0, 0, 0, 0, 0, 20, 20, 11.9249207, 11.9249207, 42, 234, 106.0, 110.8512517, 12288.0, 0, 0, 0, 0, 0, 0, 0, 0, 1, 159.0, 42.0, 234.0, 20, 0, 0, 0, 0, 0, 0, 1, 42, 1, 234, -1, -1, 0, 20, 0.0, 0.0, 0, 0, 0.0, 0.0, 0, 0, BENIGN\n",
      "Valid packet received from ('127.0.0.1', 64744): 80191, 1, 1, 50, 66, 50, 50, 50.0, 0.0, 66, 66, 66.0, 0.0, 1446.546371, 24.94045466, 80191.0, 0.0, 80191, 80191, 0, 0.0, 0.0, 0, 0, 0, 0.0, 0.0, 0, 0, 0, 0, 0, 0, 20, 20, 12.47022733, 12.47022733, 50, 66, 55.33333333, 9.237604307, 85.33333333, 0, 0, 0, 0, 0, 0, 0, 0, 1, 83.0, 50.0, 66.0, 20, 0, 0, 0, 0, 0, 0, 1, 50, 1, 66, -1, -1, 0, 20, 0.0, 0.0, 0, 0, 0.0, 0.0, 0, 0, BENIGN\n",
      "Valid packet received from ('127.0.0.1', 64744): 50184, 1, 1, 54, 108, 54, 54, 54.0, 0.0, 108, 108, 108.0, 0.0, 3228.120516, 39.85333971, 50184.0, 0.0, 50184, 50184, 0, 0.0, 0.0, 0, 0, 0, 0.0, 0.0, 0, 0, 0, 0, 0, 0, 20, 20, 19.92666985, 19.92666985, 54, 108, 72.0, 31.17691454, 972.0, 0, 0, 0, 0, 0, 0, 0, 0, 1, 108.0, 54.0, 108.0, 20, 0, 0, 0, 0, 0, 0, 1, 54, 1, 108, -1, -1, 0, 20, 0.0, 0.0, 0, 0, 0.0, 0.0, 0, 0, BENIGN\n",
      "Valid packet received from ('127.0.0.1', 64744): 31114523, 13, 17, 3639, 8032, 2114, 0, 279.9230769, 630.8764355000002, 1844, 0, 472.4705882, 667.5224825, 375.0981495, 0.964179975, 1072914.586, 3078934.436, 10000000, 3, 21200000, 1764230.0, 3861994.237, 10000000, 188, 31100000, 1942406.313, 3999485.414, 10000000, 3, 0, 0, 0, 0, 272, 376, 0.417811322, 0.5463686520000001, 0, 2114, 376.483871, 640.9633828, 410834.0581, 0, 0, 0, 1, 0, 0, 0, 0, 1, 389.0333333, 279.9230769, 472.4705882, 272, 0, 0, 0, 0, 0, 0, 13, 3639, 17, 8032, 8192, 75, 12, 20, 395223.3333, 622637.3402, 1114183, 35668, 9976283.0, 59191.00264, 10000000, 9907940, BENIGN\n",
      "Valid packet received from ('127.0.0.1', 64744): 48503, 4, 2, 144, 104, 36, 36, 36.0, 0.0, 52, 52, 52.0, 0.0, 5113.085789, 123.7036884, 9700.6, 13365.72902, 26397, 1, 26402, 8800.666667, 15238.87175, 26397, 1, 4, 4.0, 0.0, 4, 4, 0, 0, 0, 0, 80, 40, 82.46912562, 41.23456281, 36, 52, 40.57142857, 7.8072005839999985, 60.95238095, 0, 0, 0, 0, 0, 0, 0, 0, 0, 47.33333333, 36.0, 52.0, 80, 0, 0, 0, 0, 0, 0, 4, 144, 2, 104, -1, -1, 3, 20, 0.0, 0.0, 0, 0, 0.0, 0.0, 0, 0, BENIGN\n",
      "Valid packet received from ('127.0.0.1', 64744): 10108928, 7, 9, 1413, 6269, 1075, 0, 201.8571429, 392.4327665, 1810, 0, 696.5555555999997, 771.6088890999997, 759.9223182, 1.582759319, 673928.5333, 2580143.347, 10000000, 1, 108414, 18069.0, 15450.57853, 34633, 234, 10100000, 1260059.75, 3531736.412, 10000000, 1, 0, 0, 0, 0, 152, 192, 0.692457202, 0.8903021170000001, 0, 1810, 451.8823529, 655.1542645, 429227.1103, 0, 0, 0, 1, 0, 0, 0, 0, 1, 480.125, 201.8571429, 696.5555555999997, 152, 0, 0, 0, 0, 0, 0, 7, 1413, 9, 6269, 8192, 21, 6, 20, 108414.0, 0.0, 108414, 108414, 10000000.0, 0.0, 10000000, 10000000, BENIGN\n",
      "Valid packet received from ('127.0.0.1', 64744): 4, 2, 0, 124, 0, 62, 62, 62.0, 0.0, 0, 0, 0.0, 0.0, 31000000.0, 500000.0, 4.0, 0.0, 4, 4, 4, 4.0, 0.0, 4, 4, 0, 0.0, 0.0, 0, 0, 0, 0, 0, 0, 64, 0, 500000.0, 0.0, 62, 62, 62.0, 0.0, 0.0, 0, 0, 0, 0, 0, 0, 0, 0, 0, 93.0, 62.0, 0.0, 64, 0, 0, 0, 0, 0, 0, 2, 124, 0, 0, -1, -1, 1, 32, 0.0, 0.0, 0, 0, 0.0, 0.0, 0, 0, BENIGN\n",
      "Valid packet received from ('127.0.0.1', 64744): 3, 2, 0, 0, 0, 0, 0, 0.0, 0.0, 0, 0, 0.0, 0.0, 0.0, 666666.6667, 3.0, 0.0, 3, 3, 3, 3.0, 0.0, 3, 3, 0, 0.0, 0.0, 0, 0, 0, 0, 0, 0, 64, 0, 666666.6667, 0.0, 0, 0, 0.0, 0.0, 0.0, 0, 0, 0, 0, 1, 0, 0, 0, 0, 0.0, 0.0, 0.0, 64, 0, 0, 0, 0, 0, 0, 2, 0, 0, 0, 16477, -1, 0, 32, 0.0, 0.0, 0, 0, 0.0, 0.0, 0, 0, BENIGN\n",
      "Valid packet received from ('127.0.0.1', 64744): 4, 2, 0, 37, 0, 31, 6, 18.5, 17.67766953, 0, 0, 0.0, 0.0, 9250000.0, 500000.0, 4.0, 0.0, 4, 4, 4, 4.0, 0.0, 4, 4, 0, 0.0, 0.0, 0, 0, 1, 0, 0, 0, 40, 0, 500000.0, 0.0, 6, 31, 22.66666667, 14.43375673, 208.3333333, 0, 1, 0, 0, 1, 0, 0, 0, 0, 34.0, 18.5, 0.0, 40, 0, 0, 0, 0, 0, 0, 2, 37, 0, 0, 110, -1, 1, 20, 0.0, 0.0, 0, 0, 0.0, 0.0, 0, 0, BENIGN\n",
      "Valid packet received from ('127.0.0.1', 64744): 48938, 1, 1, 52, 113, 52, 52, 52.0, 0.0, 113, 113, 113.0, 0.0, 3371.613061, 40.86803711, 48938.0, 0.0, 48938, 48938, 0, 0.0, 0.0, 0, 0, 0, 0.0, 0.0, 0, 0, 0, 0, 0, 0, 32, 32, 20.43401855, 20.43401855, 52, 113, 72.33333333, 35.21836642, 1240.333333, 0, 0, 0, 0, 0, 0, 0, 0, 1, 108.5, 52.0, 113.0, 32, 0, 0, 0, 0, 0, 0, 1, 52, 1, 113, -1, -1, 0, 32, 0.0, 0.0, 0, 0, 0.0, 0.0, 0, 0, BENIGN\n",
      "Valid packet received from ('127.0.0.1', 64744): 47230, 1, 1, 81, 163, 81, 81, 81.0, 0.0, 163, 163, 163.0, 0.0, 5166.2079189999995, 42.34596655, 47230.0, 0.0, 47230, 47230, 0, 0.0, 0.0, 0, 0, 0, 0.0, 0.0, 0, 0, 0, 0, 0, 0, 20, 20, 21.17298327, 21.17298327, 81, 163, 108.3333333, 47.34272207, 2241.333333, 0, 0, 0, 0, 0, 0, 0, 0, 1, 162.5, 81.0, 163.0, 20, 0, 0, 0, 0, 0, 0, 1, 81, 1, 163, -1, -1, 0, 20, 0.0, 0.0, 0, 0, 0.0, 0.0, 0, 0, BENIGN\n",
      "Valid packet received from ('127.0.0.1', 64744): 364, 2, 2, 74, 622, 37, 37, 37.0, 0.0, 311, 311, 311.0, 0.0, 1912087.912, 10989.01099, 121.3333333, 127.0170592, 268, 48, 48, 48.0, 0.0, 48, 48, 48, 48.0, 0.0, 48, 48, 0, 0, 0, 0, 64, 64, 5494.505495, 5494.505495, 37, 311, 146.6, 150.07598080000002, 22522.8, 0, 0, 0, 0, 0, 0, 0, 0, 1, 183.25, 37.0, 311.0, 64, 0, 0, 0, 0, 0, 0, 2, 74, 2, 622, -1, -1, 1, 32, 0.0, 0.0, 0, 0, 0.0, 0.0, 0, 0, BENIGN\n",
      "Valid packet received from ('127.0.0.1', 64744): 47856, 2, 2, 78, 266, 39, 39, 39.0, 0.0, 133, 133, 133.0, 0.0, 7188.231361, 83.58408559, 15952.0, 27545.67002, 47759, 48, 49, 49.0, 0.0, 49, 49, 48, 48.0, 0.0, 48, 48, 0, 0, 0, 0, 40, 64, 41.7920428, 41.7920428, 39, 133, 76.6, 51.48592041, 2650.8, 0, 0, 0, 0, 0, 0, 0, 0, 1, 95.75, 39.0, 133.0, 40, 0, 0, 0, 0, 0, 0, 2, 78, 2, 266, -1, -1, 1, 20, 0.0, 0.0, 0, 0, 0.0, 0.0, 0, 0, BENIGN\n",
      "Valid packet received from ('127.0.0.1', 64744): 213, 2, 2, 72, 200, 36, 36, 36.0, 0.0, 100, 100, 100.0, 0.0, 1276995.305, 18779.34272, 71.0, 39.83716857, 117, 48, 48, 48.0, 0.0, 48, 48, 48, 48.0, 0.0, 48, 48, 0, 0, 0, 0, 64, 64, 9389.671362, 9389.671362, 36, 100, 61.6, 35.05424368, 1228.8, 0, 0, 0, 0, 0, 0, 0, 0, 1, 77.0, 36.0, 100.0, 64, 0, 0, 0, 0, 0, 0, 2, 72, 2, 200, -1, -1, 1, 32, 0.0, 0.0, 0, 0, 0.0, 0.0, 0, 0, BENIGN\n",
      "Valid packet received from ('127.0.0.1', 64744): 102324, 3, 5, 433, 2279, 427, 0, 144.33333330000005, 244.8148961, 1460, 0, 455.8, 660.3318863, 26504.04597, 78.18302646, 14617.71429, 17897.38105, 35958, 2, 68604, 34302.0, 2341.937659, 35958, 32646, 69760, 17440.0, 34140.63846, 68646, 2, 0, 0, 0, 0, 72, 112, 29.31863492, 48.86439154, 0, 1460, 301.3333333, 518.1782994, 268508.75, 0, 0, 0, 1, 0, 0, 0, 0, 1, 339.0, 144.33333330000005, 455.8, 72, 0, 0, 0, 0, 0, 0, 3, 433, 5, 2279, 8192, 237, 2, 20, 0.0, 0.0, 0, 0, 0.0, 0.0, 0, 0, BENIGN\n",
      "Valid packet received from ('127.0.0.1', 64744): 60087781, 18, 20, 1186, 23827, 517, 0, 65.88888889, 152.3968847, 4380, 0, 1191.35, 1400.713513, 416.2743171, 0.63240811, 1623994.081, 3722379.507, 10000000, 3, 50300000, 2958672.118, 4704260.552, 10000000, 202, 60100000, 3161275.421, 4770517.772, 10000000, 3, 0, 0, 0, 0, 380, 412, 0.299561736, 0.332846374, 0, 4380, 641.3589744, 1148.166948, 1318287.341, 0, 0, 0, 1, 0, 0, 0, 0, 1, 658.2368421, 65.88888889, 1191.35, 380, 0, 0, 0, 0, 0, 0, 18, 1186, 20, 23827, 29200, 127, 17, 20, 45151.66667, 53038.89696000001, 153416, 23214, 9969478.0, 102321.2423, 10000000, 9767042, BENIGN\n",
      "Valid packet received from ('127.0.0.1', 64744): 47472, 1, 1, 51, 67, 51, 51, 51.0, 0.0, 67, 67, 67.0, 0.0, 2485.675767, 42.13009774, 47472.0, 0.0, 47472, 47472, 0, 0.0, 0.0, 0, 0, 0, 0.0, 0.0, 0, 0, 0, 0, 0, 0, 20, 20, 21.06504887, 21.06504887, 51, 67, 56.33333333, 9.237604307, 85.33333333, 0, 0, 0, 0, 0, 0, 0, 0, 1, 84.5, 51.0, 67.0, 20, 0, 0, 0, 0, 0, 0, 1, 51, 1, 67, -1, -1, 0, 20, 0.0, 0.0, 0, 0, 0.0, 0.0, 0, 0, BENIGN\n",
      "Valid packet received from ('127.0.0.1', 64744): 47596, 1, 1, 46, 110, 46, 46, 46.0, 0.0, 110, 110, 110.0, 0.0, 3277.586352, 42.02033784, 47596.0, 0.0, 47596, 47596, 0, 0.0, 0.0, 0, 0, 0, 0.0, 0.0, 0, 0, 0, 0, 0, 0, 40, 20, 21.01016892, 21.01016892, 46, 110, 67.33333333, 36.95041723, 1365.333333, 0, 0, 0, 0, 0, 0, 0, 0, 1, 101.0, 46.0, 110.0, 40, 0, 0, 0, 0, 0, 0, 1, 46, 1, 110, -1, -1, 0, 40, 0.0, 0.0, 0, 0, 0.0, 0.0, 0, 0, BENIGN\n",
      "Valid packet received from ('127.0.0.1', 64744): 76267, 4, 2, 188, 350, 47, 47, 47.0, 0.0, 175, 175, 175.0, 0.0, 7054.164973000001, 78.67098483, 15253.4, 23127.54121, 52345, 3, 52539, 17513.0, 30165.543319999997, 52345, 3, 4, 4.0, 0.0, 4, 4, 0, 0, 0, 0, 80, 40, 52.44732322, 26.22366161, 47, 175, 83.57142857, 62.45760467, 3900.952381, 0, 0, 0, 0, 0, 0, 0, 0, 0, 97.5, 47.0, 175.0, 80, 0, 0, 0, 0, 0, 0, 4, 188, 2, 350, -1, -1, 3, 20, 0.0, 0.0, 0, 0, 0.0, 0.0, 0, 0, BENIGN\n",
      "Valid packet received from ('127.0.0.1', 64744): 6144517, 9, 6, 384, 3118, 197, 0, 42.66666667, 70.21573898, 1460, 0, 519.6666667, 730.122912, 569.9390204, 2.44120083, 438894.0714, 1433256.493, 5411814, 4, 6144517, 768064.625, 1878170.16, 5411814, 4, 585108, 117021.6, 165020.2747, 353812, 216, 0, 0, 0, 0, 192, 132, 1.464720498, 0.976480332, 0, 1460, 218.875, 488.1969377, 238336.25, 0, 0, 0, 1, 0, 0, 0, 0, 0, 233.4666667, 42.66666667, 519.6666667, 192, 0, 0, 0, 0, 0, 0, 9, 384, 6, 3118, 8192, 110, 8, 20, 732699.0, 0.0, 732699, 732699, 5411814.0, 0.0, 5411814, 5411814, BENIGN\n",
      "Valid packet received from ('127.0.0.1', 64744): 49, 2, 0, 124, 0, 62, 62, 62.0, 0.0, 0, 0, 0.0, 0.0, 2530612.245, 40816.32653, 49.0, 0.0, 49, 49, 49, 49.0, 0.0, 49, 49, 0, 0.0, 0.0, 0, 0, 0, 0, 0, 0, 40, 0, 40816.32653, 0.0, 62, 62, 62.0, 0.0, 0.0, 0, 0, 0, 0, 0, 0, 0, 0, 0, 93.0, 62.0, 0.0, 40, 0, 0, 0, 0, 0, 0, 2, 124, 0, 0, -1, -1, 1, 20, 0.0, 0.0, 0, 0, 0.0, 0.0, 0, 0, BENIGN\n",
      "Valid packet received from ('127.0.0.1', 64744): 175648, 10, 7, 557, 4513, 200, 0, 55.7, 72.58259663, 1430, 0, 644.7142857000001, 693.433658, 28864.547280000003, 96.78447805, 10978.0, 15091.293630000002, 37175, 3, 175648, 19516.44444, 19232.54125, 50518, 3, 110897, 18482.83333, 24868.57342, 59446, 3, 0, 0, 0, 0, 212, 152, 56.93204591, 39.85243214, 0, 1430, 281.6666667, 511.346895, 261475.6471, 0, 0, 0, 1, 0, 0, 0, 0, 0, 298.2352941000001, 55.7, 644.7142857000001, 212, 0, 0, 0, 0, 0, 0, 10, 557, 7, 4513, 8192, 343, 9, 20, 0.0, 0.0, 0, 0, 0.0, 0.0, 0, 0, BENIGN\n",
      "Valid packet received from ('127.0.0.1', 64744): 23894, 2, 2, 70, 102, 35, 35, 35.0, 0.0, 51, 51, 51.0, 0.0, 7198.459864, 167.40604340000002, 7964.666667, 13790.01118, 23888, 3, 3, 3.0, 0.0, 3, 3, 3, 3.0, 0.0, 3, 3, 0, 0, 0, 0, 40, 40, 83.70302168, 83.70302168, 35, 51, 41.4, 8.76356092, 76.8, 0, 0, 0, 0, 0, 0, 0, 0, 1, 51.75, 35.0, 51.0, 40, 0, 0, 0, 0, 0, 0, 2, 70, 2, 102, -1, -1, 1, 20, 0.0, 0.0, 0, 0, 0.0, 0.0, 0, 0, BENIGN\n",
      "Valid packet received from ('127.0.0.1', 64744): 85571, 6, 7, 1788, 3368, 1133, 0, 298.0, 454.77510930000005, 1460, 0, 481.14285710000007, 622.9752344999997, 60254.05802999999, 151.9206273, 7130.916667, 10424.21979, 24300, 107, 56761, 11352.2, 12727.90188, 25850, 316, 61435, 10239.16667, 13663.34083, 30633, 197, 0, 0, 0, 0, 132, 152, 70.11721261, 81.80341471, 0, 1460, 368.2857143, 527.4848053000002, 278240.2198, 0, 0, 0, 1, 0, 0, 0, 0, 1, 396.6153846, 298.0, 481.14285710000007, 132, 0, 0, 0, 0, 0, 0, 6, 1788, 7, 3368, 8192, 64, 5, 20, 0.0, 0.0, 0, 0, 0.0, 0.0, 0, 0, BENIGN\n",
      "Valid packet received from ('127.0.0.1', 64744): 1823, 2, 0, 12, 0, 6, 6, 6.0, 0.0, 0, 0, 0.0, 0.0, 6582.556226, 1097.092704, 1823.0, 0.0, 1823, 1823, 1823, 1823.0, 0.0, 1823, 1823, 0, 0.0, 0.0, 0, 0, 0, 0, 0, 0, 40, 0, 1097.092704, 0.0, 6, 6, 6.0, 0.0, 0.0, 0, 0, 0, 0, 1, 0, 0, 0, 0, 9.0, 6.0, 0.0, 40, 0, 0, 0, 0, 0, 0, 2, 12, 0, 0, 254, -1, 1, 20, 0.0, 0.0, 0, 0, 0.0, 0.0, 0, 0, BENIGN\n",
      "Valid packet received from ('127.0.0.1', 64744): 62, 2, 0, 12, 0, 6, 6, 6.0, 0.0, 0, 0, 0.0, 0.0, 193548.3871, 32258.06452, 62.0, 0.0, 62, 62, 62, 62.0, 0.0, 62, 62, 0, 0.0, 0.0, 0, 0, 0, 0, 0, 0, 40, 0, 32258.06452, 0.0, 6, 6, 6.0, 0.0, 0.0, 0, 0, 0, 0, 1, 0, 0, 0, 0, 9.0, 6.0, 0.0, 40, 0, 0, 0, 0, 0, 0, 2, 12, 0, 0, 630, -1, 1, 20, 0.0, 0.0, 0, 0, 0.0, 0.0, 0, 0, BENIGN\n",
      "Valid packet received from ('127.0.0.1', 64744): 23692, 2, 2, 68, 234, 34, 34, 34.0, 0.0, 117, 117, 117.0, 0.0, 12746.91879, 168.8333615, 7897.333333, 13673.38643, 23686, 3, 3, 3.0, 0.0, 3, 3, 3, 3.0, 0.0, 3, 3, 0, 0, 0, 0, 64, 40, 84.41668074, 84.41668074, 34, 117, 67.2, 45.46097227, 2066.7, 0, 0, 0, 0, 0, 0, 0, 0, 1, 84.0, 34.0, 117.0, 64, 0, 0, 0, 0, 0, 0, 2, 68, 2, 234, -1, -1, 1, 32, 0.0, 0.0, 0, 0, 0.0, 0.0, 0, 0, BENIGN\n",
      "Valid packet received from ('127.0.0.1', 64744): 306, 2, 2, 84, 340, 42, 42, 42.0, 0.0, 170, 170, 170.0, 0.0, 1385620.915, 13071.89542, 102.0, 169.7409791, 298, 4, 4, 4.0, 0.0, 4, 4, 4, 4.0, 0.0, 4, 4, 0, 0, 0, 0, 40, 40, 6535.947712, 6535.947712, 42, 170, 93.2, 70.10848736, 4915.2, 0, 0, 0, 0, 0, 0, 0, 0, 1, 116.5, 42.0, 170.0, 40, 0, 0, 0, 0, 0, 0, 2, 84, 2, 340, -1, -1, 1, 20, 0.0, 0.0, 0, 0, 0.0, 0.0, 0, 0, BENIGN\n",
      "Valid packet received from ('127.0.0.1', 64744): 60504, 4, 2, 180, 146, 45, 45, 45.0, 0.0, 73, 73, 73.0, 0.0, 5388.0735159999995, 99.16699722, 12100.8, 16761.49233, 33861, 3, 26640, 8880.0, 15375.41502, 26634, 3, 3, 3.0, 0.0, 3, 3, 0, 0, 0, 0, 80, 40, 66.11133148, 33.05566574, 45, 73, 53.0, 13.66260102, 186.6666667, 0, 0, 0, 0, 0, 0, 0, 0, 0, 61.83333333, 45.0, 73.0, 80, 0, 0, 0, 0, 0, 0, 4, 180, 2, 146, -1, -1, 3, 20, 0.0, 0.0, 0, 0, 0.0, 0.0, 0, 0, BENIGN\n",
      "Valid packet received from ('127.0.0.1', 64744): 5058328, 9, 6, 380, 4875, 193, 0, 42.22222222, 69.12086837, 1689, 2, 812.5, 802.6939017999997, 1038.880832, 2.965406751, 361309.1429, 1297471.723, 4868770, 3, 5058328, 632291.0, 1712057.1730000004, 4868770, 3, 99280, 19856.0, 27127.89751000001, 60916, 76, 0, 0, 0, 0, 192, 124, 1.779244051, 1.1861627, 0, 1689, 328.4375, 606.1271558999998, 367390.1292, 0, 0, 0, 1, 0, 0, 0, 0, 0, 350.3333333, 42.22222222, 812.5, 192, 0, 0, 0, 0, 0, 0, 9, 380, 6, 4875, 8192, 30016, 8, 20, 0.0, 0.0, 0, 0, 0.0, 0.0, 0, 0, BENIGN\n",
      "Valid packet received from ('127.0.0.1', 64744): 39, 1, 1, 6, 6, 6, 6, 6.0, 0.0, 6, 6, 6.0, 0.0, 307692.3077, 51282.05128, 39.0, 0.0, 39, 39, 0, 0.0, 0.0, 0, 0, 0, 0.0, 0.0, 0, 0, 0, 0, 0, 0, 20, 20, 25641.02564, 25641.02564, 6, 6, 6.0, 0.0, 0.0, 0, 0, 0, 0, 1, 1, 0, 0, 1, 9.0, 6.0, 6.0, 20, 0, 0, 0, 0, 0, 0, 1, 6, 1, 6, 343, 258, 0, 20, 0.0, 0.0, 0, 0, 0.0, 0.0, 0, 0, BENIGN\n",
      "Valid packet received from ('127.0.0.1', 64744): 51185, 1, 1, 0, 0, 0, 0, 0.0, 0.0, 0, 0, 0.0, 0.0, 0.0, 39.07394745, 51185.0, 0.0, 51185, 51185, 0, 0.0, 0.0, 0, 0, 0, 0.0, 0.0, 0, 0, 0, 0, 0, 0, 32, 32, 19.53697372, 19.53697372, 0, 0, 0.0, 0.0, 0.0, 0, 0, 0, 0, 1, 1, 0, 0, 1, 0.0, 0.0, 0.0, 32, 0, 0, 0, 0, 0, 0, 1, 0, 1, 0, 237, 110, 0, 32, 0.0, 0.0, 0, 0, 0.0, 0.0, 0, 0, BENIGN\n",
      "Valid packet received from ('127.0.0.1', 64744): 16406958, 8, 8, 1219, 1187, 615, 0, 152.375, 258.3845072, 1006, 0, 148.375, 350.3826225, 146.64510019999997, 0.975196011, 1093797.2, 2878369.1010000007, 9960016, 3, 10400000, 1485954.7140000004, 3737351.489, 9960016, 1394, 16300000, 2327226.143, 4064138.045, 10100000, 3, 0, 0, 0, 0, 264, 264, 0.487598006, 0.487598006, 0, 1006, 141.5294118, 290.2649904999999, 84253.76471, 0, 0, 0, 1, 0, 0, 0, 0, 1, 150.375, 152.375, 148.375, 264, 0, 0, 0, 0, 0, 0, 8, 1219, 8, 1187, 29200, 124, 3, 32, 279097.5, 229907.9917, 441667, 116528, 7924380.0, 2878824.039, 9960016, 5888744, BENIGN\n",
      "Valid packet received from ('127.0.0.1', 64744): 59533, 1, 1, 52, 116, 52, 52, 52.0, 0.0, 116, 116, 116.0, 0.0, 2821.964289, 33.59481296, 59533.0, 0.0, 59533, 59533, 0, 0.0, 0.0, 0, 0, 0, 0.0, 0.0, 0, 0, 0, 0, 0, 0, 20, 32, 16.79740648, 16.79740648, 52, 116, 73.33333333, 36.95041723, 1365.333333, 0, 0, 0, 0, 0, 0, 0, 0, 1, 110.0, 52.0, 116.0, 20, 0, 0, 0, 0, 0, 0, 1, 52, 1, 116, -1, -1, 0, 20, 0.0, 0.0, 0, 0, 0.0, 0.0, 0, 0, BENIGN\n",
      "Valid packet received from ('127.0.0.1', 64744): 276, 2, 2, 62, 264, 31, 31, 31.0, 0.0, 132, 132, 132.0, 0.0, 1181159.42, 14492.75362, 92.0, 153.2873119, 269, 3, 4, 4.0, 0.0, 4, 4, 3, 3.0, 0.0, 3, 3, 0, 0, 0, 0, 40, 40, 7246.376812, 7246.376812, 31, 132, 71.4, 55.31997831, 3060.3, 0, 0, 0, 0, 0, 0, 0, 0, 1, 89.25, 31.0, 132.0, 40, 0, 0, 0, 0, 0, 0, 2, 62, 2, 264, -1, -1, 1, 20, 0.0, 0.0, 0, 0, 0.0, 0.0, 0, 0, BENIGN\n",
      "Valid packet received from ('127.0.0.1', 64744): 153, 1, 1, 6, 6, 6, 6, 6.0, 0.0, 6, 6, 6.0, 0.0, 78431.37255, 13071.89542, 153.0, 0.0, 153, 153, 0, 0.0, 0.0, 0, 0, 0, 0.0, 0.0, 0, 0, 0, 0, 0, 0, 20, 20, 6535.947712, 6535.947712, 6, 6, 6.0, 0.0, 0.0, 0, 0, 0, 0, 1, 1, 0, 0, 1, 9.0, 6.0, 6.0, 20, 0, 0, 0, 0, 0, 0, 1, 6, 1, 6, 114, 254, 0, 20, 0.0, 0.0, 0, 0, 0.0, 0.0, 0, 0, BENIGN\n",
      "Valid packet received from ('127.0.0.1', 64744): 259, 4, 1, 121, 6, 46, 6, 30.25, 17.28920665, 6, 6, 6.0, 0.0, 490347.4903, 19305.01931, 64.75, 59.60634754, 145, 2, 259, 86.33333333, 108.6937594, 209, 2, 0, 0.0, 0.0, 0, 0, 1, 0, 0, 0, 80, 20, 15444.01544, 3861.003861, 6, 46, 27.5, 17.31762108, 299.9, 0, 1, 0, 0, 1, 0, 0, 0, 0, 33.0, 30.25, 6.0, 80, 0, 0, 0, 0, 0, 0, 4, 121, 1, 6, 119, 0, 3, 20, 0.0, 0.0, 0, 0, 0.0, 0.0, 0, 0, BENIGN\n",
      "Valid packet received from ('127.0.0.1', 64744): 20729286, 18, 21, 1344, 23946, 709, 0, 74.66666667, 199.7274614, 4344, 0, 1140.285714, 980.7201509, 1220.013077, 1.881396204, 545507.5263, 2262808.7, 10000000, 2, 20700000, 1219369.765, 3315170.338, 10000000, 4, 20100000, 1005949.4, 3085275.458, 10000000, 2, 0, 0, 0, 0, 584, 680, 0.86833671, 1.013059495, 0, 4344, 632.25, 896.2946445, 803344.0897, 0, 0, 0, 1, 0, 0, 0, 0, 1, 648.4615385, 74.66666667, 1140.285714, 584, 0, 0, 0, 0, 0, 0, 18, 1344, 21, 23946, 29200, 123, 4, 32, 49886.5, 46385.49774, 82686, 17087, 10000000.0, 18035.46556, 10000000, 9997406, BENIGN\n",
      "Valid packet received from ('127.0.0.1', 64744): 23850, 1, 1, 46, 110, 46, 46, 46.0, 0.0, 110, 110, 110.0, 0.0, 6540.880503, 83.85744235, 23850.0, 0.0, 23850, 23850, 0, 0.0, 0.0, 0, 0, 0, 0.0, 0.0, 0, 0, 0, 0, 0, 0, 32, 40, 41.92872117, 41.92872117, 46, 110, 67.33333333, 36.95041723, 1365.333333, 0, 0, 0, 0, 0, 0, 0, 0, 1, 101.0, 46.0, 110.0, 32, 0, 0, 0, 0, 0, 0, 1, 46, 1, 110, -1, -1, 0, 32, 0.0, 0.0, 0, 0, 0.0, 0.0, 0, 0, BENIGN\n",
      "Valid packet received from ('127.0.0.1', 64744): 103337397, 17, 19, 3027, 12321, 981, 6, 178.05882350000005, 383.1288084, 2661, 6, 648.4736842, 852.6547672, 148.5231915, 0.348373397, 2952497.057, 4525818.2080000015, 10200000, 3, 103000000, 6458587.312999999, 4748718.058, 10200000, 3, 100000000, 5581956.222, 5077818.217, 10200000, 48, 0, 0, 0, 0, 340, 380, 0.16450966, 0.183863737, 6, 2661, 414.972973, 699.0536256, 488675.9715, 0, 0, 0, 0, 1, 0, 0, 0, 1, 426.5, 178.05882350000005, 648.4736842, 340, 0, 0, 0, 0, 0, 0, 17, 3027, 19, 12321, 256, 5120, 16, 20, 81776.6, 86469.57254, 220633, 28298, 9965763.7, 159157.6721, 10200000, 9676565, BENIGN\n",
      "Valid packet received from ('127.0.0.1', 64744): 51586483, 3, 2, 58, 52, 46, 6, 19.33333333, 23.09401077, 46, 6, 26.0, 28.28427125, 2.132341528, 0.096924615, 12900000.0, 25700000.0, 51500000, 1481, 51600000, 25800000.0, 36300000.0, 51500000, 92719, 1481, 1481.0, 0.0, 1481, 1481, 1, 0, 0, 0, 60, 40, 0.058154769, 0.038769846, 6, 46, 26.0, 21.9089023, 480.0, 0, 1, 0, 0, 1, 0, 0, 0, 0, 31.2, 19.33333333, 26.0, 60, 0, 0, 0, 0, 0, 0, 3, 58, 2, 52, 258, 390, 2, 20, 92719.0, 0.0, 92719, 92719, 51500000.0, 0.0, 51500000, 51500000, BENIGN\n",
      "Valid packet received from ('127.0.0.1', 64744): 220, 2, 2, 86, 406, 43, 43, 43.0, 0.0, 203, 203, 203.0, 0.0, 2236363.636, 18181.81818, 73.33333333, 120.9559148, 213, 3, 4, 4.0, 0.0, 4, 4, 3, 3.0, 0.0, 3, 3, 0, 0, 0, 0, 40, 40, 9090.909091, 9090.909091, 43, 203, 107.0, 87.6356092, 7680.0, 0, 0, 0, 0, 0, 0, 0, 0, 1, 133.75, 43.0, 203.0, 40, 0, 0, 0, 0, 0, 0, 2, 86, 2, 406, -1, -1, 1, 20, 0.0, 0.0, 0, 0, 0.0, 0.0, 0, 0, BENIGN\n",
      "Valid packet received from ('127.0.0.1', 64744): 55596875, 17, 21, 2430, 3006, 336, 6, 142.94117649999995, 164.0638102, 382, 6, 143.1428571, 171.9689756, 97.77527964, 0.6834916529999999, 1502618.243, 5444364.512, 27200000, 1, 55600000, 3474804.688, 7989318.635, 27200000, 200, 36300000, 1816695.9, 6148905.69, 27300000, 1, 1, 0, 0, 0, 340, 420, 0.305772582, 0.377719071, 6, 382, 140.56410259999998, 164.7418706, 27139.883939999996, 0, 1, 0, 0, 1, 0, 0, 0, 1, 144.2631579, 142.94117649999995, 143.1428571, 340, 0, 0, 0, 0, 0, 0, 17, 2430, 21, 3006, 256, 165, 16, 20, 1077348.0, 1755115.658, 3103961, 56245, 17500000.0, 10800000.0, 27200000, 5904912, BENIGN\n",
      "Valid packet received from ('127.0.0.1', 64744): 171, 2, 2, 88, 188, 44, 44, 44.0, 0.0, 94, 94, 94.0, 0.0, 1614035.0880000002, 23391.81287, 57.0, 95.26804291, 167, 1, 3, 3.0, 0.0, 3, 3, 1, 1.0, 0.0, 1, 1, 0, 0, 0, 0, 40, 40, 11695.90643, 11695.90643, 44, 94, 64.0, 27.38612788, 750.0, 0, 0, 0, 0, 0, 0, 0, 0, 1, 80.0, 44.0, 94.0, 40, 0, 0, 0, 0, 0, 0, 2, 88, 2, 188, -1, -1, 1, 20, 0.0, 0.0, 0, 0, 0.0, 0.0, 0, 0, BENIGN\n",
      "Valid packet received from ('127.0.0.1', 64744): 178, 2, 2, 72, 104, 36, 36, 36.0, 0.0, 52, 52, 52.0, 0.0, 988764.0449, 22471.91011, 59.33333333, 62.14767360000001, 126, 3, 49, 49.0, 0.0, 49, 49, 3, 3.0, 0.0, 3, 3, 0, 0, 0, 0, 40, 40, 11235.95506, 11235.95506, 36, 52, 42.4, 8.76356092, 76.8, 0, 0, 0, 0, 0, 0, 0, 0, 1, 53.0, 36.0, 52.0, 40, 0, 0, 0, 0, 0, 0, 2, 72, 2, 104, -1, -1, 1, 20, 0.0, 0.0, 0, 0, 0.0, 0.0, 0, 0, BENIGN\n",
      "Valid packet received from ('127.0.0.1', 64744): 170, 2, 2, 78, 110, 39, 39, 39.0, 0.0, 55, 55, 55.0, 0.0, 1105882.353, 23529.41176, 56.66666667, 94.69072464, 166, 1, 1, 1.0, 0.0, 1, 1, 3, 3.0, 0.0, 3, 3, 0, 0, 0, 0, 40, 40, 11764.70588, 11764.70588, 39, 55, 45.4, 8.76356092, 76.8, 0, 0, 0, 0, 0, 0, 0, 0, 1, 56.75, 39.0, 55.0, 40, 0, 0, 0, 0, 0, 0, 2, 78, 2, 110, -1, -1, 1, 20, 0.0, 0.0, 0, 0, 0.0, 0.0, 0, 0, BENIGN\n",
      "Valid packet received from ('127.0.0.1', 64744): 4, 2, 0, 31, 0, 31, 0, 15.5, 21.92031022, 0, 0, 0.0, 0.0, 7750000.0, 500000.0, 4.0, 0.0, 4, 4, 4, 4.0, 0.0, 4, 4, 0, 0.0, 0.0, 0, 0, 1, 0, 0, 0, 64, 0, 500000.0, 0.0, 0, 31, 20.66666667, 17.89785834, 320.3333333, 0, 1, 0, 0, 1, 0, 0, 0, 0, 31.0, 15.5, 0.0, 64, 0, 0, 0, 0, 0, 0, 2, 31, 0, 0, 88, -1, 0, 32, 0.0, 0.0, 0, 0, 0.0, 0.0, 0, 0, BENIGN\n",
      "Valid packet received from ('127.0.0.1', 64744): 319, 2, 2, 90, 206, 45, 45, 45.0, 0.0, 103, 103, 103.0, 0.0, 927899.6865, 12539.18495, 106.3333333, 124.6849363, 244, 1, 1, 1.0, 0.0, 1, 1, 74, 74.0, 0.0, 74, 74, 0, 0, 0, 0, 40, 40, 6269.592476, 6269.592476, 45, 103, 68.2, 31.76790834, 1009.2, 0, 0, 0, 0, 0, 0, 0, 0, 1, 85.25, 45.0, 103.0, 40, 0, 0, 0, 0, 0, 0, 2, 90, 2, 206, -1, -1, 1, 20, 0.0, 0.0, 0, 0, 0.0, 0.0, 0, 0, BENIGN\n",
      "Valid packet received from ('127.0.0.1', 64744): 204, 2, 2, 90, 122, 45, 45, 45.0, 0.0, 61, 61, 61.0, 0.0, 1039215.686, 19607.84314, 68.0, 111.718396, 197, 3, 3, 3.0, 0.0, 3, 3, 4, 4.0, 0.0, 4, 4, 0, 0, 0, 0, 64, 64, 9803.921569, 9803.921569, 45, 61, 51.4, 8.76356092, 76.8, 0, 0, 0, 0, 0, 0, 0, 0, 1, 64.25, 45.0, 61.0, 64, 0, 0, 0, 0, 0, 0, 2, 90, 2, 122, -1, -1, 1, 32, 0.0, 0.0, 0, 0, 0.0, 0.0, 0, 0, BENIGN\n",
      "Valid packet received from ('127.0.0.1', 64744): 46879, 1, 1, 49, 146, 49, 49, 49.0, 0.0, 146, 146, 146.0, 0.0, 4159.645044, 42.66302609, 46879.0, 0.0, 46879, 46879, 0, 0.0, 0.0, 0, 0, 0, 0.0, 0.0, 0, 0, 0, 0, 0, 0, 20, 32, 21.33151304, 21.33151304, 49, 146, 81.33333333, 56.00297611, 3136.333333, 0, 0, 0, 0, 0, 0, 0, 0, 1, 122.0, 49.0, 146.0, 20, 0, 0, 0, 0, 0, 0, 1, 49, 1, 146, -1, -1, 0, 20, 0.0, 0.0, 0, 0, 0.0, 0.0, 0, 0, BENIGN\n",
      "Valid packet received from ('127.0.0.1', 64744): 589700, 8, 6, 347, 4993, 191, 0, 43.375, 73.17871958, 1460, 0, 832.1666667000003, 697.4784346, 9055.451925, 23.740885199999997, 45361.53846, 89175.35072999998, 328478, 1, 589700, 84242.85714, 114471.2373, 328478, 473, 137504, 27500.8, 38009.48934, 78600, 49, 0, 0, 0, 0, 172, 132, 13.56622011, 10.17466508, 0, 1460, 356.0, 581.8005304, 338491.8571, 0, 0, 0, 1, 0, 0, 0, 0, 0, 381.4285713999999, 43.375, 832.1666667000003, 172, 0, 0, 0, 0, 0, 0, 8, 347, 6, 4993, 8192, 60, 7, 20, 0.0, 0.0, 0, 0, 0.0, 0.0, 0, 0, BENIGN\n",
      "Valid packet received from ('127.0.0.1', 64744): 47245, 4, 2, 124, 246, 31, 31, 31.0, 0.0, 123, 123, 123.0, 0.0, 7831.516562999999, 126.9975659, 9449.0, 14957.9354, 34298, 3, 34350, 11450.0, 19786.96179, 34298, 3, 49, 49.0, 0.0, 49, 49, 0, 0, 0, 0, 104, 40, 84.66504392, 42.33252196, 31, 123, 57.28571429, 44.89140336, 2015.238095, 0, 0, 0, 0, 0, 0, 0, 0, 0, 66.83333333, 31.0, 123.0, 104, 0, 0, 0, 0, 0, 0, 4, 124, 2, 246, -1, -1, 3, 20, 0.0, 0.0, 0, 0, 0.0, 0.0, 0, 0, BENIGN\n",
      "Valid packet received from ('127.0.0.1', 64744): 237, 2, 2, 84, 310, 42, 42, 42.0, 0.0, 155, 155, 155.0, 0.0, 1662447.257, 16877.637130000003, 79.0, 82.27393269, 167, 4, 4, 4.0, 0.0, 4, 4, 66, 66.0, 0.0, 66, 66, 0, 0, 0, 0, 40, 40, 8438.818565000001, 8438.818565000001, 42, 155, 87.2, 61.892649, 3830.7, 0, 0, 0, 0, 0, 0, 0, 0, 1, 109.0, 42.0, 155.0, 40, 0, 0, 0, 0, 0, 0, 2, 84, 2, 310, -1, -1, 1, 20, 0.0, 0.0, 0, 0, 0.0, 0.0, 0, 0, BENIGN\n",
      "Valid packet received from ('127.0.0.1', 64744): 153, 2, 2, 106, 138, 53, 53, 53.0, 0.0, 69, 69, 69.0, 0.0, 1594771.242, 26143.79085, 51.0, 83.13843876, 147, 3, 3, 3.0, 0.0, 3, 3, 3, 3.0, 0.0, 3, 3, 0, 0, 0, 0, 64, 64, 13071.89542, 13071.89542, 53, 69, 59.4, 8.76356092, 76.8, 0, 0, 0, 0, 0, 0, 0, 0, 1, 74.25, 53.0, 69.0, 64, 0, 0, 0, 0, 0, 0, 2, 106, 2, 138, -1, -1, 1, 32, 0.0, 0.0, 0, 0, 0.0, 0.0, 0, 0, BENIGN\n",
      "Valid packet received from ('127.0.0.1', 64744): 139, 2, 0, 12, 0, 6, 6, 6.0, 0.0, 0, 0, 0.0, 0.0, 86330.93525, 14388.48921, 139.0, 0.0, 139, 139, 139, 139.0, 0.0, 139, 139, 0, 0.0, 0.0, 0, 0, 0, 0, 0, 0, 40, 0, 14388.48921, 0.0, 6, 6, 6.0, 0.0, 0.0, 0, 0, 0, 0, 1, 0, 0, 0, 0, 9.0, 6.0, 0.0, 40, 0, 0, 0, 0, 0, 0, 2, 12, 0, 0, 253, -1, 1, 20, 0.0, 0.0, 0, 0, 0.0, 0.0, 0, 0, BENIGN\n",
      "Valid packet received from ('127.0.0.1', 64744): 116040663, 23, 19, 3450, 5358, 1654, 0, 150.0, 445.5965358, 1448, 0, 282.0, 533.9489156000002, 75.90442671, 0.3619420889999999, 2830260.0730000013, 4545828.578, 10200000, 1, 116000000, 5274575.591, 5116482.864, 10200000, 1, 113000000, 6253396.222, 5124710.75, 10200000, 192, 0, 0, 0, 0, 744, 616, 0.198206382, 0.1637357069999999, 0, 1654, 204.8372093, 481.1769762, 231531.2824, 0, 0, 0, 1, 0, 0, 0, 0, 0, 209.7142857, 150.0, 282.0, 744, 0, 0, 0, 0, 0, 0, 23, 3450, 19, 5358, 29200, 71, 5, 32, 38862.0, 21963.81246, 105084, 32021, 10200000.0, 45730.2933, 10200000, 10100000, BENIGN\n",
      "Valid packet received from ('127.0.0.1', 64744): 33878, 2, 1, 12, 6, 6, 6, 6.0, 0.0, 6, 6, 6.0, 0.0, 531.3182596, 88.55304327, 16939.0, 23953.94932, 33877, 1, 1, 1.0, 0.0, 1, 1, 0, 0.0, 0.0, 0, 0, 0, 0, 0, 0, 40, 20, 59.03536218, 29.51768109, 6, 6, 6.0, 0.0, 0.0, 1, 0, 0, 0, 0, 0, 0, 0, 0, 8.0, 6.0, 6.0, 40, 0, 0, 0, 0, 0, 0, 2, 12, 1, 6, 0, 0, 1, 20, 0.0, 0.0, 0, 0, 0.0, 0.0, 0, 0, BENIGN\n",
      "Valid packet received from ('127.0.0.1', 64744): 133674, 2, 2, 68, 212, 34, 34, 34.0, 0.0, 106, 106, 106.0, 0.0, 2094.648174, 29.92354534, 44558.0, 77131.68999, 133622, 3, 49, 49.0, 0.0, 49, 49, 3, 3.0, 0.0, 3, 3, 0, 0, 0, 0, 80, 80, 14.96177267, 14.96177267, 34, 106, 62.8, 39.43602414, 1555.2, 0, 0, 0, 0, 0, 0, 0, 0, 1, 78.5, 34.0, 106.0, 80, 0, 0, 0, 0, 0, 0, 2, 68, 2, 212, -1, -1, 1, 40, 0.0, 0.0, 0, 0, 0.0, 0.0, 0, 0, BENIGN\n",
      "Valid packet received from ('127.0.0.1', 64744): 548, 1, 1, 46, 98, 46, 46, 46.0, 0.0, 98, 98, 98.0, 0.0, 262773.7226, 3649.635036, 548.0, 0.0, 548, 548, 0, 0.0, 0.0, 0, 0, 0, 0.0, 0.0, 0, 0, 0, 0, 0, 0, 32, 32, 1824.817518, 1824.817518, 46, 98, 63.33333333, 30.022214, 901.3333332999996, 0, 0, 0, 0, 0, 0, 0, 0, 1, 95.0, 46.0, 98.0, 32, 0, 0, 0, 0, 0, 0, 1, 46, 1, 98, -1, -1, 0, 32, 0.0, 0.0, 0, 0, 0.0, 0.0, 0, 0, BENIGN\n",
      "Valid packet received from ('127.0.0.1', 64744): 49006, 1, 1, 41, 57, 41, 41, 41.0, 0.0, 57, 57, 57.0, 0.0, 1999.755132, 40.81132922, 49006.0, 0.0, 49006, 49006, 0, 0.0, 0.0, 0, 0, 0, 0.0, 0.0, 0, 0, 0, 0, 0, 0, 32, 32, 20.40566461, 20.40566461, 41, 57, 46.33333333, 9.237604307, 85.33333333, 0, 0, 0, 0, 0, 0, 0, 0, 1, 69.5, 41.0, 57.0, 32, 0, 0, 0, 0, 0, 0, 1, 41, 1, 57, -1, -1, 0, 32, 0.0, 0.0, 0, 0, 0.0, 0.0, 0, 0, BENIGN\n",
      "Valid packet received from ('127.0.0.1', 64744): 51, 1, 1, 0, 0, 0, 0, 0.0, 0.0, 0, 0, 0.0, 0.0, 0.0, 39215.68627, 51.0, 0.0, 51, 51, 0, 0.0, 0.0, 0, 0, 0, 0.0, 0.0, 0, 0, 0, 0, 0, 0, 32, 32, 19607.84314, 19607.84314, 0, 0, 0.0, 0.0, 0.0, 0, 0, 0, 0, 1, 1, 0, 0, 1, 0.0, 0.0, 0.0, 32, 0, 0, 0, 0, 0, 0, 1, 0, 1, 0, 275, 272, 0, 32, 0.0, 0.0, 0, 0, 0.0, 0.0, 0, 0, BENIGN\n",
      "Valid packet received from ('127.0.0.1', 64744): 74, 1, 1, 6, 6, 6, 6, 6.0, 0.0, 6, 6, 6.0, 0.0, 162162.1622, 27027.02703, 74.0, 0.0, 74, 74, 0, 0.0, 0.0, 0, 0, 0, 0.0, 0.0, 0, 0, 0, 0, 0, 0, 20, 20, 13513.51351, 13513.51351, 6, 6, 6.0, 0.0, 0.0, 0, 0, 0, 0, 1, 1, 0, 0, 1, 9.0, 6.0, 6.0, 20, 0, 0, 0, 0, 0, 0, 1, 6, 1, 6, 980, 256, 0, 20, 0.0, 0.0, 0, 0, 0.0, 0.0, 0, 0, BENIGN\n",
      "Valid packet received from ('127.0.0.1', 64744): 23736, 1, 1, 56, 72, 56, 56, 56.0, 0.0, 72, 72, 72.0, 0.0, 5392.652511, 84.26019548, 23736.0, 0.0, 23736, 23736, 0, 0.0, 0.0, 0, 0, 0, 0.0, 0.0, 0, 0, 0, 0, 0, 0, 32, 32, 42.13009774, 42.13009774, 56, 72, 61.33333333, 9.237604307, 85.33333333, 0, 0, 0, 0, 0, 0, 0, 0, 1, 92.0, 56.0, 72.0, 32, 0, 0, 0, 0, 0, 0, 1, 56, 1, 72, -1, -1, 0, 32, 0.0, 0.0, 0, 0, 0.0, 0.0, 0, 0, BENIGN\n",
      "Valid packet received from ('127.0.0.1', 64744): 3, 2, 0, 0, 0, 0, 0, 0.0, 0.0, 0, 0, 0.0, 0.0, 0.0, 666666.6667, 3.0, 0.0, 3, 3, 3, 3.0, 0.0, 3, 3, 0, 0.0, 0.0, 0, 0, 0, 0, 0, 0, 64, 0, 666666.6667, 0.0, 0, 0, 0.0, 0.0, 0.0, 0, 0, 0, 0, 1, 0, 0, 0, 0, 0.0, 0.0, 0.0, 64, 0, 0, 0, 0, 0, 0, 2, 0, 0, 0, 349, -1, 0, 32, 0.0, 0.0, 0, 0, 0.0, 0.0, 0, 0, BENIGN\n",
      "Valid packet received from ('127.0.0.1', 64744): 169, 2, 2, 66, 122, 33, 33, 33.0, 0.0, 61, 61, 61.0, 0.0, 1112426.0359999998, 23668.63905, 56.33333333, 90.64399226, 161, 4, 4, 4.0, 0.0, 4, 4, 4, 4.0, 0.0, 4, 4, 0, 0, 0, 0, 64, 64, 11834.31953, 11834.31953, 33, 61, 44.2, 15.33623161, 235.2, 0, 0, 0, 0, 0, 0, 0, 0, 1, 55.25, 33.0, 61.0, 64, 0, 0, 0, 0, 0, 0, 2, 66, 2, 122, -1, -1, 1, 32, 0.0, 0.0, 0, 0, 0.0, 0.0, 0, 0, BENIGN\n",
      "Valid packet received from ('127.0.0.1', 64744): 997, 2, 2, 2944, 578, 1472, 1472, 1472.0, 0.0, 289, 289, 289.0, 0.0, 3532597.793, 4012.036108, 332.3333333, 569.5580158, 990, 2, 5, 5.0, 0.0, 5, 5, 2, 2.0, 0.0, 2, 2, 0, 0, 0, 0, 64, 64, 2006.018054, 2006.018054, 289, 1472, 998.8, 647.9557855, 419846.7, 0, 0, 0, 0, 0, 0, 0, 0, 1, 1248.5, 1472.0, 289.0, 64, 0, 0, 0, 0, 0, 0, 2, 2944, 2, 578, -1, -1, 1, 32, 0.0, 0.0, 0, 0, 0.0, 0.0, 0, 0, BENIGN\n",
      "Valid packet received from ('127.0.0.1', 64744): 196, 2, 2, 94, 196, 47, 47, 47.0, 0.0, 98, 98, 98.0, 0.0, 1479591.8369999998, 20408.163269999997, 65.33333333, 107.09964209999998, 189, 3, 3, 3.0, 0.0, 3, 3, 4, 4.0, 0.0, 4, 4, 0, 0, 0, 0, 64, 64, 10204.08163, 10204.08163, 47, 98, 67.4, 27.93385043, 780.3, 0, 0, 0, 0, 0, 0, 0, 0, 1, 84.25, 47.0, 98.0, 64, 0, 0, 0, 0, 0, 0, 2, 94, 2, 196, -1, -1, 1, 32, 0.0, 0.0, 0, 0, 0.0, 0.0, 0, 0, BENIGN\n",
      "Valid packet received from ('127.0.0.1', 64744): 237, 2, 0, 12, 0, 6, 6, 6.0, 0.0, 0, 0, 0.0, 0.0, 50632.91139, 8438.818565000001, 237.0, 0.0, 237, 237, 237, 237.0, 0.0, 237, 237, 0, 0.0, 0.0, 0, 0, 0, 0, 0, 0, 40, 0, 8438.818565000001, 0.0, 6, 6, 6.0, 0.0, 0.0, 0, 0, 0, 0, 1, 0, 0, 0, 0, 9.0, 6.0, 0.0, 40, 0, 0, 0, 0, 0, 0, 2, 12, 0, 0, 254, -1, 1, 20, 0.0, 0.0, 0, 0, 0.0, 0.0, 0, 0, BENIGN\n",
      "Valid packet received from ('127.0.0.1', 64744): 1, 2, 0, 124, 0, 62, 62, 62.0, 0.0, 0, 0, 0.0, 0.0, 124000000.0, 2000000.0, 1.0, 0.0, 1, 1, 1, 1.0, 0.0, 1, 1, 0, 0.0, 0.0, 0, 0, 0, 0, 0, 0, 40, 0, 2000000.0, 0.0, 62, 62, 62.0, 0.0, 0.0, 0, 0, 0, 0, 0, 0, 0, 0, 0, 93.0, 62.0, 0.0, 40, 0, 0, 0, 0, 0, 0, 2, 124, 0, 0, -1, -1, 1, 20, 0.0, 0.0, 0, 0, 0.0, 0.0, 0, 0, BENIGN\n",
      "Valid packet received from ('127.0.0.1', 64744): 191, 2, 2, 62, 190, 31, 31, 31.0, 0.0, 95, 95, 95.0, 0.0, 1319371.728, 20942.40838, 63.66666667, 69.17610377, 139, 3, 3, 3.0, 0.0, 3, 3, 49, 49.0, 0.0, 49, 49, 0, 0, 0, 0, 64, 64, 10471.20419, 10471.20419, 31, 95, 56.6, 35.05424368, 1228.8, 0, 0, 0, 0, 0, 0, 0, 0, 1, 70.75, 31.0, 95.0, 64, 0, 0, 0, 0, 0, 0, 2, 62, 2, 190, -1, -1, 1, 32, 0.0, 0.0, 0, 0, 0.0, 0.0, 0, 0, BENIGN\n",
      "Valid packet received from ('127.0.0.1', 64744): 226, 2, 2, 68, 344, 34, 34, 34.0, 0.0, 172, 172, 172.0, 0.0, 1823008.85, 17699.11504, 75.33333333, 88.23453594, 174, 4, 4, 4.0, 0.0, 4, 4, 48, 48.0, 0.0, 48, 48, 0, 0, 0, 0, 40, 40, 8849.557522, 8849.557522, 34, 172, 89.2, 75.58571294, 5713.2, 0, 0, 0, 0, 0, 0, 0, 0, 1, 111.5, 34.0, 172.0, 40, 0, 0, 0, 0, 0, 0, 2, 68, 2, 344, -1, -1, 1, 20, 0.0, 0.0, 0, 0, 0.0, 0.0, 0, 0, BENIGN\n",
      "Valid packet received from ('127.0.0.1', 64744): 246, 2, 2, 64, 204, 32, 32, 32.0, 0.0, 102, 102, 102.0, 0.0, 1089430.894, 16260.1626, 82.0, 130.7937307, 233, 4, 4, 4.0, 0.0, 4, 4, 9, 9.0, 0.0, 9, 9, 0, 0, 0, 0, 40, 40, 8130.081301, 8130.081301, 32, 102, 60.0, 38.34057903, 1470.0, 0, 0, 0, 0, 0, 0, 0, 0, 1, 75.0, 32.0, 102.0, 40, 0, 0, 0, 0, 0, 0, 2, 64, 2, 204, -1, -1, 1, 20, 0.0, 0.0, 0, 0, 0.0, 0.0, 0, 0, BENIGN\n",
      "Valid packet received from ('127.0.0.1', 64744): 304, 3, 0, 31, 0, 31, 0, 10.33333333, 17.89785834, 0, 0, 0.0, 0.0, 101973.6842, 9868.421053, 152.0, 145.6639969, 255, 49, 304, 152.0, 145.6639969, 255, 49, 0, 0.0, 0.0, 0, 0, 0, 0, 0, 0, 96, 0, 9868.421053, 0.0, 0, 31, 7.75, 15.5, 240.25, 0, 0, 0, 0, 1, 0, 0, 0, 0, 10.33333333, 10.33333333, 0.0, 96, 0, 0, 0, 0, 0, 0, 3, 31, 0, 0, 59, -1, 1, 32, 0.0, 0.0, 0, 0, 0.0, 0.0, 0, 0, BENIGN\n",
      "Valid packet received from ('127.0.0.1', 64744): 228, 2, 2, 76, 176, 38, 38, 38.0, 0.0, 88, 88, 88.0, 0.0, 1105263.158, 17543.85965, 76.0, 92.24424101, 179, 1, 1, 1.0, 0.0, 1, 1, 48, 48.0, 0.0, 48, 48, 0, 0, 0, 0, 40, 40, 8771.929825, 8771.929825, 38, 88, 58.0, 27.38612788, 750.0, 0, 0, 0, 0, 0, 0, 0, 0, 1, 72.5, 38.0, 88.0, 40, 0, 0, 0, 0, 0, 0, 2, 76, 2, 176, -1, -1, 1, 20, 0.0, 0.0, 0, 0, 0.0, 0.0, 0, 0, BENIGN\n",
      "Valid packet received from ('127.0.0.1', 64744): 339, 2, 2, 64, 196, 32, 32, 32.0, 0.0, 98, 98, 98.0, 0.0, 766961.6519, 11799.41003, 113.0, 193.9896904, 337, 1, 1, 1.0, 0.0, 1, 1, 1, 1.0, 0.0, 1, 1, 0, 0, 0, 0, 64, 64, 5899.705015, 5899.705015, 32, 98, 58.4, 36.1496888, 1306.8, 0, 0, 0, 0, 0, 0, 0, 0, 1, 73.0, 32.0, 98.0, 64, 0, 0, 0, 0, 0, 0, 2, 64, 2, 196, -1, -1, 1, 32, 0.0, 0.0, 0, 0, 0.0, 0.0, 0, 0, BENIGN\n",
      "Valid packet received from ('127.0.0.1', 64744): 215069, 13, 7, 1176, 4496, 693, 0, 90.46153846, 196.5895112, 2022, 0, 642.2857142999999, 837.5541205, 26372.931480000003, 92.99341142, 11319.42105, 21209.767669999997, 53920, 1, 215069, 17922.41667, 24783.67409, 54198, 1, 164661, 27443.5, 29961.435789999996, 58467, 49, 0, 0, 0, 0, 428, 232, 60.44571742, 32.547694, 0, 2022, 270.0952381, 553.8442836, 306743.4905, 0, 0, 0, 1, 0, 0, 0, 0, 0, 283.6, 90.46153846, 642.2857142999999, 428, 0, 0, 0, 0, 0, 0, 13, 1176, 7, 4496, 65535, 176, 6, 32, 0.0, 0.0, 0, 0, 0.0, 0.0, 0, 0, BENIGN\n",
      "Valid packet received from ('127.0.0.1', 64744): 33863400, 13, 8, 834, 4849, 357, 0, 64.15384615, 116.3485039, 1448, 0, 606.125, 688.6133971, 167.8213056, 0.620138557, 1693170.0, 7539101.504, 33700000, 4, 33900000, 2821950.0, 9731386.642, 33700000, 4, 114338, 16334.0, 23162.41928, 61104, 49, 0, 0, 0, 0, 428, 264, 0.383895297, 0.23624326, 0, 1448, 258.3181818, 488.2595315, 238397.3701, 0, 0, 0, 1, 0, 0, 0, 0, 0, 270.61904760000004, 64.15384615, 606.125, 428, 0, 0, 0, 0, 0, 0, 13, 834, 8, 4849, 65535, 972, 6, 32, 140077.0, 0.0, 140077, 140077, 33700000.0, 0.0, 33700000, 33700000, BENIGN\n",
      "Valid packet received from ('127.0.0.1', 64744): 211, 1, 1, 0, 0, 0, 0, 0.0, 0.0, 0, 0, 0.0, 0.0, 0.0, 9478.672986, 211.0, 0.0, 211, 211, 0, 0.0, 0.0, 0, 0, 0, 0.0, 0.0, 0, 0, 0, 0, 0, 0, 32, 32, 4739.336493, 4739.336493, 0, 0, 0.0, 0.0, 0.0, 0, 0, 0, 0, 1, 1, 0, 0, 1, 0.0, 0.0, 0.0, 32, 0, 0, 0, 0, 0, 0, 1, 0, 1, 0, 1977, 65535, 0, 32, 0.0, 0.0, 0, 0, 0.0, 0.0, 0, 0, BENIGN\n",
      "Valid packet received from ('127.0.0.1', 64744): 49, 2, 0, 31, 0, 31, 0, 15.5, 21.92031022, 0, 0, 0.0, 0.0, 632653.0612, 40816.32653, 49.0, 0.0, 49, 49, 49, 49.0, 0.0, 49, 49, 0, 0.0, 0.0, 0, 0, 1, 0, 0, 0, 64, 0, 40816.32653, 0.0, 0, 31, 20.66666667, 17.89785834, 320.3333333, 0, 1, 0, 0, 1, 0, 0, 0, 0, 31.0, 15.5, 0.0, 64, 0, 0, 0, 0, 0, 0, 2, 31, 0, 0, 181, -1, 0, 32, 0.0, 0.0, 0, 0, 0.0, 0.0, 0, 0, BENIGN\n",
      "Valid packet received from ('127.0.0.1', 64744): 167272, 2, 2, 70, 416, 35, 35, 35.0, 0.0, 208, 208, 208.0, 0.0, 2905.4474149999996, 23.91314745, 55757.333329999994, 96571.07013, 167268, 1, 1, 1.0, 0.0, 1, 1, 3, 3.0, 0.0, 3, 3, 0, 0, 0, 0, 64, 64, 11.95657372, 11.95657372, 35, 208, 104.2, 94.75600245, 8978.7, 0, 0, 0, 0, 0, 0, 0, 0, 1, 130.25, 35.0, 208.0, 64, 0, 0, 0, 0, 0, 0, 2, 70, 2, 416, -1, -1, 1, 32, 0.0, 0.0, 0, 0, 0.0, 0.0, 0, 0, BENIGN\n",
      "Valid packet received from ('127.0.0.1', 64744): 1669847, 4, 5, 443, 872, 437, 0, 110.75, 217.51839, 860, 0, 174.4, 383.2737925, 787.4972977000001, 5.389715345, 208730.875, 509801.9, 1463339, 4, 1646026, 548675.3333, 795086.0995, 1463393, 23268, 1646649, 411662.25, 706410.7354, 1463409, 4, 0, 0, 0, 0, 104, 124, 2.395429042, 2.994286303, 0, 860, 131.5, 290.1636511000001, 84194.94443999999, 0, 0, 0, 1, 0, 0, 0, 0, 1, 146.11111110000004, 110.75, 174.4, 104, 0, 0, 0, 0, 0, 0, 4, 443, 5, 872, 8192, 31, 2, 20, 0.0, 0.0, 0, 0, 0.0, 0.0, 0, 0, BENIGN\n",
      "Valid packet received from ('127.0.0.1', 64744): 5309842, 9, 7, 381, 6121, 194, 0, 42.33333333, 69.39380376, 2636, 0, 874.4285714, 1001.532801, 1224.518545, 3.013272335, 353989.4667, 1303498.638, 5064776, 4, 5309842, 663730.25, 1778791.525, 5064776, 4, 111527, 18587.83333, 21811.32966, 52234, 398, 0, 0, 0, 0, 192, 152, 1.694965688, 1.318306646, 0, 2636, 382.4705881999999, 747.4378835, 558663.3897, 0, 0, 0, 1, 0, 0, 0, 0, 0, 406.375, 42.33333333, 874.4285714, 192, 0, 0, 0, 0, 0, 0, 9, 381, 7, 6121, 8192, 946, 8, 20, 245062.0, 0.0, 245062, 245062, 5064776.0, 0.0, 5064776, 5064776, BENIGN\n",
      "Valid packet received from ('127.0.0.1', 64744): 196, 2, 2, 88, 144, 44, 44, 44.0, 0.0, 72, 72, 72.0, 0.0, 1183673.469, 20408.163269999997, 65.33333333, 72.56950691, 145, 3, 3, 3.0, 0.0, 3, 3, 48, 48.0, 0.0, 48, 48, 0, 0, 0, 0, 64, 64, 10204.08163, 10204.08163, 44, 72, 55.2, 15.33623161, 235.2, 0, 0, 0, 0, 0, 0, 0, 0, 1, 69.0, 44.0, 72.0, 64, 0, 0, 0, 0, 0, 0, 2, 88, 2, 144, -1, -1, 1, 32, 0.0, 0.0, 0, 0, 0.0, 0.0, 0, 0, BENIGN\n",
      "Valid packet received from ('127.0.0.1', 64744): 688, 2, 2, 78, 110, 39, 39, 39.0, 0.0, 55, 55, 55.0, 0.0, 273255.814, 5813.953488, 229.3333333, 391.1551269, 681, 3, 3, 3.0, 0.0, 3, 3, 4, 4.0, 0.0, 4, 4, 0, 0, 0, 0, 64, 64, 2906.976744, 2906.976744, 39, 55, 45.4, 8.76356092, 76.8, 0, 0, 0, 0, 0, 0, 0, 0, 1, 56.75, 39.0, 55.0, 64, 0, 0, 0, 0, 0, 0, 2, 78, 2, 110, -1, -1, 1, 32, 0.0, 0.0, 0, 0, 0.0, 0.0, 0, 0, BENIGN\n",
      "Valid packet received from ('127.0.0.1', 64744): 222, 2, 2, 68, 388, 34, 34, 34.0, 0.0, 194, 194, 194.0, 0.0, 2054054.054, 18018.01802, 74.0, 86.9655104, 171, 3, 3, 3.0, 0.0, 3, 3, 48, 48.0, 0.0, 48, 48, 0, 0, 0, 0, 64, 64, 9009.009009, 9009.009009, 34, 194, 98.0, 87.6356092, 7680.0, 0, 0, 0, 0, 0, 0, 0, 0, 1, 122.5, 34.0, 194.0, 64, 0, 0, 0, 0, 0, 0, 2, 68, 2, 388, -1, -1, 1, 32, 0.0, 0.0, 0, 0, 0.0, 0.0, 0, 0, BENIGN\n",
      "Valid packet received from ('127.0.0.1', 64744): 115930807, 20, 18, 1294, 5762, 842, 0, 64.7, 189.8259868, 2021, 0, 320.1111111, 636.1654325000002, 60.86389099, 0.327781726, 3133265.0539999995, 4619389.049, 10000000, 3, 116000000, 6101621.421, 4880468.084, 10000000, 3, 110000000, 6489264.0, 4931830.415, 10000000, 50, 0, 0, 0, 0, 412, 504, 0.172516698, 0.155265028, 0, 2021, 180.9230769, 464.9918723, 216217.4413, 0, 0, 0, 1, 0, 0, 0, 0, 0, 185.6842105, 64.7, 320.1111111, 412, 0, 0, 0, 0, 0, 0, 20, 1294, 18, 5762, 8192, 125, 19, 20, 27598.33333, 18931.3679, 87710, 21954, 9633302.0, 1272936.684, 10000000, 5591186, BENIGN\n",
      "Valid packet received from ('127.0.0.1', 64744): 986, 1, 1, 53, 112, 53, 53, 53.0, 0.0, 112, 112, 112.0, 0.0, 167342.7992, 2028.397566, 986.0, 0.0, 986, 986, 0, 0.0, 0.0, 0, 0, 0, 0.0, 0.0, 0, 0, 0, 0, 0, 0, 40, 40, 1014.198783, 1014.198783, 53, 112, 72.66666667, 34.06366588, 1160.333333, 0, 0, 0, 0, 0, 0, 0, 0, 1, 109.0, 53.0, 112.0, 40, 0, 0, 0, 0, 0, 0, 1, 53, 1, 112, -1, -1, 0, 40, 0.0, 0.0, 0, 0, 0.0, 0.0, 0, 0, BENIGN\n",
      "Valid packet received from ('127.0.0.1', 64744): 48434, 1, 1, 41, 143, 41, 41, 41.0, 0.0, 143, 143, 143.0, 0.0, 3798.984185, 41.29330636, 48434.0, 0.0, 48434, 48434, 0, 0.0, 0.0, 0, 0, 0, 0.0, 0.0, 0, 0, 0, 0, 0, 0, 20, 20, 20.64665318, 20.64665318, 41, 143, 75.0, 58.88972746, 3468.0, 0, 0, 0, 0, 0, 0, 0, 0, 1, 112.5, 41.0, 143.0, 20, 0, 0, 0, 0, 0, 0, 1, 41, 1, 143, -1, -1, 0, 20, 0.0, 0.0, 0, 0, 0.0, 0.0, 0, 0, BENIGN\n",
      "Valid packet received from ('127.0.0.1', 64744): 214, 2, 0, 12, 0, 6, 6, 6.0, 0.0, 0, 0, 0.0, 0.0, 56074.76636, 9345.794393, 214.0, 0.0, 214, 214, 214, 214.0, 0.0, 214, 214, 0, 0.0, 0.0, 0, 0, 0, 0, 0, 0, 40, 0, 9345.794393, 0.0, 6, 6, 6.0, 0.0, 0.0, 0, 0, 0, 0, 1, 0, 0, 0, 0, 9.0, 6.0, 0.0, 40, 0, 0, 0, 0, 0, 0, 2, 12, 0, 0, 5210, -1, 1, 20, 0.0, 0.0, 0, 0, 0.0, 0.0, 0, 0, BENIGN\n",
      "Valid packet received from ('127.0.0.1', 64744): 998738, 2, 0, 12, 0, 6, 6, 6.0, 0.0, 0, 0, 0.0, 0.0, 12.01516314, 2.0025271890000003, 998738.0, 0.0, 998738, 998738, 998738, 998738.0, 0.0, 998738, 998738, 0, 0.0, 0.0, 0, 0, 0, 0, 0, 0, 40, 0, 2.0025271890000003, 0.0, 6, 6, 6.0, 0.0, 0.0, 0, 0, 0, 0, 1, 0, 0, 0, 0, 9.0, 6.0, 0.0, 40, 0, 0, 0, 0, 0, 0, 2, 12, 0, 0, 11152, -1, 1, 20, 0.0, 0.0, 0, 0, 0.0, 0.0, 0, 0, BENIGN\n",
      "Valid packet received from ('127.0.0.1', 64744): 48, 1, 1, 6, 6, 6, 6, 6.0, 0.0, 6, 6, 6.0, 0.0, 250000.0, 41666.66667, 48.0, 0.0, 48, 48, 0, 0.0, 0.0, 0, 0, 0, 0.0, 0.0, 0, 0, 0, 0, 0, 0, 20, 20, 20833.33333, 20833.33333, 6, 6, 6.0, 0.0, 0.0, 0, 0, 0, 0, 1, 1, 0, 0, 1, 9.0, 6.0, 6.0, 20, 0, 0, 0, 0, 0, 0, 1, 6, 1, 6, 913, 256, 0, 20, 0.0, 0.0, 0, 0, 0.0, 0.0, 0, 0, BENIGN\n",
      "Valid packet received from ('127.0.0.1', 64744): 43, 1, 1, 6, 6, 6, 6, 6.0, 0.0, 6, 6, 6.0, 0.0, 279069.7674, 46511.62791, 43.0, 0.0, 43, 43, 0, 0.0, 0.0, 0, 0, 0, 0.0, 0.0, 0, 0, 0, 0, 0, 0, 20, 20, 23255.81395, 23255.81395, 6, 6, 6.0, 0.0, 0.0, 0, 0, 0, 0, 1, 1, 0, 0, 1, 9.0, 6.0, 6.0, 20, 0, 0, 0, 0, 0, 0, 1, 6, 1, 6, 286, 256, 0, 20, 0.0, 0.0, 0, 0, 0.0, 0.0, 0, 0, BENIGN\n",
      "No invalid packets were transfered\n"
     ]
    }
   ],
   "source": [
    "import socket\n",
    "\n",
    "# HMAC verification function\n",
    "def verify_hmac(packet, secret_key):\n",
    "    try:\n",
    "        # Extract data and HMAC from the packet\n",
    "        data = packet[\"data\"].encode()  # Data is already a string\n",
    "        hmac_received = packet[\"HMAC\"]\n",
    "\n",
    "        # Compute HMAC using the shared secret key\n",
    "        computed_hmac = hmac.new(secret_key, data, hashlib.sha256).hexdigest()\n",
    "\n",
    "        # Check if the packet is valid (HMAC matches and \"Valid\" flag is True)\n",
    "        return packet[\"Valid\"] and computed_hmac == hmac_received\n",
    "    except Exception as e:\n",
    "        print(f\"Error verifying HMAC: {e}\")\n",
    "        return False\n",
    "\n",
    "# UDP packet receiver function\n",
    "def receive_udp_packets(listening_ip, listening_port, secret_key):\n",
    "    # Create a UDP socket\n",
    "    sock = socket.socket(socket.AF_INET, socket.SOCK_DGRAM)\n",
    "    sock.bind((listening_ip, listening_port))\n",
    "    print(f\"Listening on {listening_ip}:{listening_port}\")\n",
    "\n",
    "\n",
    "    send_udp_packets(df, destination_ip, destination_port)\n",
    "\n",
    "    # Counter for invalid packets\n",
    "    invalid_packets = 0\n",
    "    valid = 0\n",
    "\n",
    "    try:\n",
    "        while True:\n",
    "            # Receive packet\n",
    "            packet_data, addr = sock.recvfrom(1024)  # Buffer size is 1024 bytes\n",
    "            packet = json.loads(packet_data.decode())\n",
    "\n",
    "            if valid > 150:\n",
    "                break\n",
    "\n",
    "            # Verify packet validity\n",
    "            if verify_hmac(packet, secret_key):\n",
    "                print(f\"Valid packet received from {addr}: {packet['data']}\")\n",
    "                valid += 1\n",
    "                safe_ips.append(addr)\n",
    "\n",
    "            else:\n",
    "                print(f\"Invalid packet detected from {addr}: {packet['data']}\")\n",
    "                invalid_packets += 1\n",
    "\n",
    "            # Output the count of invalid packets if any are detected\n",
    "            if invalid_packets > 0:\n",
    "                print(f\"Invalid packets that have slipped in: {invalid_packets}\")\n",
    "\n",
    "    except KeyboardInterrupt:\n",
    "        print(\"Receiver terminated by user.\")\n",
    "    finally:\n",
    "        if invalid_packets == 0:\n",
    "            print(\"No invalid packets were transfered\")\n",
    "        sock.close()\n",
    "\n",
    "# Configuration\n",
    "listening_ip = \"127.0.0.1\"\n",
    "listening_port = 8080  # Match the sender's port\n",
    "shared_key = b'thisisthekey'\n",
    "\n",
    "# Start the receiver\n",
    "receive_udp_packets(listening_ip, listening_port, shared_key)"
   ]
  },
  {
   "cell_type": "code",
   "execution_count": 114,
   "metadata": {},
   "outputs": [
    {
     "name": "stdout",
     "output_type": "stream",
     "text": [
      "Safe addresses (first 150):\n",
      "[('127.0.0.1', 64744), ('127.0.0.1', 64744), ('127.0.0.1', 64744), ('127.0.0.1', 64744), ('127.0.0.1', 64744), ('127.0.0.1', 64744), ('127.0.0.1', 64744), ('127.0.0.1', 64744), ('127.0.0.1', 64744), ('127.0.0.1', 64744), ('127.0.0.1', 64744), ('127.0.0.1', 64744), ('127.0.0.1', 64744), ('127.0.0.1', 64744), ('127.0.0.1', 64744), ('127.0.0.1', 64744), ('127.0.0.1', 64744), ('127.0.0.1', 64744), ('127.0.0.1', 64744), ('127.0.0.1', 64744), ('127.0.0.1', 64744), ('127.0.0.1', 64744), ('127.0.0.1', 64744), ('127.0.0.1', 64744), ('127.0.0.1', 64744), ('127.0.0.1', 64744), ('127.0.0.1', 64744), ('127.0.0.1', 64744), ('127.0.0.1', 64744), ('127.0.0.1', 64744), ('127.0.0.1', 64744), ('127.0.0.1', 64744), ('127.0.0.1', 64744), ('127.0.0.1', 64744), ('127.0.0.1', 64744), ('127.0.0.1', 64744), ('127.0.0.1', 64744), ('127.0.0.1', 64744), ('127.0.0.1', 64744), ('127.0.0.1', 64744), ('127.0.0.1', 64744), ('127.0.0.1', 64744), ('127.0.0.1', 64744), ('127.0.0.1', 64744), ('127.0.0.1', 64744), ('127.0.0.1', 64744), ('127.0.0.1', 64744), ('127.0.0.1', 64744), ('127.0.0.1', 64744), ('127.0.0.1', 64744), ('127.0.0.1', 64744), ('127.0.0.1', 64744), ('127.0.0.1', 64744), ('127.0.0.1', 64744), ('127.0.0.1', 64744), ('127.0.0.1', 64744), ('127.0.0.1', 64744), ('127.0.0.1', 64744), ('127.0.0.1', 64744), ('127.0.0.1', 64744), ('127.0.0.1', 64744), ('127.0.0.1', 64744), ('127.0.0.1', 64744), ('127.0.0.1', 64744), ('127.0.0.1', 64744), ('127.0.0.1', 64744), ('127.0.0.1', 64744), ('127.0.0.1', 64744), ('127.0.0.1', 64744), ('127.0.0.1', 64744), ('127.0.0.1', 64744), ('127.0.0.1', 64744), ('127.0.0.1', 64744), ('127.0.0.1', 64744), ('127.0.0.1', 64744), ('127.0.0.1', 64744), ('127.0.0.1', 64744), ('127.0.0.1', 64744), ('127.0.0.1', 64744), ('127.0.0.1', 64744), ('127.0.0.1', 64744), ('127.0.0.1', 64744), ('127.0.0.1', 64744), ('127.0.0.1', 64744), ('127.0.0.1', 64744), ('127.0.0.1', 64744), ('127.0.0.1', 64744), ('127.0.0.1', 64744), ('127.0.0.1', 64744), ('127.0.0.1', 64744), ('127.0.0.1', 64744), ('127.0.0.1', 64744), ('127.0.0.1', 64744), ('127.0.0.1', 64744), ('127.0.0.1', 64744), ('127.0.0.1', 64744), ('127.0.0.1', 64744), ('127.0.0.1', 64744), ('127.0.0.1', 64744), ('127.0.0.1', 64744), ('127.0.0.1', 64744), ('127.0.0.1', 64744), ('127.0.0.1', 64744), ('127.0.0.1', 64744), ('127.0.0.1', 64744), ('127.0.0.1', 64744), ('127.0.0.1', 64744), ('127.0.0.1', 64744), ('127.0.0.1', 64744), ('127.0.0.1', 64744), ('127.0.0.1', 64744), ('127.0.0.1', 64744), ('127.0.0.1', 64744), ('127.0.0.1', 64744), ('127.0.0.1', 64744), ('127.0.0.1', 64744), ('127.0.0.1', 64744), ('127.0.0.1', 64744), ('127.0.0.1', 64744), ('127.0.0.1', 64744), ('127.0.0.1', 64744), ('127.0.0.1', 64744), ('127.0.0.1', 64744), ('127.0.0.1', 64744), ('127.0.0.1', 64744), ('127.0.0.1', 64744), ('127.0.0.1', 64744), ('127.0.0.1', 64744), ('127.0.0.1', 64744), ('127.0.0.1', 64744), ('127.0.0.1', 64744), ('127.0.0.1', 64744), ('127.0.0.1', 64744), ('127.0.0.1', 64744), ('127.0.0.1', 64744), ('127.0.0.1', 64744), ('127.0.0.1', 64744), ('127.0.0.1', 64744), ('127.0.0.1', 64744), ('127.0.0.1', 64744), ('127.0.0.1', 64744), ('127.0.0.1', 64744), ('127.0.0.1', 64744), ('127.0.0.1', 64744), ('127.0.0.1', 64744), ('127.0.0.1', 64744), ('127.0.0.1', 64744), ('127.0.0.1', 64744), ('127.0.0.1', 64744), ('127.0.0.1', 64744)]\n",
      "Exiting program.\n"
     ]
    }
   ],
   "source": [
    "# Asking user for input.\n",
    "# exit = exits the program\n",
    "# safe = shows safe addresses\n",
    "# unsafe + shows addresses where attacks were detected\n",
    "\n",
    "while True:\n",
    "    user_input = input(\"Exit or show addresses ('safe' or 'unsafe')? \").strip()\n",
    "    \n",
    "    if user_input.lower() == 'exit':\n",
    "        print(\"Exiting program.\")\n",
    "        break\n",
    "    elif user_input.lower() == 'safe':\n",
    "        print(\"Safe addresses (first 150):\")\n",
    "        print(safe_ips[:150])\n",
    "    elif user_input.lower() == 'unsafe':\n",
    "        print(\"Unsafe addresses (first 150):\")\n",
    "        print(unsafe_ips[:150])\n",
    "    else:\n",
    "        print(\"Invalid choice. Please type 'safe', 'unsafe', or 'exit'.\")"
   ]
  }
 ],
 "metadata": {
  "anaconda-cloud": {},
  "kernelspec": {
   "display_name": ".venv",
   "language": "python",
   "name": "python3"
  },
  "language_info": {
   "codemirror_mode": {
    "name": "ipython",
    "version": 3
   },
   "file_extension": ".py",
   "mimetype": "text/x-python",
   "name": "python",
   "nbconvert_exporter": "python",
   "pygments_lexer": "ipython3",
   "version": "3.13.0"
  }
 },
 "nbformat": 4,
 "nbformat_minor": 2
}
